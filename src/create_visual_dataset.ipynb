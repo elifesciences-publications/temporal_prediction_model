{
 "cells": [
  {
   "cell_type": "code",
   "execution_count": 1,
   "metadata": {},
   "outputs": [],
   "source": [
    "from preprocessing.visual_preprocessing import preprocess_visual_data as pre"
   ]
  },
  {
   "cell_type": "code",
   "execution_count": 2,
   "metadata": {},
   "outputs": [],
   "source": [
    "vidpath = '/path/to/raw/videos/with/frames/as/pngs/'\n",
    "preprocessed_save_path = '/path/to/save/folder/for/individual/preprocessed/clips/'\n",
    "final_save_path = '/full/save/path/for/final/preprocessed/dataset.pkl'"
   ]
  },
  {
   "cell_type": "code",
   "execution_count": 3,
   "metadata": {
    "scrolled": true
   },
   "outputs": [],
   "source": [
    "pre.preprocess_vids(vidpath, preprocessed_save_path, n_pixels=180, \n",
    "                    seq_length=50, tensorize_clips=False, \n",
    "                    max_examples_per_vid=1000, \n",
    "                    filter_type='whiten', filetype='.png', \n",
    "                    clip_edges=False)"
   ]
  },
  {
   "cell_type": "code",
   "execution_count": 4,
   "metadata": {
    "scrolled": true
   },
   "outputs": [],
   "source": [
    "pre.finalise_dataset(preprocessed_save_path, final_save_path, max_examples=20000, random_order=True)"
   ]
  }
 ],
 "metadata": {
  "hide_input": false,
  "kernelspec": {
   "display_name": "predictive_python_old_theano",
   "language": "python",
   "name": "predictive_kernel_old"
  },
  "language_info": {
   "codemirror_mode": {
    "name": "ipython",
    "version": 3
   },
   "file_extension": ".py",
   "mimetype": "text/x-python",
   "name": "python",
   "nbconvert_exporter": "python",
   "pygments_lexer": "ipython3",
   "version": "3.5.2"
  }
 },
 "nbformat": 4,
 "nbformat_minor": 1
}
