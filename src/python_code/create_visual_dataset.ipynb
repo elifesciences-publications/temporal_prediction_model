{
 "cells": [
  {
   "cell_type": "markdown",
   "metadata": {},
   "source": [
    "## Preprocessing visual data\n",
    "\n",
    "First, create a training set from natural video sequences. \n",
    "\n",
    "The videos for the paper were downloaded from 'http://www.arkive.org/'. \n",
    "\n",
    "Convert videos into a series of .pngs or .jpegs, saving each movie's frames to its own directory. \n",
    "\n",
    "An example structure would be: \n",
    "\n",
    "    /movies\n",
    "        /movie_1\n",
    "                /frame_1.png\n",
    "                /frame_2.png\n",
    "                ...\n",
    "                /frame_100.png\n",
    "        ...\n",
    "        /movie_10\n",
    "                /frame_1.png\n",
    "                /frame_2.png\n",
    "                ...\n",
    "                /frame_100.png\n",
    "You can now preprocess the movies."
   ]
  },
  {
   "cell_type": "code",
   "execution_count": 1,
   "metadata": {},
   "outputs": [],
   "source": [
    "from preprocessing import preprocess_visual_data as pre"
   ]
  },
  {
   "cell_type": "code",
   "execution_count": 2,
   "metadata": {},
   "outputs": [],
   "source": [
    "movie_path = '/path/to/movies/'\n",
    "preprocessed_save_path = '/path/to/save/folder/for/individual/preprocessed/clips/'\n",
    "final_save_path = '/full/save/path/for/final/preprocessed/dataset.pkl'"
   ]
  },
  {
   "cell_type": "markdown",
   "metadata": {},
   "source": [
    "If using a 1D convolutional network (predictive_network_subclasses.PredictiveConv1D), set tensorized to False. \n",
    "\n",
    "If using a fully connected network (predictive_network_subclasses.PredictiveFCN), you can greatly increase the number of training examples by setting tensorized to True"
   ]
  },
  {
   "cell_type": "code",
   "execution_count": 3,
   "metadata": {
    "scrolled": true
   },
   "outputs": [],
   "source": [
    "pre.preprocess_vids(movie_path, preprocessed_save_path, n_pixels=180, \n",
    "                    seq_length=50, tensorize_clips=False, \n",
    "                    max_examples_per_vid=1000, \n",
    "                    filter_type='whiten', filetype='.png', \n",
    "                    clip_edges=False)"
   ]
  },
  {
   "cell_type": "code",
   "execution_count": 4,
   "metadata": {
    "scrolled": true
   },
   "outputs": [],
   "source": [
    "pre.finalise_dataset(preprocessed_save_path, final_save_path, max_examples=20000, random_order=True)"
   ]
  }
 ],
 "metadata": {
  "hide_input": false,
  "kernelspec": {
   "display_name": "predictive_python_old_theano",
   "language": "python",
   "name": "predictive_kernel_old"
  },
  "language_info": {
   "codemirror_mode": {
    "name": "ipython",
    "version": 3
   },
   "file_extension": ".py",
   "mimetype": "text/x-python",
   "name": "python",
   "nbconvert_exporter": "python",
   "pygments_lexer": "ipython3",
   "version": "3.5.2"
  }
 },
 "nbformat": 4,
 "nbformat_minor": 1
}
