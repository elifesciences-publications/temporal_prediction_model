{
 "cells": [
  {
   "cell_type": "raw",
   "metadata": {},
   "source": [
    "<script>\n",
    "  function code_toggle() {\n",
    "    if (code_shown){\n",
    "      $('div.input').hide('500');\n",
    "      $('#toggleButton').val('Show Code')\n",
    "    } else {\n",
    "      $('div.input').show('500');\n",
    "      $('#toggleButton').val('Hide Code')\n",
    "    }\n",
    "    code_shown = !code_shown\n",
    "  }\n",
    "\n",
    "  $( document ).ready(function(){\n",
    "    code_shown=false;\n",
    "    $('div.input').hide()\n",
    "  });\n",
    "</script>\n",
    "<form action=\"javascript:code_toggle()\"><input type=\"submit\" id=\"toggleButton\" value=\"Show Code\"></form>"
   ]
  },
  {
   "cell_type": "code",
   "execution_count": 1,
   "metadata": {},
   "outputs": [
    {
     "data": {
      "text/html": [
       "<style>.container { width:100% !important; }</style>"
      ],
      "text/plain": [
       "<IPython.core.display.HTML object>"
      ]
     },
     "metadata": {},
     "output_type": "display_data"
    }
   ],
   "source": [
    "from IPython.core.display import display, HTML\n",
    "display(HTML(\"<style>.container { width:100% !important; }</style>\"))"
   ]
  },
  {
   "cell_type": "code",
   "execution_count": 2,
   "metadata": {},
   "outputs": [],
   "source": [
    "import os\n",
    "os.environ[\"THEANO_FLAGS\"] = \"mode=FAST_RUN,device=gpu,floatX=float32,\""
   ]
  },
  {
   "cell_type": "code",
   "execution_count": 3,
   "metadata": {},
   "outputs": [],
   "source": [
    "import warnings; warnings.simplefilter('ignore')"
   ]
  },
  {
   "cell_type": "code",
   "execution_count": 4,
   "metadata": {
    "scrolled": true
   },
   "outputs": [],
   "source": [
    "%%capture --no-display\n",
    "import sys\n",
    "pred_path = '/home/yossi/yossi_local/predictive_coding_python'\n",
    "if pred_path not in sys.path:\n",
    "    sys.path.append(pred_path)\n",
    "import importlib\n",
    "from imp import reload\n",
    "import data_handling as dat\n",
    "import predictive_network_subclasses as pn\n",
    "import numpy as np\n",
    "import matplotlib.pyplot as plt\n",
    "import os\n",
    "import auditory_analysis as aan\n",
    "import visualisation as vis\n",
    "import pickle as pkl\n",
    "from imp import reload\n",
    "import results_dataframe_handling as rdh\n",
    "import interactive_plotting as iplot\n",
    "reload(iplot)\n",
    "reload(aan)\n",
    "reload(vis)\n",
    "reload(pn)\n",
    "reload(rdh)\n",
    "%matplotlib inline\n",
    "\n",
    "# %pylab inline\n",
    "# pylab.rcParams['figure.figsize'] = (20, 20)"
   ]
  },
  {
   "cell_type": "code",
   "execution_count": 5,
   "metadata": {},
   "outputs": [
    {
     "data": {
      "text/html": [
       "\n",
       "    <div class=\"bk-root\">\n",
       "        <a href=\"https://bokeh.pydata.org\" target=\"_blank\" class=\"bk-logo bk-logo-small bk-logo-notebook\"></a>\n",
       "        <span id=\"4a8f38b1-629a-46ee-b956-dc47bb380dd2\">Loading BokehJS ...</span>\n",
       "    </div>"
      ]
     },
     "metadata": {},
     "output_type": "display_data"
    },
    {
     "data": {
      "application/javascript": [
       "\n",
       "(function(root) {\n",
       "  function now() {\n",
       "    return new Date();\n",
       "  }\n",
       "\n",
       "  var force = true;\n",
       "\n",
       "  if (typeof (root._bokeh_onload_callbacks) === \"undefined\" || force === true) {\n",
       "    root._bokeh_onload_callbacks = [];\n",
       "    root._bokeh_is_loading = undefined;\n",
       "  }\n",
       "\n",
       "  var JS_MIME_TYPE = 'application/javascript';\n",
       "  var HTML_MIME_TYPE = 'text/html';\n",
       "  var EXEC_MIME_TYPE = 'application/vnd.bokehjs_exec.v0+json';\n",
       "  var CLASS_NAME = 'output_bokeh rendered_html';\n",
       "\n",
       "  /**\n",
       "   * Render data to the DOM node\n",
       "   */\n",
       "  function render(props, node) {\n",
       "    var script = document.createElement(\"script\");\n",
       "    node.appendChild(script);\n",
       "  }\n",
       "\n",
       "  /**\n",
       "   * Handle when an output is cleared or removed\n",
       "   */\n",
       "  function handleClearOutput(event, handle) {\n",
       "    var cell = handle.cell;\n",
       "\n",
       "    var id = cell.output_area._bokeh_element_id;\n",
       "    var server_id = cell.output_area._bokeh_server_id;\n",
       "    // Clean up Bokeh references\n",
       "    if (id !== undefined) {\n",
       "      Bokeh.index[id].model.document.clear();\n",
       "      delete Bokeh.index[id];\n",
       "    }\n",
       "\n",
       "    if (server_id !== undefined) {\n",
       "      // Clean up Bokeh references\n",
       "      var cmd = \"from bokeh.io.state import curstate; print(curstate().uuid_to_server['\" + server_id + \"'].get_sessions()[0].document.roots[0]._id)\";\n",
       "      cell.notebook.kernel.execute(cmd, {\n",
       "        iopub: {\n",
       "          output: function(msg) {\n",
       "            var element_id = msg.content.text.trim();\n",
       "            Bokeh.index[element_id].model.document.clear();\n",
       "            delete Bokeh.index[element_id];\n",
       "          }\n",
       "        }\n",
       "      });\n",
       "      // Destroy server and session\n",
       "      var cmd = \"import bokeh.io.notebook as ion; ion.destroy_server('\" + server_id + \"')\";\n",
       "      cell.notebook.kernel.execute(cmd);\n",
       "    }\n",
       "  }\n",
       "\n",
       "  /**\n",
       "   * Handle when a new output is added\n",
       "   */\n",
       "  function handleAddOutput(event, handle) {\n",
       "    var output_area = handle.output_area;\n",
       "    var output = handle.output;\n",
       "\n",
       "    // limit handleAddOutput to display_data with EXEC_MIME_TYPE content only\n",
       "    if ((output.output_type != \"display_data\") || (!output.data.hasOwnProperty(EXEC_MIME_TYPE))) {\n",
       "      return\n",
       "    }\n",
       "\n",
       "    var toinsert = output_area.element.find(\".\" + CLASS_NAME.split(' ')[0]);\n",
       "\n",
       "    if (output.metadata[EXEC_MIME_TYPE][\"id\"] !== undefined) {\n",
       "      toinsert[0].firstChild.textContent = output.data[JS_MIME_TYPE];\n",
       "      // store reference to embed id on output_area\n",
       "      output_area._bokeh_element_id = output.metadata[EXEC_MIME_TYPE][\"id\"];\n",
       "    }\n",
       "    if (output.metadata[EXEC_MIME_TYPE][\"server_id\"] !== undefined) {\n",
       "      var bk_div = document.createElement(\"div\");\n",
       "      bk_div.innerHTML = output.data[HTML_MIME_TYPE];\n",
       "      var script_attrs = bk_div.children[0].attributes;\n",
       "      for (var i = 0; i < script_attrs.length; i++) {\n",
       "        toinsert[0].firstChild.setAttribute(script_attrs[i].name, script_attrs[i].value);\n",
       "      }\n",
       "      // store reference to server id on output_area\n",
       "      output_area._bokeh_server_id = output.metadata[EXEC_MIME_TYPE][\"server_id\"];\n",
       "    }\n",
       "  }\n",
       "\n",
       "  function register_renderer(events, OutputArea) {\n",
       "\n",
       "    function append_mime(data, metadata, element) {\n",
       "      // create a DOM node to render to\n",
       "      var toinsert = this.create_output_subarea(\n",
       "        metadata,\n",
       "        CLASS_NAME,\n",
       "        EXEC_MIME_TYPE\n",
       "      );\n",
       "      this.keyboard_manager.register_events(toinsert);\n",
       "      // Render to node\n",
       "      var props = {data: data, metadata: metadata[EXEC_MIME_TYPE]};\n",
       "      render(props, toinsert[0]);\n",
       "      element.append(toinsert);\n",
       "      return toinsert\n",
       "    }\n",
       "\n",
       "    /* Handle when an output is cleared or removed */\n",
       "    events.on('clear_output.CodeCell', handleClearOutput);\n",
       "    events.on('delete.Cell', handleClearOutput);\n",
       "\n",
       "    /* Handle when a new output is added */\n",
       "    events.on('output_added.OutputArea', handleAddOutput);\n",
       "\n",
       "    /**\n",
       "     * Register the mime type and append_mime function with output_area\n",
       "     */\n",
       "    OutputArea.prototype.register_mime_type(EXEC_MIME_TYPE, append_mime, {\n",
       "      /* Is output safe? */\n",
       "      safe: true,\n",
       "      /* Index of renderer in `output_area.display_order` */\n",
       "      index: 0\n",
       "    });\n",
       "  }\n",
       "\n",
       "  // register the mime type if in Jupyter Notebook environment and previously unregistered\n",
       "  if (root.Jupyter !== undefined) {\n",
       "    var events = require('base/js/events');\n",
       "    var OutputArea = require('notebook/js/outputarea').OutputArea;\n",
       "\n",
       "    if (OutputArea.prototype.mime_types().indexOf(EXEC_MIME_TYPE) == -1) {\n",
       "      register_renderer(events, OutputArea);\n",
       "    }\n",
       "  }\n",
       "\n",
       "  \n",
       "  if (typeof (root._bokeh_timeout) === \"undefined\" || force === true) {\n",
       "    root._bokeh_timeout = Date.now() + 5000;\n",
       "    root._bokeh_failed_load = false;\n",
       "  }\n",
       "\n",
       "  var NB_LOAD_WARNING = {'data': {'text/html':\n",
       "     \"<div style='background-color: #fdd'>\\n\"+\n",
       "     \"<p>\\n\"+\n",
       "     \"BokehJS does not appear to have successfully loaded. If loading BokehJS from CDN, this \\n\"+\n",
       "     \"may be due to a slow or bad network connection. Possible fixes:\\n\"+\n",
       "     \"</p>\\n\"+\n",
       "     \"<ul>\\n\"+\n",
       "     \"<li>re-rerun `output_notebook()` to attempt to load from CDN again, or</li>\\n\"+\n",
       "     \"<li>use INLINE resources instead, as so:</li>\\n\"+\n",
       "     \"</ul>\\n\"+\n",
       "     \"<code>\\n\"+\n",
       "     \"from bokeh.resources import INLINE\\n\"+\n",
       "     \"output_notebook(resources=INLINE)\\n\"+\n",
       "     \"</code>\\n\"+\n",
       "     \"</div>\"}};\n",
       "\n",
       "  function display_loaded() {\n",
       "    var el = document.getElementById(\"4a8f38b1-629a-46ee-b956-dc47bb380dd2\");\n",
       "    if (el != null) {\n",
       "      el.textContent = \"BokehJS is loading...\";\n",
       "    }\n",
       "    if (root.Bokeh !== undefined) {\n",
       "      if (el != null) {\n",
       "        el.textContent = \"BokehJS \" + root.Bokeh.version + \" successfully loaded.\";\n",
       "      }\n",
       "    } else if (Date.now() < root._bokeh_timeout) {\n",
       "      setTimeout(display_loaded, 100)\n",
       "    }\n",
       "  }\n",
       "\n",
       "\n",
       "  function run_callbacks() {\n",
       "    try {\n",
       "      root._bokeh_onload_callbacks.forEach(function(callback) { callback() });\n",
       "    }\n",
       "    finally {\n",
       "      delete root._bokeh_onload_callbacks\n",
       "    }\n",
       "    console.info(\"Bokeh: all callbacks have finished\");\n",
       "  }\n",
       "\n",
       "  function load_libs(js_urls, callback) {\n",
       "    root._bokeh_onload_callbacks.push(callback);\n",
       "    if (root._bokeh_is_loading > 0) {\n",
       "      console.log(\"Bokeh: BokehJS is being loaded, scheduling callback at\", now());\n",
       "      return null;\n",
       "    }\n",
       "    if (js_urls == null || js_urls.length === 0) {\n",
       "      run_callbacks();\n",
       "      return null;\n",
       "    }\n",
       "    console.log(\"Bokeh: BokehJS not loaded, scheduling load and callback at\", now());\n",
       "    root._bokeh_is_loading = js_urls.length;\n",
       "    for (var i = 0; i < js_urls.length; i++) {\n",
       "      var url = js_urls[i];\n",
       "      var s = document.createElement('script');\n",
       "      s.src = url;\n",
       "      s.async = false;\n",
       "      s.onreadystatechange = s.onload = function() {\n",
       "        root._bokeh_is_loading--;\n",
       "        if (root._bokeh_is_loading === 0) {\n",
       "          console.log(\"Bokeh: all BokehJS libraries loaded\");\n",
       "          run_callbacks()\n",
       "        }\n",
       "      };\n",
       "      s.onerror = function() {\n",
       "        console.warn(\"failed to load library \" + url);\n",
       "      };\n",
       "      console.log(\"Bokeh: injecting script tag for BokehJS library: \", url);\n",
       "      document.getElementsByTagName(\"head\")[0].appendChild(s);\n",
       "    }\n",
       "  };var element = document.getElementById(\"4a8f38b1-629a-46ee-b956-dc47bb380dd2\");\n",
       "  if (element == null) {\n",
       "    console.log(\"Bokeh: ERROR: autoload.js configured with elementid '4a8f38b1-629a-46ee-b956-dc47bb380dd2' but no matching script tag was found. \")\n",
       "    return false;\n",
       "  }\n",
       "\n",
       "  var js_urls = [\"https://cdn.pydata.org/bokeh/release/bokeh-0.12.13.min.js\", \"https://cdn.pydata.org/bokeh/release/bokeh-widgets-0.12.13.min.js\", \"https://cdn.pydata.org/bokeh/release/bokeh-tables-0.12.13.min.js\", \"https://cdn.pydata.org/bokeh/release/bokeh-gl-0.12.13.min.js\"];\n",
       "\n",
       "  var inline_js = [\n",
       "    function(Bokeh) {\n",
       "      Bokeh.set_log_level(\"info\");\n",
       "    },\n",
       "    \n",
       "    function(Bokeh) {\n",
       "      \n",
       "    },\n",
       "    function(Bokeh) {\n",
       "      console.log(\"Bokeh: injecting CSS: https://cdn.pydata.org/bokeh/release/bokeh-0.12.13.min.css\");\n",
       "      Bokeh.embed.inject_css(\"https://cdn.pydata.org/bokeh/release/bokeh-0.12.13.min.css\");\n",
       "      console.log(\"Bokeh: injecting CSS: https://cdn.pydata.org/bokeh/release/bokeh-widgets-0.12.13.min.css\");\n",
       "      Bokeh.embed.inject_css(\"https://cdn.pydata.org/bokeh/release/bokeh-widgets-0.12.13.min.css\");\n",
       "      console.log(\"Bokeh: injecting CSS: https://cdn.pydata.org/bokeh/release/bokeh-tables-0.12.13.min.css\");\n",
       "      Bokeh.embed.inject_css(\"https://cdn.pydata.org/bokeh/release/bokeh-tables-0.12.13.min.css\");\n",
       "    }\n",
       "  ];\n",
       "\n",
       "  function run_inline_js() {\n",
       "    \n",
       "    if ((root.Bokeh !== undefined) || (force === true)) {\n",
       "      for (var i = 0; i < inline_js.length; i++) {\n",
       "        inline_js[i].call(root, root.Bokeh);\n",
       "      }if (force === true) {\n",
       "        display_loaded();\n",
       "      }} else if (Date.now() < root._bokeh_timeout) {\n",
       "      setTimeout(run_inline_js, 100);\n",
       "    } else if (!root._bokeh_failed_load) {\n",
       "      console.log(\"Bokeh: BokehJS failed to load within specified timeout.\");\n",
       "      root._bokeh_failed_load = true;\n",
       "    } else if (force !== true) {\n",
       "      var cell = $(document.getElementById(\"4a8f38b1-629a-46ee-b956-dc47bb380dd2\")).parents('.cell').data().cell;\n",
       "      cell.output_area.append_execute_result(NB_LOAD_WARNING)\n",
       "    }\n",
       "\n",
       "  }\n",
       "\n",
       "  if (root._bokeh_is_loading === 0) {\n",
       "    console.log(\"Bokeh: BokehJS loaded, going straight to plotting\");\n",
       "    run_inline_js();\n",
       "  } else {\n",
       "    load_libs(js_urls, function() {\n",
       "      console.log(\"Bokeh: BokehJS plotting callback run at\", now());\n",
       "      run_inline_js();\n",
       "    });\n",
       "  }\n",
       "}(window));"
      ],
      "application/vnd.bokehjs_load.v0+json": "\n(function(root) {\n  function now() {\n    return new Date();\n  }\n\n  var force = true;\n\n  if (typeof (root._bokeh_onload_callbacks) === \"undefined\" || force === true) {\n    root._bokeh_onload_callbacks = [];\n    root._bokeh_is_loading = undefined;\n  }\n\n  \n\n  \n  if (typeof (root._bokeh_timeout) === \"undefined\" || force === true) {\n    root._bokeh_timeout = Date.now() + 5000;\n    root._bokeh_failed_load = false;\n  }\n\n  var NB_LOAD_WARNING = {'data': {'text/html':\n     \"<div style='background-color: #fdd'>\\n\"+\n     \"<p>\\n\"+\n     \"BokehJS does not appear to have successfully loaded. If loading BokehJS from CDN, this \\n\"+\n     \"may be due to a slow or bad network connection. Possible fixes:\\n\"+\n     \"</p>\\n\"+\n     \"<ul>\\n\"+\n     \"<li>re-rerun `output_notebook()` to attempt to load from CDN again, or</li>\\n\"+\n     \"<li>use INLINE resources instead, as so:</li>\\n\"+\n     \"</ul>\\n\"+\n     \"<code>\\n\"+\n     \"from bokeh.resources import INLINE\\n\"+\n     \"output_notebook(resources=INLINE)\\n\"+\n     \"</code>\\n\"+\n     \"</div>\"}};\n\n  function display_loaded() {\n    var el = document.getElementById(\"4a8f38b1-629a-46ee-b956-dc47bb380dd2\");\n    if (el != null) {\n      el.textContent = \"BokehJS is loading...\";\n    }\n    if (root.Bokeh !== undefined) {\n      if (el != null) {\n        el.textContent = \"BokehJS \" + root.Bokeh.version + \" successfully loaded.\";\n      }\n    } else if (Date.now() < root._bokeh_timeout) {\n      setTimeout(display_loaded, 100)\n    }\n  }\n\n\n  function run_callbacks() {\n    try {\n      root._bokeh_onload_callbacks.forEach(function(callback) { callback() });\n    }\n    finally {\n      delete root._bokeh_onload_callbacks\n    }\n    console.info(\"Bokeh: all callbacks have finished\");\n  }\n\n  function load_libs(js_urls, callback) {\n    root._bokeh_onload_callbacks.push(callback);\n    if (root._bokeh_is_loading > 0) {\n      console.log(\"Bokeh: BokehJS is being loaded, scheduling callback at\", now());\n      return null;\n    }\n    if (js_urls == null || js_urls.length === 0) {\n      run_callbacks();\n      return null;\n    }\n    console.log(\"Bokeh: BokehJS not loaded, scheduling load and callback at\", now());\n    root._bokeh_is_loading = js_urls.length;\n    for (var i = 0; i < js_urls.length; i++) {\n      var url = js_urls[i];\n      var s = document.createElement('script');\n      s.src = url;\n      s.async = false;\n      s.onreadystatechange = s.onload = function() {\n        root._bokeh_is_loading--;\n        if (root._bokeh_is_loading === 0) {\n          console.log(\"Bokeh: all BokehJS libraries loaded\");\n          run_callbacks()\n        }\n      };\n      s.onerror = function() {\n        console.warn(\"failed to load library \" + url);\n      };\n      console.log(\"Bokeh: injecting script tag for BokehJS library: \", url);\n      document.getElementsByTagName(\"head\")[0].appendChild(s);\n    }\n  };var element = document.getElementById(\"4a8f38b1-629a-46ee-b956-dc47bb380dd2\");\n  if (element == null) {\n    console.log(\"Bokeh: ERROR: autoload.js configured with elementid '4a8f38b1-629a-46ee-b956-dc47bb380dd2' but no matching script tag was found. \")\n    return false;\n  }\n\n  var js_urls = [\"https://cdn.pydata.org/bokeh/release/bokeh-0.12.13.min.js\", \"https://cdn.pydata.org/bokeh/release/bokeh-widgets-0.12.13.min.js\", \"https://cdn.pydata.org/bokeh/release/bokeh-tables-0.12.13.min.js\", \"https://cdn.pydata.org/bokeh/release/bokeh-gl-0.12.13.min.js\"];\n\n  var inline_js = [\n    function(Bokeh) {\n      Bokeh.set_log_level(\"info\");\n    },\n    \n    function(Bokeh) {\n      \n    },\n    function(Bokeh) {\n      console.log(\"Bokeh: injecting CSS: https://cdn.pydata.org/bokeh/release/bokeh-0.12.13.min.css\");\n      Bokeh.embed.inject_css(\"https://cdn.pydata.org/bokeh/release/bokeh-0.12.13.min.css\");\n      console.log(\"Bokeh: injecting CSS: https://cdn.pydata.org/bokeh/release/bokeh-widgets-0.12.13.min.css\");\n      Bokeh.embed.inject_css(\"https://cdn.pydata.org/bokeh/release/bokeh-widgets-0.12.13.min.css\");\n      console.log(\"Bokeh: injecting CSS: https://cdn.pydata.org/bokeh/release/bokeh-tables-0.12.13.min.css\");\n      Bokeh.embed.inject_css(\"https://cdn.pydata.org/bokeh/release/bokeh-tables-0.12.13.min.css\");\n    }\n  ];\n\n  function run_inline_js() {\n    \n    if ((root.Bokeh !== undefined) || (force === true)) {\n      for (var i = 0; i < inline_js.length; i++) {\n        inline_js[i].call(root, root.Bokeh);\n      }if (force === true) {\n        display_loaded();\n      }} else if (Date.now() < root._bokeh_timeout) {\n      setTimeout(run_inline_js, 100);\n    } else if (!root._bokeh_failed_load) {\n      console.log(\"Bokeh: BokehJS failed to load within specified timeout.\");\n      root._bokeh_failed_load = true;\n    } else if (force !== true) {\n      var cell = $(document.getElementById(\"4a8f38b1-629a-46ee-b956-dc47bb380dd2\")).parents('.cell').data().cell;\n      cell.output_area.append_execute_result(NB_LOAD_WARNING)\n    }\n\n  }\n\n  if (root._bokeh_is_loading === 0) {\n    console.log(\"Bokeh: BokehJS loaded, going straight to plotting\");\n    run_inline_js();\n  } else {\n    load_libs(js_urls, function() {\n      console.log(\"Bokeh: BokehJS plotting callback run at\", now());\n      run_inline_js();\n    });\n  }\n}(window));"
     },
     "metadata": {},
     "output_type": "display_data"
    }
   ],
   "source": [
    "from bokeh.io import output_notebook\n",
    "output_notebook()"
   ]
  },
  {
   "cell_type": "code",
   "execution_count": 6,
   "metadata": {
    "scrolled": true
   },
   "outputs": [],
   "source": [
    "res_folder_path = '/home/yossi//Dropbox/visualRFNN/Datasets_new/visual/Dataset_python_olshausen_160x100x50_no_writing/nnResults/'\n",
    "res_pd = rdh.compile_results_pd(res_folder_path)\n",
    "# res_pd.sort_values('final_val_cost')"
   ]
  },
  {
   "cell_type": "code",
   "execution_count": 7,
   "metadata": {
    "scrolled": true
   },
   "outputs": [],
   "source": [
    "this_save_dir = 'visual_images_no_noise/'\n",
    "root_dir='/home/yossi/yossi_local/github/temporal_prediction_model/Figures/'\n",
    "no_noise_url_pd = iplot.get_urls_for_visual_df_data(res_pd, 'log_reg_factor', 'num_filters', 'final_val_cost', server_address='', root_dir=root_dir, this_save_dir=this_save_dir, verbose=False)"
   ]
  },
  {
   "cell_type": "code",
   "execution_count": 8,
   "metadata": {
    "scrolled": false
   },
   "outputs": [
    {
     "data": {
      "text/html": [
       "\n",
       "<div class=\"bk-root\">\n",
       "    <div class=\"bk-plotdiv\" id=\"79108037-881e-4e80-945f-6c19835ad927\"></div>\n",
       "</div>"
      ]
     },
     "metadata": {},
     "output_type": "display_data"
    },
    {
     "data": {
      "application/javascript": [
       "(function(root) {\n",
       "  function embed_document(root) {\n",
       "    \n",
       "  var docs_json = {\"7d84197f-2452-497b-b772-62bb5c3bf120\":{\"roots\":{\"references\":[{\"attributes\":{},\"id\":\"4896d0fa-f0d6-4a50-92ce-47df2be9e892\",\"type\":\"ResetTool\"},{\"attributes\":{\"dimension\":1,\"plot\":{\"id\":\"3a2a6bfb-4700-4dbd-a589-ee4fdecf325e\",\"subtype\":\"Figure\",\"type\":\"Plot\"},\"ticker\":{\"id\":\"7bc8237e-3631-416c-a3e1-e16a1749acfd\",\"type\":\"CategoricalTicker\"}},\"id\":\"22f63767-06b5-4968-9033-e4f8951454ff\",\"type\":\"Grid\"},{\"attributes\":{},\"id\":\"b0bf01b3-cf14-46b4-bb80-4cdff7eb8786\",\"type\":\"CategoricalScale\"},{\"attributes\":{},\"id\":\"fe288584-2827-4000-8703-2719ba17fac2\",\"type\":\"BasicTicker\"},{\"attributes\":{},\"id\":\"413af068-0a16-4f24-a579-62b991d5d01b\",\"type\":\"CategoricalTickFormatter\"},{\"attributes\":{},\"id\":\"076a8099-7345-4cfa-a33b-da9bc0952061\",\"type\":\"ResetTool\"},{\"attributes\":{},\"id\":\"4e623dbc-9776-4a1a-98a4-8c8a6965ced1\",\"type\":\"ZoomOutTool\"},{\"attributes\":{\"callback\":null},\"id\":\"480c379d-5468-4904-b9bb-507de4fc8e04\",\"type\":\"DataRange1d\"},{\"attributes\":{\"axis_label\":\"Log_10 of L1 regularisation on weights\",\"axis_label_text_font_size\":{\"value\":\"20pt\"},\"formatter\":{\"id\":\"b4b63559-1bb1-4c2a-8e34-e318ff8ce96f\",\"type\":\"CategoricalTickFormatter\"},\"major_label_text_font_size\":{\"value\":\"12pt\"},\"plot\":{\"id\":\"c271e823-3097-40a6-ac8f-2a81b2c7f5f8\",\"subtype\":\"Figure\",\"type\":\"Plot\"},\"ticker\":{\"id\":\"92ae85bc-d4e6-43b2-bcd5-1462867e87f0\",\"type\":\"CategoricalTicker\"}},\"id\":\"546fb66a-2f7a-4b36-bbf4-9ae870fe9146\",\"type\":\"CategoricalAxis\"},{\"attributes\":{\"callback\":null,\"factors\":[\"-inf\",\"-7.0\",\"-6.5\",\"-6.25\",\"-6.0\",\"-5.75\",\"-5.5\",\"-5.0\"]},\"id\":\"3bfb55dd-12d3-4e5a-b131-d62ef149aca6\",\"type\":\"FactorRange\"},{\"attributes\":{\"callback\":null,\"factors\":[\"0\",\"1\",\"2\",\"3\",\"4\",\"5\",\"6\",\"7\",\"8\",\"9\"]},\"id\":\"9a8bf65d-787d-44b1-bf4e-89d040751fc4\",\"type\":\"FactorRange\"},{\"attributes\":{\"anchor\":\"bottom_left\",\"h\":{\"field\":\"dh\",\"units\":\"data\"},\"url\":{\"field\":\"url\"},\"w\":{\"field\":\"dw\",\"units\":\"data\"},\"x\":{\"value\":0},\"y\":{\"value\":0}},\"id\":\"35a809b1-5418-41bc-92f4-630f60782b22\",\"type\":\"ImageURL\"},{\"attributes\":{\"active_drag\":\"auto\",\"active_inspect\":\"auto\",\"active_scroll\":\"auto\",\"active_tap\":\"auto\",\"tools\":[{\"id\":\"60e856f8-554d-4fa6-88e0-0be9e65d9437\",\"type\":\"ZoomInTool\"},{\"id\":\"4e623dbc-9776-4a1a-98a4-8c8a6965ced1\",\"type\":\"ZoomOutTool\"},{\"id\":\"ef11d80f-9963-4f3e-a0d8-8c26d8388dec\",\"type\":\"PanTool\"},{\"id\":\"076a8099-7345-4cfa-a33b-da9bc0952061\",\"type\":\"ResetTool\"}]},\"id\":\"38e3298b-cf4c-48f5-a23d-b71f7836c655\",\"type\":\"Toolbar\"},{\"attributes\":{},\"id\":\"20137fe0-9fde-4a73-874f-141ca112cff2\",\"type\":\"BasicTickFormatter\"},{\"attributes\":{\"axis_label\":\"Number of hidden units\",\"axis_label_text_font_size\":{\"value\":\"20pt\"},\"formatter\":{\"id\":\"7b29ad59-8c44-4df0-ae39-781a454c220c\",\"type\":\"CategoricalTickFormatter\"},\"major_label_text_font_size\":{\"value\":\"12pt\"},\"plot\":{\"id\":\"c271e823-3097-40a6-ac8f-2a81b2c7f5f8\",\"subtype\":\"Figure\",\"type\":\"Plot\"},\"ticker\":{\"id\":\"85387453-4db3-4a8e-b2a8-dce46e381005\",\"type\":\"CategoricalTicker\"}},\"id\":\"5e07a7b2-90d6-4d8b-8b34-8d077f4fb287\",\"type\":\"CategoricalAxis\"},{\"attributes\":{\"source\":{\"id\":\"669c2fde-71c1-4c4e-8719-6dd553cbc506\",\"type\":\"ColumnDataSource\"}},\"id\":\"e2a0fe18-2c01-46f7-bf1b-6353dec9823e\",\"type\":\"CDSView\"},{\"attributes\":{\"callback\":{\"id\":\"0f85ef74-22e9-4dd3-b31d-598c9e85437a\",\"type\":\"CustomJS\"},\"tooltips\":null},\"id\":\"fbe9f1e8-c9da-4383-9a1a-4bc79ded932b\",\"type\":\"HoverTool\"},{\"attributes\":{},\"id\":\"a40a4193-45e7-4ef6-bfb3-40599298df18\",\"type\":\"PanTool\"},{\"attributes\":{\"formatter\":{\"id\":\"cf09e9c3-5a8a-43a1-b29d-1f0eb3af12dc\",\"type\":\"BasicTickFormatter\"},\"plot\":{\"id\":\"f936a64b-7c3a-4ca8-b4bc-c754476cc050\",\"subtype\":\"Figure\",\"type\":\"Plot\"},\"ticker\":{\"id\":\"a892c1e5-ffcc-45d6-9577-41f45c18f0d9\",\"type\":\"BasicTicker\"}},\"id\":\"585fda73-d9e8-4cef-9a78-8245eb9e7577\",\"type\":\"LinearAxis\"},{\"attributes\":{\"callback\":null,\"column_names\":[\"num_filters\",\"y\",\"log_reg_factor\",\"z_value\",\"url\",\"x\",\"color\",\"results_path\",\"index\",\"final_val_cost\"],\"data\":{\"color\":[\"#4dffaa\",\"#00a4ff\",\"#56ffa0\",\"#0014ff\",\"#7dff7a\",\"#000089\",\"#adff49\",\"#000080\",\"#adff49\",\"#0000e3\",\"#ffa300\",\"#004cff\",\"#ffe600\",\"#26ffd1\",\"#800000\",\"#9b0000\"],\"final_val_cost\":{\"__ndarray__\":\"H4Xr2V2z3z9xPQonl5PeP83MzLQ5yt8/XI/CXWyO3T/sUbiCrA/gP4/C9XSUk9w/FK5HPxFG4D+amZl1KIHcP9ejcLmhReA/MzMzAyoj3T/D9Si4DOjgP/YoXJdI8d0/exSuZ3+n4D+PwvWov1/fP4/C9TDc2+E/w/UopBDG4T8=\",\"dtype\":\"float64\",\"shape\":[16]},\"index\":[1,4,2,12,9,14,7,13,5,15,6,3,10,11,8,0],\"log_reg_factor\":{\"__ndarray__\":\"AAAAAAAA8P8AAAAAAADw/wAAAAAAABzAAAAAAAAAHMAAAAAAAAAawAAAAAAAABrAAAAAAAAAGcAAAAAAAAAZwAAAAAAAABjAAAAAAAAAGMAAAAAAAAAXwAAAAAAAABfAAAAAAAAAFsAAAAAAAAAWwAAAAAAAABTAAAAAAAAAFMA=\",\"dtype\":\"float64\",\"shape\":[16]},\"num_filters\":[400,1600,400,1600,400,1600,400,1600,400,1600,400,1600,400,1600,400,1600],\"results_path\":[\"/home/yossi//Dropbox/visualRFNN/Datasets_new/visual/Dataset_python_olshausen_160x100x50_no_writing/nnResults/num_filters_400_reg_factor_0/python_network.pkl\",\"/home/yossi//Dropbox/visualRFNN/Datasets_new/visual/Dataset_python_olshausen_160x100x50_no_writing/nnResults/num_filters_1600_reg_factor_0/python_network.pkl\",\"/home/yossi//Dropbox/visualRFNN/Datasets_new/visual/Dataset_python_olshausen_160x100x50_no_writing/nnResults/num_filters_400_reg_factor_1e-07_t_filter_length_7/python_network.pkl\",\"/home/yossi//Dropbox/visualRFNN/Datasets_new/visual/Dataset_python_olshausen_160x100x50_no_writing/nnResults/num_filters_1600_reg_factor_1e-07_t_filter_length_7/python_network.pkl\",\"/home/yossi//Dropbox/visualRFNN/Datasets_new/visual/Dataset_python_olshausen_160x100x50_no_writing/nnResults/num_filters_400_reg_factor_3.162e-07_t_filter_length_7/python_network.pkl\",\"/home/yossi//Dropbox/visualRFNN/Datasets_new/visual/Dataset_python_olshausen_160x100x50_no_writing/nnResults/num_filters_1600_reg_factor_3.162e-07_t_filter_length_7/python_network.pkl\",\"/home/yossi//Dropbox/visualRFNN/Datasets_new/visual/Dataset_python_olshausen_160x100x50_no_writing/nnResults/num_filters_400_reg_factor_5.623e-07_t_filter_length_7/python_network.pkl\",\"/home/yossi//Dropbox/visualRFNN/Datasets_new/visual/Dataset_python_olshausen_160x100x50_no_writing/nnResults/num_filters_1600_reg_factor_5.623e-07_t_filter_length_7/python_network.pkl\",\"/home/yossi//Dropbox/visualRFNN/Datasets_new/visual/Dataset_python_olshausen_160x100x50_no_writing/nnResults/num_filters_400_reg_factor_1e-06_t_filter_length_7/python_network.pkl\",\"/home/yossi//Dropbox/visualRFNN/Datasets_new/visual/Dataset_python_olshausen_160x100x50_no_writing/nnResults/num_filters_1600_reg_factor_1e-06_t_filter_length_7/python_network.pkl\",\"/home/yossi//Dropbox/visualRFNN/Datasets_new/visual/Dataset_python_olshausen_160x100x50_no_writing/nnResults/num_filters_400_reg_factor_1.7783e-06_t_filter_length_7/python_network.pkl\",\"/home/yossi//Dropbox/visualRFNN/Datasets_new/visual/Dataset_python_olshausen_160x100x50_no_writing/nnResults/num_filters_1600_reg_factor_1.7783e-06_t_filter_length_7/python_network.pkl\",\"/home/yossi//Dropbox/visualRFNN/Datasets_new/visual/Dataset_python_olshausen_160x100x50_no_writing/nnResults/num_filters_400_reg_factor_3.1623e-06_t_filter_length_7/python_network.pkl\",\"/home/yossi//Dropbox/visualRFNN/Datasets_new/visual/Dataset_python_olshausen_160x100x50_no_writing/nnResults/num_filters_1600_reg_factor_3.1623e-06_t_filter_length_7/python_network.pkl\",\"/home/yossi//Dropbox/visualRFNN/Datasets_new/visual/Dataset_python_olshausen_160x100x50_no_writing/nnResults/num_filters_400_reg_factor_1e-05_t_filter_length_7/python_network.pkl\",\"/home/yossi//Dropbox/visualRFNN/Datasets_new/visual/Dataset_python_olshausen_160x100x50_no_writing/nnResults/num_filters_1600_reg_factor_1e-05_t_filter_length_7/python_network.pkl\"],\"url\":[\"visual_images_no_noise/t_step=7/weight_img_1.jpeg\",\"visual_images_no_noise/t_step=7/weight_img_4.jpeg\",\"visual_images_no_noise/t_step=7/weight_img_2.jpeg\",\"visual_images_no_noise/t_step=7/weight_img_12.jpeg\",\"visual_images_no_noise/t_step=7/weight_img_9.jpeg\",\"visual_images_no_noise/t_step=7/weight_img_14.jpeg\",\"visual_images_no_noise/t_step=7/weight_img_7.jpeg\",\"visual_images_no_noise/t_step=7/weight_img_13.jpeg\",\"visual_images_no_noise/t_step=7/weight_img_5.jpeg\",\"visual_images_no_noise/t_step=7/weight_img_15.jpeg\",\"visual_images_no_noise/t_step=7/weight_img_6.jpeg\",\"visual_images_no_noise/t_step=7/weight_img_3.jpeg\",\"visual_images_no_noise/t_step=7/weight_img_10.jpeg\",\"visual_images_no_noise/t_step=7/weight_img_11.jpeg\",\"visual_images_no_noise/t_step=7/weight_img_8.jpeg\",\"visual_images_no_noise/t_step=7/weight_img_0.jpeg\"],\"x\":[\"-inf\",\"-inf\",\"-7.0\",\"-7.0\",\"-6.5\",\"-6.5\",\"-6.25\",\"-6.25\",\"-6.0\",\"-6.0\",\"-5.75\",\"-5.75\",\"-5.5\",\"-5.5\",\"-5.0\",\"-5.0\"],\"y\":[\"400\",\"1600\",\"400\",\"1600\",\"400\",\"1600\",\"400\",\"1600\",\"400\",\"1600\",\"400\",\"1600\",\"400\",\"1600\",\"400\",\"1600\"],\"z_value\":{\"__ndarray__\":\"H4Xr2V2z3z9xPQonl5PeP83MzLQ5yt8/XI/CXWyO3T/sUbiCrA/gP4/C9XSUk9w/FK5HPxFG4D+amZl1KIHcP9ejcLmhReA/MzMzAyoj3T/D9Si4DOjgP/YoXJdI8d0/exSuZ3+n4D+PwvWov1/fP4/C9TDc2+E/w/UopBDG4T8=\",\"dtype\":\"float64\",\"shape\":[16]}}},\"id\":\"669c2fde-71c1-4c4e-8719-6dd553cbc506\",\"type\":\"ColumnDataSource\"},{\"attributes\":{\"children\":[{\"id\":\"c271e823-3097-40a6-ac8f-2a81b2c7f5f8\",\"subtype\":\"Figure\",\"type\":\"Plot\"},{\"id\":\"f936a64b-7c3a-4ca8-b4bc-c754476cc050\",\"subtype\":\"Figure\",\"type\":\"Plot\"},{\"id\":\"3a2a6bfb-4700-4dbd-a589-ee4fdecf325e\",\"subtype\":\"Figure\",\"type\":\"Plot\"},{\"id\":\"baed47aa-009c-48ca-8d63-07a0db1ef1f8\",\"type\":\"WidgetBox\"}]},\"id\":\"9b93df16-570c-4bae-9e4a-f1e4331b1ce4\",\"type\":\"Row\"},{\"attributes\":{},\"id\":\"af29d8f5-7998-4e1c-887c-eef925982d2c\",\"type\":\"LinearScale\"},{\"attributes\":{\"formatter\":{\"id\":\"413af068-0a16-4f24-a579-62b991d5d01b\",\"type\":\"CategoricalTickFormatter\"},\"major_label_text_font_size\":{\"value\":\"0pt\"},\"major_tick_line_color\":{\"value\":null},\"plot\":{\"id\":\"3a2a6bfb-4700-4dbd-a589-ee4fdecf325e\",\"subtype\":\"Figure\",\"type\":\"Plot\"},\"ticker\":{\"id\":\"7bc8237e-3631-416c-a3e1-e16a1749acfd\",\"type\":\"CategoricalTicker\"}},\"id\":\"e8af87ca-cec2-47b7-95ff-61d1e749ae5b\",\"type\":\"CategoricalAxis\"},{\"attributes\":{\"plot\":null,\"text\":\"Corresponding spatial RFs\",\"text_font_size\":{\"value\":\"20pt\"}},\"id\":\"7fb696c5-fc72-44b8-895c-8382d8d93220\",\"type\":\"Title\"},{\"attributes\":{\"children\":[{\"id\":\"2abafebb-767f-4710-abf0-3b7736966462\",\"type\":\"Slider\"}],\"height\":200},\"id\":\"baed47aa-009c-48ca-8d63-07a0db1ef1f8\",\"type\":\"WidgetBox\"},{\"attributes\":{\"below\":[{\"id\":\"b62b2608-d85e-422a-a861-a20f7e9e6603\",\"type\":\"CategoricalAxis\"}],\"left\":[{\"id\":\"e8af87ca-cec2-47b7-95ff-61d1e749ae5b\",\"type\":\"CategoricalAxis\"}],\"min_border_left\":40,\"renderers\":[{\"id\":\"b62b2608-d85e-422a-a861-a20f7e9e6603\",\"type\":\"CategoricalAxis\"},{\"id\":\"c62fcbce-384b-4861-b443-765fe78da494\",\"type\":\"Grid\"},{\"id\":\"e8af87ca-cec2-47b7-95ff-61d1e749ae5b\",\"type\":\"CategoricalAxis\"},{\"id\":\"22f63767-06b5-4968-9033-e4f8951454ff\",\"type\":\"Grid\"},{\"id\":\"d5f7b9ed-50cf-4e4b-9548-2666417b27a7\",\"type\":\"GlyphRenderer\"}],\"title\":{\"id\":\"7fb696c5-fc72-44b8-895c-8382d8d93220\",\"type\":\"Title\"},\"toolbar\":{\"id\":\"38e3298b-cf4c-48f5-a23d-b71f7836c655\",\"type\":\"Toolbar\"},\"x_range\":{\"id\":\"da85bb29-6891-4d81-8175-f9bf00a77b3b\",\"type\":\"FactorRange\"},\"x_scale\":{\"id\":\"d99ace3e-9227-46cc-8074-cd27e557bc18\",\"type\":\"CategoricalScale\"},\"y_range\":{\"id\":\"9a8bf65d-787d-44b1-bf4e-89d040751fc4\",\"type\":\"FactorRange\"},\"y_scale\":{\"id\":\"90edec1b-5bb6-4f3a-9e80-afe0c83e9f83\",\"type\":\"CategoricalScale\"}},\"id\":\"3a2a6bfb-4700-4dbd-a589-ee4fdecf325e\",\"subtype\":\"Figure\",\"type\":\"Plot\"},{\"attributes\":{\"align\":\"center\",\"plot\":null,\"text\":\"Final validation loss\",\"text_font_size\":{\"value\":\"16pt\"}},\"id\":\"3290fba8-94e4-4936-a9cf-96cbb2c0c922\",\"type\":\"Title\"},{\"attributes\":{\"callback\":null,\"factors\":[\"1600\",\"400\"]},\"id\":\"a4eafd1c-900c-48f8-91b5-130edb0c8fdf\",\"type\":\"FactorRange\"},{\"attributes\":{\"below\":[{\"id\":\"546fb66a-2f7a-4b36-bbf4-9ae870fe9146\",\"type\":\"CategoricalAxis\"}],\"left\":[{\"id\":\"5e07a7b2-90d6-4d8b-8b34-8d077f4fb287\",\"type\":\"CategoricalAxis\"}],\"renderers\":[{\"id\":\"546fb66a-2f7a-4b36-bbf4-9ae870fe9146\",\"type\":\"CategoricalAxis\"},{\"id\":\"adb466ba-618f-4226-9345-75a61e5ddd90\",\"type\":\"Grid\"},{\"id\":\"5e07a7b2-90d6-4d8b-8b34-8d077f4fb287\",\"type\":\"CategoricalAxis\"},{\"id\":\"c4a3cfc3-d4a3-43b4-a0b5-fcd4d6233de9\",\"type\":\"Grid\"},{\"id\":\"4b588d86-ea4e-4f42-9d6b-45757ca43d7f\",\"type\":\"GlyphRenderer\"}],\"title\":{\"id\":\"2de68509-6c93-4de5-b772-691cf25c84a7\",\"type\":\"Title\"},\"toolbar\":{\"id\":\"46347a03-db4c-45d1-a5ab-243145a835ee\",\"type\":\"Toolbar\"},\"toolbar_location\":\"above\",\"x_range\":{\"id\":\"3bfb55dd-12d3-4e5a-b131-d62ef149aca6\",\"type\":\"FactorRange\"},\"x_scale\":{\"id\":\"b0bf01b3-cf14-46b4-bb80-4cdff7eb8786\",\"type\":\"CategoricalScale\"},\"y_range\":{\"id\":\"a4eafd1c-900c-48f8-91b5-130edb0c8fdf\",\"type\":\"FactorRange\"},\"y_scale\":{\"id\":\"2a6d9a2d-48f2-49e6-9fe4-da57740f9c94\",\"type\":\"CategoricalScale\"}},\"id\":\"c271e823-3097-40a6-ac8f-2a81b2c7f5f8\",\"subtype\":\"Figure\",\"type\":\"Plot\"},{\"attributes\":{},\"id\":\"d99ace3e-9227-46cc-8074-cd27e557bc18\",\"type\":\"CategoricalScale\"},{\"attributes\":{},\"id\":\"ef11d80f-9963-4f3e-a0d8-8c26d8388dec\",\"type\":\"PanTool\"},{\"attributes\":{\"plot\":null,\"text\":\"Heatmap\",\"text_font_size\":{\"value\":\"20pt\"}},\"id\":\"2de68509-6c93-4de5-b772-691cf25c84a7\",\"type\":\"Title\"},{\"attributes\":{\"args\":{\"s2\":{\"id\":\"349802e2-2408-4d35-9d89-e48ad343413c\",\"type\":\"ColumnDataSource\"},\"s3\":{\"id\":\"c16d0241-048b-40f2-82e1-139998f2219c\",\"type\":\"ColumnDataSource\"}},\"code\":\"\\n            //console.log(cb_obj)\\n           // console.log(cb_obj.index)\\n            var attrs = []; \\n            if (cb_obj.event_name == 'tap') {\\n                //console.log('here')\\n               // var ix = attrs['x'] + attrs['y']\\n\\n            }\\n            //check if the slider value has changed. If it has, update the timestep of the image being displayed\\n            var value = cb_obj.value\\n            if (value === parseInt(value, 10)) {\\n                //console.log(value)\\n                //console.log(s2.data)\\n                var old_url = s2.data.url\\n                    if (old_url != []) {\\n                      old_url=old_url[0]\\n                      //console.log(old_url)\\n                      var split_url = old_url.split(\\\"=\\\");\\n                      split_url[1] = split_url[1].replace(split_url[1][0], value);\\n                      new_url = split_url[0]+\\\"=\\\"+split_url[1];\\n                      var d2 = s2.data;\\n                      d2['url'] = [new_url]\\n                      s2.change.emit();\\n    } \\n            }\\n\\n\\n           //console.log(attrs)\\n          //  console.log(cb_data)\\n\\n            \"},\"id\":\"a06847a2-f9c7-4c4d-a2e5-3448cb998bef\",\"type\":\"CustomJS\"},{\"attributes\":{},\"id\":\"cf09e9c3-5a8a-43a1-b29d-1f0eb3af12dc\",\"type\":\"BasicTickFormatter\"},{\"attributes\":{\"callback\":null},\"id\":\"24398ad2-6376-4ae4-b1b3-1d49b72780df\",\"type\":\"DataRange1d\"},{\"attributes\":{\"data_source\":{\"id\":\"669c2fde-71c1-4c4e-8719-6dd553cbc506\",\"type\":\"ColumnDataSource\"},\"glyph\":{\"id\":\"bd7a8993-0787-4f29-86ab-caf0a4bd4a1f\",\"type\":\"Rect\"},\"hover_glyph\":null,\"muted_glyph\":null,\"nonselection_glyph\":{\"id\":\"d732e73e-aafc-4b6f-a5a1-ef1fce306a78\",\"type\":\"Rect\"},\"selection_glyph\":null,\"view\":{\"id\":\"e2a0fe18-2c01-46f7-bf1b-6353dec9823e\",\"type\":\"CDSView\"}},\"id\":\"4b588d86-ea4e-4f42-9d6b-45757ca43d7f\",\"type\":\"GlyphRenderer\"},{\"attributes\":{},\"id\":\"33cd93d1-8b48-422a-91b9-0f3024e96dd2\",\"type\":\"HelpTool\"},{\"attributes\":{},\"id\":\"90edec1b-5bb6-4f3a-9e80-afe0c83e9f83\",\"type\":\"CategoricalScale\"},{\"attributes\":{\"fill_color\":{\"field\":\"color\"},\"height\":{\"units\":\"data\",\"value\":1},\"line_color\":{\"field\":\"color\"},\"width\":{\"units\":\"data\",\"value\":1},\"x\":{\"field\":\"x\"},\"y\":{\"field\":\"y\"}},\"id\":\"bd7a8993-0787-4f29-86ab-caf0a4bd4a1f\",\"type\":\"Rect\"},{\"attributes\":{\"anchor\":\"bottom_left\",\"h\":{\"field\":\"dh\",\"units\":\"data\"},\"url\":{\"field\":\"url\"},\"w\":{\"field\":\"dw\",\"units\":\"data\"},\"x\":{\"value\":0},\"y\":{\"value\":0}},\"id\":\"99c1c030-603b-48a6-92fb-2d91d6ee4938\",\"type\":\"ImageURL\"},{\"attributes\":{\"formatter\":{\"id\":\"f89f7e6e-34c9-41f4-b113-64a608322cde\",\"type\":\"BasicTickFormatter\"},\"plot\":{\"id\":\"f936a64b-7c3a-4ca8-b4bc-c754476cc050\",\"subtype\":\"Figure\",\"type\":\"Plot\"},\"ticker\":{\"id\":\"fe288584-2827-4000-8703-2719ba17fac2\",\"type\":\"BasicTicker\"}},\"id\":\"f5b2c2d0-c6f9-42a8-abb6-86268303f321\",\"type\":\"LinearAxis\"},{\"attributes\":{\"high\":0.5580883938074112,\"low\":0.44538318142294886,\"palette\":[\"#000080\",\"#000084\",\"#000089\",\"#00008d\",\"#000092\",\"#000096\",\"#00009b\",\"#00009f\",\"#0000a4\",\"#0000a8\",\"#0000ad\",\"#0000b2\",\"#0000b6\",\"#0000bb\",\"#0000bf\",\"#0000c4\",\"#0000c8\",\"#0000cd\",\"#0000d1\",\"#0000d6\",\"#0000da\",\"#0000df\",\"#0000e3\",\"#0000e8\",\"#0000ed\",\"#0000f1\",\"#0000f6\",\"#0000fa\",\"#0000ff\",\"#0000ff\",\"#0000ff\",\"#0000ff\",\"#0000ff\",\"#0004ff\",\"#0008ff\",\"#000cff\",\"#0010ff\",\"#0014ff\",\"#0018ff\",\"#001cff\",\"#0020ff\",\"#0024ff\",\"#0028ff\",\"#002cff\",\"#0030ff\",\"#0034ff\",\"#0038ff\",\"#003cff\",\"#0040ff\",\"#0044ff\",\"#0048ff\",\"#004cff\",\"#0050ff\",\"#0054ff\",\"#0058ff\",\"#005cff\",\"#0060ff\",\"#0064ff\",\"#0068ff\",\"#006cff\",\"#0070ff\",\"#0074ff\",\"#0078ff\",\"#007cff\",\"#0080ff\",\"#0084ff\",\"#0088ff\",\"#008cff\",\"#0090ff\",\"#0094ff\",\"#0098ff\",\"#009cff\",\"#00a0ff\",\"#00a4ff\",\"#00a8ff\",\"#00acff\",\"#00b0ff\",\"#00b4ff\",\"#00b8ff\",\"#00bcff\",\"#00c0ff\",\"#00c4ff\",\"#00c8ff\",\"#00ccff\",\"#00d0ff\",\"#00d4ff\",\"#00d8ff\",\"#00dcfe\",\"#00e0fb\",\"#00e4f8\",\"#02e8f4\",\"#06ecf1\",\"#09f0ee\",\"#0cf4eb\",\"#0ff8e7\",\"#13fce4\",\"#16ffe1\",\"#19ffde\",\"#1cffdb\",\"#1fffd7\",\"#23ffd4\",\"#26ffd1\",\"#29ffce\",\"#2cffca\",\"#30ffc7\",\"#33ffc4\",\"#36ffc1\",\"#39ffbe\",\"#3cffba\",\"#40ffb7\",\"#43ffb4\",\"#46ffb1\",\"#49ffad\",\"#4dffaa\",\"#50ffa7\",\"#53ffa4\",\"#56ffa0\",\"#5aff9d\",\"#5dff9a\",\"#60ff97\",\"#63ff94\",\"#66ff90\",\"#6aff8d\",\"#6dff8a\",\"#70ff87\",\"#73ff83\",\"#77ff80\",\"#7aff7d\",\"#7dff7a\",\"#80ff77\",\"#83ff73\",\"#87ff70\",\"#8aff6d\",\"#8dff6a\",\"#90ff66\",\"#94ff63\",\"#97ff60\",\"#9aff5d\",\"#9dff5a\",\"#a0ff56\",\"#a4ff53\",\"#a7ff50\",\"#aaff4d\",\"#adff49\",\"#b1ff46\",\"#b4ff43\",\"#b7ff40\",\"#baff3c\",\"#beff39\",\"#c1ff36\",\"#c4ff33\",\"#c7ff30\",\"#caff2c\",\"#ceff29\",\"#d1ff26\",\"#d4ff23\",\"#d7ff1f\",\"#dbff1c\",\"#deff19\",\"#e1ff16\",\"#e4ff13\",\"#e7ff0f\",\"#ebff0c\",\"#eeff09\",\"#f1fc06\",\"#f4f802\",\"#f8f500\",\"#fbf100\",\"#feed00\",\"#ffea00\",\"#ffe600\",\"#ffe200\",\"#ffde00\",\"#ffdb00\",\"#ffd700\",\"#ffd300\",\"#ffd000\",\"#ffcc00\",\"#ffc800\",\"#ffc400\",\"#ffc100\",\"#ffbd00\",\"#ffb900\",\"#ffb600\",\"#ffb200\",\"#ffae00\",\"#ffab00\",\"#ffa700\",\"#ffa300\",\"#ff9f00\",\"#ff9c00\",\"#ff9800\",\"#ff9400\",\"#ff9100\",\"#ff8d00\",\"#ff8900\",\"#ff8600\",\"#ff8200\",\"#ff7e00\",\"#ff7a00\",\"#ff7700\",\"#ff7300\",\"#ff6f00\",\"#ff6c00\",\"#ff6800\",\"#ff6400\",\"#ff6000\",\"#ff5d00\",\"#ff5900\",\"#ff5500\",\"#ff5200\",\"#ff4e00\",\"#ff4a00\",\"#ff4700\",\"#ff4300\",\"#ff3f00\",\"#ff3b00\",\"#ff3800\",\"#ff3400\",\"#ff3000\",\"#ff2d00\",\"#ff2900\",\"#ff2500\",\"#ff2200\",\"#ff1e00\",\"#ff1a00\",\"#ff1600\",\"#ff1300\",\"#fa0f00\",\"#f60b00\",\"#f10800\",\"#ed0400\",\"#e80000\",\"#e40000\",\"#df0000\",\"#da0000\",\"#d60000\",\"#d10000\",\"#cd0000\",\"#c80000\",\"#c40000\",\"#bf0000\",\"#bb0000\",\"#b60000\",\"#b20000\",\"#ad0000\",\"#a80000\",\"#a40000\",\"#9f0000\",\"#9b0000\",\"#960000\",\"#920000\",\"#8d0000\",\"#890000\",\"#840000\",\"#800000\"]},\"id\":\"e75d9386-70ce-4e49-832b-7df66dc94845\",\"type\":\"LinearColorMapper\"},{\"attributes\":{\"fill_alpha\":{\"value\":0.1},\"fill_color\":{\"value\":\"#1f77b4\"},\"height\":{\"units\":\"data\",\"value\":1},\"line_alpha\":{\"value\":0.1},\"line_color\":{\"value\":\"#1f77b4\"},\"width\":{\"units\":\"data\",\"value\":1},\"x\":{\"field\":\"x\"},\"y\":{\"field\":\"y\"}},\"id\":\"d732e73e-aafc-4b6f-a5a1-ef1fce306a78\",\"type\":\"Rect\"},{\"attributes\":{},\"id\":\"7b29ad59-8c44-4df0-ae39-781a454c220c\",\"type\":\"CategoricalTickFormatter\"},{\"attributes\":{\"plot\":{\"id\":\"c271e823-3097-40a6-ac8f-2a81b2c7f5f8\",\"subtype\":\"Figure\",\"type\":\"Plot\"},\"ticker\":{\"id\":\"92ae85bc-d4e6-43b2-bcd5-1462867e87f0\",\"type\":\"CategoricalTicker\"}},\"id\":\"adb466ba-618f-4226-9345-75a61e5ddd90\",\"type\":\"Grid\"},{\"attributes\":{},\"id\":\"a892c1e5-ffcc-45d6-9577-41f45c18f0d9\",\"type\":\"BasicTicker\"},{\"attributes\":{},\"id\":\"f89f7e6e-34c9-41f4-b113-64a608322cde\",\"type\":\"BasicTickFormatter\"},{\"attributes\":{\"args\":{\"s2\":{\"id\":\"349802e2-2408-4d35-9d89-e48ad343413c\",\"type\":\"ColumnDataSource\"},\"s3\":{\"id\":\"c16d0241-048b-40f2-82e1-139998f2219c\",\"type\":\"ColumnDataSource\"},\"slider\":{\"id\":\"2abafebb-767f-4710-abf0-3b7736966462\",\"type\":\"Slider\"}},\"code\":\"\\n    //console.log(cb_data)\\n    var indices = cb_data.index['1d'].indices;\\n    // console.log(indices)\\n    if (indices.length > 0) {\\n        //console.log(indices[0])\\n        //console.log('here!!!')\\n        //var imgWidth = image.width || image.naturalWidth;\\n        //var imgHeight = image.height || image.naturalHeight;\\n        //var img = s3.data.image[indices[0]];\\n        var url = s3.data.url[indices[0]];\\n        //console.log(s3.data.image[0][0])\\n        //console.log(img)\\n\\n        //check if the slider value has changed. If it has, update the timestep of the image being displayed\\n        var value = slider.value\\n        var old_url = url\\n        //console.log(old_url)\\n\\n        if (old_url != []) {\\n            if (value === parseInt(value, 10)) {\\n                //console.log(value)\\n                //console.log(old_url)\\n                var split_url = old_url.split(\\\"=\\\");\\n                split_url[1] = split_url[1].replace(split_url[1][0], value);\\n                new_url = split_url[0]+\\\"=\\\"+split_url[1];\\n                url=new_url\\n            }\\n        }\\n\\n        var d2 = s2.data;\\n        d2['url'] = [url]\\n        d2['x'] = [0]\\n        d2['y'] = [0]\\n        d2['dw'] = [10]\\n        d2['dh'] = [10]\\n        \\n        s2.change.emit();\\n    }\\n    \"},\"id\":\"0f85ef74-22e9-4dd3-b31d-598c9e85437a\",\"type\":\"CustomJS\"},{\"attributes\":{\"callback\":null,\"factors\":[\"0\",\"1\",\"2\",\"3\",\"4\",\"5\",\"6\",\"7\",\"8\",\"9\"]},\"id\":\"da85bb29-6891-4d81-8175-f9bf00a77b3b\",\"type\":\"FactorRange\"},{\"attributes\":{\"color_mapper\":{\"id\":\"e75d9386-70ce-4e49-832b-7df66dc94845\",\"type\":\"LinearColorMapper\"},\"formatter\":{\"id\":\"20137fe0-9fde-4a73-874f-141ca112cff2\",\"type\":\"BasicTickFormatter\"},\"location\":[1,1],\"plot\":{\"id\":\"f936a64b-7c3a-4ca8-b4bc-c754476cc050\",\"subtype\":\"Figure\",\"type\":\"Plot\"},\"ticker\":{\"id\":\"4e1d266c-0ad3-4c5a-aa0e-c2c88ec810ca\",\"type\":\"BasicTicker\"}},\"id\":\"78cff6d6-320e-407c-9166-db853df2b66a\",\"type\":\"ColorBar\"},{\"attributes\":{\"active_drag\":\"auto\",\"active_inspect\":\"auto\",\"active_scroll\":\"auto\",\"active_tap\":\"auto\",\"tools\":[{\"id\":\"a40a4193-45e7-4ef6-bfb3-40599298df18\",\"type\":\"PanTool\"},{\"id\":\"bc720ead-2a91-4cde-9ca4-ae957f9e8cb9\",\"type\":\"WheelZoomTool\"},{\"id\":\"04917d9d-4c54-4332-baf1-f896443ad85d\",\"type\":\"BoxZoomTool\"},{\"id\":\"dec9d494-f992-4fc4-b244-f5111aef1fa8\",\"type\":\"SaveTool\"},{\"id\":\"4896d0fa-f0d6-4a50-92ce-47df2be9e892\",\"type\":\"ResetTool\"},{\"id\":\"33cd93d1-8b48-422a-91b9-0f3024e96dd2\",\"type\":\"HelpTool\"}]},\"id\":\"2b73b718-c2d0-4d40-a1f8-70950d1c87ab\",\"type\":\"Toolbar\"},{\"attributes\":{\"dimension\":1,\"plot\":{\"id\":\"f936a64b-7c3a-4ca8-b4bc-c754476cc050\",\"subtype\":\"Figure\",\"type\":\"Plot\"},\"ticker\":{\"id\":\"a892c1e5-ffcc-45d6-9577-41f45c18f0d9\",\"type\":\"BasicTicker\"}},\"id\":\"08385183-dc16-48b9-8b8e-74d58b0a3460\",\"type\":\"Grid\"},{\"attributes\":{\"below\":[{\"id\":\"f5b2c2d0-c6f9-42a8-abb6-86268303f321\",\"type\":\"LinearAxis\"}],\"left\":[{\"id\":\"585fda73-d9e8-4cef-9a78-8245eb9e7577\",\"type\":\"LinearAxis\"}],\"min_border\":0,\"outline_line_color\":{\"value\":null},\"plot_height\":611,\"plot_width\":140,\"renderers\":[{\"id\":\"f5b2c2d0-c6f9-42a8-abb6-86268303f321\",\"type\":\"LinearAxis\"},{\"id\":\"dfa381bb-8015-4da2-95b4-dde73253413c\",\"type\":\"Grid\"},{\"id\":\"585fda73-d9e8-4cef-9a78-8245eb9e7577\",\"type\":\"LinearAxis\"},{\"id\":\"08385183-dc16-48b9-8b8e-74d58b0a3460\",\"type\":\"Grid\"},{\"id\":\"1e2bd15d-5345-4e1d-b43d-70d4a48e7142\",\"type\":\"BoxAnnotation\"},{\"id\":\"78cff6d6-320e-407c-9166-db853df2b66a\",\"type\":\"ColorBar\"}],\"right\":[{\"id\":\"78cff6d6-320e-407c-9166-db853df2b66a\",\"type\":\"ColorBar\"}],\"title\":{\"id\":\"3290fba8-94e4-4936-a9cf-96cbb2c0c922\",\"type\":\"Title\"},\"title_location\":\"right\",\"toolbar\":{\"id\":\"2b73b718-c2d0-4d40-a1f8-70950d1c87ab\",\"type\":\"Toolbar\"},\"toolbar_location\":null,\"x_range\":{\"id\":\"480c379d-5468-4904-b9bb-507de4fc8e04\",\"type\":\"DataRange1d\"},\"x_scale\":{\"id\":\"f24460b9-6a10-4be1-968c-9f3f1de42178\",\"type\":\"LinearScale\"},\"y_range\":{\"id\":\"24398ad2-6376-4ae4-b1b3-1d49b72780df\",\"type\":\"DataRange1d\"},\"y_scale\":{\"id\":\"af29d8f5-7998-4e1c-887c-eef925982d2c\",\"type\":\"LinearScale\"}},\"id\":\"f936a64b-7c3a-4ca8-b4bc-c754476cc050\",\"subtype\":\"Figure\",\"type\":\"Plot\"},{\"attributes\":{},\"id\":\"2a6d9a2d-48f2-49e6-9fe4-da57740f9c94\",\"type\":\"CategoricalScale\"},{\"attributes\":{\"dimension\":1,\"plot\":{\"id\":\"c271e823-3097-40a6-ac8f-2a81b2c7f5f8\",\"subtype\":\"Figure\",\"type\":\"Plot\"},\"ticker\":{\"id\":\"85387453-4db3-4a8e-b2a8-dce46e381005\",\"type\":\"CategoricalTicker\"}},\"id\":\"c4a3cfc3-d4a3-43b4-a0b5-fcd4d6233de9\",\"type\":\"Grid\"},{\"attributes\":{\"overlay\":{\"id\":\"1e2bd15d-5345-4e1d-b43d-70d4a48e7142\",\"type\":\"BoxAnnotation\"}},\"id\":\"04917d9d-4c54-4332-baf1-f896443ad85d\",\"type\":\"BoxZoomTool\"},{\"attributes\":{\"bottom_units\":\"screen\",\"fill_alpha\":{\"value\":0.5},\"fill_color\":{\"value\":\"lightgrey\"},\"left_units\":\"screen\",\"level\":\"overlay\",\"line_alpha\":{\"value\":1.0},\"line_color\":{\"value\":\"black\"},\"line_dash\":[4,4],\"line_width\":{\"value\":2},\"plot\":null,\"render_mode\":\"css\",\"right_units\":\"screen\",\"top_units\":\"screen\"},\"id\":\"1e2bd15d-5345-4e1d-b43d-70d4a48e7142\",\"type\":\"BoxAnnotation\"},{\"attributes\":{},\"id\":\"60e856f8-554d-4fa6-88e0-0be9e65d9437\",\"type\":\"ZoomInTool\"},{\"attributes\":{},\"id\":\"bc720ead-2a91-4cde-9ca4-ae957f9e8cb9\",\"type\":\"WheelZoomTool\"},{\"attributes\":{\"bar_color\":\"grey\",\"callback\":null,\"callback_policy\":\"continuous\",\"end\":7,\"height\":200,\"js_property_callbacks\":{\"change:value\":[{\"id\":\"a06847a2-f9c7-4c4d-a2e5-3448cb998bef\",\"type\":\"CustomJS\"}]},\"orientation\":\"vertical\",\"start\":1,\"title\":\"Time step\",\"value\":7},\"id\":\"2abafebb-767f-4710-abf0-3b7736966462\",\"type\":\"Slider\"},{\"attributes\":{\"plot\":{\"id\":\"3a2a6bfb-4700-4dbd-a589-ee4fdecf325e\",\"subtype\":\"Figure\",\"type\":\"Plot\"},\"ticker\":{\"id\":\"3d4940ca-bfec-489a-81d3-0793f6949c77\",\"type\":\"CategoricalTicker\"}},\"id\":\"c62fcbce-384b-4861-b443-765fe78da494\",\"type\":\"Grid\"},{\"attributes\":{},\"id\":\"3d4940ca-bfec-489a-81d3-0793f6949c77\",\"type\":\"CategoricalTicker\"},{\"attributes\":{},\"id\":\"b4b63559-1bb1-4c2a-8e34-e318ff8ce96f\",\"type\":\"CategoricalTickFormatter\"},{\"attributes\":{\"formatter\":{\"id\":\"540cf0e7-f2e6-4b6e-b1ee-08ba4583fdb5\",\"type\":\"CategoricalTickFormatter\"},\"major_label_text_font_size\":{\"value\":\"0pt\"},\"major_tick_line_color\":{\"value\":null},\"plot\":{\"id\":\"3a2a6bfb-4700-4dbd-a589-ee4fdecf325e\",\"subtype\":\"Figure\",\"type\":\"Plot\"},\"ticker\":{\"id\":\"3d4940ca-bfec-489a-81d3-0793f6949c77\",\"type\":\"CategoricalTicker\"}},\"id\":\"b62b2608-d85e-422a-a861-a20f7e9e6603\",\"type\":\"CategoricalAxis\"},{\"attributes\":{\"plot\":{\"id\":\"f936a64b-7c3a-4ca8-b4bc-c754476cc050\",\"subtype\":\"Figure\",\"type\":\"Plot\"},\"ticker\":{\"id\":\"fe288584-2827-4000-8703-2719ba17fac2\",\"type\":\"BasicTicker\"}},\"id\":\"dfa381bb-8015-4da2-95b4-dde73253413c\",\"type\":\"Grid\"},{\"attributes\":{},\"id\":\"540cf0e7-f2e6-4b6e-b1ee-08ba4583fdb5\",\"type\":\"CategoricalTickFormatter\"},{\"attributes\":{},\"id\":\"92ae85bc-d4e6-43b2-bcd5-1462867e87f0\",\"type\":\"CategoricalTicker\"},{\"attributes\":{},\"id\":\"4e1d266c-0ad3-4c5a-aa0e-c2c88ec810ca\",\"type\":\"BasicTicker\"},{\"attributes\":{},\"id\":\"85387453-4db3-4a8e-b2a8-dce46e381005\",\"type\":\"CategoricalTicker\"},{\"attributes\":{\"data_source\":{\"id\":\"349802e2-2408-4d35-9d89-e48ad343413c\",\"type\":\"ColumnDataSource\"},\"glyph\":{\"id\":\"35a809b1-5418-41bc-92f4-630f60782b22\",\"type\":\"ImageURL\"},\"hover_glyph\":null,\"muted_glyph\":null,\"nonselection_glyph\":{\"id\":\"99c1c030-603b-48a6-92fb-2d91d6ee4938\",\"type\":\"ImageURL\"},\"selection_glyph\":null,\"view\":{\"id\":\"4be8592b-ff3d-4db8-a45e-239fd486c674\",\"type\":\"CDSView\"}},\"id\":\"d5f7b9ed-50cf-4e4b-9548-2666417b27a7\",\"type\":\"GlyphRenderer\"},{\"attributes\":{\"source\":{\"id\":\"349802e2-2408-4d35-9d89-e48ad343413c\",\"type\":\"ColumnDataSource\"}},\"id\":\"4be8592b-ff3d-4db8-a45e-239fd486c674\",\"type\":\"CDSView\"},{\"attributes\":{},\"id\":\"f24460b9-6a10-4be1-968c-9f3f1de42178\",\"type\":\"LinearScale\"},{\"attributes\":{},\"id\":\"dec9d494-f992-4fc4-b244-f5111aef1fa8\",\"type\":\"SaveTool\"},{\"attributes\":{},\"id\":\"7bc8237e-3631-416c-a3e1-e16a1749acfd\",\"type\":\"CategoricalTicker\"},{\"attributes\":{\"callback\":null,\"column_names\":[\"dw\",\"dh\",\"url\",\"x\",\"y\"],\"data\":{\"dh\":[],\"dw\":[],\"url\":[],\"x\":[],\"y\":[]}},\"id\":\"349802e2-2408-4d35-9d89-e48ad343413c\",\"type\":\"ColumnDataSource\"},{\"attributes\":{\"active_drag\":\"auto\",\"active_inspect\":\"auto\",\"active_scroll\":\"auto\",\"active_tap\":\"auto\",\"tools\":[{\"id\":\"fbe9f1e8-c9da-4383-9a1a-4bc79ded932b\",\"type\":\"HoverTool\"}]},\"id\":\"46347a03-db4c-45d1-a5ab-243145a835ee\",\"type\":\"Toolbar\"},{\"attributes\":{\"callback\":null,\"column_names\":[\"num_filters\",\"y\",\"log_reg_factor\",\"z_value\",\"url\",\"x\",\"color\",\"results_path\",\"index\",\"final_val_cost\"],\"data\":{\"color\":[\"#4dffaa\",\"#00a4ff\",\"#56ffa0\",\"#0014ff\",\"#7dff7a\",\"#000089\",\"#adff49\",\"#000080\",\"#adff49\",\"#0000e3\",\"#ffa300\",\"#004cff\",\"#ffe600\",\"#26ffd1\",\"#800000\",\"#9b0000\"],\"final_val_cost\":{\"__ndarray__\":\"H4Xr2V2z3z9xPQonl5PeP83MzLQ5yt8/XI/CXWyO3T/sUbiCrA/gP4/C9XSUk9w/FK5HPxFG4D+amZl1KIHcP9ejcLmhReA/MzMzAyoj3T/D9Si4DOjgP/YoXJdI8d0/exSuZ3+n4D+PwvWov1/fP4/C9TDc2+E/w/UopBDG4T8=\",\"dtype\":\"float64\",\"shape\":[16]},\"index\":[1,4,2,12,9,14,7,13,5,15,6,3,10,11,8,0],\"log_reg_factor\":{\"__ndarray__\":\"AAAAAAAA8P8AAAAAAADw/wAAAAAAABzAAAAAAAAAHMAAAAAAAAAawAAAAAAAABrAAAAAAAAAGcAAAAAAAAAZwAAAAAAAABjAAAAAAAAAGMAAAAAAAAAXwAAAAAAAABfAAAAAAAAAFsAAAAAAAAAWwAAAAAAAABTAAAAAAAAAFMA=\",\"dtype\":\"float64\",\"shape\":[16]},\"num_filters\":[400,1600,400,1600,400,1600,400,1600,400,1600,400,1600,400,1600,400,1600],\"results_path\":[\"/home/yossi//Dropbox/visualRFNN/Datasets_new/visual/Dataset_python_olshausen_160x100x50_no_writing/nnResults/num_filters_400_reg_factor_0/python_network.pkl\",\"/home/yossi//Dropbox/visualRFNN/Datasets_new/visual/Dataset_python_olshausen_160x100x50_no_writing/nnResults/num_filters_1600_reg_factor_0/python_network.pkl\",\"/home/yossi//Dropbox/visualRFNN/Datasets_new/visual/Dataset_python_olshausen_160x100x50_no_writing/nnResults/num_filters_400_reg_factor_1e-07_t_filter_length_7/python_network.pkl\",\"/home/yossi//Dropbox/visualRFNN/Datasets_new/visual/Dataset_python_olshausen_160x100x50_no_writing/nnResults/num_filters_1600_reg_factor_1e-07_t_filter_length_7/python_network.pkl\",\"/home/yossi//Dropbox/visualRFNN/Datasets_new/visual/Dataset_python_olshausen_160x100x50_no_writing/nnResults/num_filters_400_reg_factor_3.162e-07_t_filter_length_7/python_network.pkl\",\"/home/yossi//Dropbox/visualRFNN/Datasets_new/visual/Dataset_python_olshausen_160x100x50_no_writing/nnResults/num_filters_1600_reg_factor_3.162e-07_t_filter_length_7/python_network.pkl\",\"/home/yossi//Dropbox/visualRFNN/Datasets_new/visual/Dataset_python_olshausen_160x100x50_no_writing/nnResults/num_filters_400_reg_factor_5.623e-07_t_filter_length_7/python_network.pkl\",\"/home/yossi//Dropbox/visualRFNN/Datasets_new/visual/Dataset_python_olshausen_160x100x50_no_writing/nnResults/num_filters_1600_reg_factor_5.623e-07_t_filter_length_7/python_network.pkl\",\"/home/yossi//Dropbox/visualRFNN/Datasets_new/visual/Dataset_python_olshausen_160x100x50_no_writing/nnResults/num_filters_400_reg_factor_1e-06_t_filter_length_7/python_network.pkl\",\"/home/yossi//Dropbox/visualRFNN/Datasets_new/visual/Dataset_python_olshausen_160x100x50_no_writing/nnResults/num_filters_1600_reg_factor_1e-06_t_filter_length_7/python_network.pkl\",\"/home/yossi//Dropbox/visualRFNN/Datasets_new/visual/Dataset_python_olshausen_160x100x50_no_writing/nnResults/num_filters_400_reg_factor_1.7783e-06_t_filter_length_7/python_network.pkl\",\"/home/yossi//Dropbox/visualRFNN/Datasets_new/visual/Dataset_python_olshausen_160x100x50_no_writing/nnResults/num_filters_1600_reg_factor_1.7783e-06_t_filter_length_7/python_network.pkl\",\"/home/yossi//Dropbox/visualRFNN/Datasets_new/visual/Dataset_python_olshausen_160x100x50_no_writing/nnResults/num_filters_400_reg_factor_3.1623e-06_t_filter_length_7/python_network.pkl\",\"/home/yossi//Dropbox/visualRFNN/Datasets_new/visual/Dataset_python_olshausen_160x100x50_no_writing/nnResults/num_filters_1600_reg_factor_3.1623e-06_t_filter_length_7/python_network.pkl\",\"/home/yossi//Dropbox/visualRFNN/Datasets_new/visual/Dataset_python_olshausen_160x100x50_no_writing/nnResults/num_filters_400_reg_factor_1e-05_t_filter_length_7/python_network.pkl\",\"/home/yossi//Dropbox/visualRFNN/Datasets_new/visual/Dataset_python_olshausen_160x100x50_no_writing/nnResults/num_filters_1600_reg_factor_1e-05_t_filter_length_7/python_network.pkl\"],\"url\":[\"visual_images_no_noise/t_step=7/weight_img_1.jpeg\",\"visual_images_no_noise/t_step=7/weight_img_4.jpeg\",\"visual_images_no_noise/t_step=7/weight_img_2.jpeg\",\"visual_images_no_noise/t_step=7/weight_img_12.jpeg\",\"visual_images_no_noise/t_step=7/weight_img_9.jpeg\",\"visual_images_no_noise/t_step=7/weight_img_14.jpeg\",\"visual_images_no_noise/t_step=7/weight_img_7.jpeg\",\"visual_images_no_noise/t_step=7/weight_img_13.jpeg\",\"visual_images_no_noise/t_step=7/weight_img_5.jpeg\",\"visual_images_no_noise/t_step=7/weight_img_15.jpeg\",\"visual_images_no_noise/t_step=7/weight_img_6.jpeg\",\"visual_images_no_noise/t_step=7/weight_img_3.jpeg\",\"visual_images_no_noise/t_step=7/weight_img_10.jpeg\",\"visual_images_no_noise/t_step=7/weight_img_11.jpeg\",\"visual_images_no_noise/t_step=7/weight_img_8.jpeg\",\"visual_images_no_noise/t_step=7/weight_img_0.jpeg\"],\"x\":[\"-inf\",\"-inf\",\"-7.0\",\"-7.0\",\"-6.5\",\"-6.5\",\"-6.25\",\"-6.25\",\"-6.0\",\"-6.0\",\"-5.75\",\"-5.75\",\"-5.5\",\"-5.5\",\"-5.0\",\"-5.0\"],\"y\":[\"400\",\"1600\",\"400\",\"1600\",\"400\",\"1600\",\"400\",\"1600\",\"400\",\"1600\",\"400\",\"1600\",\"400\",\"1600\",\"400\",\"1600\"],\"z_value\":{\"__ndarray__\":\"H4Xr2V2z3z9xPQonl5PeP83MzLQ5yt8/XI/CXWyO3T/sUbiCrA/gP4/C9XSUk9w/FK5HPxFG4D+amZl1KIHcP9ejcLmhReA/MzMzAyoj3T/D9Si4DOjgP/YoXJdI8d0/exSuZ3+n4D+PwvWov1/fP4/C9TDc2+E/w/UopBDG4T8=\",\"dtype\":\"float64\",\"shape\":[16]}}},\"id\":\"c16d0241-048b-40f2-82e1-139998f2219c\",\"type\":\"ColumnDataSource\"}],\"root_ids\":[\"9b93df16-570c-4bae-9e4a-f1e4331b1ce4\"]},\"title\":\"Bokeh Application\",\"version\":\"0.12.13\"}};\n",
       "  var render_items = [{\"docid\":\"7d84197f-2452-497b-b772-62bb5c3bf120\",\"elementid\":\"79108037-881e-4e80-945f-6c19835ad927\",\"modelid\":\"9b93df16-570c-4bae-9e4a-f1e4331b1ce4\"}];\n",
       "  root.Bokeh.embed.embed_items_notebook(docs_json, render_items);\n",
       "\n",
       "  }\n",
       "  if (root.Bokeh !== undefined) {\n",
       "    embed_document(root);\n",
       "  } else {\n",
       "    var attempts = 0;\n",
       "    var timer = setInterval(function(root) {\n",
       "      if (root.Bokeh !== undefined) {\n",
       "        embed_document(root);\n",
       "        clearInterval(timer);\n",
       "      }\n",
       "      attempts++;\n",
       "      if (attempts > 100) {\n",
       "        console.log(\"Bokeh: ERROR: Unable to run BokehJS code because BokehJS library is missing\")\n",
       "        clearInterval(timer);\n",
       "      }\n",
       "    }, 10, root)\n",
       "  }\n",
       "})(window);"
      ],
      "application/vnd.bokehjs_exec.v0+json": ""
     },
     "metadata": {
      "application/vnd.bokehjs_exec.v0+json": {
       "id": "9b93df16-570c-4bae-9e4a-f1e4331b1ce4"
      }
     },
     "output_type": "display_data"
    }
   ],
   "source": [
    "%%capture --no-display\n",
    "iplot.plot_linked_heatmap_weights(no_noise_url_pd)#, save_path='/home/yossi/yossi_local/github/temporal_prediction_model/Figures/visual_results_no_noise.html')"
   ]
  },
  {
   "cell_type": "markdown",
   "metadata": {},
   "source": [
    "### Figure 1-Figure supplement 2  | Interactive figure exploring the relationship between the strength of  L1 regularisation on the network weights and the structure of the RFs  the network produces. \n",
    "\n",
    "The left panel shows the performance of the newtwork with the hyperparameter settings specified on the x and y axes. The x axis signifies the strength of L1 reguilarisation placed on the weights of the network during training. The y axis signifies the number of hidden units in the network. Performance of model as a function of number of hidden units andregularization on the weights as measured by a, reconstruction error on validation set at the end of training.\n",
    "\n",
    "Hover over a point in the left panel to show the corresponding spatial receptive fields of the network in the right panel. Using the settings above the right hand panel, zoom, pan and reset the image to explore the shapes of the spatial receptive fields. Change the slider on the upper left to change the time-step of the spatial receptive fields being shown in the right hand panel."
   ]
  },
  {
   "cell_type": "code",
   "execution_count": 9,
   "metadata": {
    "scrolled": true
   },
   "outputs": [],
   "source": [
    "res_folder_path = '/home/yossi//Dropbox/visualRFNN/Datasets_new/visual/Dataset_python_olshausen_160x100x50_no_writing/nnResults_with_noise/'\n",
    "res_pd = rdh.compile_results_pd(res_folder_path)\n",
    "# res_pd.sort_values('final_val_cost')"
   ]
  },
  {
   "cell_type": "code",
   "execution_count": 10,
   "metadata": {},
   "outputs": [],
   "source": [
    "# root_save_dir ='/home/yossi/Dropbox/visualRFNN/interactive_figures/visual/no_writing/'\n",
    "this_save_dir = 'visual_images_with_noise/'\n",
    "root_dir='/home/yossi/yossi_local/github/temporal_prediction_model/Figures/'\n",
    "with_noise_url_pd = iplot.get_urls_for_visual_df_data(res_pd, 'log_reg_factor', 'num_filters', 'final_val_cost', server_address='', root_dir=root_dir, this_save_dir=this_save_dir, verbose=False)"
   ]
  },
  {
   "cell_type": "code",
   "execution_count": 11,
   "metadata": {
    "scrolled": false
   },
   "outputs": [
    {
     "data": {
      "text/html": [
       "\n",
       "<div class=\"bk-root\">\n",
       "    <div class=\"bk-plotdiv\" id=\"28da3d2e-41d1-404d-907e-0a1b5f14a3b4\"></div>\n",
       "</div>"
      ]
     },
     "metadata": {},
     "output_type": "display_data"
    },
    {
     "data": {
      "application/javascript": [
       "(function(root) {\n",
       "  function embed_document(root) {\n",
       "    \n",
       "  var docs_json = {\"d21658a0-3aca-48b7-b683-99a40be28ead\":{\"roots\":{\"references\":[{\"attributes\":{\"active_drag\":\"auto\",\"active_inspect\":\"auto\",\"active_scroll\":\"auto\",\"active_tap\":\"auto\",\"tools\":[{\"id\":\"e0954552-3337-4596-a4aa-ce6222b54e6e\",\"type\":\"PanTool\"},{\"id\":\"9cbf6564-3373-4ee0-93e8-7245a968e083\",\"type\":\"WheelZoomTool\"},{\"id\":\"f38467af-be7e-4422-809e-b73b74c1dc02\",\"type\":\"BoxZoomTool\"},{\"id\":\"6ecabb72-c6b6-4728-ba22-7df6d64011c0\",\"type\":\"SaveTool\"},{\"id\":\"20dfa877-8116-4e0f-ac35-0fbcde06ce23\",\"type\":\"ResetTool\"},{\"id\":\"2c03df64-9615-42d6-9b65-c4ba0d5ea3b7\",\"type\":\"HelpTool\"}]},\"id\":\"23ad8e66-07ba-459f-b112-bafaba90a6f4\",\"type\":\"Toolbar\"},{\"attributes\":{\"below\":[{\"id\":\"52be3732-b9a7-445d-b642-0bdd651d9326\",\"type\":\"CategoricalAxis\"}],\"left\":[{\"id\":\"8f13f7ab-172d-44b9-a863-af5cec65940d\",\"type\":\"CategoricalAxis\"}],\"renderers\":[{\"id\":\"52be3732-b9a7-445d-b642-0bdd651d9326\",\"type\":\"CategoricalAxis\"},{\"id\":\"21006f38-8075-4df1-98bc-53cf1a9c0b15\",\"type\":\"Grid\"},{\"id\":\"8f13f7ab-172d-44b9-a863-af5cec65940d\",\"type\":\"CategoricalAxis\"},{\"id\":\"6f1dfa00-87c8-4abf-b527-95b77089e7a0\",\"type\":\"Grid\"},{\"id\":\"054f85e8-2b9c-4cdb-9ecb-9acd36e61340\",\"type\":\"GlyphRenderer\"}],\"title\":{\"id\":\"8ff1a1a0-4675-4b9e-80df-dd58fe70099d\",\"type\":\"Title\"},\"toolbar\":{\"id\":\"574c131c-14ca-49ed-9da5-be695277bc50\",\"type\":\"Toolbar\"},\"toolbar_location\":\"above\",\"x_range\":{\"id\":\"c800aedb-2b53-43b3-87e1-52a7bd1176b4\",\"type\":\"FactorRange\"},\"x_scale\":{\"id\":\"563adb8b-0bac-4603-9465-1f0b06e881b0\",\"type\":\"CategoricalScale\"},\"y_range\":{\"id\":\"59479862-5c08-44ad-a136-ef04235bc80e\",\"type\":\"FactorRange\"},\"y_scale\":{\"id\":\"26b605ae-6f1f-47c4-87bf-cdb091e00655\",\"type\":\"CategoricalScale\"}},\"id\":\"5527fad4-7b3b-4426-ad05-86a496024fff\",\"subtype\":\"Figure\",\"type\":\"Plot\"},{\"attributes\":{\"below\":[{\"id\":\"bc1924b7-b300-441b-9328-38c2aa773b54\",\"type\":\"CategoricalAxis\"}],\"left\":[{\"id\":\"2e475268-0daa-437d-8be5-228f5af8b365\",\"type\":\"CategoricalAxis\"}],\"min_border_left\":40,\"renderers\":[{\"id\":\"bc1924b7-b300-441b-9328-38c2aa773b54\",\"type\":\"CategoricalAxis\"},{\"id\":\"4f34c6ea-8aba-4a7b-82af-1f0ee182ee18\",\"type\":\"Grid\"},{\"id\":\"2e475268-0daa-437d-8be5-228f5af8b365\",\"type\":\"CategoricalAxis\"},{\"id\":\"61a220da-9c1f-411f-b765-2433ea25320a\",\"type\":\"Grid\"},{\"id\":\"ff136d22-766f-4268-a148-d3ad691b885f\",\"type\":\"GlyphRenderer\"}],\"title\":{\"id\":\"79026763-d3ad-4d59-956c-a72ac2dfc9f4\",\"type\":\"Title\"},\"toolbar\":{\"id\":\"629a7c41-1286-490a-9794-52d749c9ece9\",\"type\":\"Toolbar\"},\"x_range\":{\"id\":\"58ef64ff-b8f2-41fe-a0f0-c33667374e51\",\"type\":\"FactorRange\"},\"x_scale\":{\"id\":\"4e61820b-8864-4d93-8f18-042e0b5fbff6\",\"type\":\"CategoricalScale\"},\"y_range\":{\"id\":\"0e9bc877-f3dd-4e97-91c6-357ea4479512\",\"type\":\"FactorRange\"},\"y_scale\":{\"id\":\"45206d9d-a31a-48ff-b0e0-41c64270e8bf\",\"type\":\"CategoricalScale\"}},\"id\":\"f315e4b4-3afe-4fdb-b129-e9d520e26105\",\"subtype\":\"Figure\",\"type\":\"Plot\"},{\"attributes\":{},\"id\":\"75847ff1-797d-4f7d-9f60-c765ca271797\",\"type\":\"CategoricalTicker\"},{\"attributes\":{\"callback\":{\"id\":\"fd64a587-6170-456c-9d4e-2c983d88fda1\",\"type\":\"CustomJS\"},\"tooltips\":null},\"id\":\"b3ad5e65-6d21-47cd-ae0e-629b143fdcc7\",\"type\":\"HoverTool\"},{\"attributes\":{\"callback\":null,\"column_names\":[\"num_filters\",\"y\",\"log_reg_factor\",\"z_value\",\"url\",\"x\",\"color\",\"results_path\",\"index\",\"final_val_cost\"],\"data\":{\"color\":[\"#ff5200\",\"#ff8600\",\"#dbff1c\",\"#00e4f8\",\"#deff19\",\"#0060ff\",\"#ffe600\",\"#0000f1\",\"#ff6f00\",\"#000080\",\"#ff2900\",\"#000089\",\"#c80000\",\"#0044ff\",\"#800000\",\"#77ff80\"],\"final_val_cost\":{\"__ndarray__\":\"CtejqIw46z8pXI+ithvrP83MzIzPy+o/16Nw3fA+6j8Urkf5MczqP1K4HqU+/Ok/KVyPGkHm6j9mZmYm37rpP5qZmZEnJ+s/AAAAsIeH6T9SuB6NXU3rP83MzJRljOk/9ihcPz1y6z/hehTmFe7pP6RwPXIDles/hetRyPCK6j8=\",\"dtype\":\"float64\",\"shape\":[16]},\"index\":[3,5,2,12,15,10,9,4,14,7,8,13,0,11,6,1],\"log_reg_factor\":{\"__ndarray__\":\"AAAAAAAA8P8AAAAAAADw/wAAAAAAABzAAAAAAAAAHMAAAAAAAAAbwAAAAAAAABvAAAAAAAAAGsAAAAAAAAAawAAAAAAAABnAAAAAAAAAGcAAAAAAAAAYwAAAAAAAABjAAAAAAAAAF8AAAAAAAAAXwAAAAAAAABbAAAAAAAAAFsA=\",\"dtype\":\"float64\",\"shape\":[16]},\"num_filters\":[400,1600,400,1600,400,1600,400,1600,400,1600,400,1600,400,1600,400,1600],\"results_path\":[\"/home/yossi//Dropbox/visualRFNN/Datasets_new/visual/Dataset_python_olshausen_160x100x50_no_writing/nnResults_with_noise/num_filters_400_reg_factor_0/python_network.pkl\",\"/home/yossi//Dropbox/visualRFNN/Datasets_new/visual/Dataset_python_olshausen_160x100x50_no_writing/nnResults_with_noise/num_filters_1600_reg_factor_0/python_network.pkl\",\"/home/yossi//Dropbox/visualRFNN/Datasets_new/visual/Dataset_python_olshausen_160x100x50_no_writing/nnResults_with_noise/num_filters_400_reg_factor_1e-07_noise_ratio_0.5/python_network.pkl\",\"/home/yossi//Dropbox/visualRFNN/Datasets_new/visual/Dataset_python_olshausen_160x100x50_no_writing/nnResults_with_noise/num_filters_1600_reg_factor_1e-07_noise_ratio_0.5/python_network.pkl\",\"/home/yossi//Dropbox/visualRFNN/Datasets_new/visual/Dataset_python_olshausen_160x100x50_no_writing/nnResults_with_noise/num_filters_400_reg_factor_1.778e-07_noise_ratio_0.5/python_network.pkl\",\"/home/yossi//Dropbox/visualRFNN/Datasets_new/visual/Dataset_python_olshausen_160x100x50_no_writing/nnResults_with_noise/num_filters_1600_reg_factor_1.778e-07_noise_ratio_0.5/python_network.pkl\",\"/home/yossi//Dropbox/visualRFNN/Datasets_new/visual/Dataset_python_olshausen_160x100x50_no_writing/nnResults_with_noise/num_filters_400_reg_factor_3.162e-07_noise_ratio_0.5/python_network.pkl\",\"/home/yossi//Dropbox/visualRFNN/Datasets_new/visual/Dataset_python_olshausen_160x100x50_no_writing/nnResults_with_noise/num_filters_1600_reg_factor_3.162e-07_noise_ratio_0.5/python_network.pkl\",\"/home/yossi//Dropbox/visualRFNN/Datasets_new/visual/Dataset_python_olshausen_160x100x50_no_writing/nnResults_with_noise/num_filters_400_reg_factor_5.623e-07_noise_ratio_0.5/python_network.pkl\",\"/home/yossi//Dropbox/visualRFNN/Datasets_new/visual/Dataset_python_olshausen_160x100x50_no_writing/nnResults_with_noise/num_filters_1600_reg_factor_5.623e-07_noise_ratio_0.5/python_network.pkl\",\"/home/yossi//Dropbox/visualRFNN/Datasets_new/visual/Dataset_python_olshausen_160x100x50_no_writing/nnResults_with_noise/num_filters_400_reg_factor_1e-06_noise_ratio_0.5/python_network.pkl\",\"/home/yossi//Dropbox/visualRFNN/Datasets_new/visual/Dataset_python_olshausen_160x100x50_no_writing/nnResults_with_noise/num_filters_1600_reg_factor_1e-06_noise_ratio_0.5/python_network.pkl\",\"/home/yossi//Dropbox/visualRFNN/Datasets_new/visual/Dataset_python_olshausen_160x100x50_no_writing/nnResults_with_noise/num_filters_400_reg_factor_1.7783e-06_noise_ratio_0.5/python_network.pkl\",\"/home/yossi//Dropbox/visualRFNN/Datasets_new/visual/Dataset_python_olshausen_160x100x50_no_writing/nnResults_with_noise/num_filters_1600_reg_factor_1.7783e-06_noise_ratio_0.5/python_network.pkl\",\"/home/yossi//Dropbox/visualRFNN/Datasets_new/visual/Dataset_python_olshausen_160x100x50_no_writing/nnResults_with_noise/num_filters_400_reg_factor_3.1623e-06_noise_ratio_0.5/python_network.pkl\",\"/home/yossi//Dropbox/visualRFNN/Datasets_new/visual/Dataset_python_olshausen_160x100x50_no_writing/nnResults_with_noise/num_filters_1600_reg_factor_3.1623e-06_noise_ratio_0.5/python_network.pkl\"],\"url\":[\"visual_images_with_noise/t_step=7/weight_img_3.jpeg\",\"visual_images_with_noise/t_step=7/weight_img_5.jpeg\",\"visual_images_with_noise/t_step=7/weight_img_2.jpeg\",\"visual_images_with_noise/t_step=7/weight_img_12.jpeg\",\"visual_images_with_noise/t_step=7/weight_img_15.jpeg\",\"visual_images_with_noise/t_step=7/weight_img_10.jpeg\",\"visual_images_with_noise/t_step=7/weight_img_9.jpeg\",\"visual_images_with_noise/t_step=7/weight_img_4.jpeg\",\"visual_images_with_noise/t_step=7/weight_img_14.jpeg\",\"visual_images_with_noise/t_step=7/weight_img_7.jpeg\",\"visual_images_with_noise/t_step=7/weight_img_8.jpeg\",\"visual_images_with_noise/t_step=7/weight_img_13.jpeg\",\"visual_images_with_noise/t_step=7/weight_img_0.jpeg\",\"visual_images_with_noise/t_step=7/weight_img_11.jpeg\",\"visual_images_with_noise/t_step=7/weight_img_6.jpeg\",\"visual_images_with_noise/t_step=7/weight_img_1.jpeg\"],\"x\":[\"-inf\",\"-inf\",\"-7.0\",\"-7.0\",\"-6.75\",\"-6.75\",\"-6.5\",\"-6.5\",\"-6.25\",\"-6.25\",\"-6.0\",\"-6.0\",\"-5.75\",\"-5.75\",\"-5.5\",\"-5.5\"],\"y\":[\"400\",\"1600\",\"400\",\"1600\",\"400\",\"1600\",\"400\",\"1600\",\"400\",\"1600\",\"400\",\"1600\",\"400\",\"1600\",\"400\",\"1600\"],\"z_value\":{\"__ndarray__\":\"CtejqIw46z8pXI+ithvrP83MzIzPy+o/16Nw3fA+6j8Urkf5MczqP1K4HqU+/Ok/KVyPGkHm6j9mZmYm37rpP5qZmZEnJ+s/AAAAsIeH6T9SuB6NXU3rP83MzJRljOk/9ihcPz1y6z/hehTmFe7pP6RwPXIDles/hetRyPCK6j8=\",\"dtype\":\"float64\",\"shape\":[16]}}},\"id\":\"88f33730-d44f-4004-beb5-32ae37cd6d33\",\"type\":\"ColumnDataSource\"},{\"attributes\":{},\"id\":\"cc61a486-90cb-42a2-a35d-3dbd7e7c6ec0\",\"type\":\"ZoomInTool\"},{\"attributes\":{},\"id\":\"84448d87-dadd-4682-baf8-cf855f2d36f9\",\"type\":\"CategoricalTicker\"},{\"attributes\":{\"source\":{\"id\":\"ff9c2957-6581-4296-a25f-9153e8af6ce4\",\"type\":\"ColumnDataSource\"}},\"id\":\"dafac663-7ef1-4373-b2af-dd708b0e9c5d\",\"type\":\"CDSView\"},{\"attributes\":{},\"id\":\"e965f6e2-0b62-4fb6-997b-b4245a2db0bd\",\"type\":\"CategoricalTicker\"},{\"attributes\":{\"plot\":{\"id\":\"5527fad4-7b3b-4426-ad05-86a496024fff\",\"subtype\":\"Figure\",\"type\":\"Plot\"},\"ticker\":{\"id\":\"e965f6e2-0b62-4fb6-997b-b4245a2db0bd\",\"type\":\"CategoricalTicker\"}},\"id\":\"21006f38-8075-4df1-98bc-53cf1a9c0b15\",\"type\":\"Grid\"},{\"attributes\":{\"axis_label\":\"Number of hidden units\",\"axis_label_text_font_size\":{\"value\":\"20pt\"},\"formatter\":{\"id\":\"f83eeb5e-2fdc-4a3c-8876-ca8198f6528a\",\"type\":\"CategoricalTickFormatter\"},\"major_label_text_font_size\":{\"value\":\"12pt\"},\"plot\":{\"id\":\"5527fad4-7b3b-4426-ad05-86a496024fff\",\"subtype\":\"Figure\",\"type\":\"Plot\"},\"ticker\":{\"id\":\"2f275177-1313-453b-b7a0-c72484c35b1e\",\"type\":\"CategoricalTicker\"}},\"id\":\"8f13f7ab-172d-44b9-a863-af5cec65940d\",\"type\":\"CategoricalAxis\"},{\"attributes\":{},\"id\":\"dbaa6245-3434-4829-8280-a1bbe03bdad2\",\"type\":\"CategoricalTickFormatter\"},{\"attributes\":{\"overlay\":{\"id\":\"7e1289a5-cc8b-4df8-affe-43d4aef79513\",\"type\":\"BoxAnnotation\"}},\"id\":\"f38467af-be7e-4422-809e-b73b74c1dc02\",\"type\":\"BoxZoomTool\"},{\"attributes\":{},\"id\":\"cad05261-4f6b-47ba-87cd-b7dc19828c0d\",\"type\":\"LinearScale\"},{\"attributes\":{\"formatter\":{\"id\":\"b30c9471-7342-49b8-86e3-2211b5286de4\",\"type\":\"BasicTickFormatter\"},\"plot\":{\"id\":\"c219ee9e-57fe-48ae-93a2-f891a5182ac5\",\"subtype\":\"Figure\",\"type\":\"Plot\"},\"ticker\":{\"id\":\"8f3fb8a5-1a1c-4120-9616-8a2701ae3cab\",\"type\":\"BasicTicker\"}},\"id\":\"e017794e-6ec5-4485-95a5-8cf6a3b4c590\",\"type\":\"LinearAxis\"},{\"attributes\":{},\"id\":\"2f275177-1313-453b-b7a0-c72484c35b1e\",\"type\":\"CategoricalTicker\"},{\"attributes\":{},\"id\":\"9cbf6564-3373-4ee0-93e8-7245a968e083\",\"type\":\"WheelZoomTool\"},{\"attributes\":{\"children\":[{\"id\":\"ad960b0b-6ac7-423a-942a-e8b8eee5d36b\",\"type\":\"Slider\"}],\"height\":200},\"id\":\"b7c8e846-c8dc-4bf9-a5ab-a81ec07eadb8\",\"type\":\"WidgetBox\"},{\"attributes\":{},\"id\":\"150bab87-5ae2-4ee7-a61a-ab602bbb19c2\",\"type\":\"ZoomOutTool\"},{\"attributes\":{},\"id\":\"f83eeb5e-2fdc-4a3c-8876-ca8198f6528a\",\"type\":\"CategoricalTickFormatter\"},{\"attributes\":{},\"id\":\"b30c9471-7342-49b8-86e3-2211b5286de4\",\"type\":\"BasicTickFormatter\"},{\"attributes\":{\"fill_color\":{\"field\":\"color\"},\"height\":{\"units\":\"data\",\"value\":1},\"line_color\":{\"field\":\"color\"},\"width\":{\"units\":\"data\",\"value\":1},\"x\":{\"field\":\"x\"},\"y\":{\"field\":\"y\"}},\"id\":\"d2a7f617-6d38-40b4-911a-dabe67533843\",\"type\":\"Rect\"},{\"attributes\":{\"dimension\":1,\"plot\":{\"id\":\"5527fad4-7b3b-4426-ad05-86a496024fff\",\"subtype\":\"Figure\",\"type\":\"Plot\"},\"ticker\":{\"id\":\"2f275177-1313-453b-b7a0-c72484c35b1e\",\"type\":\"CategoricalTicker\"}},\"id\":\"6f1dfa00-87c8-4abf-b527-95b77089e7a0\",\"type\":\"Grid\"},{\"attributes\":{\"anchor\":\"bottom_left\",\"h\":{\"field\":\"dh\",\"units\":\"data\"},\"url\":{\"field\":\"url\"},\"w\":{\"field\":\"dw\",\"units\":\"data\"},\"x\":{\"value\":0},\"y\":{\"value\":0}},\"id\":\"a561950c-770f-4eee-87cd-bf617dc41f01\",\"type\":\"ImageURL\"},{\"attributes\":{},\"id\":\"45206d9d-a31a-48ff-b0e0-41c64270e8bf\",\"type\":\"CategoricalScale\"},{\"attributes\":{\"dimension\":1,\"plot\":{\"id\":\"c219ee9e-57fe-48ae-93a2-f891a5182ac5\",\"subtype\":\"Figure\",\"type\":\"Plot\"},\"ticker\":{\"id\":\"b5cc9725-e8f0-4c2d-be3b-b2a9ace77760\",\"type\":\"BasicTicker\"}},\"id\":\"ac83301f-c76b-46eb-bba1-b1b3f70c2b4d\",\"type\":\"Grid\"},{\"attributes\":{\"callback\":null,\"column_names\":[\"num_filters\",\"y\",\"log_reg_factor\",\"z_value\",\"url\",\"x\",\"color\",\"results_path\",\"index\",\"final_val_cost\"],\"data\":{\"color\":[\"#ff5200\",\"#ff8600\",\"#dbff1c\",\"#00e4f8\",\"#deff19\",\"#0060ff\",\"#ffe600\",\"#0000f1\",\"#ff6f00\",\"#000080\",\"#ff2900\",\"#000089\",\"#c80000\",\"#0044ff\",\"#800000\",\"#77ff80\"],\"final_val_cost\":{\"__ndarray__\":\"CtejqIw46z8pXI+ithvrP83MzIzPy+o/16Nw3fA+6j8Urkf5MczqP1K4HqU+/Ok/KVyPGkHm6j9mZmYm37rpP5qZmZEnJ+s/AAAAsIeH6T9SuB6NXU3rP83MzJRljOk/9ihcPz1y6z/hehTmFe7pP6RwPXIDles/hetRyPCK6j8=\",\"dtype\":\"float64\",\"shape\":[16]},\"index\":[3,5,2,12,15,10,9,4,14,7,8,13,0,11,6,1],\"log_reg_factor\":{\"__ndarray__\":\"AAAAAAAA8P8AAAAAAADw/wAAAAAAABzAAAAAAAAAHMAAAAAAAAAbwAAAAAAAABvAAAAAAAAAGsAAAAAAAAAawAAAAAAAABnAAAAAAAAAGcAAAAAAAAAYwAAAAAAAABjAAAAAAAAAF8AAAAAAAAAXwAAAAAAAABbAAAAAAAAAFsA=\",\"dtype\":\"float64\",\"shape\":[16]},\"num_filters\":[400,1600,400,1600,400,1600,400,1600,400,1600,400,1600,400,1600,400,1600],\"results_path\":[\"/home/yossi//Dropbox/visualRFNN/Datasets_new/visual/Dataset_python_olshausen_160x100x50_no_writing/nnResults_with_noise/num_filters_400_reg_factor_0/python_network.pkl\",\"/home/yossi//Dropbox/visualRFNN/Datasets_new/visual/Dataset_python_olshausen_160x100x50_no_writing/nnResults_with_noise/num_filters_1600_reg_factor_0/python_network.pkl\",\"/home/yossi//Dropbox/visualRFNN/Datasets_new/visual/Dataset_python_olshausen_160x100x50_no_writing/nnResults_with_noise/num_filters_400_reg_factor_1e-07_noise_ratio_0.5/python_network.pkl\",\"/home/yossi//Dropbox/visualRFNN/Datasets_new/visual/Dataset_python_olshausen_160x100x50_no_writing/nnResults_with_noise/num_filters_1600_reg_factor_1e-07_noise_ratio_0.5/python_network.pkl\",\"/home/yossi//Dropbox/visualRFNN/Datasets_new/visual/Dataset_python_olshausen_160x100x50_no_writing/nnResults_with_noise/num_filters_400_reg_factor_1.778e-07_noise_ratio_0.5/python_network.pkl\",\"/home/yossi//Dropbox/visualRFNN/Datasets_new/visual/Dataset_python_olshausen_160x100x50_no_writing/nnResults_with_noise/num_filters_1600_reg_factor_1.778e-07_noise_ratio_0.5/python_network.pkl\",\"/home/yossi//Dropbox/visualRFNN/Datasets_new/visual/Dataset_python_olshausen_160x100x50_no_writing/nnResults_with_noise/num_filters_400_reg_factor_3.162e-07_noise_ratio_0.5/python_network.pkl\",\"/home/yossi//Dropbox/visualRFNN/Datasets_new/visual/Dataset_python_olshausen_160x100x50_no_writing/nnResults_with_noise/num_filters_1600_reg_factor_3.162e-07_noise_ratio_0.5/python_network.pkl\",\"/home/yossi//Dropbox/visualRFNN/Datasets_new/visual/Dataset_python_olshausen_160x100x50_no_writing/nnResults_with_noise/num_filters_400_reg_factor_5.623e-07_noise_ratio_0.5/python_network.pkl\",\"/home/yossi//Dropbox/visualRFNN/Datasets_new/visual/Dataset_python_olshausen_160x100x50_no_writing/nnResults_with_noise/num_filters_1600_reg_factor_5.623e-07_noise_ratio_0.5/python_network.pkl\",\"/home/yossi//Dropbox/visualRFNN/Datasets_new/visual/Dataset_python_olshausen_160x100x50_no_writing/nnResults_with_noise/num_filters_400_reg_factor_1e-06_noise_ratio_0.5/python_network.pkl\",\"/home/yossi//Dropbox/visualRFNN/Datasets_new/visual/Dataset_python_olshausen_160x100x50_no_writing/nnResults_with_noise/num_filters_1600_reg_factor_1e-06_noise_ratio_0.5/python_network.pkl\",\"/home/yossi//Dropbox/visualRFNN/Datasets_new/visual/Dataset_python_olshausen_160x100x50_no_writing/nnResults_with_noise/num_filters_400_reg_factor_1.7783e-06_noise_ratio_0.5/python_network.pkl\",\"/home/yossi//Dropbox/visualRFNN/Datasets_new/visual/Dataset_python_olshausen_160x100x50_no_writing/nnResults_with_noise/num_filters_1600_reg_factor_1.7783e-06_noise_ratio_0.5/python_network.pkl\",\"/home/yossi//Dropbox/visualRFNN/Datasets_new/visual/Dataset_python_olshausen_160x100x50_no_writing/nnResults_with_noise/num_filters_400_reg_factor_3.1623e-06_noise_ratio_0.5/python_network.pkl\",\"/home/yossi//Dropbox/visualRFNN/Datasets_new/visual/Dataset_python_olshausen_160x100x50_no_writing/nnResults_with_noise/num_filters_1600_reg_factor_3.1623e-06_noise_ratio_0.5/python_network.pkl\"],\"url\":[\"visual_images_with_noise/t_step=7/weight_img_3.jpeg\",\"visual_images_with_noise/t_step=7/weight_img_5.jpeg\",\"visual_images_with_noise/t_step=7/weight_img_2.jpeg\",\"visual_images_with_noise/t_step=7/weight_img_12.jpeg\",\"visual_images_with_noise/t_step=7/weight_img_15.jpeg\",\"visual_images_with_noise/t_step=7/weight_img_10.jpeg\",\"visual_images_with_noise/t_step=7/weight_img_9.jpeg\",\"visual_images_with_noise/t_step=7/weight_img_4.jpeg\",\"visual_images_with_noise/t_step=7/weight_img_14.jpeg\",\"visual_images_with_noise/t_step=7/weight_img_7.jpeg\",\"visual_images_with_noise/t_step=7/weight_img_8.jpeg\",\"visual_images_with_noise/t_step=7/weight_img_13.jpeg\",\"visual_images_with_noise/t_step=7/weight_img_0.jpeg\",\"visual_images_with_noise/t_step=7/weight_img_11.jpeg\",\"visual_images_with_noise/t_step=7/weight_img_6.jpeg\",\"visual_images_with_noise/t_step=7/weight_img_1.jpeg\"],\"x\":[\"-inf\",\"-inf\",\"-7.0\",\"-7.0\",\"-6.75\",\"-6.75\",\"-6.5\",\"-6.5\",\"-6.25\",\"-6.25\",\"-6.0\",\"-6.0\",\"-5.75\",\"-5.75\",\"-5.5\",\"-5.5\"],\"y\":[\"400\",\"1600\",\"400\",\"1600\",\"400\",\"1600\",\"400\",\"1600\",\"400\",\"1600\",\"400\",\"1600\",\"400\",\"1600\",\"400\",\"1600\"],\"z_value\":{\"__ndarray__\":\"CtejqIw46z8pXI+ithvrP83MzIzPy+o/16Nw3fA+6j8Urkf5MczqP1K4HqU+/Ok/KVyPGkHm6j9mZmYm37rpP5qZmZEnJ+s/AAAAsIeH6T9SuB6NXU3rP83MzJRljOk/9ihcPz1y6z/hehTmFe7pP6RwPXIDles/hetRyPCK6j8=\",\"dtype\":\"float64\",\"shape\":[16]}}},\"id\":\"79e97abd-bdf4-4159-a718-1004a2551128\",\"type\":\"ColumnDataSource\"},{\"attributes\":{\"active_drag\":\"auto\",\"active_inspect\":\"auto\",\"active_scroll\":\"auto\",\"active_tap\":\"auto\",\"tools\":[{\"id\":\"b3ad5e65-6d21-47cd-ae0e-629b143fdcc7\",\"type\":\"HoverTool\"}]},\"id\":\"574c131c-14ca-49ed-9da5-be695277bc50\",\"type\":\"Toolbar\"},{\"attributes\":{\"data_source\":{\"id\":\"ff9c2957-6581-4296-a25f-9153e8af6ce4\",\"type\":\"ColumnDataSource\"},\"glyph\":{\"id\":\"6fcad53f-3bca-4d42-aa17-5a8c2d640d0b\",\"type\":\"ImageURL\"},\"hover_glyph\":null,\"muted_glyph\":null,\"nonselection_glyph\":{\"id\":\"a561950c-770f-4eee-87cd-bf617dc41f01\",\"type\":\"ImageURL\"},\"selection_glyph\":null,\"view\":{\"id\":\"dafac663-7ef1-4373-b2af-dd708b0e9c5d\",\"type\":\"CDSView\"}},\"id\":\"ff136d22-766f-4268-a148-d3ad691b885f\",\"type\":\"GlyphRenderer\"},{\"attributes\":{\"callback\":null,\"factors\":[\"0\",\"1\",\"2\",\"3\",\"4\",\"5\",\"6\",\"7\",\"8\",\"9\"]},\"id\":\"0e9bc877-f3dd-4e97-91c6-357ea4479512\",\"type\":\"FactorRange\"},{\"attributes\":{\"children\":[{\"id\":\"5527fad4-7b3b-4426-ad05-86a496024fff\",\"subtype\":\"Figure\",\"type\":\"Plot\"},{\"id\":\"c219ee9e-57fe-48ae-93a2-f891a5182ac5\",\"subtype\":\"Figure\",\"type\":\"Plot\"},{\"id\":\"f315e4b4-3afe-4fdb-b129-e9d520e26105\",\"subtype\":\"Figure\",\"type\":\"Plot\"},{\"id\":\"b7c8e846-c8dc-4bf9-a5ab-a81ec07eadb8\",\"type\":\"WidgetBox\"}]},\"id\":\"b93a9372-f431-4f92-99c4-e36178322cda\",\"type\":\"Row\"},{\"attributes\":{},\"id\":\"8f3fb8a5-1a1c-4120-9616-8a2701ae3cab\",\"type\":\"BasicTicker\"},{\"attributes\":{},\"id\":\"59bd9326-0658-4740-aec5-1f3273d7127c\",\"type\":\"ResetTool\"},{\"attributes\":{\"formatter\":{\"id\":\"adc90e24-6d6c-46af-8b40-d0d94d4c7253\",\"type\":\"CategoricalTickFormatter\"},\"major_label_text_font_size\":{\"value\":\"0pt\"},\"major_tick_line_color\":{\"value\":null},\"plot\":{\"id\":\"f315e4b4-3afe-4fdb-b129-e9d520e26105\",\"subtype\":\"Figure\",\"type\":\"Plot\"},\"ticker\":{\"id\":\"75847ff1-797d-4f7d-9f60-c765ca271797\",\"type\":\"CategoricalTicker\"}},\"id\":\"bc1924b7-b300-441b-9328-38c2aa773b54\",\"type\":\"CategoricalAxis\"},{\"attributes\":{\"callback\":null},\"id\":\"717af46a-035c-4df5-a5ee-a8c03c4b12a8\",\"type\":\"DataRange1d\"},{\"attributes\":{},\"id\":\"adc90e24-6d6c-46af-8b40-d0d94d4c7253\",\"type\":\"CategoricalTickFormatter\"},{\"attributes\":{\"callback\":null,\"factors\":[\"0\",\"1\",\"2\",\"3\",\"4\",\"5\",\"6\",\"7\",\"8\",\"9\"]},\"id\":\"58ef64ff-b8f2-41fe-a0f0-c33667374e51\",\"type\":\"FactorRange\"},{\"attributes\":{},\"id\":\"b5cc9725-e8f0-4c2d-be3b-b2a9ace77760\",\"type\":\"BasicTicker\"},{\"attributes\":{},\"id\":\"6ecabb72-c6b6-4728-ba22-7df6d64011c0\",\"type\":\"SaveTool\"},{\"attributes\":{\"formatter\":{\"id\":\"dbaa6245-3434-4829-8280-a1bbe03bdad2\",\"type\":\"CategoricalTickFormatter\"},\"major_label_text_font_size\":{\"value\":\"0pt\"},\"major_tick_line_color\":{\"value\":null},\"plot\":{\"id\":\"f315e4b4-3afe-4fdb-b129-e9d520e26105\",\"subtype\":\"Figure\",\"type\":\"Plot\"},\"ticker\":{\"id\":\"84448d87-dadd-4682-baf8-cf855f2d36f9\",\"type\":\"CategoricalTicker\"}},\"id\":\"2e475268-0daa-437d-8be5-228f5af8b365\",\"type\":\"CategoricalAxis\"},{\"attributes\":{\"anchor\":\"bottom_left\",\"h\":{\"field\":\"dh\",\"units\":\"data\"},\"url\":{\"field\":\"url\"},\"w\":{\"field\":\"dw\",\"units\":\"data\"},\"x\":{\"value\":0},\"y\":{\"value\":0}},\"id\":\"6fcad53f-3bca-4d42-aa17-5a8c2d640d0b\",\"type\":\"ImageURL\"},{\"attributes\":{\"high\":0.8619401198625565,\"low\":0.7977941930294037,\"palette\":[\"#000080\",\"#000084\",\"#000089\",\"#00008d\",\"#000092\",\"#000096\",\"#00009b\",\"#00009f\",\"#0000a4\",\"#0000a8\",\"#0000ad\",\"#0000b2\",\"#0000b6\",\"#0000bb\",\"#0000bf\",\"#0000c4\",\"#0000c8\",\"#0000cd\",\"#0000d1\",\"#0000d6\",\"#0000da\",\"#0000df\",\"#0000e3\",\"#0000e8\",\"#0000ed\",\"#0000f1\",\"#0000f6\",\"#0000fa\",\"#0000ff\",\"#0000ff\",\"#0000ff\",\"#0000ff\",\"#0000ff\",\"#0004ff\",\"#0008ff\",\"#000cff\",\"#0010ff\",\"#0014ff\",\"#0018ff\",\"#001cff\",\"#0020ff\",\"#0024ff\",\"#0028ff\",\"#002cff\",\"#0030ff\",\"#0034ff\",\"#0038ff\",\"#003cff\",\"#0040ff\",\"#0044ff\",\"#0048ff\",\"#004cff\",\"#0050ff\",\"#0054ff\",\"#0058ff\",\"#005cff\",\"#0060ff\",\"#0064ff\",\"#0068ff\",\"#006cff\",\"#0070ff\",\"#0074ff\",\"#0078ff\",\"#007cff\",\"#0080ff\",\"#0084ff\",\"#0088ff\",\"#008cff\",\"#0090ff\",\"#0094ff\",\"#0098ff\",\"#009cff\",\"#00a0ff\",\"#00a4ff\",\"#00a8ff\",\"#00acff\",\"#00b0ff\",\"#00b4ff\",\"#00b8ff\",\"#00bcff\",\"#00c0ff\",\"#00c4ff\",\"#00c8ff\",\"#00ccff\",\"#00d0ff\",\"#00d4ff\",\"#00d8ff\",\"#00dcfe\",\"#00e0fb\",\"#00e4f8\",\"#02e8f4\",\"#06ecf1\",\"#09f0ee\",\"#0cf4eb\",\"#0ff8e7\",\"#13fce4\",\"#16ffe1\",\"#19ffde\",\"#1cffdb\",\"#1fffd7\",\"#23ffd4\",\"#26ffd1\",\"#29ffce\",\"#2cffca\",\"#30ffc7\",\"#33ffc4\",\"#36ffc1\",\"#39ffbe\",\"#3cffba\",\"#40ffb7\",\"#43ffb4\",\"#46ffb1\",\"#49ffad\",\"#4dffaa\",\"#50ffa7\",\"#53ffa4\",\"#56ffa0\",\"#5aff9d\",\"#5dff9a\",\"#60ff97\",\"#63ff94\",\"#66ff90\",\"#6aff8d\",\"#6dff8a\",\"#70ff87\",\"#73ff83\",\"#77ff80\",\"#7aff7d\",\"#7dff7a\",\"#80ff77\",\"#83ff73\",\"#87ff70\",\"#8aff6d\",\"#8dff6a\",\"#90ff66\",\"#94ff63\",\"#97ff60\",\"#9aff5d\",\"#9dff5a\",\"#a0ff56\",\"#a4ff53\",\"#a7ff50\",\"#aaff4d\",\"#adff49\",\"#b1ff46\",\"#b4ff43\",\"#b7ff40\",\"#baff3c\",\"#beff39\",\"#c1ff36\",\"#c4ff33\",\"#c7ff30\",\"#caff2c\",\"#ceff29\",\"#d1ff26\",\"#d4ff23\",\"#d7ff1f\",\"#dbff1c\",\"#deff19\",\"#e1ff16\",\"#e4ff13\",\"#e7ff0f\",\"#ebff0c\",\"#eeff09\",\"#f1fc06\",\"#f4f802\",\"#f8f500\",\"#fbf100\",\"#feed00\",\"#ffea00\",\"#ffe600\",\"#ffe200\",\"#ffde00\",\"#ffdb00\",\"#ffd700\",\"#ffd300\",\"#ffd000\",\"#ffcc00\",\"#ffc800\",\"#ffc400\",\"#ffc100\",\"#ffbd00\",\"#ffb900\",\"#ffb600\",\"#ffb200\",\"#ffae00\",\"#ffab00\",\"#ffa700\",\"#ffa300\",\"#ff9f00\",\"#ff9c00\",\"#ff9800\",\"#ff9400\",\"#ff9100\",\"#ff8d00\",\"#ff8900\",\"#ff8600\",\"#ff8200\",\"#ff7e00\",\"#ff7a00\",\"#ff7700\",\"#ff7300\",\"#ff6f00\",\"#ff6c00\",\"#ff6800\",\"#ff6400\",\"#ff6000\",\"#ff5d00\",\"#ff5900\",\"#ff5500\",\"#ff5200\",\"#ff4e00\",\"#ff4a00\",\"#ff4700\",\"#ff4300\",\"#ff3f00\",\"#ff3b00\",\"#ff3800\",\"#ff3400\",\"#ff3000\",\"#ff2d00\",\"#ff2900\",\"#ff2500\",\"#ff2200\",\"#ff1e00\",\"#ff1a00\",\"#ff1600\",\"#ff1300\",\"#fa0f00\",\"#f60b00\",\"#f10800\",\"#ed0400\",\"#e80000\",\"#e40000\",\"#df0000\",\"#da0000\",\"#d60000\",\"#d10000\",\"#cd0000\",\"#c80000\",\"#c40000\",\"#bf0000\",\"#bb0000\",\"#b60000\",\"#b20000\",\"#ad0000\",\"#a80000\",\"#a40000\",\"#9f0000\",\"#9b0000\",\"#960000\",\"#920000\",\"#8d0000\",\"#890000\",\"#840000\",\"#800000\"]},\"id\":\"5414771a-ee73-41ef-acab-4c685a26536a\",\"type\":\"LinearColorMapper\"},{\"attributes\":{},\"id\":\"10c5ba5b-2d76-49a0-b916-897e7e5d899e\",\"type\":\"CategoricalTickFormatter\"},{\"attributes\":{},\"id\":\"ed1db95e-1802-4e78-ac61-7f1cd7d7a1c2\",\"type\":\"BasicTickFormatter\"},{\"attributes\":{\"plot\":null,\"text\":\"Corresponding spatial RFs\",\"text_font_size\":{\"value\":\"20pt\"}},\"id\":\"79026763-d3ad-4d59-956c-a72ac2dfc9f4\",\"type\":\"Title\"},{\"attributes\":{\"callback\":null,\"column_names\":[\"dw\",\"dh\",\"url\",\"x\",\"y\"],\"data\":{\"dh\":[],\"dw\":[],\"url\":[],\"x\":[],\"y\":[]}},\"id\":\"ff9c2957-6581-4296-a25f-9153e8af6ce4\",\"type\":\"ColumnDataSource\"},{\"attributes\":{\"formatter\":{\"id\":\"14ad26b7-be4c-4014-b336-18754787a45b\",\"type\":\"BasicTickFormatter\"},\"plot\":{\"id\":\"c219ee9e-57fe-48ae-93a2-f891a5182ac5\",\"subtype\":\"Figure\",\"type\":\"Plot\"},\"ticker\":{\"id\":\"b5cc9725-e8f0-4c2d-be3b-b2a9ace77760\",\"type\":\"BasicTicker\"}},\"id\":\"f8347e60-e90b-4ee0-81b2-44b32c584ecc\",\"type\":\"LinearAxis\"},{\"attributes\":{},\"id\":\"26b605ae-6f1f-47c4-87bf-cdb091e00655\",\"type\":\"CategoricalScale\"},{\"attributes\":{\"active_drag\":\"auto\",\"active_inspect\":\"auto\",\"active_scroll\":\"auto\",\"active_tap\":\"auto\",\"tools\":[{\"id\":\"cc61a486-90cb-42a2-a35d-3dbd7e7c6ec0\",\"type\":\"ZoomInTool\"},{\"id\":\"150bab87-5ae2-4ee7-a61a-ab602bbb19c2\",\"type\":\"ZoomOutTool\"},{\"id\":\"811d4664-2ac0-43e8-be25-954a08940118\",\"type\":\"PanTool\"},{\"id\":\"59bd9326-0658-4740-aec5-1f3273d7127c\",\"type\":\"ResetTool\"}]},\"id\":\"629a7c41-1286-490a-9794-52d749c9ece9\",\"type\":\"Toolbar\"},{\"attributes\":{\"callback\":null},\"id\":\"d829e4cc-53b8-44a1-88d6-19f4255d1547\",\"type\":\"DataRange1d\"},{\"attributes\":{\"data_source\":{\"id\":\"88f33730-d44f-4004-beb5-32ae37cd6d33\",\"type\":\"ColumnDataSource\"},\"glyph\":{\"id\":\"d2a7f617-6d38-40b4-911a-dabe67533843\",\"type\":\"Rect\"},\"hover_glyph\":null,\"muted_glyph\":null,\"nonselection_glyph\":{\"id\":\"6d9749cf-5687-48e1-b07c-98c35d63a289\",\"type\":\"Rect\"},\"selection_glyph\":null,\"view\":{\"id\":\"4cb84304-f8c0-4915-9d44-767eb0e02eb6\",\"type\":\"CDSView\"}},\"id\":\"054f85e8-2b9c-4cdb-9ecb-9acd36e61340\",\"type\":\"GlyphRenderer\"},{\"attributes\":{\"bar_color\":\"grey\",\"callback\":null,\"callback_policy\":\"continuous\",\"end\":7,\"height\":200,\"js_property_callbacks\":{\"change:value\":[{\"id\":\"1ed633ae-33cd-405e-8e2d-73891c5fe632\",\"type\":\"CustomJS\"}]},\"orientation\":\"vertical\",\"start\":1,\"title\":\"Time step\",\"value\":7},\"id\":\"ad960b0b-6ac7-423a-942a-e8b8eee5d36b\",\"type\":\"Slider\"},{\"attributes\":{\"plot\":{\"id\":\"f315e4b4-3afe-4fdb-b129-e9d520e26105\",\"subtype\":\"Figure\",\"type\":\"Plot\"},\"ticker\":{\"id\":\"75847ff1-797d-4f7d-9f60-c765ca271797\",\"type\":\"CategoricalTicker\"}},\"id\":\"4f34c6ea-8aba-4a7b-82af-1f0ee182ee18\",\"type\":\"Grid\"},{\"attributes\":{\"callback\":null,\"factors\":[\"-inf\",\"-7.0\",\"-6.75\",\"-6.5\",\"-6.25\",\"-6.0\",\"-5.75\",\"-5.5\"]},\"id\":\"c800aedb-2b53-43b3-87e1-52a7bd1176b4\",\"type\":\"FactorRange\"},{\"attributes\":{},\"id\":\"14ad26b7-be4c-4014-b336-18754787a45b\",\"type\":\"BasicTickFormatter\"},{\"attributes\":{\"bottom_units\":\"screen\",\"fill_alpha\":{\"value\":0.5},\"fill_color\":{\"value\":\"lightgrey\"},\"left_units\":\"screen\",\"level\":\"overlay\",\"line_alpha\":{\"value\":1.0},\"line_color\":{\"value\":\"black\"},\"line_dash\":[4,4],\"line_width\":{\"value\":2},\"plot\":null,\"render_mode\":\"css\",\"right_units\":\"screen\",\"top_units\":\"screen\"},\"id\":\"7e1289a5-cc8b-4df8-affe-43d4aef79513\",\"type\":\"BoxAnnotation\"},{\"attributes\":{},\"id\":\"e0954552-3337-4596-a4aa-ce6222b54e6e\",\"type\":\"PanTool\"},{\"attributes\":{\"dimension\":1,\"plot\":{\"id\":\"f315e4b4-3afe-4fdb-b129-e9d520e26105\",\"subtype\":\"Figure\",\"type\":\"Plot\"},\"ticker\":{\"id\":\"84448d87-dadd-4682-baf8-cf855f2d36f9\",\"type\":\"CategoricalTicker\"}},\"id\":\"61a220da-9c1f-411f-b765-2433ea25320a\",\"type\":\"Grid\"},{\"attributes\":{\"fill_alpha\":{\"value\":0.1},\"fill_color\":{\"value\":\"#1f77b4\"},\"height\":{\"units\":\"data\",\"value\":1},\"line_alpha\":{\"value\":0.1},\"line_color\":{\"value\":\"#1f77b4\"},\"width\":{\"units\":\"data\",\"value\":1},\"x\":{\"field\":\"x\"},\"y\":{\"field\":\"y\"}},\"id\":\"6d9749cf-5687-48e1-b07c-98c35d63a289\",\"type\":\"Rect\"},{\"attributes\":{},\"id\":\"4e61820b-8864-4d93-8f18-042e0b5fbff6\",\"type\":\"CategoricalScale\"},{\"attributes\":{\"axis_label\":\"Log_10 of L1 regularisation on weights\",\"axis_label_text_font_size\":{\"value\":\"20pt\"},\"formatter\":{\"id\":\"10c5ba5b-2d76-49a0-b916-897e7e5d899e\",\"type\":\"CategoricalTickFormatter\"},\"major_label_text_font_size\":{\"value\":\"12pt\"},\"plot\":{\"id\":\"5527fad4-7b3b-4426-ad05-86a496024fff\",\"subtype\":\"Figure\",\"type\":\"Plot\"},\"ticker\":{\"id\":\"e965f6e2-0b62-4fb6-997b-b4245a2db0bd\",\"type\":\"CategoricalTicker\"}},\"id\":\"52be3732-b9a7-445d-b642-0bdd651d9326\",\"type\":\"CategoricalAxis\"},{\"attributes\":{\"source\":{\"id\":\"88f33730-d44f-4004-beb5-32ae37cd6d33\",\"type\":\"ColumnDataSource\"}},\"id\":\"4cb84304-f8c0-4915-9d44-767eb0e02eb6\",\"type\":\"CDSView\"},{\"attributes\":{\"color_mapper\":{\"id\":\"5414771a-ee73-41ef-acab-4c685a26536a\",\"type\":\"LinearColorMapper\"},\"formatter\":{\"id\":\"ed1db95e-1802-4e78-ac61-7f1cd7d7a1c2\",\"type\":\"BasicTickFormatter\"},\"location\":[1,1],\"plot\":{\"id\":\"c219ee9e-57fe-48ae-93a2-f891a5182ac5\",\"subtype\":\"Figure\",\"type\":\"Plot\"},\"ticker\":{\"id\":\"423e9825-4452-44b5-9819-6cfd749ecb82\",\"type\":\"BasicTicker\"}},\"id\":\"acfc2204-4428-4a76-a20e-6ed56acbb34d\",\"type\":\"ColorBar\"},{\"attributes\":{\"plot\":{\"id\":\"c219ee9e-57fe-48ae-93a2-f891a5182ac5\",\"subtype\":\"Figure\",\"type\":\"Plot\"},\"ticker\":{\"id\":\"8f3fb8a5-1a1c-4120-9616-8a2701ae3cab\",\"type\":\"BasicTicker\"}},\"id\":\"4692b06b-47ea-4ad7-b140-26d93de05342\",\"type\":\"Grid\"},{\"attributes\":{},\"id\":\"20dfa877-8116-4e0f-ac35-0fbcde06ce23\",\"type\":\"ResetTool\"},{\"attributes\":{\"below\":[{\"id\":\"e017794e-6ec5-4485-95a5-8cf6a3b4c590\",\"type\":\"LinearAxis\"}],\"left\":[{\"id\":\"f8347e60-e90b-4ee0-81b2-44b32c584ecc\",\"type\":\"LinearAxis\"}],\"min_border\":0,\"outline_line_color\":{\"value\":null},\"plot_height\":611,\"plot_width\":140,\"renderers\":[{\"id\":\"e017794e-6ec5-4485-95a5-8cf6a3b4c590\",\"type\":\"LinearAxis\"},{\"id\":\"4692b06b-47ea-4ad7-b140-26d93de05342\",\"type\":\"Grid\"},{\"id\":\"f8347e60-e90b-4ee0-81b2-44b32c584ecc\",\"type\":\"LinearAxis\"},{\"id\":\"ac83301f-c76b-46eb-bba1-b1b3f70c2b4d\",\"type\":\"Grid\"},{\"id\":\"7e1289a5-cc8b-4df8-affe-43d4aef79513\",\"type\":\"BoxAnnotation\"},{\"id\":\"acfc2204-4428-4a76-a20e-6ed56acbb34d\",\"type\":\"ColorBar\"}],\"right\":[{\"id\":\"acfc2204-4428-4a76-a20e-6ed56acbb34d\",\"type\":\"ColorBar\"}],\"title\":{\"id\":\"c2d59ba8-02fe-4204-8778-96f44993a49b\",\"type\":\"Title\"},\"title_location\":\"right\",\"toolbar\":{\"id\":\"23ad8e66-07ba-459f-b112-bafaba90a6f4\",\"type\":\"Toolbar\"},\"toolbar_location\":null,\"x_range\":{\"id\":\"d829e4cc-53b8-44a1-88d6-19f4255d1547\",\"type\":\"DataRange1d\"},\"x_scale\":{\"id\":\"53a199a8-4a82-4f94-a742-00b4f9530d2c\",\"type\":\"LinearScale\"},\"y_range\":{\"id\":\"717af46a-035c-4df5-a5ee-a8c03c4b12a8\",\"type\":\"DataRange1d\"},\"y_scale\":{\"id\":\"cad05261-4f6b-47ba-87cd-b7dc19828c0d\",\"type\":\"LinearScale\"}},\"id\":\"c219ee9e-57fe-48ae-93a2-f891a5182ac5\",\"subtype\":\"Figure\",\"type\":\"Plot\"},{\"attributes\":{},\"id\":\"53a199a8-4a82-4f94-a742-00b4f9530d2c\",\"type\":\"LinearScale\"},{\"attributes\":{\"align\":\"center\",\"plot\":null,\"text\":\"Final validation loss\",\"text_font_size\":{\"value\":\"16pt\"}},\"id\":\"c2d59ba8-02fe-4204-8778-96f44993a49b\",\"type\":\"Title\"},{\"attributes\":{},\"id\":\"2c03df64-9615-42d6-9b65-c4ba0d5ea3b7\",\"type\":\"HelpTool\"},{\"attributes\":{\"args\":{\"s2\":{\"id\":\"ff9c2957-6581-4296-a25f-9153e8af6ce4\",\"type\":\"ColumnDataSource\"},\"s3\":{\"id\":\"79e97abd-bdf4-4159-a718-1004a2551128\",\"type\":\"ColumnDataSource\"},\"slider\":{\"id\":\"ad960b0b-6ac7-423a-942a-e8b8eee5d36b\",\"type\":\"Slider\"}},\"code\":\"\\n    //console.log(cb_data)\\n    var indices = cb_data.index['1d'].indices;\\n    // console.log(indices)\\n    if (indices.length > 0) {\\n        //console.log(indices[0])\\n        //console.log('here!!!')\\n        //var imgWidth = image.width || image.naturalWidth;\\n        //var imgHeight = image.height || image.naturalHeight;\\n        //var img = s3.data.image[indices[0]];\\n        var url = s3.data.url[indices[0]];\\n        //console.log(s3.data.image[0][0])\\n        //console.log(img)\\n\\n        //check if the slider value has changed. If it has, update the timestep of the image being displayed\\n        var value = slider.value\\n        var old_url = url\\n        //console.log(old_url)\\n\\n        if (old_url != []) {\\n            if (value === parseInt(value, 10)) {\\n                //console.log(value)\\n                //console.log(old_url)\\n                var split_url = old_url.split(\\\"=\\\");\\n                split_url[1] = split_url[1].replace(split_url[1][0], value);\\n                new_url = split_url[0]+\\\"=\\\"+split_url[1];\\n                url=new_url\\n            }\\n        }\\n\\n        var d2 = s2.data;\\n        d2['url'] = [url]\\n        d2['x'] = [0]\\n        d2['y'] = [0]\\n        d2['dw'] = [10]\\n        d2['dh'] = [10]\\n        \\n        s2.change.emit();\\n    }\\n    \"},\"id\":\"fd64a587-6170-456c-9d4e-2c983d88fda1\",\"type\":\"CustomJS\"},{\"attributes\":{},\"id\":\"811d4664-2ac0-43e8-be25-954a08940118\",\"type\":\"PanTool\"},{\"attributes\":{\"callback\":null,\"factors\":[\"1600\",\"400\"]},\"id\":\"59479862-5c08-44ad-a136-ef04235bc80e\",\"type\":\"FactorRange\"},{\"attributes\":{},\"id\":\"423e9825-4452-44b5-9819-6cfd749ecb82\",\"type\":\"BasicTicker\"},{\"attributes\":{\"plot\":null,\"text\":\"Heatmap\",\"text_font_size\":{\"value\":\"20pt\"}},\"id\":\"8ff1a1a0-4675-4b9e-80df-dd58fe70099d\",\"type\":\"Title\"},{\"attributes\":{},\"id\":\"563adb8b-0bac-4603-9465-1f0b06e881b0\",\"type\":\"CategoricalScale\"},{\"attributes\":{\"args\":{\"s2\":{\"id\":\"ff9c2957-6581-4296-a25f-9153e8af6ce4\",\"type\":\"ColumnDataSource\"},\"s3\":{\"id\":\"79e97abd-bdf4-4159-a718-1004a2551128\",\"type\":\"ColumnDataSource\"}},\"code\":\"\\n            //console.log(cb_obj)\\n           // console.log(cb_obj.index)\\n            var attrs = []; \\n            if (cb_obj.event_name == 'tap') {\\n                //console.log('here')\\n               // var ix = attrs['x'] + attrs['y']\\n\\n            }\\n            //check if the slider value has changed. If it has, update the timestep of the image being displayed\\n            var value = cb_obj.value\\n            if (value === parseInt(value, 10)) {\\n                //console.log(value)\\n                //console.log(s2.data)\\n                var old_url = s2.data.url\\n                    if (old_url != []) {\\n                      old_url=old_url[0]\\n                      //console.log(old_url)\\n                      var split_url = old_url.split(\\\"=\\\");\\n                      split_url[1] = split_url[1].replace(split_url[1][0], value);\\n                      new_url = split_url[0]+\\\"=\\\"+split_url[1];\\n                      var d2 = s2.data;\\n                      d2['url'] = [new_url]\\n                      s2.change.emit();\\n    } \\n            }\\n\\n\\n           //console.log(attrs)\\n          //  console.log(cb_data)\\n\\n            \"},\"id\":\"1ed633ae-33cd-405e-8e2d-73891c5fe632\",\"type\":\"CustomJS\"}],\"root_ids\":[\"b93a9372-f431-4f92-99c4-e36178322cda\"]},\"title\":\"Bokeh Application\",\"version\":\"0.12.13\"}};\n",
       "  var render_items = [{\"docid\":\"d21658a0-3aca-48b7-b683-99a40be28ead\",\"elementid\":\"28da3d2e-41d1-404d-907e-0a1b5f14a3b4\",\"modelid\":\"b93a9372-f431-4f92-99c4-e36178322cda\"}];\n",
       "  root.Bokeh.embed.embed_items_notebook(docs_json, render_items);\n",
       "\n",
       "  }\n",
       "  if (root.Bokeh !== undefined) {\n",
       "    embed_document(root);\n",
       "  } else {\n",
       "    var attempts = 0;\n",
       "    var timer = setInterval(function(root) {\n",
       "      if (root.Bokeh !== undefined) {\n",
       "        embed_document(root);\n",
       "        clearInterval(timer);\n",
       "      }\n",
       "      attempts++;\n",
       "      if (attempts > 100) {\n",
       "        console.log(\"Bokeh: ERROR: Unable to run BokehJS code because BokehJS library is missing\")\n",
       "        clearInterval(timer);\n",
       "      }\n",
       "    }, 10, root)\n",
       "  }\n",
       "})(window);"
      ],
      "application/vnd.bokehjs_exec.v0+json": ""
     },
     "metadata": {
      "application/vnd.bokehjs_exec.v0+json": {
       "id": "b93a9372-f431-4f92-99c4-e36178322cda"
      }
     },
     "output_type": "display_data"
    }
   ],
   "source": [
    "%%capture --no-display\n",
    "iplot.plot_linked_heatmap_weights(with_noise_url_pd)#, save_path=root_save_dir+this_save_dir+'interactive_plot.html')"
   ]
  },
  {
   "cell_type": "markdown",
   "metadata": {},
   "source": [
    "### Figure 8-Figure supplement 3  | Interactive figure exploring the relationship between the strength of  L1 regularisation on the network weights and the structure of the RFs  the network produces. \n",
    "\n",
    "The left panel shows the performance of the newtwork with the hyperparameter settings specified on the x and y axes. The x axis signifies the strength of L1 reguilarisation placed on the weights of the network during training. The y axis signifies the number of hidden units in the network. Performance of model as a function of number of hidden units andregularization on the weights as measured by a, reconstruction error on validation set at the end of training.\n",
    "\n",
    "Hover over a point in the left panel to show the corresponding spatial receptive fields of the network in the right panel. Using the settings above the right hand panel, zoom, pan and reset the image to explore the shapes of the spatial receptive fields. Change the slider on the upper left to change the time-step of the spatial receptive fields being shown in the right hand panel."
   ]
  }
 ],
 "metadata": {
  "hide_input": false,
  "kernelspec": {
   "display_name": "predictive_python_old_theano",
   "language": "python",
   "name": "predictive_kernel_old"
  },
  "language_info": {
   "codemirror_mode": {
    "name": "ipython",
    "version": 3
   },
   "file_extension": ".py",
   "mimetype": "text/x-python",
   "name": "python",
   "nbconvert_exporter": "python",
   "pygments_lexer": "ipython3",
   "version": "3.5.2"
  }
 },
 "nbformat": 4,
 "nbformat_minor": 1
}
