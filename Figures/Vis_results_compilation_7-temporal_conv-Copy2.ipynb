{
 "cells": [
  {
   "cell_type": "code",
   "execution_count": 1,
   "metadata": {},
   "outputs": [
    {
     "data": {
      "text/html": [
       "<script>\n",
       "code_show=true; \n",
       "function code_toggle() {\n",
       " if (code_show){\n",
       " $('div.input').hide();\n",
       " } else {\n",
       " $('div.input').show();\n",
       " }\n",
       " code_show = !code_show\n",
       "} \n",
       "$( document ).ready(code_toggle);\n",
       "</script>\n",
       "<form action=\"javascript:code_toggle()\"><input type=\"submit\" value=\"Click here to toggle on/off the raw code.\"></form>"
      ],
      "text/plain": [
       "<IPython.core.display.HTML object>"
      ]
     },
     "execution_count": 1,
     "metadata": {},
     "output_type": "execute_result"
    }
   ],
   "source": [
    "from IPython.display import HTML\n",
    "\n",
    "HTML('''<script>\n",
    "code_show=true; \n",
    "function code_toggle() {\n",
    " if (code_show){\n",
    " $('div.input').hide();\n",
    " } else {\n",
    " $('div.input').show();\n",
    " }\n",
    " code_show = !code_show\n",
    "} \n",
    "$( document ).ready(code_toggle);\n",
    "</script>\n",
    "<form action=\"javascript:code_toggle()\"><input type=\"submit\" value=\"Click here to toggle on/off the raw code.\"></form>''')"
   ]
  },
  {
   "cell_type": "code",
   "execution_count": 13,
   "metadata": {},
   "outputs": [
    {
     "data": {
      "text/html": [
       "<style>.container { width:70% !important; }</style>"
      ],
      "text/plain": [
       "<IPython.core.display.HTML object>"
      ]
     },
     "metadata": {},
     "output_type": "display_data"
    }
   ],
   "source": [
    "from IPython.core.display import display, HTML\n",
    "display(HTML(\"<style>.container { width:70% !important; }</style>\"))"
   ]
  },
  {
   "cell_type": "code",
   "execution_count": 3,
   "metadata": {},
   "outputs": [],
   "source": [
    "import os\n",
    "os.environ[\"THEANO_FLAGS\"] = \"mode=FAST_RUN,device=gpu,floatX=float32,\""
   ]
  },
  {
   "cell_type": "code",
   "execution_count": 5,
   "metadata": {
    "scrolled": true
   },
   "outputs": [],
   "source": [
    "import sys\n",
    "pred_path = '/home/yossi/yossi_local/predictive_coding_python'\n",
    "if pred_path not in sys.path:\n",
    "    sys.path.append(pred_path)\n",
    "import importlib\n",
    "from imp import reload\n",
    "import data_handling as dat\n",
    "import predictive_network_subclasses as pn\n",
    "import numpy as np\n",
    "import matplotlib.pyplot as plt\n",
    "import os\n",
    "import auditory_analysis as aan\n",
    "import visualisation as vis\n",
    "import pickle as pkl\n",
    "from imp import reload\n",
    "import results_dataframe_handling as rdh\n",
    "import interactive_plotting as iplot\n",
    "reload(iplot)\n",
    "reload(aan)\n",
    "reload(vis)\n",
    "reload(pn)\n",
    "reload(rdh)\n",
    "%matplotlib inline\n",
    "# %pylab inline\n",
    "# pylab.rcParams['figure.figsize'] = (20, 20)"
   ]
  },
  {
   "cell_type": "code",
   "execution_count": 6,
   "metadata": {},
   "outputs": [
    {
     "data": {
      "text/html": [
       "\n",
       "    <div class=\"bk-root\">\n",
       "        <a href=\"https://bokeh.pydata.org\" target=\"_blank\" class=\"bk-logo bk-logo-small bk-logo-notebook\"></a>\n",
       "        <span id=\"63478198-421d-4904-be99-29e9ce7f7f08\">Loading BokehJS ...</span>\n",
       "    </div>"
      ]
     },
     "metadata": {},
     "output_type": "display_data"
    },
    {
     "data": {
      "application/javascript": [
       "\n",
       "(function(root) {\n",
       "  function now() {\n",
       "    return new Date();\n",
       "  }\n",
       "\n",
       "  var force = true;\n",
       "\n",
       "  if (typeof (root._bokeh_onload_callbacks) === \"undefined\" || force === true) {\n",
       "    root._bokeh_onload_callbacks = [];\n",
       "    root._bokeh_is_loading = undefined;\n",
       "  }\n",
       "\n",
       "  var JS_MIME_TYPE = 'application/javascript';\n",
       "  var HTML_MIME_TYPE = 'text/html';\n",
       "  var EXEC_MIME_TYPE = 'application/vnd.bokehjs_exec.v0+json';\n",
       "  var CLASS_NAME = 'output_bokeh rendered_html';\n",
       "\n",
       "  /**\n",
       "   * Render data to the DOM node\n",
       "   */\n",
       "  function render(props, node) {\n",
       "    var script = document.createElement(\"script\");\n",
       "    node.appendChild(script);\n",
       "  }\n",
       "\n",
       "  /**\n",
       "   * Handle when an output is cleared or removed\n",
       "   */\n",
       "  function handleClearOutput(event, handle) {\n",
       "    var cell = handle.cell;\n",
       "\n",
       "    var id = cell.output_area._bokeh_element_id;\n",
       "    var server_id = cell.output_area._bokeh_server_id;\n",
       "    // Clean up Bokeh references\n",
       "    if (id !== undefined) {\n",
       "      Bokeh.index[id].model.document.clear();\n",
       "      delete Bokeh.index[id];\n",
       "    }\n",
       "\n",
       "    if (server_id !== undefined) {\n",
       "      // Clean up Bokeh references\n",
       "      var cmd = \"from bokeh.io.state import curstate; print(curstate().uuid_to_server['\" + server_id + \"'].get_sessions()[0].document.roots[0]._id)\";\n",
       "      cell.notebook.kernel.execute(cmd, {\n",
       "        iopub: {\n",
       "          output: function(msg) {\n",
       "            var element_id = msg.content.text.trim();\n",
       "            Bokeh.index[element_id].model.document.clear();\n",
       "            delete Bokeh.index[element_id];\n",
       "          }\n",
       "        }\n",
       "      });\n",
       "      // Destroy server and session\n",
       "      var cmd = \"import bokeh.io.notebook as ion; ion.destroy_server('\" + server_id + \"')\";\n",
       "      cell.notebook.kernel.execute(cmd);\n",
       "    }\n",
       "  }\n",
       "\n",
       "  /**\n",
       "   * Handle when a new output is added\n",
       "   */\n",
       "  function handleAddOutput(event, handle) {\n",
       "    var output_area = handle.output_area;\n",
       "    var output = handle.output;\n",
       "\n",
       "    // limit handleAddOutput to display_data with EXEC_MIME_TYPE content only\n",
       "    if ((output.output_type != \"display_data\") || (!output.data.hasOwnProperty(EXEC_MIME_TYPE))) {\n",
       "      return\n",
       "    }\n",
       "\n",
       "    var toinsert = output_area.element.find(\".\" + CLASS_NAME.split(' ')[0]);\n",
       "\n",
       "    if (output.metadata[EXEC_MIME_TYPE][\"id\"] !== undefined) {\n",
       "      toinsert[0].firstChild.textContent = output.data[JS_MIME_TYPE];\n",
       "      // store reference to embed id on output_area\n",
       "      output_area._bokeh_element_id = output.metadata[EXEC_MIME_TYPE][\"id\"];\n",
       "    }\n",
       "    if (output.metadata[EXEC_MIME_TYPE][\"server_id\"] !== undefined) {\n",
       "      var bk_div = document.createElement(\"div\");\n",
       "      bk_div.innerHTML = output.data[HTML_MIME_TYPE];\n",
       "      var script_attrs = bk_div.children[0].attributes;\n",
       "      for (var i = 0; i < script_attrs.length; i++) {\n",
       "        toinsert[0].firstChild.setAttribute(script_attrs[i].name, script_attrs[i].value);\n",
       "      }\n",
       "      // store reference to server id on output_area\n",
       "      output_area._bokeh_server_id = output.metadata[EXEC_MIME_TYPE][\"server_id\"];\n",
       "    }\n",
       "  }\n",
       "\n",
       "  function register_renderer(events, OutputArea) {\n",
       "\n",
       "    function append_mime(data, metadata, element) {\n",
       "      // create a DOM node to render to\n",
       "      var toinsert = this.create_output_subarea(\n",
       "        metadata,\n",
       "        CLASS_NAME,\n",
       "        EXEC_MIME_TYPE\n",
       "      );\n",
       "      this.keyboard_manager.register_events(toinsert);\n",
       "      // Render to node\n",
       "      var props = {data: data, metadata: metadata[EXEC_MIME_TYPE]};\n",
       "      render(props, toinsert[0]);\n",
       "      element.append(toinsert);\n",
       "      return toinsert\n",
       "    }\n",
       "\n",
       "    /* Handle when an output is cleared or removed */\n",
       "    events.on('clear_output.CodeCell', handleClearOutput);\n",
       "    events.on('delete.Cell', handleClearOutput);\n",
       "\n",
       "    /* Handle when a new output is added */\n",
       "    events.on('output_added.OutputArea', handleAddOutput);\n",
       "\n",
       "    /**\n",
       "     * Register the mime type and append_mime function with output_area\n",
       "     */\n",
       "    OutputArea.prototype.register_mime_type(EXEC_MIME_TYPE, append_mime, {\n",
       "      /* Is output safe? */\n",
       "      safe: true,\n",
       "      /* Index of renderer in `output_area.display_order` */\n",
       "      index: 0\n",
       "    });\n",
       "  }\n",
       "\n",
       "  // register the mime type if in Jupyter Notebook environment and previously unregistered\n",
       "  if (root.Jupyter !== undefined) {\n",
       "    var events = require('base/js/events');\n",
       "    var OutputArea = require('notebook/js/outputarea').OutputArea;\n",
       "\n",
       "    if (OutputArea.prototype.mime_types().indexOf(EXEC_MIME_TYPE) == -1) {\n",
       "      register_renderer(events, OutputArea);\n",
       "    }\n",
       "  }\n",
       "\n",
       "  \n",
       "  if (typeof (root._bokeh_timeout) === \"undefined\" || force === true) {\n",
       "    root._bokeh_timeout = Date.now() + 5000;\n",
       "    root._bokeh_failed_load = false;\n",
       "  }\n",
       "\n",
       "  var NB_LOAD_WARNING = {'data': {'text/html':\n",
       "     \"<div style='background-color: #fdd'>\\n\"+\n",
       "     \"<p>\\n\"+\n",
       "     \"BokehJS does not appear to have successfully loaded. If loading BokehJS from CDN, this \\n\"+\n",
       "     \"may be due to a slow or bad network connection. Possible fixes:\\n\"+\n",
       "     \"</p>\\n\"+\n",
       "     \"<ul>\\n\"+\n",
       "     \"<li>re-rerun `output_notebook()` to attempt to load from CDN again, or</li>\\n\"+\n",
       "     \"<li>use INLINE resources instead, as so:</li>\\n\"+\n",
       "     \"</ul>\\n\"+\n",
       "     \"<code>\\n\"+\n",
       "     \"from bokeh.resources import INLINE\\n\"+\n",
       "     \"output_notebook(resources=INLINE)\\n\"+\n",
       "     \"</code>\\n\"+\n",
       "     \"</div>\"}};\n",
       "\n",
       "  function display_loaded() {\n",
       "    var el = document.getElementById(\"63478198-421d-4904-be99-29e9ce7f7f08\");\n",
       "    if (el != null) {\n",
       "      el.textContent = \"BokehJS is loading...\";\n",
       "    }\n",
       "    if (root.Bokeh !== undefined) {\n",
       "      if (el != null) {\n",
       "        el.textContent = \"BokehJS \" + root.Bokeh.version + \" successfully loaded.\";\n",
       "      }\n",
       "    } else if (Date.now() < root._bokeh_timeout) {\n",
       "      setTimeout(display_loaded, 100)\n",
       "    }\n",
       "  }\n",
       "\n",
       "\n",
       "  function run_callbacks() {\n",
       "    try {\n",
       "      root._bokeh_onload_callbacks.forEach(function(callback) { callback() });\n",
       "    }\n",
       "    finally {\n",
       "      delete root._bokeh_onload_callbacks\n",
       "    }\n",
       "    console.info(\"Bokeh: all callbacks have finished\");\n",
       "  }\n",
       "\n",
       "  function load_libs(js_urls, callback) {\n",
       "    root._bokeh_onload_callbacks.push(callback);\n",
       "    if (root._bokeh_is_loading > 0) {\n",
       "      console.log(\"Bokeh: BokehJS is being loaded, scheduling callback at\", now());\n",
       "      return null;\n",
       "    }\n",
       "    if (js_urls == null || js_urls.length === 0) {\n",
       "      run_callbacks();\n",
       "      return null;\n",
       "    }\n",
       "    console.log(\"Bokeh: BokehJS not loaded, scheduling load and callback at\", now());\n",
       "    root._bokeh_is_loading = js_urls.length;\n",
       "    for (var i = 0; i < js_urls.length; i++) {\n",
       "      var url = js_urls[i];\n",
       "      var s = document.createElement('script');\n",
       "      s.src = url;\n",
       "      s.async = false;\n",
       "      s.onreadystatechange = s.onload = function() {\n",
       "        root._bokeh_is_loading--;\n",
       "        if (root._bokeh_is_loading === 0) {\n",
       "          console.log(\"Bokeh: all BokehJS libraries loaded\");\n",
       "          run_callbacks()\n",
       "        }\n",
       "      };\n",
       "      s.onerror = function() {\n",
       "        console.warn(\"failed to load library \" + url);\n",
       "      };\n",
       "      console.log(\"Bokeh: injecting script tag for BokehJS library: \", url);\n",
       "      document.getElementsByTagName(\"head\")[0].appendChild(s);\n",
       "    }\n",
       "  };var element = document.getElementById(\"63478198-421d-4904-be99-29e9ce7f7f08\");\n",
       "  if (element == null) {\n",
       "    console.log(\"Bokeh: ERROR: autoload.js configured with elementid '63478198-421d-4904-be99-29e9ce7f7f08' but no matching script tag was found. \")\n",
       "    return false;\n",
       "  }\n",
       "\n",
       "  var js_urls = [\"https://cdn.pydata.org/bokeh/release/bokeh-0.12.13.min.js\", \"https://cdn.pydata.org/bokeh/release/bokeh-widgets-0.12.13.min.js\", \"https://cdn.pydata.org/bokeh/release/bokeh-tables-0.12.13.min.js\", \"https://cdn.pydata.org/bokeh/release/bokeh-gl-0.12.13.min.js\"];\n",
       "\n",
       "  var inline_js = [\n",
       "    function(Bokeh) {\n",
       "      Bokeh.set_log_level(\"info\");\n",
       "    },\n",
       "    \n",
       "    function(Bokeh) {\n",
       "      \n",
       "    },\n",
       "    function(Bokeh) {\n",
       "      console.log(\"Bokeh: injecting CSS: https://cdn.pydata.org/bokeh/release/bokeh-0.12.13.min.css\");\n",
       "      Bokeh.embed.inject_css(\"https://cdn.pydata.org/bokeh/release/bokeh-0.12.13.min.css\");\n",
       "      console.log(\"Bokeh: injecting CSS: https://cdn.pydata.org/bokeh/release/bokeh-widgets-0.12.13.min.css\");\n",
       "      Bokeh.embed.inject_css(\"https://cdn.pydata.org/bokeh/release/bokeh-widgets-0.12.13.min.css\");\n",
       "      console.log(\"Bokeh: injecting CSS: https://cdn.pydata.org/bokeh/release/bokeh-tables-0.12.13.min.css\");\n",
       "      Bokeh.embed.inject_css(\"https://cdn.pydata.org/bokeh/release/bokeh-tables-0.12.13.min.css\");\n",
       "    }\n",
       "  ];\n",
       "\n",
       "  function run_inline_js() {\n",
       "    \n",
       "    if ((root.Bokeh !== undefined) || (force === true)) {\n",
       "      for (var i = 0; i < inline_js.length; i++) {\n",
       "        inline_js[i].call(root, root.Bokeh);\n",
       "      }if (force === true) {\n",
       "        display_loaded();\n",
       "      }} else if (Date.now() < root._bokeh_timeout) {\n",
       "      setTimeout(run_inline_js, 100);\n",
       "    } else if (!root._bokeh_failed_load) {\n",
       "      console.log(\"Bokeh: BokehJS failed to load within specified timeout.\");\n",
       "      root._bokeh_failed_load = true;\n",
       "    } else if (force !== true) {\n",
       "      var cell = $(document.getElementById(\"63478198-421d-4904-be99-29e9ce7f7f08\")).parents('.cell').data().cell;\n",
       "      cell.output_area.append_execute_result(NB_LOAD_WARNING)\n",
       "    }\n",
       "\n",
       "  }\n",
       "\n",
       "  if (root._bokeh_is_loading === 0) {\n",
       "    console.log(\"Bokeh: BokehJS loaded, going straight to plotting\");\n",
       "    run_inline_js();\n",
       "  } else {\n",
       "    load_libs(js_urls, function() {\n",
       "      console.log(\"Bokeh: BokehJS plotting callback run at\", now());\n",
       "      run_inline_js();\n",
       "    });\n",
       "  }\n",
       "}(window));"
      ],
      "application/vnd.bokehjs_load.v0+json": "\n(function(root) {\n  function now() {\n    return new Date();\n  }\n\n  var force = true;\n\n  if (typeof (root._bokeh_onload_callbacks) === \"undefined\" || force === true) {\n    root._bokeh_onload_callbacks = [];\n    root._bokeh_is_loading = undefined;\n  }\n\n  \n\n  \n  if (typeof (root._bokeh_timeout) === \"undefined\" || force === true) {\n    root._bokeh_timeout = Date.now() + 5000;\n    root._bokeh_failed_load = false;\n  }\n\n  var NB_LOAD_WARNING = {'data': {'text/html':\n     \"<div style='background-color: #fdd'>\\n\"+\n     \"<p>\\n\"+\n     \"BokehJS does not appear to have successfully loaded. If loading BokehJS from CDN, this \\n\"+\n     \"may be due to a slow or bad network connection. Possible fixes:\\n\"+\n     \"</p>\\n\"+\n     \"<ul>\\n\"+\n     \"<li>re-rerun `output_notebook()` to attempt to load from CDN again, or</li>\\n\"+\n     \"<li>use INLINE resources instead, as so:</li>\\n\"+\n     \"</ul>\\n\"+\n     \"<code>\\n\"+\n     \"from bokeh.resources import INLINE\\n\"+\n     \"output_notebook(resources=INLINE)\\n\"+\n     \"</code>\\n\"+\n     \"</div>\"}};\n\n  function display_loaded() {\n    var el = document.getElementById(\"63478198-421d-4904-be99-29e9ce7f7f08\");\n    if (el != null) {\n      el.textContent = \"BokehJS is loading...\";\n    }\n    if (root.Bokeh !== undefined) {\n      if (el != null) {\n        el.textContent = \"BokehJS \" + root.Bokeh.version + \" successfully loaded.\";\n      }\n    } else if (Date.now() < root._bokeh_timeout) {\n      setTimeout(display_loaded, 100)\n    }\n  }\n\n\n  function run_callbacks() {\n    try {\n      root._bokeh_onload_callbacks.forEach(function(callback) { callback() });\n    }\n    finally {\n      delete root._bokeh_onload_callbacks\n    }\n    console.info(\"Bokeh: all callbacks have finished\");\n  }\n\n  function load_libs(js_urls, callback) {\n    root._bokeh_onload_callbacks.push(callback);\n    if (root._bokeh_is_loading > 0) {\n      console.log(\"Bokeh: BokehJS is being loaded, scheduling callback at\", now());\n      return null;\n    }\n    if (js_urls == null || js_urls.length === 0) {\n      run_callbacks();\n      return null;\n    }\n    console.log(\"Bokeh: BokehJS not loaded, scheduling load and callback at\", now());\n    root._bokeh_is_loading = js_urls.length;\n    for (var i = 0; i < js_urls.length; i++) {\n      var url = js_urls[i];\n      var s = document.createElement('script');\n      s.src = url;\n      s.async = false;\n      s.onreadystatechange = s.onload = function() {\n        root._bokeh_is_loading--;\n        if (root._bokeh_is_loading === 0) {\n          console.log(\"Bokeh: all BokehJS libraries loaded\");\n          run_callbacks()\n        }\n      };\n      s.onerror = function() {\n        console.warn(\"failed to load library \" + url);\n      };\n      console.log(\"Bokeh: injecting script tag for BokehJS library: \", url);\n      document.getElementsByTagName(\"head\")[0].appendChild(s);\n    }\n  };var element = document.getElementById(\"63478198-421d-4904-be99-29e9ce7f7f08\");\n  if (element == null) {\n    console.log(\"Bokeh: ERROR: autoload.js configured with elementid '63478198-421d-4904-be99-29e9ce7f7f08' but no matching script tag was found. \")\n    return false;\n  }\n\n  var js_urls = [\"https://cdn.pydata.org/bokeh/release/bokeh-0.12.13.min.js\", \"https://cdn.pydata.org/bokeh/release/bokeh-widgets-0.12.13.min.js\", \"https://cdn.pydata.org/bokeh/release/bokeh-tables-0.12.13.min.js\", \"https://cdn.pydata.org/bokeh/release/bokeh-gl-0.12.13.min.js\"];\n\n  var inline_js = [\n    function(Bokeh) {\n      Bokeh.set_log_level(\"info\");\n    },\n    \n    function(Bokeh) {\n      \n    },\n    function(Bokeh) {\n      console.log(\"Bokeh: injecting CSS: https://cdn.pydata.org/bokeh/release/bokeh-0.12.13.min.css\");\n      Bokeh.embed.inject_css(\"https://cdn.pydata.org/bokeh/release/bokeh-0.12.13.min.css\");\n      console.log(\"Bokeh: injecting CSS: https://cdn.pydata.org/bokeh/release/bokeh-widgets-0.12.13.min.css\");\n      Bokeh.embed.inject_css(\"https://cdn.pydata.org/bokeh/release/bokeh-widgets-0.12.13.min.css\");\n      console.log(\"Bokeh: injecting CSS: https://cdn.pydata.org/bokeh/release/bokeh-tables-0.12.13.min.css\");\n      Bokeh.embed.inject_css(\"https://cdn.pydata.org/bokeh/release/bokeh-tables-0.12.13.min.css\");\n    }\n  ];\n\n  function run_inline_js() {\n    \n    if ((root.Bokeh !== undefined) || (force === true)) {\n      for (var i = 0; i < inline_js.length; i++) {\n        inline_js[i].call(root, root.Bokeh);\n      }if (force === true) {\n        display_loaded();\n      }} else if (Date.now() < root._bokeh_timeout) {\n      setTimeout(run_inline_js, 100);\n    } else if (!root._bokeh_failed_load) {\n      console.log(\"Bokeh: BokehJS failed to load within specified timeout.\");\n      root._bokeh_failed_load = true;\n    } else if (force !== true) {\n      var cell = $(document.getElementById(\"63478198-421d-4904-be99-29e9ce7f7f08\")).parents('.cell').data().cell;\n      cell.output_area.append_execute_result(NB_LOAD_WARNING)\n    }\n\n  }\n\n  if (root._bokeh_is_loading === 0) {\n    console.log(\"Bokeh: BokehJS loaded, going straight to plotting\");\n    run_inline_js();\n  } else {\n    load_libs(js_urls, function() {\n      console.log(\"Bokeh: BokehJS plotting callback run at\", now());\n      run_inline_js();\n    });\n  }\n}(window));"
     },
     "metadata": {},
     "output_type": "display_data"
    }
   ],
   "source": [
    "from bokeh.io import output_notebook\n",
    "output_notebook()"
   ]
  },
  {
   "cell_type": "code",
   "execution_count": 9,
   "metadata": {
    "scrolled": true
   },
   "outputs": [],
   "source": [
    "res_folder_path = '/home/yossi//Dropbox/visualRFNN/Datasets_new/visual/Dataset_python_olshausen_160x100x50_no_writing/nnResults/'\n",
    "res_pd = rdh.compile_results_pd(res_folder_path)\n",
    "# res_pd.sort_values('final_val_cost')"
   ]
  },
  {
   "cell_type": "code",
   "execution_count": 10,
   "metadata": {
    "scrolled": true
   },
   "outputs": [],
   "source": [
    "this_save_dir = 'visual_images_with_noise/'\n",
    "root_dir='/home/yossi/yossi_local/github/temporal_prediction_model/Figures/'\n",
    "no_noise_url_pd = iplot.get_urls_for_visual_df_data(res_pd, 'log_reg_factor', 'num_filters', 'final_val_cost', server_address='', root_dir=root_dir, this_save_dir=this_save_dir, verbose=False)"
   ]
  },
  {
   "cell_type": "code",
   "execution_count": 11,
   "metadata": {},
   "outputs": [
    {
     "data": {
      "text/html": [
       "\n",
       "<div class=\"bk-root\">\n",
       "    <div class=\"bk-plotdiv\" id=\"46dec0fd-cd15-45a6-bc12-6553071c04b7\"></div>\n",
       "</div>"
      ]
     },
     "metadata": {},
     "output_type": "display_data"
    },
    {
     "data": {
      "application/javascript": [
       "(function(root) {\n",
       "  function embed_document(root) {\n",
       "    \n",
       "  var docs_json = {\"7fd15240-1bdf-4d3b-bc55-4a4fcf2210cb\":{\"roots\":{\"references\":[{\"attributes\":{},\"id\":\"56756111-0f14-45a0-aa5f-8609a656e28c\",\"type\":\"CategoricalTicker\"},{\"attributes\":{},\"id\":\"abc3d995-261b-4b39-aae2-ebf0ffb83a46\",\"type\":\"PanTool\"},{\"attributes\":{\"callback\":null,\"factors\":[\"0\",\"1\",\"2\",\"3\",\"4\",\"5\",\"6\",\"7\",\"8\",\"9\"]},\"id\":\"b2b5ce6f-68ae-42d2-b810-b53cbbcb15ed\",\"type\":\"FactorRange\"},{\"attributes\":{\"callback\":null,\"column_names\":[\"final_val_cost\",\"log_reg_factor\",\"results_path\",\"num_filters\",\"y\",\"x\",\"color\",\"index\",\"url\"],\"data\":{\"color\":[\"#4dffaa\",\"#00a4ff\",\"#56ffa0\",\"#0014ff\",\"#7dff7a\",\"#000089\",\"#adff49\",\"#000080\",\"#adff49\",\"#0000e3\",\"#ffa300\",\"#004cff\",\"#ffe600\",\"#26ffd1\",\"#800000\",\"#9b0000\"],\"final_val_cost\":{\"__ndarray__\":\"H4Xr2V2z3z9xPQonl5PeP83MzLQ5yt8/XI/CXWyO3T/sUbiCrA/gP4/C9XSUk9w/FK5HPxFG4D+amZl1KIHcP9ejcLmhReA/MzMzAyoj3T/D9Si4DOjgP/YoXJdI8d0/exSuZ3+n4D+PwvWov1/fP4/C9TDc2+E/w/UopBDG4T8=\",\"dtype\":\"float64\",\"shape\":[16]},\"index\":[1,4,2,12,9,14,7,13,5,15,6,3,10,11,8,0],\"log_reg_factor\":{\"__ndarray__\":\"AAAAAAAA8P8AAAAAAADw/wAAAAAAABzAAAAAAAAAHMAAAAAAAAAawAAAAAAAABrAAAAAAAAAGcAAAAAAAAAZwAAAAAAAABjAAAAAAAAAGMAAAAAAAAAXwAAAAAAAABfAAAAAAAAAFsAAAAAAAAAWwAAAAAAAABTAAAAAAAAAFMA=\",\"dtype\":\"float64\",\"shape\":[16]},\"num_filters\":[400,1600,400,1600,400,1600,400,1600,400,1600,400,1600,400,1600,400,1600],\"results_path\":[\"/home/yossi//Dropbox/visualRFNN/Datasets_new/visual/Dataset_python_olshausen_160x100x50_no_writing/nnResults/num_filters_400_reg_factor_0/python_network.pkl\",\"/home/yossi//Dropbox/visualRFNN/Datasets_new/visual/Dataset_python_olshausen_160x100x50_no_writing/nnResults/num_filters_1600_reg_factor_0/python_network.pkl\",\"/home/yossi//Dropbox/visualRFNN/Datasets_new/visual/Dataset_python_olshausen_160x100x50_no_writing/nnResults/num_filters_400_reg_factor_1e-07_t_filter_length_7/python_network.pkl\",\"/home/yossi//Dropbox/visualRFNN/Datasets_new/visual/Dataset_python_olshausen_160x100x50_no_writing/nnResults/num_filters_1600_reg_factor_1e-07_t_filter_length_7/python_network.pkl\",\"/home/yossi//Dropbox/visualRFNN/Datasets_new/visual/Dataset_python_olshausen_160x100x50_no_writing/nnResults/num_filters_400_reg_factor_3.162e-07_t_filter_length_7/python_network.pkl\",\"/home/yossi//Dropbox/visualRFNN/Datasets_new/visual/Dataset_python_olshausen_160x100x50_no_writing/nnResults/num_filters_1600_reg_factor_3.162e-07_t_filter_length_7/python_network.pkl\",\"/home/yossi//Dropbox/visualRFNN/Datasets_new/visual/Dataset_python_olshausen_160x100x50_no_writing/nnResults/num_filters_400_reg_factor_5.623e-07_t_filter_length_7/python_network.pkl\",\"/home/yossi//Dropbox/visualRFNN/Datasets_new/visual/Dataset_python_olshausen_160x100x50_no_writing/nnResults/num_filters_1600_reg_factor_5.623e-07_t_filter_length_7/python_network.pkl\",\"/home/yossi//Dropbox/visualRFNN/Datasets_new/visual/Dataset_python_olshausen_160x100x50_no_writing/nnResults/num_filters_400_reg_factor_1e-06_t_filter_length_7/python_network.pkl\",\"/home/yossi//Dropbox/visualRFNN/Datasets_new/visual/Dataset_python_olshausen_160x100x50_no_writing/nnResults/num_filters_1600_reg_factor_1e-06_t_filter_length_7/python_network.pkl\",\"/home/yossi//Dropbox/visualRFNN/Datasets_new/visual/Dataset_python_olshausen_160x100x50_no_writing/nnResults/num_filters_400_reg_factor_1.7783e-06_t_filter_length_7/python_network.pkl\",\"/home/yossi//Dropbox/visualRFNN/Datasets_new/visual/Dataset_python_olshausen_160x100x50_no_writing/nnResults/num_filters_1600_reg_factor_1.7783e-06_t_filter_length_7/python_network.pkl\",\"/home/yossi//Dropbox/visualRFNN/Datasets_new/visual/Dataset_python_olshausen_160x100x50_no_writing/nnResults/num_filters_400_reg_factor_3.1623e-06_t_filter_length_7/python_network.pkl\",\"/home/yossi//Dropbox/visualRFNN/Datasets_new/visual/Dataset_python_olshausen_160x100x50_no_writing/nnResults/num_filters_1600_reg_factor_3.1623e-06_t_filter_length_7/python_network.pkl\",\"/home/yossi//Dropbox/visualRFNN/Datasets_new/visual/Dataset_python_olshausen_160x100x50_no_writing/nnResults/num_filters_400_reg_factor_1e-05_t_filter_length_7/python_network.pkl\",\"/home/yossi//Dropbox/visualRFNN/Datasets_new/visual/Dataset_python_olshausen_160x100x50_no_writing/nnResults/num_filters_1600_reg_factor_1e-05_t_filter_length_7/python_network.pkl\"],\"url\":[\"visual_images_with_noise/t_step=7/weight_img_1.jpeg\",\"visual_images_with_noise/t_step=7/weight_img_4.jpeg\",\"visual_images_with_noise/t_step=7/weight_img_2.jpeg\",\"visual_images_with_noise/t_step=7/weight_img_12.jpeg\",\"visual_images_with_noise/t_step=7/weight_img_9.jpeg\",\"visual_images_with_noise/t_step=7/weight_img_14.jpeg\",\"visual_images_with_noise/t_step=7/weight_img_7.jpeg\",\"visual_images_with_noise/t_step=7/weight_img_13.jpeg\",\"visual_images_with_noise/t_step=7/weight_img_5.jpeg\",\"visual_images_with_noise/t_step=7/weight_img_15.jpeg\",\"visual_images_with_noise/t_step=7/weight_img_6.jpeg\",\"visual_images_with_noise/t_step=7/weight_img_3.jpeg\",\"visual_images_with_noise/t_step=7/weight_img_10.jpeg\",\"visual_images_with_noise/t_step=7/weight_img_11.jpeg\",\"visual_images_with_noise/t_step=7/weight_img_8.jpeg\",\"visual_images_with_noise/t_step=7/weight_img_0.jpeg\"],\"x\":[\"-inf\",\"-inf\",\"-7.0\",\"-7.0\",\"-6.5\",\"-6.5\",\"-6.25\",\"-6.25\",\"-6.0\",\"-6.0\",\"-5.75\",\"-5.75\",\"-5.5\",\"-5.5\",\"-5.0\",\"-5.0\"],\"y\":[\"400\",\"1600\",\"400\",\"1600\",\"400\",\"1600\",\"400\",\"1600\",\"400\",\"1600\",\"400\",\"1600\",\"400\",\"1600\",\"400\",\"1600\"]}},\"id\":\"4fbad092-b31f-4761-a6c6-2d4e24348147\",\"type\":\"ColumnDataSource\"},{\"attributes\":{},\"id\":\"e8e9392b-0264-42c6-93a9-fc8ae57d1548\",\"type\":\"CategoricalScale\"},{\"attributes\":{},\"id\":\"614ce5d0-28dd-4acc-82c1-6970d3dc1773\",\"type\":\"CategoricalTickFormatter\"},{\"attributes\":{\"active_drag\":\"auto\",\"active_inspect\":\"auto\",\"active_scroll\":\"auto\",\"active_tap\":\"auto\",\"tools\":[{\"id\":\"b1accb4a-c116-4b34-9e5e-567ee2d9859f\",\"type\":\"HoverTool\"},{\"id\":\"d285211d-c213-4df6-92c3-d151ff7cdf85\",\"type\":\"ZoomInTool\"},{\"id\":\"c1c07bb4-a3fc-47a6-9646-01c1ebb1c3b1\",\"type\":\"ZoomOutTool\"},{\"id\":\"abc3d995-261b-4b39-aae2-ebf0ffb83a46\",\"type\":\"PanTool\"},{\"id\":\"e11b0b74-75cd-4ca5-a0cb-32eb9b37d7ae\",\"type\":\"ResetTool\"}]},\"id\":\"45bc0f13-7e8c-45bf-96ed-60740846b6fc\",\"type\":\"Toolbar\"},{\"attributes\":{\"below\":[{\"id\":\"39ca94cb-d4ca-4934-99f4-45330bde9983\",\"type\":\"CategoricalAxis\"}],\"left\":[{\"id\":\"97c64b10-b812-4a5c-b31f-db2007d273ee\",\"type\":\"CategoricalAxis\"}],\"renderers\":[{\"id\":\"39ca94cb-d4ca-4934-99f4-45330bde9983\",\"type\":\"CategoricalAxis\"},{\"id\":\"ff66e775-3d73-4dba-972b-8d8aec816313\",\"type\":\"Grid\"},{\"id\":\"97c64b10-b812-4a5c-b31f-db2007d273ee\",\"type\":\"CategoricalAxis\"},{\"id\":\"a4a37fd3-f5f5-4a01-9aa6-369eafc2967c\",\"type\":\"Grid\"},{\"id\":\"c745b225-8feb-4f6d-bc67-07a189c2b81c\",\"type\":\"GlyphRenderer\"}],\"title\":{\"id\":\"8932bf40-bca9-4c63-9194-ad40db8e3d1b\",\"type\":\"Title\"},\"toolbar\":{\"id\":\"45bc0f13-7e8c-45bf-96ed-60740846b6fc\",\"type\":\"Toolbar\"},\"toolbar_location\":null,\"x_range\":{\"id\":\"6deb8e3d-8f1f-4833-aace-0c76ceaa0658\",\"type\":\"FactorRange\"},\"x_scale\":{\"id\":\"8a200701-4b9c-4e3c-a93a-e37992c48206\",\"type\":\"CategoricalScale\"},\"y_range\":{\"id\":\"b2b5ce6f-68ae-42d2-b810-b53cbbcb15ed\",\"type\":\"FactorRange\"},\"y_scale\":{\"id\":\"33d393e6-65a4-4ee2-8be0-e1bf70fc8b3f\",\"type\":\"CategoricalScale\"}},\"id\":\"8ff1fbab-3946-47c1-a233-e7fc34d1723d\",\"subtype\":\"Figure\",\"type\":\"Plot\"},{\"attributes\":{},\"id\":\"fea9319a-ac96-4187-a9a4-97904d611b00\",\"type\":\"CategoricalTicker\"},{\"attributes\":{\"callback\":{\"id\":\"2d2d1eeb-13a3-48ca-9060-acd99d5c055e\",\"type\":\"CustomJS\"},\"tooltips\":null},\"id\":\"d7181671-f207-447b-96e1-f16d158c0113\",\"type\":\"HoverTool\"},{\"attributes\":{\"callback\":null,\"column_names\":[\"final_val_cost\",\"log_reg_factor\",\"results_path\",\"num_filters\",\"y\",\"x\",\"color\",\"index\",\"url\"],\"data\":{\"color\":[\"#4dffaa\",\"#00a4ff\",\"#56ffa0\",\"#0014ff\",\"#7dff7a\",\"#000089\",\"#adff49\",\"#000080\",\"#adff49\",\"#0000e3\",\"#ffa300\",\"#004cff\",\"#ffe600\",\"#26ffd1\",\"#800000\",\"#9b0000\"],\"final_val_cost\":{\"__ndarray__\":\"H4Xr2V2z3z9xPQonl5PeP83MzLQ5yt8/XI/CXWyO3T/sUbiCrA/gP4/C9XSUk9w/FK5HPxFG4D+amZl1KIHcP9ejcLmhReA/MzMzAyoj3T/D9Si4DOjgP/YoXJdI8d0/exSuZ3+n4D+PwvWov1/fP4/C9TDc2+E/w/UopBDG4T8=\",\"dtype\":\"float64\",\"shape\":[16]},\"index\":[1,4,2,12,9,14,7,13,5,15,6,3,10,11,8,0],\"log_reg_factor\":{\"__ndarray__\":\"AAAAAAAA8P8AAAAAAADw/wAAAAAAABzAAAAAAAAAHMAAAAAAAAAawAAAAAAAABrAAAAAAAAAGcAAAAAAAAAZwAAAAAAAABjAAAAAAAAAGMAAAAAAAAAXwAAAAAAAABfAAAAAAAAAFsAAAAAAAAAWwAAAAAAAABTAAAAAAAAAFMA=\",\"dtype\":\"float64\",\"shape\":[16]},\"num_filters\":[400,1600,400,1600,400,1600,400,1600,400,1600,400,1600,400,1600,400,1600],\"results_path\":[\"/home/yossi//Dropbox/visualRFNN/Datasets_new/visual/Dataset_python_olshausen_160x100x50_no_writing/nnResults/num_filters_400_reg_factor_0/python_network.pkl\",\"/home/yossi//Dropbox/visualRFNN/Datasets_new/visual/Dataset_python_olshausen_160x100x50_no_writing/nnResults/num_filters_1600_reg_factor_0/python_network.pkl\",\"/home/yossi//Dropbox/visualRFNN/Datasets_new/visual/Dataset_python_olshausen_160x100x50_no_writing/nnResults/num_filters_400_reg_factor_1e-07_t_filter_length_7/python_network.pkl\",\"/home/yossi//Dropbox/visualRFNN/Datasets_new/visual/Dataset_python_olshausen_160x100x50_no_writing/nnResults/num_filters_1600_reg_factor_1e-07_t_filter_length_7/python_network.pkl\",\"/home/yossi//Dropbox/visualRFNN/Datasets_new/visual/Dataset_python_olshausen_160x100x50_no_writing/nnResults/num_filters_400_reg_factor_3.162e-07_t_filter_length_7/python_network.pkl\",\"/home/yossi//Dropbox/visualRFNN/Datasets_new/visual/Dataset_python_olshausen_160x100x50_no_writing/nnResults/num_filters_1600_reg_factor_3.162e-07_t_filter_length_7/python_network.pkl\",\"/home/yossi//Dropbox/visualRFNN/Datasets_new/visual/Dataset_python_olshausen_160x100x50_no_writing/nnResults/num_filters_400_reg_factor_5.623e-07_t_filter_length_7/python_network.pkl\",\"/home/yossi//Dropbox/visualRFNN/Datasets_new/visual/Dataset_python_olshausen_160x100x50_no_writing/nnResults/num_filters_1600_reg_factor_5.623e-07_t_filter_length_7/python_network.pkl\",\"/home/yossi//Dropbox/visualRFNN/Datasets_new/visual/Dataset_python_olshausen_160x100x50_no_writing/nnResults/num_filters_400_reg_factor_1e-06_t_filter_length_7/python_network.pkl\",\"/home/yossi//Dropbox/visualRFNN/Datasets_new/visual/Dataset_python_olshausen_160x100x50_no_writing/nnResults/num_filters_1600_reg_factor_1e-06_t_filter_length_7/python_network.pkl\",\"/home/yossi//Dropbox/visualRFNN/Datasets_new/visual/Dataset_python_olshausen_160x100x50_no_writing/nnResults/num_filters_400_reg_factor_1.7783e-06_t_filter_length_7/python_network.pkl\",\"/home/yossi//Dropbox/visualRFNN/Datasets_new/visual/Dataset_python_olshausen_160x100x50_no_writing/nnResults/num_filters_1600_reg_factor_1.7783e-06_t_filter_length_7/python_network.pkl\",\"/home/yossi//Dropbox/visualRFNN/Datasets_new/visual/Dataset_python_olshausen_160x100x50_no_writing/nnResults/num_filters_400_reg_factor_3.1623e-06_t_filter_length_7/python_network.pkl\",\"/home/yossi//Dropbox/visualRFNN/Datasets_new/visual/Dataset_python_olshausen_160x100x50_no_writing/nnResults/num_filters_1600_reg_factor_3.1623e-06_t_filter_length_7/python_network.pkl\",\"/home/yossi//Dropbox/visualRFNN/Datasets_new/visual/Dataset_python_olshausen_160x100x50_no_writing/nnResults/num_filters_400_reg_factor_1e-05_t_filter_length_7/python_network.pkl\",\"/home/yossi//Dropbox/visualRFNN/Datasets_new/visual/Dataset_python_olshausen_160x100x50_no_writing/nnResults/num_filters_1600_reg_factor_1e-05_t_filter_length_7/python_network.pkl\"],\"url\":[\"visual_images_with_noise/t_step=7/weight_img_1.jpeg\",\"visual_images_with_noise/t_step=7/weight_img_4.jpeg\",\"visual_images_with_noise/t_step=7/weight_img_2.jpeg\",\"visual_images_with_noise/t_step=7/weight_img_12.jpeg\",\"visual_images_with_noise/t_step=7/weight_img_9.jpeg\",\"visual_images_with_noise/t_step=7/weight_img_14.jpeg\",\"visual_images_with_noise/t_step=7/weight_img_7.jpeg\",\"visual_images_with_noise/t_step=7/weight_img_13.jpeg\",\"visual_images_with_noise/t_step=7/weight_img_5.jpeg\",\"visual_images_with_noise/t_step=7/weight_img_15.jpeg\",\"visual_images_with_noise/t_step=7/weight_img_6.jpeg\",\"visual_images_with_noise/t_step=7/weight_img_3.jpeg\",\"visual_images_with_noise/t_step=7/weight_img_10.jpeg\",\"visual_images_with_noise/t_step=7/weight_img_11.jpeg\",\"visual_images_with_noise/t_step=7/weight_img_8.jpeg\",\"visual_images_with_noise/t_step=7/weight_img_0.jpeg\"],\"x\":[\"-inf\",\"-inf\",\"-7.0\",\"-7.0\",\"-6.5\",\"-6.5\",\"-6.25\",\"-6.25\",\"-6.0\",\"-6.0\",\"-5.75\",\"-5.75\",\"-5.5\",\"-5.5\",\"-5.0\",\"-5.0\"],\"y\":[\"400\",\"1600\",\"400\",\"1600\",\"400\",\"1600\",\"400\",\"1600\",\"400\",\"1600\",\"400\",\"1600\",\"400\",\"1600\",\"400\",\"1600\"]}},\"id\":\"e42692e3-e28e-4b6c-ac7b-034db9f4867f\",\"type\":\"ColumnDataSource\"},{\"attributes\":{\"data_source\":{\"id\":\"e42692e3-e28e-4b6c-ac7b-034db9f4867f\",\"type\":\"ColumnDataSource\"},\"glyph\":{\"id\":\"96795858-541a-43b6-93c4-98d53fa7ffe6\",\"type\":\"Rect\"},\"hover_glyph\":null,\"muted_glyph\":null,\"nonselection_glyph\":{\"id\":\"4b8dcd91-f9bc-4fd5-91de-b76c77bd0e31\",\"type\":\"Rect\"},\"selection_glyph\":null,\"view\":{\"id\":\"356aa740-3cba-4c35-bedc-e73062c2931c\",\"type\":\"CDSView\"}},\"id\":\"a741b1b7-0b48-4085-897f-f78ccc951a01\",\"type\":\"GlyphRenderer\"},{\"attributes\":{},\"id\":\"9f12af6f-9ea5-4b6a-86be-b1d800c81fbf\",\"type\":\"CategoricalTicker\"},{\"attributes\":{\"formatter\":{\"id\":\"d96343be-7547-4092-a3eb-258e1a2673fc\",\"type\":\"CategoricalTickFormatter\"},\"major_label_text_font_size\":{\"value\":\"0pt\"},\"plot\":{\"id\":\"8ff1fbab-3946-47c1-a233-e7fc34d1723d\",\"subtype\":\"Figure\",\"type\":\"Plot\"},\"ticker\":{\"id\":\"9f12af6f-9ea5-4b6a-86be-b1d800c81fbf\",\"type\":\"CategoricalTicker\"}},\"id\":\"39ca94cb-d4ca-4934-99f4-45330bde9983\",\"type\":\"CategoricalAxis\"},{\"attributes\":{},\"id\":\"8a200701-4b9c-4e3c-a93a-e37992c48206\",\"type\":\"CategoricalScale\"},{\"attributes\":{\"children\":[{\"id\":\"de345479-6d83-41d4-aea8-25d9ff711bb6\",\"type\":\"Spacer\"},{\"id\":\"61c48928-eeed-4635-bbcb-e0f6eab2e1d4\",\"type\":\"WidgetBox\"}]},\"id\":\"071575e4-a626-4136-9854-976e7df23b4c\",\"type\":\"Row\"},{\"attributes\":{\"data_source\":{\"id\":\"144343a8-8203-4229-9a06-134ff6ecbe56\",\"type\":\"ColumnDataSource\"},\"glyph\":{\"id\":\"4d267359-2c4a-4799-a2b0-8412fd89c245\",\"type\":\"ImageURL\"},\"hover_glyph\":null,\"muted_glyph\":null,\"nonselection_glyph\":{\"id\":\"db7a5d1c-8d07-4a1d-870d-65fd0f9999fb\",\"type\":\"ImageURL\"},\"selection_glyph\":null,\"view\":{\"id\":\"e1b76bb3-a241-465a-b6df-8341bdc53a6a\",\"type\":\"CDSView\"}},\"id\":\"c745b225-8feb-4f6d-bc67-07a189c2b81c\",\"type\":\"GlyphRenderer\"},{\"attributes\":{\"fill_color\":{\"field\":\"color\"},\"height\":{\"units\":\"data\",\"value\":1},\"line_color\":{\"field\":\"color\"},\"width\":{\"units\":\"data\",\"value\":1},\"x\":{\"field\":\"x\"},\"y\":{\"field\":\"y\"}},\"id\":\"96795858-541a-43b6-93c4-98d53fa7ffe6\",\"type\":\"Rect\"},{\"attributes\":{\"formatter\":{\"id\":\"7f009c55-c04e-4e2e-84ae-3e6a1bf53f4a\",\"type\":\"CategoricalTickFormatter\"},\"major_label_text_font_size\":{\"value\":\"0pt\"},\"plot\":{\"id\":\"8ff1fbab-3946-47c1-a233-e7fc34d1723d\",\"subtype\":\"Figure\",\"type\":\"Plot\"},\"ticker\":{\"id\":\"648d9fba-e2b7-447e-898e-e1d200f1ca42\",\"type\":\"CategoricalTicker\"}},\"id\":\"97c64b10-b812-4a5c-b31f-db2007d273ee\",\"type\":\"CategoricalAxis\"},{\"attributes\":{\"anchor\":\"bottom_left\",\"h\":{\"field\":\"dh\",\"units\":\"data\"},\"url\":{\"field\":\"url\"},\"w\":{\"field\":\"dw\",\"units\":\"data\"},\"x\":{\"value\":0},\"y\":{\"value\":0}},\"id\":\"4d267359-2c4a-4799-a2b0-8412fd89c245\",\"type\":\"ImageURL\"},{\"attributes\":{\"anchor\":\"bottom_left\",\"h\":{\"field\":\"dh\",\"units\":\"data\"},\"url\":{\"field\":\"url\"},\"w\":{\"field\":\"dw\",\"units\":\"data\"},\"x\":{\"value\":0},\"y\":{\"value\":0}},\"id\":\"db7a5d1c-8d07-4a1d-870d-65fd0f9999fb\",\"type\":\"ImageURL\"},{\"attributes\":{},\"id\":\"d285211d-c213-4df6-92c3-d151ff7cdf85\",\"type\":\"ZoomInTool\"},{\"attributes\":{\"children\":[{\"id\":\"071575e4-a626-4136-9854-976e7df23b4c\",\"type\":\"Row\"},{\"id\":\"8a48eecf-57ce-4c61-8b23-12ff45982d90\",\"type\":\"Row\"}]},\"id\":\"09927d4e-f287-48eb-8ecc-65d8c7338df0\",\"type\":\"Column\"},{\"attributes\":{},\"id\":\"964811c8-a1e1-4722-bc08-6df03b01b734\",\"type\":\"CategoricalScale\"},{\"attributes\":{\"plot\":{\"id\":\"3d4dabc8-0ffa-4151-81d7-ce0cc582b5a3\",\"subtype\":\"Figure\",\"type\":\"Plot\"},\"ticker\":{\"id\":\"fea9319a-ac96-4187-a9a4-97904d611b00\",\"type\":\"CategoricalTicker\"}},\"id\":\"bcaac255-e614-4cc7-9f98-3e8b9fbe9d4d\",\"type\":\"Grid\"},{\"attributes\":{\"toolbar\":{\"id\":\"3510adaf-9a2b-42a4-9ed1-d222642f495b\",\"type\":\"ProxyToolbar\"},\"toolbar_location\":\"above\"},\"id\":\"d6502593-52c0-41be-ac0e-9d511ca6ae53\",\"type\":\"ToolbarBox\"},{\"attributes\":{\"height\":0,\"width\":0},\"id\":\"de345479-6d83-41d4-aea8-25d9ff711bb6\",\"type\":\"Spacer\"},{\"attributes\":{\"children\":[{\"id\":\"5d724e0c-952d-49bd-8ffc-931d704ab56a\",\"type\":\"Slider\"}]},\"id\":\"61c48928-eeed-4635-bbcb-e0f6eab2e1d4\",\"type\":\"WidgetBox\"},{\"attributes\":{\"below\":[{\"id\":\"4ae3c263-3e05-409f-bbd7-1f7c06d4b2eb\",\"type\":\"CategoricalAxis\"}],\"left\":[{\"id\":\"ba4f80bb-c263-4311-9993-be90f072684e\",\"type\":\"CategoricalAxis\"}],\"renderers\":[{\"id\":\"4ae3c263-3e05-409f-bbd7-1f7c06d4b2eb\",\"type\":\"CategoricalAxis\"},{\"id\":\"bcaac255-e614-4cc7-9f98-3e8b9fbe9d4d\",\"type\":\"Grid\"},{\"id\":\"ba4f80bb-c263-4311-9993-be90f072684e\",\"type\":\"CategoricalAxis\"},{\"id\":\"61645694-4834-4f2f-9473-8c4f224c25e5\",\"type\":\"Grid\"},{\"id\":\"a741b1b7-0b48-4085-897f-f78ccc951a01\",\"type\":\"GlyphRenderer\"}],\"title\":{\"id\":\"91ec6206-9d24-41e2-8970-0e49ea320277\",\"type\":\"Title\"},\"toolbar\":{\"id\":\"562b8fa9-41e0-47ad-97d0-267b61e3b422\",\"type\":\"Toolbar\"},\"toolbar_location\":null,\"x_range\":{\"id\":\"4452ae6b-fad8-4853-ab66-f7a476b67d7e\",\"type\":\"FactorRange\"},\"x_scale\":{\"id\":\"964811c8-a1e1-4722-bc08-6df03b01b734\",\"type\":\"CategoricalScale\"},\"y_range\":{\"id\":\"80472f2b-e4a4-449d-ae67-0237555515b0\",\"type\":\"FactorRange\"},\"y_scale\":{\"id\":\"e8e9392b-0264-42c6-93a9-fc8ae57d1548\",\"type\":\"CategoricalScale\"}},\"id\":\"3d4dabc8-0ffa-4151-81d7-ce0cc582b5a3\",\"subtype\":\"Figure\",\"type\":\"Plot\"},{\"attributes\":{\"children\":[{\"id\":\"3d4dabc8-0ffa-4151-81d7-ce0cc582b5a3\",\"subtype\":\"Figure\",\"type\":\"Plot\"},{\"id\":\"8ff1fbab-3946-47c1-a233-e7fc34d1723d\",\"subtype\":\"Figure\",\"type\":\"Plot\"}]},\"id\":\"8a48eecf-57ce-4c61-8b23-12ff45982d90\",\"type\":\"Row\"},{\"attributes\":{\"active_drag\":\"auto\",\"active_inspect\":\"auto\",\"active_scroll\":\"auto\",\"active_tap\":\"auto\",\"tools\":[{\"id\":\"d7181671-f207-447b-96e1-f16d158c0113\",\"type\":\"HoverTool\"}]},\"id\":\"562b8fa9-41e0-47ad-97d0-267b61e3b422\",\"type\":\"Toolbar\"},{\"attributes\":{\"dimension\":1,\"plot\":{\"id\":\"3d4dabc8-0ffa-4151-81d7-ce0cc582b5a3\",\"subtype\":\"Figure\",\"type\":\"Plot\"},\"ticker\":{\"id\":\"56756111-0f14-45a0-aa5f-8609a656e28c\",\"type\":\"CategoricalTicker\"}},\"id\":\"61645694-4834-4f2f-9473-8c4f224c25e5\",\"type\":\"Grid\"},{\"attributes\":{\"source\":{\"id\":\"e42692e3-e28e-4b6c-ac7b-034db9f4867f\",\"type\":\"ColumnDataSource\"}},\"id\":\"356aa740-3cba-4c35-bedc-e73062c2931c\",\"type\":\"CDSView\"},{\"attributes\":{\"axis_label\":\"Number of hidden units\",\"axis_label_text_font_size\":{\"value\":\"20pt\"},\"formatter\":{\"id\":\"64f23f52-e353-4b48-b9f4-51157208356c\",\"type\":\"CategoricalTickFormatter\"},\"major_label_text_font_size\":{\"value\":\"12pt\"},\"plot\":{\"id\":\"3d4dabc8-0ffa-4151-81d7-ce0cc582b5a3\",\"subtype\":\"Figure\",\"type\":\"Plot\"},\"ticker\":{\"id\":\"56756111-0f14-45a0-aa5f-8609a656e28c\",\"type\":\"CategoricalTicker\"}},\"id\":\"ba4f80bb-c263-4311-9993-be90f072684e\",\"type\":\"CategoricalAxis\"},{\"attributes\":{\"callback\":null,\"column_names\":[\"y\",\"x\",\"dh\",\"dw\",\"url\"],\"data\":{\"dh\":[],\"dw\":[],\"url\":[],\"x\":[],\"y\":[]}},\"id\":\"144343a8-8203-4229-9a06-134ff6ecbe56\",\"type\":\"ColumnDataSource\"},{\"attributes\":{},\"id\":\"648d9fba-e2b7-447e-898e-e1d200f1ca42\",\"type\":\"CategoricalTicker\"},{\"attributes\":{\"source\":{\"id\":\"144343a8-8203-4229-9a06-134ff6ecbe56\",\"type\":\"ColumnDataSource\"}},\"id\":\"e1b76bb3-a241-465a-b6df-8341bdc53a6a\",\"type\":\"CDSView\"},{\"attributes\":{},\"id\":\"7f009c55-c04e-4e2e-84ae-3e6a1bf53f4a\",\"type\":\"CategoricalTickFormatter\"},{\"attributes\":{\"tools\":[{\"id\":\"d7181671-f207-447b-96e1-f16d158c0113\",\"type\":\"HoverTool\"},{\"id\":\"b1accb4a-c116-4b34-9e5e-567ee2d9859f\",\"type\":\"HoverTool\"},{\"id\":\"d285211d-c213-4df6-92c3-d151ff7cdf85\",\"type\":\"ZoomInTool\"},{\"id\":\"c1c07bb4-a3fc-47a6-9646-01c1ebb1c3b1\",\"type\":\"ZoomOutTool\"},{\"id\":\"abc3d995-261b-4b39-aae2-ebf0ffb83a46\",\"type\":\"PanTool\"},{\"id\":\"e11b0b74-75cd-4ca5-a0cb-32eb9b37d7ae\",\"type\":\"ResetTool\"}]},\"id\":\"3510adaf-9a2b-42a4-9ed1-d222642f495b\",\"type\":\"ProxyToolbar\"},{\"attributes\":{\"callback\":null},\"id\":\"b1accb4a-c116-4b34-9e5e-567ee2d9859f\",\"type\":\"HoverTool\"},{\"attributes\":{\"args\":{\"s2\":{\"id\":\"144343a8-8203-4229-9a06-134ff6ecbe56\",\"type\":\"ColumnDataSource\"},\"s3\":{\"id\":\"4fbad092-b31f-4761-a6c6-2d4e24348147\",\"type\":\"ColumnDataSource\"}},\"code\":\"\\n            console.log(cb_obj)\\n            console.log(cb_obj.index)\\n            var attrs = []; \\n            if (cb_obj.event_name == 'tap') {\\n                console.log('here')\\n               // var ix = attrs['x'] + attrs['y']\\n\\n            }\\n            //check if the slider value has changed. If it has, update the timestep of the image being displayed\\n            var value = cb_obj.value\\n            if (value === parseInt(value, 10)) {\\n                console.log(value)\\n                console.log(s2.data)\\n                var old_url = s2.data.url\\n                    if (old_url != []) {\\n                      old_url=old_url[0]\\n                      console.log(old_url)\\n                      var split_url = old_url.split(\\\"=\\\");\\n                      split_url[1] = split_url[1].replace(split_url[1][0], value);\\n                      new_url = split_url[0]+\\\"=\\\"+split_url[1];\\n                      var d2 = s2.data;\\n                      d2['url'] = [new_url]\\n                      s2.change.emit();\\n    } \\n            }\\n\\n\\n           console.log(attrs)\\n          //  console.log(cb_data)\\n\\n            \"},\"id\":\"4569a6ab-c251-45b7-8dec-42f72d03c2f3\",\"type\":\"CustomJS\"},{\"attributes\":{},\"id\":\"33d393e6-65a4-4ee2-8be0-e1bf70fc8b3f\",\"type\":\"CategoricalScale\"},{\"attributes\":{\"dimension\":1,\"plot\":{\"id\":\"8ff1fbab-3946-47c1-a233-e7fc34d1723d\",\"subtype\":\"Figure\",\"type\":\"Plot\"},\"ticker\":{\"id\":\"648d9fba-e2b7-447e-898e-e1d200f1ca42\",\"type\":\"CategoricalTicker\"}},\"id\":\"a4a37fd3-f5f5-4a01-9aa6-369eafc2967c\",\"type\":\"Grid\"},{\"attributes\":{},\"id\":\"d96343be-7547-4092-a3eb-258e1a2673fc\",\"type\":\"CategoricalTickFormatter\"},{\"attributes\":{},\"id\":\"c1c07bb4-a3fc-47a6-9646-01c1ebb1c3b1\",\"type\":\"ZoomOutTool\"},{\"attributes\":{\"axis_label\":\"Strength of L1 regularisation on weights\",\"axis_label_text_font_size\":{\"value\":\"20pt\"},\"formatter\":{\"id\":\"614ce5d0-28dd-4acc-82c1-6970d3dc1773\",\"type\":\"CategoricalTickFormatter\"},\"major_label_text_font_size\":{\"value\":\"12pt\"},\"plot\":{\"id\":\"3d4dabc8-0ffa-4151-81d7-ce0cc582b5a3\",\"subtype\":\"Figure\",\"type\":\"Plot\"},\"ticker\":{\"id\":\"fea9319a-ac96-4187-a9a4-97904d611b00\",\"type\":\"CategoricalTicker\"}},\"id\":\"4ae3c263-3e05-409f-bbd7-1f7c06d4b2eb\",\"type\":\"CategoricalAxis\"},{\"attributes\":{\"plot\":{\"id\":\"8ff1fbab-3946-47c1-a233-e7fc34d1723d\",\"subtype\":\"Figure\",\"type\":\"Plot\"},\"ticker\":{\"id\":\"9f12af6f-9ea5-4b6a-86be-b1d800c81fbf\",\"type\":\"CategoricalTicker\"}},\"id\":\"ff66e775-3d73-4dba-972b-8d8aec816313\",\"type\":\"Grid\"},{\"attributes\":{\"callback\":null,\"factors\":[\"0\",\"1\",\"2\",\"3\",\"4\",\"5\",\"6\",\"7\",\"8\",\"9\"]},\"id\":\"6deb8e3d-8f1f-4833-aace-0c76ceaa0658\",\"type\":\"FactorRange\"},{\"attributes\":{\"callback\":null,\"callback_policy\":\"continuous\",\"end\":7,\"js_property_callbacks\":{\"change:value\":[{\"id\":\"4569a6ab-c251-45b7-8dec-42f72d03c2f3\",\"type\":\"CustomJS\"}]},\"start\":1,\"title\":\"Time step\",\"value\":7},\"id\":\"5d724e0c-952d-49bd-8ffc-931d704ab56a\",\"type\":\"Slider\"},{\"attributes\":{},\"id\":\"e11b0b74-75cd-4ca5-a0cb-32eb9b37d7ae\",\"type\":\"ResetTool\"},{\"attributes\":{\"args\":{\"s2\":{\"id\":\"144343a8-8203-4229-9a06-134ff6ecbe56\",\"type\":\"ColumnDataSource\"},\"s3\":{\"id\":\"4fbad092-b31f-4761-a6c6-2d4e24348147\",\"type\":\"ColumnDataSource\"},\"slider\":{\"id\":\"5d724e0c-952d-49bd-8ffc-931d704ab56a\",\"type\":\"Slider\"}},\"code\":\"\\n    //console.log(cb_data)\\n    var indices = cb_data.index['1d'].indices;\\n    // console.log(indices)\\n    if (indices.length > 0) {\\n        //console.log(indices[0])\\n        //console.log('here!!!')\\n        //var imgWidth = image.width || image.naturalWidth;\\n        //var imgHeight = image.height || image.naturalHeight;\\n        //var img = s3.data.image[indices[0]];\\n        var url = s3.data.url[indices[0]];\\n        //console.log(s3.data.image[0][0])\\n        //console.log(img)\\n\\n        //check if the slider value has changed. If it has, update the timestep of the image being displayed\\n        var value = slider.value\\n        var old_url = url\\n        console.log(old_url)\\n\\n        if (old_url != []) {\\n            if (value === parseInt(value, 10)) {\\n                //console.log(value)\\n                //console.log(old_url)\\n                var split_url = old_url.split(\\\"=\\\");\\n                split_url[1] = split_url[1].replace(split_url[1][0], value);\\n                new_url = split_url[0]+\\\"=\\\"+split_url[1];\\n                url=new_url\\n            }\\n        }\\n\\n        var d2 = s2.data;\\n        d2['url'] = [url]\\n        d2['x'] = [0]\\n        d2['y'] = [0]\\n        d2['dw'] = [10]\\n        d2['dh'] = [10]\\n        \\n        s2.change.emit();\\n    }\\n    \"},\"id\":\"2d2d1eeb-13a3-48ca-9060-acd99d5c055e\",\"type\":\"CustomJS\"},{\"attributes\":{\"plot\":null,\"text\":\"Corresponding spatial RFs\",\"text_font_size\":{\"value\":\"20pt\"}},\"id\":\"8932bf40-bca9-4c63-9194-ad40db8e3d1b\",\"type\":\"Title\"},{\"attributes\":{\"plot\":null,\"text\":\"Heatmap\",\"text_font_size\":{\"value\":\"20pt\"}},\"id\":\"91ec6206-9d24-41e2-8970-0e49ea320277\",\"type\":\"Title\"},{\"attributes\":{\"callback\":null,\"factors\":[\"-5.0\",\"-5.5\",\"-5.75\",\"-6.0\",\"-6.25\",\"-6.5\",\"-7.0\",\"-inf\"]},\"id\":\"4452ae6b-fad8-4853-ab66-f7a476b67d7e\",\"type\":\"FactorRange\"},{\"attributes\":{\"callback\":null,\"factors\":[\"1600\",\"400\"]},\"id\":\"80472f2b-e4a4-449d-ae67-0237555515b0\",\"type\":\"FactorRange\"},{\"attributes\":{\"children\":[{\"id\":\"d6502593-52c0-41be-ac0e-9d511ca6ae53\",\"type\":\"ToolbarBox\"},{\"id\":\"09927d4e-f287-48eb-8ecc-65d8c7338df0\",\"type\":\"Column\"}]},\"id\":\"52f8eda0-ea11-4689-9f55-f422f6adfbfb\",\"type\":\"Column\"},{\"attributes\":{\"fill_alpha\":{\"value\":0.1},\"fill_color\":{\"value\":\"#1f77b4\"},\"height\":{\"units\":\"data\",\"value\":1},\"line_alpha\":{\"value\":0.1},\"line_color\":{\"value\":\"#1f77b4\"},\"width\":{\"units\":\"data\",\"value\":1},\"x\":{\"field\":\"x\"},\"y\":{\"field\":\"y\"}},\"id\":\"4b8dcd91-f9bc-4fd5-91de-b76c77bd0e31\",\"type\":\"Rect\"},{\"attributes\":{},\"id\":\"64f23f52-e353-4b48-b9f4-51157208356c\",\"type\":\"CategoricalTickFormatter\"}],\"root_ids\":[\"52f8eda0-ea11-4689-9f55-f422f6adfbfb\"]},\"title\":\"Bokeh Application\",\"version\":\"0.12.13\"}};\n",
       "  var render_items = [{\"docid\":\"7fd15240-1bdf-4d3b-bc55-4a4fcf2210cb\",\"elementid\":\"46dec0fd-cd15-45a6-bc12-6553071c04b7\",\"modelid\":\"52f8eda0-ea11-4689-9f55-f422f6adfbfb\"}];\n",
       "  root.Bokeh.embed.embed_items_notebook(docs_json, render_items);\n",
       "\n",
       "  }\n",
       "  if (root.Bokeh !== undefined) {\n",
       "    embed_document(root);\n",
       "  } else {\n",
       "    var attempts = 0;\n",
       "    var timer = setInterval(function(root) {\n",
       "      if (root.Bokeh !== undefined) {\n",
       "        embed_document(root);\n",
       "        clearInterval(timer);\n",
       "      }\n",
       "      attempts++;\n",
       "      if (attempts > 100) {\n",
       "        console.log(\"Bokeh: ERROR: Unable to run BokehJS code because BokehJS library is missing\")\n",
       "        clearInterval(timer);\n",
       "      }\n",
       "    }, 10, root)\n",
       "  }\n",
       "})(window);"
      ],
      "application/vnd.bokehjs_exec.v0+json": ""
     },
     "metadata": {
      "application/vnd.bokehjs_exec.v0+json": {
       "id": "52f8eda0-ea11-4689-9f55-f422f6adfbfb"
      }
     },
     "output_type": "display_data"
    }
   ],
   "source": [
    "iplot.plot_linked_heatmap_weights(no_noise_url_pd)#, save_path='/home/yossi/yossi_local/github/temporal_prediction_model/Figures/visual_results_no_noise.html')"
   ]
  },
  {
   "cell_type": "markdown",
   "metadata": {},
   "source": [
    "### Figure 1-Figure supplement 2  | Interactive figure exploring the relationship between the strength of  L1 regularisation on the network weights and the structure of the RFs  the network produces. \n",
    "\n",
    "The left panel shows the performance of the newtwork with the hyperparameter settings specified on the x and y axes. The x axis signifies the strength of L1 reguilarisation placed on the weights of the network during training. The y axis signifies the number of hidden units in the network. Performance of model as a function of number of hidden units andregularization on the weights as measured by a, reconstruction error on validation set at the end of training.\n",
    "\n",
    "Hover over a point in the left panel to show the corresponding spatial receptive fields of the network in the right panel. Using the settings above the right hand panel, zoom, pan and reset the image to explore the shapes of the spatial receptive fields. Change the slider on the upper left to change the time-step of the spatial receptive fields being shown in the right hand panel."
   ]
  },
  {
   "cell_type": "code",
   "execution_count": 14,
   "metadata": {
    "scrolled": true
   },
   "outputs": [],
   "source": [
    "res_folder_path = '/home/yossi//Dropbox/visualRFNN/Datasets_new/visual/Dataset_python_olshausen_160x100x50_no_writing/nnResults_with_noise/'\n",
    "res_pd = rdh.compile_results_pd(res_folder_path)\n",
    "# res_pd.sort_values('final_val_cost')"
   ]
  },
  {
   "cell_type": "code",
   "execution_count": 15,
   "metadata": {},
   "outputs": [],
   "source": [
    "# root_save_dir ='/home/yossi/Dropbox/visualRFNN/interactive_figures/visual/no_writing/'\n",
    "this_save_dir = 'visual_images_with_noise/'\n",
    "root_dir='/home/yossi/yossi_local/github/temporal_prediction_model/Figures/'\n",
    "with_noise_url_pd = iplot.get_urls_for_visual_df_data(res_pd, 'log_reg_factor', 'num_filters', 'final_val_cost', server_address='', root_dir=root_dir, this_save_dir=this_save_dir, verbose=False)"
   ]
  },
  {
   "cell_type": "code",
   "execution_count": 16,
   "metadata": {
    "scrolled": false
   },
   "outputs": [
    {
     "data": {
      "text/html": [
       "\n",
       "<div class=\"bk-root\">\n",
       "    <div class=\"bk-plotdiv\" id=\"b11fe540-e35d-457d-a650-49159062f6e9\"></div>\n",
       "</div>"
      ]
     },
     "metadata": {},
     "output_type": "display_data"
    },
    {
     "data": {
      "application/javascript": [
       "(function(root) {\n",
       "  function embed_document(root) {\n",
       "    \n",
       "  var docs_json = {\"4c291b86-7f11-42a1-94eb-52c93e8db1ef\":{\"roots\":{\"references\":[{\"attributes\":{\"callback\":null,\"column_names\":[\"y\",\"x\",\"dh\",\"dw\",\"url\"],\"data\":{\"dh\":[],\"dw\":[],\"url\":[],\"x\":[],\"y\":[]}},\"id\":\"76f91756-e8d3-4ec3-9713-626e23272b31\",\"type\":\"ColumnDataSource\"},{\"attributes\":{},\"id\":\"fae67e17-f5f7-4c4e-b98f-a03d59db49c5\",\"type\":\"CategoricalScale\"},{\"attributes\":{\"formatter\":{\"id\":\"6f1a8e21-8961-4588-be3b-b13db1728754\",\"type\":\"CategoricalTickFormatter\"},\"major_label_text_font_size\":{\"value\":\"0pt\"},\"plot\":{\"id\":\"4817f5cc-0597-4591-88f6-107264b56d28\",\"subtype\":\"Figure\",\"type\":\"Plot\"},\"ticker\":{\"id\":\"3c17971d-ec8a-45d9-8379-c1b9605ca216\",\"type\":\"CategoricalTicker\"}},\"id\":\"c98bfd96-bd9f-4d48-8ecf-978c2bdf2fe6\",\"type\":\"CategoricalAxis\"},{\"attributes\":{},\"id\":\"733655cd-c1d3-4c4e-89e1-e03fa72e228a\",\"type\":\"CategoricalTickFormatter\"},{\"attributes\":{\"plot\":{\"id\":\"4817f5cc-0597-4591-88f6-107264b56d28\",\"subtype\":\"Figure\",\"type\":\"Plot\"},\"ticker\":{\"id\":\"6d284615-d8b2-4933-a039-26f3ed3ed07b\",\"type\":\"CategoricalTicker\"}},\"id\":\"f43fd01e-aff8-4ecd-b29d-eb8da2c6da2c\",\"type\":\"Grid\"},{\"attributes\":{},\"id\":\"3c17971d-ec8a-45d9-8379-c1b9605ca216\",\"type\":\"CategoricalTicker\"},{\"attributes\":{},\"id\":\"9351b67a-cf34-4113-a111-fd03c94fafec\",\"type\":\"CategoricalScale\"},{\"attributes\":{\"below\":[{\"id\":\"afd6c722-5658-4888-8bf8-5362968f74e2\",\"type\":\"CategoricalAxis\"}],\"left\":[{\"id\":\"c98bfd96-bd9f-4d48-8ecf-978c2bdf2fe6\",\"type\":\"CategoricalAxis\"}],\"renderers\":[{\"id\":\"afd6c722-5658-4888-8bf8-5362968f74e2\",\"type\":\"CategoricalAxis\"},{\"id\":\"f43fd01e-aff8-4ecd-b29d-eb8da2c6da2c\",\"type\":\"Grid\"},{\"id\":\"c98bfd96-bd9f-4d48-8ecf-978c2bdf2fe6\",\"type\":\"CategoricalAxis\"},{\"id\":\"f035168d-0ca7-40b3-9a8a-93a091966cee\",\"type\":\"Grid\"},{\"id\":\"10c48b6e-0c67-43d4-8a46-008bd5ffd81d\",\"type\":\"GlyphRenderer\"}],\"title\":{\"id\":\"16831178-b274-4114-a058-4aeee34b1a26\",\"type\":\"Title\"},\"toolbar\":{\"id\":\"877adf29-2616-4010-9f01-05368ce2f71c\",\"type\":\"Toolbar\"},\"toolbar_location\":null,\"x_range\":{\"id\":\"6b5cbfc6-ceda-4052-87e3-e5a9dacbc80d\",\"type\":\"FactorRange\"},\"x_scale\":{\"id\":\"fae67e17-f5f7-4c4e-b98f-a03d59db49c5\",\"type\":\"CategoricalScale\"},\"y_range\":{\"id\":\"7cfcd8a3-23e1-45cd-bafc-af2851326aeb\",\"type\":\"FactorRange\"},\"y_scale\":{\"id\":\"fe0a0043-8ec0-4741-88b1-2f55a535727b\",\"type\":\"CategoricalScale\"}},\"id\":\"4817f5cc-0597-4591-88f6-107264b56d28\",\"subtype\":\"Figure\",\"type\":\"Plot\"},{\"attributes\":{\"callback\":null,\"factors\":[\"1600\",\"400\"]},\"id\":\"3f425883-f049-45a1-a7f7-ad72a5dc7760\",\"type\":\"FactorRange\"},{\"attributes\":{\"callback\":null},\"id\":\"a243c417-a40c-478a-968d-a5192dd64e91\",\"type\":\"HoverTool\"},{\"attributes\":{},\"id\":\"64604b99-49b6-44f2-bcc8-fd4b37859022\",\"type\":\"CategoricalTicker\"},{\"attributes\":{\"tools\":[{\"id\":\"5b54a05f-12c1-4cfa-8e83-01ea2f3b5a09\",\"type\":\"HoverTool\"},{\"id\":\"a243c417-a40c-478a-968d-a5192dd64e91\",\"type\":\"HoverTool\"},{\"id\":\"2606ea9e-d7bb-4221-9333-e3a95385bd0c\",\"type\":\"ZoomInTool\"},{\"id\":\"78fc47ee-8b31-41f1-9a1b-c63c44db07a7\",\"type\":\"ZoomOutTool\"},{\"id\":\"fc1a3cfc-14b9-4e6b-8af7-5a87d3cd2322\",\"type\":\"PanTool\"},{\"id\":\"e6e7df7a-ba5f-40db-8d1d-b3efac71dde2\",\"type\":\"ResetTool\"}]},\"id\":\"f17ac002-2eeb-4afc-bacc-fff85d52a755\",\"type\":\"ProxyToolbar\"},{\"attributes\":{\"args\":{\"s2\":{\"id\":\"76f91756-e8d3-4ec3-9713-626e23272b31\",\"type\":\"ColumnDataSource\"},\"s3\":{\"id\":\"931aa7be-5840-42c5-acd0-8d73a9a37307\",\"type\":\"ColumnDataSource\"}},\"code\":\"\\n            console.log(cb_obj)\\n            console.log(cb_obj.index)\\n            var attrs = []; \\n            if (cb_obj.event_name == 'tap') {\\n                console.log('here')\\n               // var ix = attrs['x'] + attrs['y']\\n\\n            }\\n            //check if the slider value has changed. If it has, update the timestep of the image being displayed\\n            var value = cb_obj.value\\n            if (value === parseInt(value, 10)) {\\n                console.log(value)\\n                console.log(s2.data)\\n                var old_url = s2.data.url\\n                    if (old_url != []) {\\n                      old_url=old_url[0]\\n                      console.log(old_url)\\n                      var split_url = old_url.split(\\\"=\\\");\\n                      split_url[1] = split_url[1].replace(split_url[1][0], value);\\n                      new_url = split_url[0]+\\\"=\\\"+split_url[1];\\n                      var d2 = s2.data;\\n                      d2['url'] = [new_url]\\n                      s2.change.emit();\\n    } \\n            }\\n\\n\\n           console.log(attrs)\\n          //  console.log(cb_data)\\n\\n            \"},\"id\":\"6b8f6955-7ea3-476f-9070-08d6a32407f5\",\"type\":\"CustomJS\"},{\"attributes\":{\"children\":[{\"id\":\"b42db5c2-4ba7-470a-b790-065ddfb7f3a3\",\"type\":\"Spacer\"},{\"id\":\"adb3b1a8-940e-4432-b25c-61846b5317b9\",\"type\":\"WidgetBox\"}]},\"id\":\"de9d29ba-c986-4dd4-811f-98e873769b80\",\"type\":\"Row\"},{\"attributes\":{},\"id\":\"6d284615-d8b2-4933-a039-26f3ed3ed07b\",\"type\":\"CategoricalTicker\"},{\"attributes\":{},\"id\":\"1b58c0dd-de4f-4859-ba83-f731a1251a24\",\"type\":\"CategoricalTicker\"},{\"attributes\":{\"source\":{\"id\":\"76f91756-e8d3-4ec3-9713-626e23272b31\",\"type\":\"ColumnDataSource\"}},\"id\":\"3c41ee61-3e85-4518-817f-783f2f36fa32\",\"type\":\"CDSView\"},{\"attributes\":{},\"id\":\"fe0a0043-8ec0-4741-88b1-2f55a535727b\",\"type\":\"CategoricalScale\"},{\"attributes\":{},\"id\":\"323cc30b-1818-43ec-8b5d-9584307bcf6b\",\"type\":\"CategoricalScale\"},{\"attributes\":{},\"id\":\"e6e7df7a-ba5f-40db-8d1d-b3efac71dde2\",\"type\":\"ResetTool\"},{\"attributes\":{\"data_source\":{\"id\":\"39b5832d-96c0-4f4f-bed6-165165699459\",\"type\":\"ColumnDataSource\"},\"glyph\":{\"id\":\"6f769b9c-cc7c-492b-b826-18e4efcbbd81\",\"type\":\"Rect\"},\"hover_glyph\":null,\"muted_glyph\":null,\"nonselection_glyph\":{\"id\":\"afb3ea61-f854-4331-ac2e-b0ec0c6a143c\",\"type\":\"Rect\"},\"selection_glyph\":null,\"view\":{\"id\":\"8acb35f0-49db-437d-8c64-761851ec7905\",\"type\":\"CDSView\"}},\"id\":\"83ef348a-dfa0-4c65-99f9-e0928c3aac48\",\"type\":\"GlyphRenderer\"},{\"attributes\":{\"below\":[{\"id\":\"b6312865-0270-4710-b8a9-4c2ae8b38ddf\",\"type\":\"CategoricalAxis\"}],\"left\":[{\"id\":\"fc900ce4-6708-4a6b-b6eb-9385de02520b\",\"type\":\"CategoricalAxis\"}],\"renderers\":[{\"id\":\"b6312865-0270-4710-b8a9-4c2ae8b38ddf\",\"type\":\"CategoricalAxis\"},{\"id\":\"248607c3-1e79-4baa-9706-5dc028251a9f\",\"type\":\"Grid\"},{\"id\":\"fc900ce4-6708-4a6b-b6eb-9385de02520b\",\"type\":\"CategoricalAxis\"},{\"id\":\"9787e161-40b1-4673-950a-59ebb5da8872\",\"type\":\"Grid\"},{\"id\":\"83ef348a-dfa0-4c65-99f9-e0928c3aac48\",\"type\":\"GlyphRenderer\"}],\"title\":{\"id\":\"53c6f238-2a9c-4e15-99d2-dad897441108\",\"type\":\"Title\"},\"toolbar\":{\"id\":\"990942f0-e920-4a39-bb96-ce4e6b179d3c\",\"type\":\"Toolbar\"},\"toolbar_location\":null,\"x_range\":{\"id\":\"da24f771-20d3-4c85-bbdd-397b7f2616db\",\"type\":\"FactorRange\"},\"x_scale\":{\"id\":\"9351b67a-cf34-4113-a111-fd03c94fafec\",\"type\":\"CategoricalScale\"},\"y_range\":{\"id\":\"3f425883-f049-45a1-a7f7-ad72a5dc7760\",\"type\":\"FactorRange\"},\"y_scale\":{\"id\":\"323cc30b-1818-43ec-8b5d-9584307bcf6b\",\"type\":\"CategoricalScale\"}},\"id\":\"8f3888c9-4f17-4e9c-b37b-1f1ff3aad12e\",\"subtype\":\"Figure\",\"type\":\"Plot\"},{\"attributes\":{\"callback\":{\"id\":\"8dd84b20-6d32-412d-9d30-14b832a2f173\",\"type\":\"CustomJS\"},\"tooltips\":null},\"id\":\"5b54a05f-12c1-4cfa-8e83-01ea2f3b5a09\",\"type\":\"HoverTool\"},{\"attributes\":{\"plot\":{\"id\":\"8f3888c9-4f17-4e9c-b37b-1f1ff3aad12e\",\"subtype\":\"Figure\",\"type\":\"Plot\"},\"ticker\":{\"id\":\"64604b99-49b6-44f2-bcc8-fd4b37859022\",\"type\":\"CategoricalTicker\"}},\"id\":\"248607c3-1e79-4baa-9706-5dc028251a9f\",\"type\":\"Grid\"},{\"attributes\":{\"callback\":null,\"column_names\":[\"final_val_cost\",\"log_reg_factor\",\"results_path\",\"num_filters\",\"y\",\"x\",\"color\",\"index\",\"url\"],\"data\":{\"color\":[\"#ff5200\",\"#ff8600\",\"#dbff1c\",\"#00e4f8\",\"#deff19\",\"#0060ff\",\"#ffe600\",\"#0000f1\",\"#ff6f00\",\"#000080\",\"#ff2900\",\"#000089\",\"#c80000\",\"#0044ff\",\"#800000\",\"#77ff80\"],\"final_val_cost\":{\"__ndarray__\":\"CtejqIw46z8pXI+ithvrP83MzIzPy+o/16Nw3fA+6j8Urkf5MczqP1K4HqU+/Ok/KVyPGkHm6j9mZmYm37rpP5qZmZEnJ+s/AAAAsIeH6T9SuB6NXU3rP83MzJRljOk/9ihcPz1y6z/hehTmFe7pP6RwPXIDles/hetRyPCK6j8=\",\"dtype\":\"float64\",\"shape\":[16]},\"index\":[3,5,2,12,15,10,9,4,14,7,8,13,0,11,6,1],\"log_reg_factor\":{\"__ndarray__\":\"AAAAAAAA8P8AAAAAAADw/wAAAAAAABzAAAAAAAAAHMAAAAAAAAAbwAAAAAAAABvAAAAAAAAAGsAAAAAAAAAawAAAAAAAABnAAAAAAAAAGcAAAAAAAAAYwAAAAAAAABjAAAAAAAAAF8AAAAAAAAAXwAAAAAAAABbAAAAAAAAAFsA=\",\"dtype\":\"float64\",\"shape\":[16]},\"num_filters\":[400,1600,400,1600,400,1600,400,1600,400,1600,400,1600,400,1600,400,1600],\"results_path\":[\"/home/yossi//Dropbox/visualRFNN/Datasets_new/visual/Dataset_python_olshausen_160x100x50_no_writing/nnResults_with_noise/num_filters_400_reg_factor_0/python_network.pkl\",\"/home/yossi//Dropbox/visualRFNN/Datasets_new/visual/Dataset_python_olshausen_160x100x50_no_writing/nnResults_with_noise/num_filters_1600_reg_factor_0/python_network.pkl\",\"/home/yossi//Dropbox/visualRFNN/Datasets_new/visual/Dataset_python_olshausen_160x100x50_no_writing/nnResults_with_noise/num_filters_400_reg_factor_1e-07_noise_ratio_0.5/python_network.pkl\",\"/home/yossi//Dropbox/visualRFNN/Datasets_new/visual/Dataset_python_olshausen_160x100x50_no_writing/nnResults_with_noise/num_filters_1600_reg_factor_1e-07_noise_ratio_0.5/python_network.pkl\",\"/home/yossi//Dropbox/visualRFNN/Datasets_new/visual/Dataset_python_olshausen_160x100x50_no_writing/nnResults_with_noise/num_filters_400_reg_factor_1.778e-07_noise_ratio_0.5/python_network.pkl\",\"/home/yossi//Dropbox/visualRFNN/Datasets_new/visual/Dataset_python_olshausen_160x100x50_no_writing/nnResults_with_noise/num_filters_1600_reg_factor_1.778e-07_noise_ratio_0.5/python_network.pkl\",\"/home/yossi//Dropbox/visualRFNN/Datasets_new/visual/Dataset_python_olshausen_160x100x50_no_writing/nnResults_with_noise/num_filters_400_reg_factor_3.162e-07_noise_ratio_0.5/python_network.pkl\",\"/home/yossi//Dropbox/visualRFNN/Datasets_new/visual/Dataset_python_olshausen_160x100x50_no_writing/nnResults_with_noise/num_filters_1600_reg_factor_3.162e-07_noise_ratio_0.5/python_network.pkl\",\"/home/yossi//Dropbox/visualRFNN/Datasets_new/visual/Dataset_python_olshausen_160x100x50_no_writing/nnResults_with_noise/num_filters_400_reg_factor_5.623e-07_noise_ratio_0.5/python_network.pkl\",\"/home/yossi//Dropbox/visualRFNN/Datasets_new/visual/Dataset_python_olshausen_160x100x50_no_writing/nnResults_with_noise/num_filters_1600_reg_factor_5.623e-07_noise_ratio_0.5/python_network.pkl\",\"/home/yossi//Dropbox/visualRFNN/Datasets_new/visual/Dataset_python_olshausen_160x100x50_no_writing/nnResults_with_noise/num_filters_400_reg_factor_1e-06_noise_ratio_0.5/python_network.pkl\",\"/home/yossi//Dropbox/visualRFNN/Datasets_new/visual/Dataset_python_olshausen_160x100x50_no_writing/nnResults_with_noise/num_filters_1600_reg_factor_1e-06_noise_ratio_0.5/python_network.pkl\",\"/home/yossi//Dropbox/visualRFNN/Datasets_new/visual/Dataset_python_olshausen_160x100x50_no_writing/nnResults_with_noise/num_filters_400_reg_factor_1.7783e-06_noise_ratio_0.5/python_network.pkl\",\"/home/yossi//Dropbox/visualRFNN/Datasets_new/visual/Dataset_python_olshausen_160x100x50_no_writing/nnResults_with_noise/num_filters_1600_reg_factor_1.7783e-06_noise_ratio_0.5/python_network.pkl\",\"/home/yossi//Dropbox/visualRFNN/Datasets_new/visual/Dataset_python_olshausen_160x100x50_no_writing/nnResults_with_noise/num_filters_400_reg_factor_3.1623e-06_noise_ratio_0.5/python_network.pkl\",\"/home/yossi//Dropbox/visualRFNN/Datasets_new/visual/Dataset_python_olshausen_160x100x50_no_writing/nnResults_with_noise/num_filters_1600_reg_factor_3.1623e-06_noise_ratio_0.5/python_network.pkl\"],\"url\":[\"visual_images_with_noise/t_step=7/weight_img_3.jpeg\",\"visual_images_with_noise/t_step=7/weight_img_5.jpeg\",\"visual_images_with_noise/t_step=7/weight_img_2.jpeg\",\"visual_images_with_noise/t_step=7/weight_img_12.jpeg\",\"visual_images_with_noise/t_step=7/weight_img_15.jpeg\",\"visual_images_with_noise/t_step=7/weight_img_10.jpeg\",\"visual_images_with_noise/t_step=7/weight_img_9.jpeg\",\"visual_images_with_noise/t_step=7/weight_img_4.jpeg\",\"visual_images_with_noise/t_step=7/weight_img_14.jpeg\",\"visual_images_with_noise/t_step=7/weight_img_7.jpeg\",\"visual_images_with_noise/t_step=7/weight_img_8.jpeg\",\"visual_images_with_noise/t_step=7/weight_img_13.jpeg\",\"visual_images_with_noise/t_step=7/weight_img_0.jpeg\",\"visual_images_with_noise/t_step=7/weight_img_11.jpeg\",\"visual_images_with_noise/t_step=7/weight_img_6.jpeg\",\"visual_images_with_noise/t_step=7/weight_img_1.jpeg\"],\"x\":[\"-inf\",\"-inf\",\"-7.0\",\"-7.0\",\"-6.75\",\"-6.75\",\"-6.5\",\"-6.5\",\"-6.25\",\"-6.25\",\"-6.0\",\"-6.0\",\"-5.75\",\"-5.75\",\"-5.5\",\"-5.5\"],\"y\":[\"400\",\"1600\",\"400\",\"1600\",\"400\",\"1600\",\"400\",\"1600\",\"400\",\"1600\",\"400\",\"1600\",\"400\",\"1600\",\"400\",\"1600\"]}},\"id\":\"931aa7be-5840-42c5-acd0-8d73a9a37307\",\"type\":\"ColumnDataSource\"},{\"attributes\":{\"children\":[{\"id\":\"7261b324-6232-4c50-a3c5-2739fa98b062\",\"type\":\"ToolbarBox\"},{\"id\":\"4f55aa3a-952d-484a-ac3d-3f37dd43152e\",\"type\":\"Column\"}]},\"id\":\"8e932b66-1522-4f1a-99fd-15caca060cef\",\"type\":\"Column\"},{\"attributes\":{},\"id\":\"4b745e1f-f1bd-4ffa-b0bd-5b775d1e1e7c\",\"type\":\"CategoricalTickFormatter\"},{\"attributes\":{\"plot\":null,\"text\":\"Corresponding spatial RFs\",\"text_font_size\":{\"value\":\"20pt\"}},\"id\":\"16831178-b274-4114-a058-4aeee34b1a26\",\"type\":\"Title\"},{\"attributes\":{\"data_source\":{\"id\":\"76f91756-e8d3-4ec3-9713-626e23272b31\",\"type\":\"ColumnDataSource\"},\"glyph\":{\"id\":\"5f8246e3-bdda-4807-b34b-54a93c8eae28\",\"type\":\"ImageURL\"},\"hover_glyph\":null,\"muted_glyph\":null,\"nonselection_glyph\":{\"id\":\"eb6397ca-c7de-4d94-a621-6b622b081c66\",\"type\":\"ImageURL\"},\"selection_glyph\":null,\"view\":{\"id\":\"3c41ee61-3e85-4518-817f-783f2f36fa32\",\"type\":\"CDSView\"}},\"id\":\"10c48b6e-0c67-43d4-8a46-008bd5ffd81d\",\"type\":\"GlyphRenderer\"},{\"attributes\":{\"callback\":null,\"factors\":[\"-5.5\",\"-5.75\",\"-6.0\",\"-6.25\",\"-6.5\",\"-6.75\",\"-7.0\",\"-inf\"]},\"id\":\"da24f771-20d3-4c85-bbdd-397b7f2616db\",\"type\":\"FactorRange\"},{\"attributes\":{\"fill_color\":{\"field\":\"color\"},\"height\":{\"units\":\"data\",\"value\":1},\"line_color\":{\"field\":\"color\"},\"width\":{\"units\":\"data\",\"value\":1},\"x\":{\"field\":\"x\"},\"y\":{\"field\":\"y\"}},\"id\":\"6f769b9c-cc7c-492b-b826-18e4efcbbd81\",\"type\":\"Rect\"},{\"attributes\":{\"callback\":null,\"factors\":[\"0\",\"1\",\"2\",\"3\",\"4\",\"5\",\"6\",\"7\",\"8\",\"9\"]},\"id\":\"7cfcd8a3-23e1-45cd-bafc-af2851326aeb\",\"type\":\"FactorRange\"},{\"attributes\":{\"children\":[{\"id\":\"0deeb36c-561a-4315-a2c0-d7706169f307\",\"type\":\"Slider\"}]},\"id\":\"adb3b1a8-940e-4432-b25c-61846b5317b9\",\"type\":\"WidgetBox\"},{\"attributes\":{\"args\":{\"s2\":{\"id\":\"76f91756-e8d3-4ec3-9713-626e23272b31\",\"type\":\"ColumnDataSource\"},\"s3\":{\"id\":\"931aa7be-5840-42c5-acd0-8d73a9a37307\",\"type\":\"ColumnDataSource\"},\"slider\":{\"id\":\"0deeb36c-561a-4315-a2c0-d7706169f307\",\"type\":\"Slider\"}},\"code\":\"\\n    //console.log(cb_data)\\n    var indices = cb_data.index['1d'].indices;\\n    // console.log(indices)\\n    if (indices.length > 0) {\\n        //console.log(indices[0])\\n        //console.log('here!!!')\\n        //var imgWidth = image.width || image.naturalWidth;\\n        //var imgHeight = image.height || image.naturalHeight;\\n        //var img = s3.data.image[indices[0]];\\n        var url = s3.data.url[indices[0]];\\n        //console.log(s3.data.image[0][0])\\n        //console.log(img)\\n\\n        //check if the slider value has changed. If it has, update the timestep of the image being displayed\\n        var value = slider.value\\n        var old_url = url\\n        console.log(old_url)\\n\\n        if (old_url != []) {\\n            if (value === parseInt(value, 10)) {\\n                //console.log(value)\\n                //console.log(old_url)\\n                var split_url = old_url.split(\\\"=\\\");\\n                split_url[1] = split_url[1].replace(split_url[1][0], value);\\n                new_url = split_url[0]+\\\"=\\\"+split_url[1];\\n                url=new_url\\n            }\\n        }\\n\\n        var d2 = s2.data;\\n        d2['url'] = [url]\\n        d2['x'] = [0]\\n        d2['y'] = [0]\\n        d2['dw'] = [10]\\n        d2['dh'] = [10]\\n        \\n        s2.change.emit();\\n    }\\n    \"},\"id\":\"8dd84b20-6d32-412d-9d30-14b832a2f173\",\"type\":\"CustomJS\"},{\"attributes\":{\"plot\":null,\"text\":\"Heatmap\",\"text_font_size\":{\"value\":\"20pt\"}},\"id\":\"53c6f238-2a9c-4e15-99d2-dad897441108\",\"type\":\"Title\"},{\"attributes\":{},\"id\":\"6f1a8e21-8961-4588-be3b-b13db1728754\",\"type\":\"CategoricalTickFormatter\"},{\"attributes\":{\"callback\":null,\"column_names\":[\"final_val_cost\",\"log_reg_factor\",\"results_path\",\"num_filters\",\"y\",\"x\",\"color\",\"index\",\"url\"],\"data\":{\"color\":[\"#ff5200\",\"#ff8600\",\"#dbff1c\",\"#00e4f8\",\"#deff19\",\"#0060ff\",\"#ffe600\",\"#0000f1\",\"#ff6f00\",\"#000080\",\"#ff2900\",\"#000089\",\"#c80000\",\"#0044ff\",\"#800000\",\"#77ff80\"],\"final_val_cost\":{\"__ndarray__\":\"CtejqIw46z8pXI+ithvrP83MzIzPy+o/16Nw3fA+6j8Urkf5MczqP1K4HqU+/Ok/KVyPGkHm6j9mZmYm37rpP5qZmZEnJ+s/AAAAsIeH6T9SuB6NXU3rP83MzJRljOk/9ihcPz1y6z/hehTmFe7pP6RwPXIDles/hetRyPCK6j8=\",\"dtype\":\"float64\",\"shape\":[16]},\"index\":[3,5,2,12,15,10,9,4,14,7,8,13,0,11,6,1],\"log_reg_factor\":{\"__ndarray__\":\"AAAAAAAA8P8AAAAAAADw/wAAAAAAABzAAAAAAAAAHMAAAAAAAAAbwAAAAAAAABvAAAAAAAAAGsAAAAAAAAAawAAAAAAAABnAAAAAAAAAGcAAAAAAAAAYwAAAAAAAABjAAAAAAAAAF8AAAAAAAAAXwAAAAAAAABbAAAAAAAAAFsA=\",\"dtype\":\"float64\",\"shape\":[16]},\"num_filters\":[400,1600,400,1600,400,1600,400,1600,400,1600,400,1600,400,1600,400,1600],\"results_path\":[\"/home/yossi//Dropbox/visualRFNN/Datasets_new/visual/Dataset_python_olshausen_160x100x50_no_writing/nnResults_with_noise/num_filters_400_reg_factor_0/python_network.pkl\",\"/home/yossi//Dropbox/visualRFNN/Datasets_new/visual/Dataset_python_olshausen_160x100x50_no_writing/nnResults_with_noise/num_filters_1600_reg_factor_0/python_network.pkl\",\"/home/yossi//Dropbox/visualRFNN/Datasets_new/visual/Dataset_python_olshausen_160x100x50_no_writing/nnResults_with_noise/num_filters_400_reg_factor_1e-07_noise_ratio_0.5/python_network.pkl\",\"/home/yossi//Dropbox/visualRFNN/Datasets_new/visual/Dataset_python_olshausen_160x100x50_no_writing/nnResults_with_noise/num_filters_1600_reg_factor_1e-07_noise_ratio_0.5/python_network.pkl\",\"/home/yossi//Dropbox/visualRFNN/Datasets_new/visual/Dataset_python_olshausen_160x100x50_no_writing/nnResults_with_noise/num_filters_400_reg_factor_1.778e-07_noise_ratio_0.5/python_network.pkl\",\"/home/yossi//Dropbox/visualRFNN/Datasets_new/visual/Dataset_python_olshausen_160x100x50_no_writing/nnResults_with_noise/num_filters_1600_reg_factor_1.778e-07_noise_ratio_0.5/python_network.pkl\",\"/home/yossi//Dropbox/visualRFNN/Datasets_new/visual/Dataset_python_olshausen_160x100x50_no_writing/nnResults_with_noise/num_filters_400_reg_factor_3.162e-07_noise_ratio_0.5/python_network.pkl\",\"/home/yossi//Dropbox/visualRFNN/Datasets_new/visual/Dataset_python_olshausen_160x100x50_no_writing/nnResults_with_noise/num_filters_1600_reg_factor_3.162e-07_noise_ratio_0.5/python_network.pkl\",\"/home/yossi//Dropbox/visualRFNN/Datasets_new/visual/Dataset_python_olshausen_160x100x50_no_writing/nnResults_with_noise/num_filters_400_reg_factor_5.623e-07_noise_ratio_0.5/python_network.pkl\",\"/home/yossi//Dropbox/visualRFNN/Datasets_new/visual/Dataset_python_olshausen_160x100x50_no_writing/nnResults_with_noise/num_filters_1600_reg_factor_5.623e-07_noise_ratio_0.5/python_network.pkl\",\"/home/yossi//Dropbox/visualRFNN/Datasets_new/visual/Dataset_python_olshausen_160x100x50_no_writing/nnResults_with_noise/num_filters_400_reg_factor_1e-06_noise_ratio_0.5/python_network.pkl\",\"/home/yossi//Dropbox/visualRFNN/Datasets_new/visual/Dataset_python_olshausen_160x100x50_no_writing/nnResults_with_noise/num_filters_1600_reg_factor_1e-06_noise_ratio_0.5/python_network.pkl\",\"/home/yossi//Dropbox/visualRFNN/Datasets_new/visual/Dataset_python_olshausen_160x100x50_no_writing/nnResults_with_noise/num_filters_400_reg_factor_1.7783e-06_noise_ratio_0.5/python_network.pkl\",\"/home/yossi//Dropbox/visualRFNN/Datasets_new/visual/Dataset_python_olshausen_160x100x50_no_writing/nnResults_with_noise/num_filters_1600_reg_factor_1.7783e-06_noise_ratio_0.5/python_network.pkl\",\"/home/yossi//Dropbox/visualRFNN/Datasets_new/visual/Dataset_python_olshausen_160x100x50_no_writing/nnResults_with_noise/num_filters_400_reg_factor_3.1623e-06_noise_ratio_0.5/python_network.pkl\",\"/home/yossi//Dropbox/visualRFNN/Datasets_new/visual/Dataset_python_olshausen_160x100x50_no_writing/nnResults_with_noise/num_filters_1600_reg_factor_3.1623e-06_noise_ratio_0.5/python_network.pkl\"],\"url\":[\"visual_images_with_noise/t_step=7/weight_img_3.jpeg\",\"visual_images_with_noise/t_step=7/weight_img_5.jpeg\",\"visual_images_with_noise/t_step=7/weight_img_2.jpeg\",\"visual_images_with_noise/t_step=7/weight_img_12.jpeg\",\"visual_images_with_noise/t_step=7/weight_img_15.jpeg\",\"visual_images_with_noise/t_step=7/weight_img_10.jpeg\",\"visual_images_with_noise/t_step=7/weight_img_9.jpeg\",\"visual_images_with_noise/t_step=7/weight_img_4.jpeg\",\"visual_images_with_noise/t_step=7/weight_img_14.jpeg\",\"visual_images_with_noise/t_step=7/weight_img_7.jpeg\",\"visual_images_with_noise/t_step=7/weight_img_8.jpeg\",\"visual_images_with_noise/t_step=7/weight_img_13.jpeg\",\"visual_images_with_noise/t_step=7/weight_img_0.jpeg\",\"visual_images_with_noise/t_step=7/weight_img_11.jpeg\",\"visual_images_with_noise/t_step=7/weight_img_6.jpeg\",\"visual_images_with_noise/t_step=7/weight_img_1.jpeg\"],\"x\":[\"-inf\",\"-inf\",\"-7.0\",\"-7.0\",\"-6.75\",\"-6.75\",\"-6.5\",\"-6.5\",\"-6.25\",\"-6.25\",\"-6.0\",\"-6.0\",\"-5.75\",\"-5.75\",\"-5.5\",\"-5.5\"],\"y\":[\"400\",\"1600\",\"400\",\"1600\",\"400\",\"1600\",\"400\",\"1600\",\"400\",\"1600\",\"400\",\"1600\",\"400\",\"1600\",\"400\",\"1600\"]}},\"id\":\"39b5832d-96c0-4f4f-bed6-165165699459\",\"type\":\"ColumnDataSource\"},{\"attributes\":{\"active_drag\":\"auto\",\"active_inspect\":\"auto\",\"active_scroll\":\"auto\",\"active_tap\":\"auto\",\"tools\":[{\"id\":\"5b54a05f-12c1-4cfa-8e83-01ea2f3b5a09\",\"type\":\"HoverTool\"}]},\"id\":\"990942f0-e920-4a39-bb96-ce4e6b179d3c\",\"type\":\"Toolbar\"},{\"attributes\":{\"formatter\":{\"id\":\"733655cd-c1d3-4c4e-89e1-e03fa72e228a\",\"type\":\"CategoricalTickFormatter\"},\"major_label_text_font_size\":{\"value\":\"0pt\"},\"plot\":{\"id\":\"4817f5cc-0597-4591-88f6-107264b56d28\",\"subtype\":\"Figure\",\"type\":\"Plot\"},\"ticker\":{\"id\":\"6d284615-d8b2-4933-a039-26f3ed3ed07b\",\"type\":\"CategoricalTicker\"}},\"id\":\"afd6c722-5658-4888-8bf8-5362968f74e2\",\"type\":\"CategoricalAxis\"},{\"attributes\":{\"axis_label\":\"Strength of L1 regularisation on weights\",\"axis_label_text_font_size\":{\"value\":\"20pt\"},\"formatter\":{\"id\":\"48a53ff8-eb6b-4cf1-a8e6-340688714274\",\"type\":\"CategoricalTickFormatter\"},\"major_label_text_font_size\":{\"value\":\"12pt\"},\"plot\":{\"id\":\"8f3888c9-4f17-4e9c-b37b-1f1ff3aad12e\",\"subtype\":\"Figure\",\"type\":\"Plot\"},\"ticker\":{\"id\":\"64604b99-49b6-44f2-bcc8-fd4b37859022\",\"type\":\"CategoricalTicker\"}},\"id\":\"b6312865-0270-4710-b8a9-4c2ae8b38ddf\",\"type\":\"CategoricalAxis\"},{\"attributes\":{\"anchor\":\"bottom_left\",\"h\":{\"field\":\"dh\",\"units\":\"data\"},\"url\":{\"field\":\"url\"},\"w\":{\"field\":\"dw\",\"units\":\"data\"},\"x\":{\"value\":0},\"y\":{\"value\":0}},\"id\":\"eb6397ca-c7de-4d94-a621-6b622b081c66\",\"type\":\"ImageURL\"},{\"attributes\":{},\"id\":\"48a53ff8-eb6b-4cf1-a8e6-340688714274\",\"type\":\"CategoricalTickFormatter\"},{\"attributes\":{\"children\":[{\"id\":\"8f3888c9-4f17-4e9c-b37b-1f1ff3aad12e\",\"subtype\":\"Figure\",\"type\":\"Plot\"},{\"id\":\"4817f5cc-0597-4591-88f6-107264b56d28\",\"subtype\":\"Figure\",\"type\":\"Plot\"}]},\"id\":\"a36a233c-ccac-4790-9ea1-72f9f888721f\",\"type\":\"Row\"},{\"attributes\":{\"fill_alpha\":{\"value\":0.1},\"fill_color\":{\"value\":\"#1f77b4\"},\"height\":{\"units\":\"data\",\"value\":1},\"line_alpha\":{\"value\":0.1},\"line_color\":{\"value\":\"#1f77b4\"},\"width\":{\"units\":\"data\",\"value\":1},\"x\":{\"field\":\"x\"},\"y\":{\"field\":\"y\"}},\"id\":\"afb3ea61-f854-4331-ac2e-b0ec0c6a143c\",\"type\":\"Rect\"},{\"attributes\":{\"callback\":null,\"callback_policy\":\"continuous\",\"end\":7,\"js_property_callbacks\":{\"change:value\":[{\"id\":\"6b8f6955-7ea3-476f-9070-08d6a32407f5\",\"type\":\"CustomJS\"}]},\"start\":1,\"title\":\"Time step\",\"value\":7},\"id\":\"0deeb36c-561a-4315-a2c0-d7706169f307\",\"type\":\"Slider\"},{\"attributes\":{\"source\":{\"id\":\"39b5832d-96c0-4f4f-bed6-165165699459\",\"type\":\"ColumnDataSource\"}},\"id\":\"8acb35f0-49db-437d-8c64-761851ec7905\",\"type\":\"CDSView\"},{\"attributes\":{},\"id\":\"2606ea9e-d7bb-4221-9333-e3a95385bd0c\",\"type\":\"ZoomInTool\"},{\"attributes\":{\"height\":0,\"width\":0},\"id\":\"b42db5c2-4ba7-470a-b790-065ddfb7f3a3\",\"type\":\"Spacer\"},{\"attributes\":{\"children\":[{\"id\":\"de9d29ba-c986-4dd4-811f-98e873769b80\",\"type\":\"Row\"},{\"id\":\"a36a233c-ccac-4790-9ea1-72f9f888721f\",\"type\":\"Row\"}]},\"id\":\"4f55aa3a-952d-484a-ac3d-3f37dd43152e\",\"type\":\"Column\"},{\"attributes\":{},\"id\":\"78fc47ee-8b31-41f1-9a1b-c63c44db07a7\",\"type\":\"ZoomOutTool\"},{\"attributes\":{\"toolbar\":{\"id\":\"f17ac002-2eeb-4afc-bacc-fff85d52a755\",\"type\":\"ProxyToolbar\"},\"toolbar_location\":\"above\"},\"id\":\"7261b324-6232-4c50-a3c5-2739fa98b062\",\"type\":\"ToolbarBox\"},{\"attributes\":{\"dimension\":1,\"plot\":{\"id\":\"8f3888c9-4f17-4e9c-b37b-1f1ff3aad12e\",\"subtype\":\"Figure\",\"type\":\"Plot\"},\"ticker\":{\"id\":\"1b58c0dd-de4f-4859-ba83-f731a1251a24\",\"type\":\"CategoricalTicker\"}},\"id\":\"9787e161-40b1-4673-950a-59ebb5da8872\",\"type\":\"Grid\"},{\"attributes\":{\"callback\":null,\"factors\":[\"0\",\"1\",\"2\",\"3\",\"4\",\"5\",\"6\",\"7\",\"8\",\"9\"]},\"id\":\"6b5cbfc6-ceda-4052-87e3-e5a9dacbc80d\",\"type\":\"FactorRange\"},{\"attributes\":{\"axis_label\":\"Number of hidden units\",\"axis_label_text_font_size\":{\"value\":\"20pt\"},\"formatter\":{\"id\":\"4b745e1f-f1bd-4ffa-b0bd-5b775d1e1e7c\",\"type\":\"CategoricalTickFormatter\"},\"major_label_text_font_size\":{\"value\":\"12pt\"},\"plot\":{\"id\":\"8f3888c9-4f17-4e9c-b37b-1f1ff3aad12e\",\"subtype\":\"Figure\",\"type\":\"Plot\"},\"ticker\":{\"id\":\"1b58c0dd-de4f-4859-ba83-f731a1251a24\",\"type\":\"CategoricalTicker\"}},\"id\":\"fc900ce4-6708-4a6b-b6eb-9385de02520b\",\"type\":\"CategoricalAxis\"},{\"attributes\":{},\"id\":\"fc1a3cfc-14b9-4e6b-8af7-5a87d3cd2322\",\"type\":\"PanTool\"},{\"attributes\":{\"active_drag\":\"auto\",\"active_inspect\":\"auto\",\"active_scroll\":\"auto\",\"active_tap\":\"auto\",\"tools\":[{\"id\":\"a243c417-a40c-478a-968d-a5192dd64e91\",\"type\":\"HoverTool\"},{\"id\":\"2606ea9e-d7bb-4221-9333-e3a95385bd0c\",\"type\":\"ZoomInTool\"},{\"id\":\"78fc47ee-8b31-41f1-9a1b-c63c44db07a7\",\"type\":\"ZoomOutTool\"},{\"id\":\"fc1a3cfc-14b9-4e6b-8af7-5a87d3cd2322\",\"type\":\"PanTool\"},{\"id\":\"e6e7df7a-ba5f-40db-8d1d-b3efac71dde2\",\"type\":\"ResetTool\"}]},\"id\":\"877adf29-2616-4010-9f01-05368ce2f71c\",\"type\":\"Toolbar\"},{\"attributes\":{\"anchor\":\"bottom_left\",\"h\":{\"field\":\"dh\",\"units\":\"data\"},\"url\":{\"field\":\"url\"},\"w\":{\"field\":\"dw\",\"units\":\"data\"},\"x\":{\"value\":0},\"y\":{\"value\":0}},\"id\":\"5f8246e3-bdda-4807-b34b-54a93c8eae28\",\"type\":\"ImageURL\"},{\"attributes\":{\"dimension\":1,\"plot\":{\"id\":\"4817f5cc-0597-4591-88f6-107264b56d28\",\"subtype\":\"Figure\",\"type\":\"Plot\"},\"ticker\":{\"id\":\"3c17971d-ec8a-45d9-8379-c1b9605ca216\",\"type\":\"CategoricalTicker\"}},\"id\":\"f035168d-0ca7-40b3-9a8a-93a091966cee\",\"type\":\"Grid\"}],\"root_ids\":[\"8e932b66-1522-4f1a-99fd-15caca060cef\"]},\"title\":\"Bokeh Application\",\"version\":\"0.12.13\"}};\n",
       "  var render_items = [{\"docid\":\"4c291b86-7f11-42a1-94eb-52c93e8db1ef\",\"elementid\":\"b11fe540-e35d-457d-a650-49159062f6e9\",\"modelid\":\"8e932b66-1522-4f1a-99fd-15caca060cef\"}];\n",
       "  root.Bokeh.embed.embed_items_notebook(docs_json, render_items);\n",
       "\n",
       "  }\n",
       "  if (root.Bokeh !== undefined) {\n",
       "    embed_document(root);\n",
       "  } else {\n",
       "    var attempts = 0;\n",
       "    var timer = setInterval(function(root) {\n",
       "      if (root.Bokeh !== undefined) {\n",
       "        embed_document(root);\n",
       "        clearInterval(timer);\n",
       "      }\n",
       "      attempts++;\n",
       "      if (attempts > 100) {\n",
       "        console.log(\"Bokeh: ERROR: Unable to run BokehJS code because BokehJS library is missing\")\n",
       "        clearInterval(timer);\n",
       "      }\n",
       "    }, 10, root)\n",
       "  }\n",
       "})(window);"
      ],
      "application/vnd.bokehjs_exec.v0+json": ""
     },
     "metadata": {
      "application/vnd.bokehjs_exec.v0+json": {
       "id": "8e932b66-1522-4f1a-99fd-15caca060cef"
      }
     },
     "output_type": "display_data"
    }
   ],
   "source": [
    "iplot.plot_linked_heatmap_weights(with_noise_url_pd)#, save_path=root_save_dir+this_save_dir+'interactive_plot.html')"
   ]
  },
  {
   "cell_type": "markdown",
   "metadata": {},
   "source": [
    "### Figure 8-Figure supplement 3  | Interactive figure exploring the relationship between the strength of  L1 regularisation on the network weights and the structure of the RFs  the network produces. \n",
    "\n",
    "The left panel shows the performance of the newtwork with the hyperparameter settings specified on the x and y axes. The x axis signifies the strength of L1 reguilarisation placed on the weights of the network during training. The y axis signifies the number of hidden units in the network. Performance of model as a function of number of hidden units andregularization on the weights as measured by a, reconstruction error on validation set at the end of training.\n",
    "\n",
    "Hover over a point in the left panel to show the corresponding spatial receptive fields of the network in the right panel. Using the settings above the right hand panel, zoom, pan and reset the image to explore the shapes of the spatial receptive fields. Change the slider on the upper left to change the time-step of the spatial receptive fields being shown in the right hand panel."
   ]
  }
 ],
 "metadata": {
  "hide_input": false,
  "kernelspec": {
   "display_name": "predictive_python_old_theano",
   "language": "python",
   "name": "predictive_kernel_old"
  },
  "language_info": {
   "codemirror_mode": {
    "name": "ipython",
    "version": 3
   },
   "file_extension": ".py",
   "mimetype": "text/x-python",
   "name": "python",
   "nbconvert_exporter": "python",
   "pygments_lexer": "ipython3",
   "version": "3.5.2"
  }
 },
 "nbformat": 4,
 "nbformat_minor": 1
}
