{
 "cells": [
  {
   "cell_type": "raw",
   "metadata": {},
   "source": [
    "<script>\n",
    "  function code_toggle() {\n",
    "    if (code_shown){\n",
    "      $('div.input').hide('500');\n",
    "      $('#toggleButton').val('Show Code')\n",
    "    } else {\n",
    "      $('div.input').show('500');\n",
    "      $('#toggleButton').val('Hide Code')\n",
    "    }\n",
    "    code_shown = !code_shown\n",
    "  }\n",
    "\n",
    "  $( document ).ready(function(){\n",
    "    code_shown=false;\n",
    "    $('div.input').hide()\n",
    "  });\n",
    "</script>\n",
    "<form action=\"javascript:code_toggle()\"><input type=\"submit\" id=\"toggleButton\" value=\"Show Code\"></form>"
   ]
  },
  {
   "cell_type": "code",
   "execution_count": 1,
   "metadata": {},
   "outputs": [
    {
     "data": {
      "text/html": [
       "<style>.container { width:100% !important; }</style>"
      ],
      "text/plain": [
       "<IPython.core.display.HTML object>"
      ]
     },
     "metadata": {},
     "output_type": "display_data"
    }
   ],
   "source": [
    "from IPython.core.display import display, HTML\n",
    "display(HTML(\"<style>.container { width:100% !important; }</style>\"))"
   ]
  },
  {
   "cell_type": "code",
   "execution_count": 2,
   "metadata": {},
   "outputs": [],
   "source": [
    "import os\n",
    "os.environ[\"THEANO_FLAGS\"] = \"mode=FAST_RUN,device=gpu,floatX=float32,\""
   ]
  },
  {
   "cell_type": "code",
   "execution_count": 3,
   "metadata": {},
   "outputs": [],
   "source": [
    "import warnings; warnings.simplefilter('ignore')"
   ]
  },
  {
   "cell_type": "code",
   "execution_count": 4,
   "metadata": {
    "scrolled": true
   },
   "outputs": [
    {
     "name": "stderr",
     "output_type": "stream",
     "text": [
      "WARNING (theano.sandbox.cuda): The cuda backend is deprecated and will be removed in the next release (v0.10).  Please switch to the gpuarray backend. You can get more information about how to switch at this URL:\n",
      " https://github.com/Theano/Theano/wiki/Converting-to-the-new-gpu-back-end%28gpuarray%29\n",
      "\n",
      "Using gpu device 0: GeForce GTX 1080 Ti (CNMeM is disabled, cuDNN 5005)\n"
     ]
    }
   ],
   "source": [
    "import sys\n",
    "pred_path = '/home/yossi/yossi_local/predictive_coding_python'\n",
    "if pred_path not in sys.path:\n",
    "    sys.path.append(pred_path)\n",
    "import importlib\n",
    "from imp import reload\n",
    "import data_handling as dat\n",
    "import predictive_network_subclasses as pn\n",
    "import numpy as np\n",
    "import matplotlib.pyplot as plt\n",
    "import os\n",
    "import auditory_analysis as aan\n",
    "import visualisation as vis\n",
    "import pickle as pkl\n",
    "from imp import reload\n",
    "import results_dataframe_handling as rdh\n",
    "import interactive_plotting as iplot\n",
    "reload(iplot)\n",
    "reload(aan)\n",
    "reload(vis)\n",
    "reload(pn)\n",
    "reload(rdh)\n",
    "%matplotlib inline\n",
    "\n",
    "# %pylab inline\n",
    "# pylab.rcParams['figure.figsize'] = (20, 20)"
   ]
  },
  {
   "cell_type": "code",
   "execution_count": 5,
   "metadata": {},
   "outputs": [
    {
     "data": {
      "text/html": [
       "\n",
       "    <div class=\"bk-root\">\n",
       "        <a href=\"https://bokeh.pydata.org\" target=\"_blank\" class=\"bk-logo bk-logo-small bk-logo-notebook\"></a>\n",
       "        <span id=\"f19d3faf-077d-4d12-9a48-b89199f11cf9\">Loading BokehJS ...</span>\n",
       "    </div>"
      ]
     },
     "metadata": {},
     "output_type": "display_data"
    },
    {
     "data": {
      "application/javascript": [
       "\n",
       "(function(root) {\n",
       "  function now() {\n",
       "    return new Date();\n",
       "  }\n",
       "\n",
       "  var force = true;\n",
       "\n",
       "  if (typeof (root._bokeh_onload_callbacks) === \"undefined\" || force === true) {\n",
       "    root._bokeh_onload_callbacks = [];\n",
       "    root._bokeh_is_loading = undefined;\n",
       "  }\n",
       "\n",
       "  var JS_MIME_TYPE = 'application/javascript';\n",
       "  var HTML_MIME_TYPE = 'text/html';\n",
       "  var EXEC_MIME_TYPE = 'application/vnd.bokehjs_exec.v0+json';\n",
       "  var CLASS_NAME = 'output_bokeh rendered_html';\n",
       "\n",
       "  /**\n",
       "   * Render data to the DOM node\n",
       "   */\n",
       "  function render(props, node) {\n",
       "    var script = document.createElement(\"script\");\n",
       "    node.appendChild(script);\n",
       "  }\n",
       "\n",
       "  /**\n",
       "   * Handle when an output is cleared or removed\n",
       "   */\n",
       "  function handleClearOutput(event, handle) {\n",
       "    var cell = handle.cell;\n",
       "\n",
       "    var id = cell.output_area._bokeh_element_id;\n",
       "    var server_id = cell.output_area._bokeh_server_id;\n",
       "    // Clean up Bokeh references\n",
       "    if (id !== undefined) {\n",
       "      Bokeh.index[id].model.document.clear();\n",
       "      delete Bokeh.index[id];\n",
       "    }\n",
       "\n",
       "    if (server_id !== undefined) {\n",
       "      // Clean up Bokeh references\n",
       "      var cmd = \"from bokeh.io.state import curstate; print(curstate().uuid_to_server['\" + server_id + \"'].get_sessions()[0].document.roots[0]._id)\";\n",
       "      cell.notebook.kernel.execute(cmd, {\n",
       "        iopub: {\n",
       "          output: function(msg) {\n",
       "            var element_id = msg.content.text.trim();\n",
       "            Bokeh.index[element_id].model.document.clear();\n",
       "            delete Bokeh.index[element_id];\n",
       "          }\n",
       "        }\n",
       "      });\n",
       "      // Destroy server and session\n",
       "      var cmd = \"import bokeh.io.notebook as ion; ion.destroy_server('\" + server_id + \"')\";\n",
       "      cell.notebook.kernel.execute(cmd);\n",
       "    }\n",
       "  }\n",
       "\n",
       "  /**\n",
       "   * Handle when a new output is added\n",
       "   */\n",
       "  function handleAddOutput(event, handle) {\n",
       "    var output_area = handle.output_area;\n",
       "    var output = handle.output;\n",
       "\n",
       "    // limit handleAddOutput to display_data with EXEC_MIME_TYPE content only\n",
       "    if ((output.output_type != \"display_data\") || (!output.data.hasOwnProperty(EXEC_MIME_TYPE))) {\n",
       "      return\n",
       "    }\n",
       "\n",
       "    var toinsert = output_area.element.find(\".\" + CLASS_NAME.split(' ')[0]);\n",
       "\n",
       "    if (output.metadata[EXEC_MIME_TYPE][\"id\"] !== undefined) {\n",
       "      toinsert[0].firstChild.textContent = output.data[JS_MIME_TYPE];\n",
       "      // store reference to embed id on output_area\n",
       "      output_area._bokeh_element_id = output.metadata[EXEC_MIME_TYPE][\"id\"];\n",
       "    }\n",
       "    if (output.metadata[EXEC_MIME_TYPE][\"server_id\"] !== undefined) {\n",
       "      var bk_div = document.createElement(\"div\");\n",
       "      bk_div.innerHTML = output.data[HTML_MIME_TYPE];\n",
       "      var script_attrs = bk_div.children[0].attributes;\n",
       "      for (var i = 0; i < script_attrs.length; i++) {\n",
       "        toinsert[0].firstChild.setAttribute(script_attrs[i].name, script_attrs[i].value);\n",
       "      }\n",
       "      // store reference to server id on output_area\n",
       "      output_area._bokeh_server_id = output.metadata[EXEC_MIME_TYPE][\"server_id\"];\n",
       "    }\n",
       "  }\n",
       "\n",
       "  function register_renderer(events, OutputArea) {\n",
       "\n",
       "    function append_mime(data, metadata, element) {\n",
       "      // create a DOM node to render to\n",
       "      var toinsert = this.create_output_subarea(\n",
       "        metadata,\n",
       "        CLASS_NAME,\n",
       "        EXEC_MIME_TYPE\n",
       "      );\n",
       "      this.keyboard_manager.register_events(toinsert);\n",
       "      // Render to node\n",
       "      var props = {data: data, metadata: metadata[EXEC_MIME_TYPE]};\n",
       "      render(props, toinsert[0]);\n",
       "      element.append(toinsert);\n",
       "      return toinsert\n",
       "    }\n",
       "\n",
       "    /* Handle when an output is cleared or removed */\n",
       "    events.on('clear_output.CodeCell', handleClearOutput);\n",
       "    events.on('delete.Cell', handleClearOutput);\n",
       "\n",
       "    /* Handle when a new output is added */\n",
       "    events.on('output_added.OutputArea', handleAddOutput);\n",
       "\n",
       "    /**\n",
       "     * Register the mime type and append_mime function with output_area\n",
       "     */\n",
       "    OutputArea.prototype.register_mime_type(EXEC_MIME_TYPE, append_mime, {\n",
       "      /* Is output safe? */\n",
       "      safe: true,\n",
       "      /* Index of renderer in `output_area.display_order` */\n",
       "      index: 0\n",
       "    });\n",
       "  }\n",
       "\n",
       "  // register the mime type if in Jupyter Notebook environment and previously unregistered\n",
       "  if (root.Jupyter !== undefined) {\n",
       "    var events = require('base/js/events');\n",
       "    var OutputArea = require('notebook/js/outputarea').OutputArea;\n",
       "\n",
       "    if (OutputArea.prototype.mime_types().indexOf(EXEC_MIME_TYPE) == -1) {\n",
       "      register_renderer(events, OutputArea);\n",
       "    }\n",
       "  }\n",
       "\n",
       "  \n",
       "  if (typeof (root._bokeh_timeout) === \"undefined\" || force === true) {\n",
       "    root._bokeh_timeout = Date.now() + 5000;\n",
       "    root._bokeh_failed_load = false;\n",
       "  }\n",
       "\n",
       "  var NB_LOAD_WARNING = {'data': {'text/html':\n",
       "     \"<div style='background-color: #fdd'>\\n\"+\n",
       "     \"<p>\\n\"+\n",
       "     \"BokehJS does not appear to have successfully loaded. If loading BokehJS from CDN, this \\n\"+\n",
       "     \"may be due to a slow or bad network connection. Possible fixes:\\n\"+\n",
       "     \"</p>\\n\"+\n",
       "     \"<ul>\\n\"+\n",
       "     \"<li>re-rerun `output_notebook()` to attempt to load from CDN again, or</li>\\n\"+\n",
       "     \"<li>use INLINE resources instead, as so:</li>\\n\"+\n",
       "     \"</ul>\\n\"+\n",
       "     \"<code>\\n\"+\n",
       "     \"from bokeh.resources import INLINE\\n\"+\n",
       "     \"output_notebook(resources=INLINE)\\n\"+\n",
       "     \"</code>\\n\"+\n",
       "     \"</div>\"}};\n",
       "\n",
       "  function display_loaded() {\n",
       "    var el = document.getElementById(\"f19d3faf-077d-4d12-9a48-b89199f11cf9\");\n",
       "    if (el != null) {\n",
       "      el.textContent = \"BokehJS is loading...\";\n",
       "    }\n",
       "    if (root.Bokeh !== undefined) {\n",
       "      if (el != null) {\n",
       "        el.textContent = \"BokehJS \" + root.Bokeh.version + \" successfully loaded.\";\n",
       "      }\n",
       "    } else if (Date.now() < root._bokeh_timeout) {\n",
       "      setTimeout(display_loaded, 100)\n",
       "    }\n",
       "  }\n",
       "\n",
       "\n",
       "  function run_callbacks() {\n",
       "    try {\n",
       "      root._bokeh_onload_callbacks.forEach(function(callback) { callback() });\n",
       "    }\n",
       "    finally {\n",
       "      delete root._bokeh_onload_callbacks\n",
       "    }\n",
       "    console.info(\"Bokeh: all callbacks have finished\");\n",
       "  }\n",
       "\n",
       "  function load_libs(js_urls, callback) {\n",
       "    root._bokeh_onload_callbacks.push(callback);\n",
       "    if (root._bokeh_is_loading > 0) {\n",
       "      console.log(\"Bokeh: BokehJS is being loaded, scheduling callback at\", now());\n",
       "      return null;\n",
       "    }\n",
       "    if (js_urls == null || js_urls.length === 0) {\n",
       "      run_callbacks();\n",
       "      return null;\n",
       "    }\n",
       "    console.log(\"Bokeh: BokehJS not loaded, scheduling load and callback at\", now());\n",
       "    root._bokeh_is_loading = js_urls.length;\n",
       "    for (var i = 0; i < js_urls.length; i++) {\n",
       "      var url = js_urls[i];\n",
       "      var s = document.createElement('script');\n",
       "      s.src = url;\n",
       "      s.async = false;\n",
       "      s.onreadystatechange = s.onload = function() {\n",
       "        root._bokeh_is_loading--;\n",
       "        if (root._bokeh_is_loading === 0) {\n",
       "          console.log(\"Bokeh: all BokehJS libraries loaded\");\n",
       "          run_callbacks()\n",
       "        }\n",
       "      };\n",
       "      s.onerror = function() {\n",
       "        console.warn(\"failed to load library \" + url);\n",
       "      };\n",
       "      console.log(\"Bokeh: injecting script tag for BokehJS library: \", url);\n",
       "      document.getElementsByTagName(\"head\")[0].appendChild(s);\n",
       "    }\n",
       "  };var element = document.getElementById(\"f19d3faf-077d-4d12-9a48-b89199f11cf9\");\n",
       "  if (element == null) {\n",
       "    console.log(\"Bokeh: ERROR: autoload.js configured with elementid 'f19d3faf-077d-4d12-9a48-b89199f11cf9' but no matching script tag was found. \")\n",
       "    return false;\n",
       "  }\n",
       "\n",
       "  var js_urls = [\"https://cdn.pydata.org/bokeh/release/bokeh-0.12.13.min.js\", \"https://cdn.pydata.org/bokeh/release/bokeh-widgets-0.12.13.min.js\", \"https://cdn.pydata.org/bokeh/release/bokeh-tables-0.12.13.min.js\", \"https://cdn.pydata.org/bokeh/release/bokeh-gl-0.12.13.min.js\"];\n",
       "\n",
       "  var inline_js = [\n",
       "    function(Bokeh) {\n",
       "      Bokeh.set_log_level(\"info\");\n",
       "    },\n",
       "    \n",
       "    function(Bokeh) {\n",
       "      \n",
       "    },\n",
       "    function(Bokeh) {\n",
       "      console.log(\"Bokeh: injecting CSS: https://cdn.pydata.org/bokeh/release/bokeh-0.12.13.min.css\");\n",
       "      Bokeh.embed.inject_css(\"https://cdn.pydata.org/bokeh/release/bokeh-0.12.13.min.css\");\n",
       "      console.log(\"Bokeh: injecting CSS: https://cdn.pydata.org/bokeh/release/bokeh-widgets-0.12.13.min.css\");\n",
       "      Bokeh.embed.inject_css(\"https://cdn.pydata.org/bokeh/release/bokeh-widgets-0.12.13.min.css\");\n",
       "      console.log(\"Bokeh: injecting CSS: https://cdn.pydata.org/bokeh/release/bokeh-tables-0.12.13.min.css\");\n",
       "      Bokeh.embed.inject_css(\"https://cdn.pydata.org/bokeh/release/bokeh-tables-0.12.13.min.css\");\n",
       "    }\n",
       "  ];\n",
       "\n",
       "  function run_inline_js() {\n",
       "    \n",
       "    if ((root.Bokeh !== undefined) || (force === true)) {\n",
       "      for (var i = 0; i < inline_js.length; i++) {\n",
       "        inline_js[i].call(root, root.Bokeh);\n",
       "      }if (force === true) {\n",
       "        display_loaded();\n",
       "      }} else if (Date.now() < root._bokeh_timeout) {\n",
       "      setTimeout(run_inline_js, 100);\n",
       "    } else if (!root._bokeh_failed_load) {\n",
       "      console.log(\"Bokeh: BokehJS failed to load within specified timeout.\");\n",
       "      root._bokeh_failed_load = true;\n",
       "    } else if (force !== true) {\n",
       "      var cell = $(document.getElementById(\"f19d3faf-077d-4d12-9a48-b89199f11cf9\")).parents('.cell').data().cell;\n",
       "      cell.output_area.append_execute_result(NB_LOAD_WARNING)\n",
       "    }\n",
       "\n",
       "  }\n",
       "\n",
       "  if (root._bokeh_is_loading === 0) {\n",
       "    console.log(\"Bokeh: BokehJS loaded, going straight to plotting\");\n",
       "    run_inline_js();\n",
       "  } else {\n",
       "    load_libs(js_urls, function() {\n",
       "      console.log(\"Bokeh: BokehJS plotting callback run at\", now());\n",
       "      run_inline_js();\n",
       "    });\n",
       "  }\n",
       "}(window));"
      ],
      "application/vnd.bokehjs_load.v0+json": "\n(function(root) {\n  function now() {\n    return new Date();\n  }\n\n  var force = true;\n\n  if (typeof (root._bokeh_onload_callbacks) === \"undefined\" || force === true) {\n    root._bokeh_onload_callbacks = [];\n    root._bokeh_is_loading = undefined;\n  }\n\n  \n\n  \n  if (typeof (root._bokeh_timeout) === \"undefined\" || force === true) {\n    root._bokeh_timeout = Date.now() + 5000;\n    root._bokeh_failed_load = false;\n  }\n\n  var NB_LOAD_WARNING = {'data': {'text/html':\n     \"<div style='background-color: #fdd'>\\n\"+\n     \"<p>\\n\"+\n     \"BokehJS does not appear to have successfully loaded. If loading BokehJS from CDN, this \\n\"+\n     \"may be due to a slow or bad network connection. Possible fixes:\\n\"+\n     \"</p>\\n\"+\n     \"<ul>\\n\"+\n     \"<li>re-rerun `output_notebook()` to attempt to load from CDN again, or</li>\\n\"+\n     \"<li>use INLINE resources instead, as so:</li>\\n\"+\n     \"</ul>\\n\"+\n     \"<code>\\n\"+\n     \"from bokeh.resources import INLINE\\n\"+\n     \"output_notebook(resources=INLINE)\\n\"+\n     \"</code>\\n\"+\n     \"</div>\"}};\n\n  function display_loaded() {\n    var el = document.getElementById(\"f19d3faf-077d-4d12-9a48-b89199f11cf9\");\n    if (el != null) {\n      el.textContent = \"BokehJS is loading...\";\n    }\n    if (root.Bokeh !== undefined) {\n      if (el != null) {\n        el.textContent = \"BokehJS \" + root.Bokeh.version + \" successfully loaded.\";\n      }\n    } else if (Date.now() < root._bokeh_timeout) {\n      setTimeout(display_loaded, 100)\n    }\n  }\n\n\n  function run_callbacks() {\n    try {\n      root._bokeh_onload_callbacks.forEach(function(callback) { callback() });\n    }\n    finally {\n      delete root._bokeh_onload_callbacks\n    }\n    console.info(\"Bokeh: all callbacks have finished\");\n  }\n\n  function load_libs(js_urls, callback) {\n    root._bokeh_onload_callbacks.push(callback);\n    if (root._bokeh_is_loading > 0) {\n      console.log(\"Bokeh: BokehJS is being loaded, scheduling callback at\", now());\n      return null;\n    }\n    if (js_urls == null || js_urls.length === 0) {\n      run_callbacks();\n      return null;\n    }\n    console.log(\"Bokeh: BokehJS not loaded, scheduling load and callback at\", now());\n    root._bokeh_is_loading = js_urls.length;\n    for (var i = 0; i < js_urls.length; i++) {\n      var url = js_urls[i];\n      var s = document.createElement('script');\n      s.src = url;\n      s.async = false;\n      s.onreadystatechange = s.onload = function() {\n        root._bokeh_is_loading--;\n        if (root._bokeh_is_loading === 0) {\n          console.log(\"Bokeh: all BokehJS libraries loaded\");\n          run_callbacks()\n        }\n      };\n      s.onerror = function() {\n        console.warn(\"failed to load library \" + url);\n      };\n      console.log(\"Bokeh: injecting script tag for BokehJS library: \", url);\n      document.getElementsByTagName(\"head\")[0].appendChild(s);\n    }\n  };var element = document.getElementById(\"f19d3faf-077d-4d12-9a48-b89199f11cf9\");\n  if (element == null) {\n    console.log(\"Bokeh: ERROR: autoload.js configured with elementid 'f19d3faf-077d-4d12-9a48-b89199f11cf9' but no matching script tag was found. \")\n    return false;\n  }\n\n  var js_urls = [\"https://cdn.pydata.org/bokeh/release/bokeh-0.12.13.min.js\", \"https://cdn.pydata.org/bokeh/release/bokeh-widgets-0.12.13.min.js\", \"https://cdn.pydata.org/bokeh/release/bokeh-tables-0.12.13.min.js\", \"https://cdn.pydata.org/bokeh/release/bokeh-gl-0.12.13.min.js\"];\n\n  var inline_js = [\n    function(Bokeh) {\n      Bokeh.set_log_level(\"info\");\n    },\n    \n    function(Bokeh) {\n      \n    },\n    function(Bokeh) {\n      console.log(\"Bokeh: injecting CSS: https://cdn.pydata.org/bokeh/release/bokeh-0.12.13.min.css\");\n      Bokeh.embed.inject_css(\"https://cdn.pydata.org/bokeh/release/bokeh-0.12.13.min.css\");\n      console.log(\"Bokeh: injecting CSS: https://cdn.pydata.org/bokeh/release/bokeh-widgets-0.12.13.min.css\");\n      Bokeh.embed.inject_css(\"https://cdn.pydata.org/bokeh/release/bokeh-widgets-0.12.13.min.css\");\n      console.log(\"Bokeh: injecting CSS: https://cdn.pydata.org/bokeh/release/bokeh-tables-0.12.13.min.css\");\n      Bokeh.embed.inject_css(\"https://cdn.pydata.org/bokeh/release/bokeh-tables-0.12.13.min.css\");\n    }\n  ];\n\n  function run_inline_js() {\n    \n    if ((root.Bokeh !== undefined) || (force === true)) {\n      for (var i = 0; i < inline_js.length; i++) {\n        inline_js[i].call(root, root.Bokeh);\n      }if (force === true) {\n        display_loaded();\n      }} else if (Date.now() < root._bokeh_timeout) {\n      setTimeout(run_inline_js, 100);\n    } else if (!root._bokeh_failed_load) {\n      console.log(\"Bokeh: BokehJS failed to load within specified timeout.\");\n      root._bokeh_failed_load = true;\n    } else if (force !== true) {\n      var cell = $(document.getElementById(\"f19d3faf-077d-4d12-9a48-b89199f11cf9\")).parents('.cell').data().cell;\n      cell.output_area.append_execute_result(NB_LOAD_WARNING)\n    }\n\n  }\n\n  if (root._bokeh_is_loading === 0) {\n    console.log(\"Bokeh: BokehJS loaded, going straight to plotting\");\n    run_inline_js();\n  } else {\n    load_libs(js_urls, function() {\n      console.log(\"Bokeh: BokehJS plotting callback run at\", now());\n      run_inline_js();\n    });\n  }\n}(window));"
     },
     "metadata": {},
     "output_type": "display_data"
    }
   ],
   "source": [
    "from bokeh.io import output_notebook\n",
    "output_notebook()"
   ]
  },
  {
   "cell_type": "code",
   "execution_count": 6,
   "metadata": {
    "scrolled": true
   },
   "outputs": [],
   "source": [
    "res_folder_path = '/home/yossi//Dropbox/visualRFNN/Datasets_new/visual/Dataset_python_olshausen_160x100x50_no_writing/nnResults/'\n",
    "res_pd = rdh.compile_results_pd(res_folder_path)\n",
    "# res_pd.sort_values('final_val_cost')"
   ]
  },
  {
   "cell_type": "code",
   "execution_count": 7,
   "metadata": {
    "scrolled": true
   },
   "outputs": [],
   "source": [
    "this_save_dir = 'visual_images_with_noise/'\n",
    "root_dir='/home/yossi/yossi_local/github/temporal_prediction_model/Figures/'\n",
    "no_noise_url_pd = iplot.get_urls_for_visual_df_data(res_pd, 'log_reg_factor', 'num_filters', 'final_val_cost', server_address='', root_dir=root_dir, this_save_dir=this_save_dir, verbose=False)"
   ]
  },
  {
   "cell_type": "code",
   "execution_count": 8,
   "metadata": {
    "scrolled": false
   },
   "outputs": [
    {
     "name": "stderr",
     "output_type": "stream",
     "text": [
      "W-1001 (NO_DATA_RENDERERS): Plot has no data renderers: Figure(id='72aec420-771d-41d7-9ea0-99e7f72f3f69', ...)\n"
     ]
    },
    {
     "data": {
      "text/html": [
       "\n",
       "<div class=\"bk-root\">\n",
       "    <div class=\"bk-plotdiv\" id=\"f57fef49-8580-4568-a26a-10d98ef8960c\"></div>\n",
       "</div>"
      ]
     },
     "metadata": {},
     "output_type": "display_data"
    },
    {
     "data": {
      "application/javascript": [
       "(function(root) {\n",
       "  function embed_document(root) {\n",
       "    \n",
       "  var docs_json = {\"6a509d0f-62f7-4008-a6b0-95f1e4d09712\":{\"roots\":{\"references\":[{\"attributes\":{\"formatter\":{\"id\":\"da0359ee-56ca-4040-8b04-c44ede156c9a\",\"type\":\"BasicTickFormatter\"},\"plot\":{\"id\":\"72aec420-771d-41d7-9ea0-99e7f72f3f69\",\"subtype\":\"Figure\",\"type\":\"Plot\"},\"ticker\":{\"id\":\"de8b5fb5-379a-4d1b-bd91-984bfcb983e3\",\"type\":\"BasicTicker\"}},\"id\":\"d149d2b0-9ea2-411e-931c-6083bbeff05e\",\"type\":\"LinearAxis\"},{\"attributes\":{\"active_drag\":\"auto\",\"active_inspect\":\"auto\",\"active_scroll\":\"auto\",\"active_tap\":\"auto\",\"tools\":[{\"id\":\"de76f0e6-0024-4bb7-ab03-ea2f481756df\",\"type\":\"PanTool\"},{\"id\":\"5a752072-5802-49fc-a4db-21c9f91ca4d6\",\"type\":\"WheelZoomTool\"},{\"id\":\"9c75f8e7-fdcb-471f-8180-3487e0061fc8\",\"type\":\"BoxZoomTool\"},{\"id\":\"8d9de69b-3794-4bf7-84dc-a6ab3353aee8\",\"type\":\"SaveTool\"},{\"id\":\"c58f8cf9-9fec-4383-920e-1cc05158b93e\",\"type\":\"ResetTool\"},{\"id\":\"f3f0ebba-13a3-4f88-a2ab-4a70e0168f05\",\"type\":\"HelpTool\"}]},\"id\":\"ebf3e536-48c3-4342-887b-a473445b1a0b\",\"type\":\"Toolbar\"},{\"attributes\":{\"bottom_units\":\"screen\",\"fill_alpha\":{\"value\":0.5},\"fill_color\":{\"value\":\"lightgrey\"},\"left_units\":\"screen\",\"level\":\"overlay\",\"line_alpha\":{\"value\":1.0},\"line_color\":{\"value\":\"black\"},\"line_dash\":[4,4],\"line_width\":{\"value\":2},\"plot\":null,\"render_mode\":\"css\",\"right_units\":\"screen\",\"top_units\":\"screen\"},\"id\":\"41c760b8-2712-4268-a6d5-232eea9e0a87\",\"type\":\"BoxAnnotation\"},{\"attributes\":{\"callback\":null,\"factors\":[\"-inf\",\"-7.0\",\"-6.5\",\"-6.25\",\"-6.0\",\"-5.75\",\"-5.5\",\"-5.0\"]},\"id\":\"352eee9c-2de1-465c-a58a-3e7a5d99490c\",\"type\":\"FactorRange\"},{\"attributes\":{},\"id\":\"2b713d4a-14c8-448a-870f-b08a98272f95\",\"type\":\"BasicTickFormatter\"},{\"attributes\":{\"below\":[{\"id\":\"233ef494-eaf3-471e-9c83-7ec936b9f779\",\"type\":\"CategoricalAxis\"}],\"left\":[{\"id\":\"631c1ad2-2eed-417b-bb71-78afd7345001\",\"type\":\"CategoricalAxis\"}],\"renderers\":[{\"id\":\"233ef494-eaf3-471e-9c83-7ec936b9f779\",\"type\":\"CategoricalAxis\"},{\"id\":\"8b8400ad-4f51-4378-b1f8-234cc4feabad\",\"type\":\"Grid\"},{\"id\":\"631c1ad2-2eed-417b-bb71-78afd7345001\",\"type\":\"CategoricalAxis\"},{\"id\":\"faafbb06-7bbf-4913-875b-7289779d09bd\",\"type\":\"Grid\"},{\"id\":\"b013d1aa-4d9a-48ae-b350-8abfe3d95b10\",\"type\":\"GlyphRenderer\"}],\"title\":{\"id\":\"77f3da26-ccaf-491f-a38d-428fdb2765a2\",\"type\":\"Title\"},\"toolbar\":{\"id\":\"fe1e9d1d-8b28-4faf-ab31-fa257d4546c2\",\"type\":\"Toolbar\"},\"toolbar_location\":\"above\",\"x_range\":{\"id\":\"352eee9c-2de1-465c-a58a-3e7a5d99490c\",\"type\":\"FactorRange\"},\"x_scale\":{\"id\":\"080b54e2-4d9b-4096-8f7d-0c8320b2d2d6\",\"type\":\"CategoricalScale\"},\"y_range\":{\"id\":\"dbca4c37-9b8d-48ee-b352-c5e9f41c6093\",\"type\":\"FactorRange\"},\"y_scale\":{\"id\":\"92d80ae6-aa29-4d19-b938-46ae3d9102c0\",\"type\":\"CategoricalScale\"}},\"id\":\"bd612078-cd64-4d16-be79-b90c84dfe74b\",\"subtype\":\"Figure\",\"type\":\"Plot\"},{\"attributes\":{\"callback\":null,\"column_names\":[\"num_filters\",\"y\",\"log_reg_factor\",\"x\",\"url\",\"z_value\",\"final_val_cost\",\"results_path\",\"index\",\"color\"],\"data\":{\"color\":[\"#4dffaa\",\"#00a4ff\",\"#56ffa0\",\"#0014ff\",\"#7dff7a\",\"#000089\",\"#adff49\",\"#000080\",\"#adff49\",\"#0000e3\",\"#ffa300\",\"#004cff\",\"#ffe600\",\"#26ffd1\",\"#800000\",\"#9b0000\"],\"final_val_cost\":{\"__ndarray__\":\"H4Xr2V2z3z9xPQonl5PeP83MzLQ5yt8/XI/CXWyO3T/sUbiCrA/gP4/C9XSUk9w/FK5HPxFG4D+amZl1KIHcP9ejcLmhReA/MzMzAyoj3T/D9Si4DOjgP/YoXJdI8d0/exSuZ3+n4D+PwvWov1/fP4/C9TDc2+E/w/UopBDG4T8=\",\"dtype\":\"float64\",\"shape\":[16]},\"index\":[1,4,2,12,9,14,7,13,5,15,6,3,10,11,8,0],\"log_reg_factor\":{\"__ndarray__\":\"AAAAAAAA8P8AAAAAAADw/wAAAAAAABzAAAAAAAAAHMAAAAAAAAAawAAAAAAAABrAAAAAAAAAGcAAAAAAAAAZwAAAAAAAABjAAAAAAAAAGMAAAAAAAAAXwAAAAAAAABfAAAAAAAAAFsAAAAAAAAAWwAAAAAAAABTAAAAAAAAAFMA=\",\"dtype\":\"float64\",\"shape\":[16]},\"num_filters\":[400,1600,400,1600,400,1600,400,1600,400,1600,400,1600,400,1600,400,1600],\"results_path\":[\"/home/yossi//Dropbox/visualRFNN/Datasets_new/visual/Dataset_python_olshausen_160x100x50_no_writing/nnResults/num_filters_400_reg_factor_0/python_network.pkl\",\"/home/yossi//Dropbox/visualRFNN/Datasets_new/visual/Dataset_python_olshausen_160x100x50_no_writing/nnResults/num_filters_1600_reg_factor_0/python_network.pkl\",\"/home/yossi//Dropbox/visualRFNN/Datasets_new/visual/Dataset_python_olshausen_160x100x50_no_writing/nnResults/num_filters_400_reg_factor_1e-07_t_filter_length_7/python_network.pkl\",\"/home/yossi//Dropbox/visualRFNN/Datasets_new/visual/Dataset_python_olshausen_160x100x50_no_writing/nnResults/num_filters_1600_reg_factor_1e-07_t_filter_length_7/python_network.pkl\",\"/home/yossi//Dropbox/visualRFNN/Datasets_new/visual/Dataset_python_olshausen_160x100x50_no_writing/nnResults/num_filters_400_reg_factor_3.162e-07_t_filter_length_7/python_network.pkl\",\"/home/yossi//Dropbox/visualRFNN/Datasets_new/visual/Dataset_python_olshausen_160x100x50_no_writing/nnResults/num_filters_1600_reg_factor_3.162e-07_t_filter_length_7/python_network.pkl\",\"/home/yossi//Dropbox/visualRFNN/Datasets_new/visual/Dataset_python_olshausen_160x100x50_no_writing/nnResults/num_filters_400_reg_factor_5.623e-07_t_filter_length_7/python_network.pkl\",\"/home/yossi//Dropbox/visualRFNN/Datasets_new/visual/Dataset_python_olshausen_160x100x50_no_writing/nnResults/num_filters_1600_reg_factor_5.623e-07_t_filter_length_7/python_network.pkl\",\"/home/yossi//Dropbox/visualRFNN/Datasets_new/visual/Dataset_python_olshausen_160x100x50_no_writing/nnResults/num_filters_400_reg_factor_1e-06_t_filter_length_7/python_network.pkl\",\"/home/yossi//Dropbox/visualRFNN/Datasets_new/visual/Dataset_python_olshausen_160x100x50_no_writing/nnResults/num_filters_1600_reg_factor_1e-06_t_filter_length_7/python_network.pkl\",\"/home/yossi//Dropbox/visualRFNN/Datasets_new/visual/Dataset_python_olshausen_160x100x50_no_writing/nnResults/num_filters_400_reg_factor_1.7783e-06_t_filter_length_7/python_network.pkl\",\"/home/yossi//Dropbox/visualRFNN/Datasets_new/visual/Dataset_python_olshausen_160x100x50_no_writing/nnResults/num_filters_1600_reg_factor_1.7783e-06_t_filter_length_7/python_network.pkl\",\"/home/yossi//Dropbox/visualRFNN/Datasets_new/visual/Dataset_python_olshausen_160x100x50_no_writing/nnResults/num_filters_400_reg_factor_3.1623e-06_t_filter_length_7/python_network.pkl\",\"/home/yossi//Dropbox/visualRFNN/Datasets_new/visual/Dataset_python_olshausen_160x100x50_no_writing/nnResults/num_filters_1600_reg_factor_3.1623e-06_t_filter_length_7/python_network.pkl\",\"/home/yossi//Dropbox/visualRFNN/Datasets_new/visual/Dataset_python_olshausen_160x100x50_no_writing/nnResults/num_filters_400_reg_factor_1e-05_t_filter_length_7/python_network.pkl\",\"/home/yossi//Dropbox/visualRFNN/Datasets_new/visual/Dataset_python_olshausen_160x100x50_no_writing/nnResults/num_filters_1600_reg_factor_1e-05_t_filter_length_7/python_network.pkl\"],\"url\":[\"visual_images_with_noise/t_step=7/weight_img_1.jpeg\",\"visual_images_with_noise/t_step=7/weight_img_4.jpeg\",\"visual_images_with_noise/t_step=7/weight_img_2.jpeg\",\"visual_images_with_noise/t_step=7/weight_img_12.jpeg\",\"visual_images_with_noise/t_step=7/weight_img_9.jpeg\",\"visual_images_with_noise/t_step=7/weight_img_14.jpeg\",\"visual_images_with_noise/t_step=7/weight_img_7.jpeg\",\"visual_images_with_noise/t_step=7/weight_img_13.jpeg\",\"visual_images_with_noise/t_step=7/weight_img_5.jpeg\",\"visual_images_with_noise/t_step=7/weight_img_15.jpeg\",\"visual_images_with_noise/t_step=7/weight_img_6.jpeg\",\"visual_images_with_noise/t_step=7/weight_img_3.jpeg\",\"visual_images_with_noise/t_step=7/weight_img_10.jpeg\",\"visual_images_with_noise/t_step=7/weight_img_11.jpeg\",\"visual_images_with_noise/t_step=7/weight_img_8.jpeg\",\"visual_images_with_noise/t_step=7/weight_img_0.jpeg\"],\"x\":[\"-inf\",\"-inf\",\"-7.0\",\"-7.0\",\"-6.5\",\"-6.5\",\"-6.25\",\"-6.25\",\"-6.0\",\"-6.0\",\"-5.75\",\"-5.75\",\"-5.5\",\"-5.5\",\"-5.0\",\"-5.0\"],\"y\":[\"400\",\"1600\",\"400\",\"1600\",\"400\",\"1600\",\"400\",\"1600\",\"400\",\"1600\",\"400\",\"1600\",\"400\",\"1600\",\"400\",\"1600\"],\"z_value\":{\"__ndarray__\":\"H4Xr2V2z3z9xPQonl5PeP83MzLQ5yt8/XI/CXWyO3T/sUbiCrA/gP4/C9XSUk9w/FK5HPxFG4D+amZl1KIHcP9ejcLmhReA/MzMzAyoj3T/D9Si4DOjgP/YoXJdI8d0/exSuZ3+n4D+PwvWov1/fP4/C9TDc2+E/w/UopBDG4T8=\",\"dtype\":\"float64\",\"shape\":[16]}}},\"id\":\"d940380c-9cf8-43df-b7ef-df2472322093\",\"type\":\"ColumnDataSource\"},{\"attributes\":{\"callback\":null,\"factors\":[\"0\",\"1\",\"2\",\"3\",\"4\",\"5\",\"6\",\"7\",\"8\",\"9\"]},\"id\":\"2bb3a0a9-9bd4-4e30-a6d2-ad3b7db3e3b3\",\"type\":\"FactorRange\"},{\"attributes\":{\"callback\":null,\"column_names\":[\"url\",\"x\",\"y\",\"dh\",\"dw\"],\"data\":{\"dh\":[],\"dw\":[],\"url\":[],\"x\":[],\"y\":[]}},\"id\":\"c221aa11-01fa-4c93-a187-31b54644751e\",\"type\":\"ColumnDataSource\"},{\"attributes\":{\"high\":0.5580883938074112,\"low\":0.44538318142294886,\"palette\":[\"#000080\",\"#000084\",\"#000089\",\"#00008d\",\"#000092\",\"#000096\",\"#00009b\",\"#00009f\",\"#0000a4\",\"#0000a8\",\"#0000ad\",\"#0000b2\",\"#0000b6\",\"#0000bb\",\"#0000bf\",\"#0000c4\",\"#0000c8\",\"#0000cd\",\"#0000d1\",\"#0000d6\",\"#0000da\",\"#0000df\",\"#0000e3\",\"#0000e8\",\"#0000ed\",\"#0000f1\",\"#0000f6\",\"#0000fa\",\"#0000ff\",\"#0000ff\",\"#0000ff\",\"#0000ff\",\"#0000ff\",\"#0004ff\",\"#0008ff\",\"#000cff\",\"#0010ff\",\"#0014ff\",\"#0018ff\",\"#001cff\",\"#0020ff\",\"#0024ff\",\"#0028ff\",\"#002cff\",\"#0030ff\",\"#0034ff\",\"#0038ff\",\"#003cff\",\"#0040ff\",\"#0044ff\",\"#0048ff\",\"#004cff\",\"#0050ff\",\"#0054ff\",\"#0058ff\",\"#005cff\",\"#0060ff\",\"#0064ff\",\"#0068ff\",\"#006cff\",\"#0070ff\",\"#0074ff\",\"#0078ff\",\"#007cff\",\"#0080ff\",\"#0084ff\",\"#0088ff\",\"#008cff\",\"#0090ff\",\"#0094ff\",\"#0098ff\",\"#009cff\",\"#00a0ff\",\"#00a4ff\",\"#00a8ff\",\"#00acff\",\"#00b0ff\",\"#00b4ff\",\"#00b8ff\",\"#00bcff\",\"#00c0ff\",\"#00c4ff\",\"#00c8ff\",\"#00ccff\",\"#00d0ff\",\"#00d4ff\",\"#00d8ff\",\"#00dcfe\",\"#00e0fb\",\"#00e4f8\",\"#02e8f4\",\"#06ecf1\",\"#09f0ee\",\"#0cf4eb\",\"#0ff8e7\",\"#13fce4\",\"#16ffe1\",\"#19ffde\",\"#1cffdb\",\"#1fffd7\",\"#23ffd4\",\"#26ffd1\",\"#29ffce\",\"#2cffca\",\"#30ffc7\",\"#33ffc4\",\"#36ffc1\",\"#39ffbe\",\"#3cffba\",\"#40ffb7\",\"#43ffb4\",\"#46ffb1\",\"#49ffad\",\"#4dffaa\",\"#50ffa7\",\"#53ffa4\",\"#56ffa0\",\"#5aff9d\",\"#5dff9a\",\"#60ff97\",\"#63ff94\",\"#66ff90\",\"#6aff8d\",\"#6dff8a\",\"#70ff87\",\"#73ff83\",\"#77ff80\",\"#7aff7d\",\"#7dff7a\",\"#80ff77\",\"#83ff73\",\"#87ff70\",\"#8aff6d\",\"#8dff6a\",\"#90ff66\",\"#94ff63\",\"#97ff60\",\"#9aff5d\",\"#9dff5a\",\"#a0ff56\",\"#a4ff53\",\"#a7ff50\",\"#aaff4d\",\"#adff49\",\"#b1ff46\",\"#b4ff43\",\"#b7ff40\",\"#baff3c\",\"#beff39\",\"#c1ff36\",\"#c4ff33\",\"#c7ff30\",\"#caff2c\",\"#ceff29\",\"#d1ff26\",\"#d4ff23\",\"#d7ff1f\",\"#dbff1c\",\"#deff19\",\"#e1ff16\",\"#e4ff13\",\"#e7ff0f\",\"#ebff0c\",\"#eeff09\",\"#f1fc06\",\"#f4f802\",\"#f8f500\",\"#fbf100\",\"#feed00\",\"#ffea00\",\"#ffe600\",\"#ffe200\",\"#ffde00\",\"#ffdb00\",\"#ffd700\",\"#ffd300\",\"#ffd000\",\"#ffcc00\",\"#ffc800\",\"#ffc400\",\"#ffc100\",\"#ffbd00\",\"#ffb900\",\"#ffb600\",\"#ffb200\",\"#ffae00\",\"#ffab00\",\"#ffa700\",\"#ffa300\",\"#ff9f00\",\"#ff9c00\",\"#ff9800\",\"#ff9400\",\"#ff9100\",\"#ff8d00\",\"#ff8900\",\"#ff8600\",\"#ff8200\",\"#ff7e00\",\"#ff7a00\",\"#ff7700\",\"#ff7300\",\"#ff6f00\",\"#ff6c00\",\"#ff6800\",\"#ff6400\",\"#ff6000\",\"#ff5d00\",\"#ff5900\",\"#ff5500\",\"#ff5200\",\"#ff4e00\",\"#ff4a00\",\"#ff4700\",\"#ff4300\",\"#ff3f00\",\"#ff3b00\",\"#ff3800\",\"#ff3400\",\"#ff3000\",\"#ff2d00\",\"#ff2900\",\"#ff2500\",\"#ff2200\",\"#ff1e00\",\"#ff1a00\",\"#ff1600\",\"#ff1300\",\"#fa0f00\",\"#f60b00\",\"#f10800\",\"#ed0400\",\"#e80000\",\"#e40000\",\"#df0000\",\"#da0000\",\"#d60000\",\"#d10000\",\"#cd0000\",\"#c80000\",\"#c40000\",\"#bf0000\",\"#bb0000\",\"#b60000\",\"#b20000\",\"#ad0000\",\"#a80000\",\"#a40000\",\"#9f0000\",\"#9b0000\",\"#960000\",\"#920000\",\"#8d0000\",\"#890000\",\"#840000\",\"#800000\"]},\"id\":\"5da5eadd-515a-42f9-b400-45b698f60633\",\"type\":\"LinearColorMapper\"},{\"attributes\":{\"anchor\":\"bottom_left\",\"h\":{\"field\":\"dh\",\"units\":\"data\"},\"url\":{\"field\":\"url\"},\"w\":{\"field\":\"dw\",\"units\":\"data\"},\"x\":{\"value\":0},\"y\":{\"value\":0}},\"id\":\"6faeeb54-f717-4a3e-8205-87971f2e6619\",\"type\":\"ImageURL\"},{\"attributes\":{\"args\":{\"s2\":{\"id\":\"c221aa11-01fa-4c93-a187-31b54644751e\",\"type\":\"ColumnDataSource\"},\"s3\":{\"id\":\"d940380c-9cf8-43df-b7ef-df2472322093\",\"type\":\"ColumnDataSource\"},\"slider\":{\"id\":\"a47a04b5-4ca0-45c6-b31d-808df120965a\",\"type\":\"Slider\"}},\"code\":\"\\n    //console.log(cb_data)\\n    var indices = cb_data.index['1d'].indices;\\n    // console.log(indices)\\n    if (indices.length > 0) {\\n        //console.log(indices[0])\\n        //console.log('here!!!')\\n        //var imgWidth = image.width || image.naturalWidth;\\n        //var imgHeight = image.height || image.naturalHeight;\\n        //var img = s3.data.image[indices[0]];\\n        var url = s3.data.url[indices[0]];\\n        //console.log(s3.data.image[0][0])\\n        //console.log(img)\\n\\n        //check if the slider value has changed. If it has, update the timestep of the image being displayed\\n        var value = slider.value\\n        var old_url = url\\n        //console.log(old_url)\\n\\n        if (old_url != []) {\\n            if (value === parseInt(value, 10)) {\\n                //console.log(value)\\n                //console.log(old_url)\\n                var split_url = old_url.split(\\\"=\\\");\\n                split_url[1] = split_url[1].replace(split_url[1][0], value);\\n                new_url = split_url[0]+\\\"=\\\"+split_url[1];\\n                url=new_url\\n            }\\n        }\\n\\n        var d2 = s2.data;\\n        d2['url'] = [url]\\n        d2['x'] = [0]\\n        d2['y'] = [0]\\n        d2['dw'] = [10]\\n        d2['dh'] = [10]\\n        \\n        s2.change.emit();\\n    }\\n    \"},\"id\":\"99155d5f-8dfa-4c63-8247-8ddc8ff6b6e3\",\"type\":\"CustomJS\"},{\"attributes\":{},\"id\":\"15912469-3a2f-4b0c-8cb5-22e60ab184fb\",\"type\":\"CategoricalTickFormatter\"},{\"attributes\":{},\"id\":\"8d9de69b-3794-4bf7-84dc-a6ab3353aee8\",\"type\":\"SaveTool\"},{\"attributes\":{\"callback\":{\"id\":\"99155d5f-8dfa-4c63-8247-8ddc8ff6b6e3\",\"type\":\"CustomJS\"},\"tooltips\":null},\"id\":\"8091cd8f-8f04-4861-8e3c-d7b0e8f252ed\",\"type\":\"HoverTool\"},{\"attributes\":{\"callback\":null,\"factors\":[\"1600\",\"400\"]},\"id\":\"dbca4c37-9b8d-48ee-b352-c5e9f41c6093\",\"type\":\"FactorRange\"},{\"attributes\":{},\"id\":\"ca695be1-6528-4cc4-b560-0f0f2b75e0f7\",\"type\":\"CategoricalScale\"},{\"attributes\":{},\"id\":\"fa8adb24-7285-4fcf-ae4a-11985ea2cd02\",\"type\":\"CategoricalTickFormatter\"},{\"attributes\":{\"dimension\":1,\"plot\":{\"id\":\"72aec420-771d-41d7-9ea0-99e7f72f3f69\",\"subtype\":\"Figure\",\"type\":\"Plot\"},\"ticker\":{\"id\":\"b12968f2-9674-41f3-bf18-c8a2f589be73\",\"type\":\"BasicTicker\"}},\"id\":\"9ddcdb86-f636-43d9-b2a4-7175bedcd916\",\"type\":\"Grid\"},{\"attributes\":{\"source\":{\"id\":\"e7d49a46-e642-4942-9611-6163dd138dc2\",\"type\":\"ColumnDataSource\"}},\"id\":\"28e81f4e-d3b0-492c-947a-e85a57edfa5d\",\"type\":\"CDSView\"},{\"attributes\":{},\"id\":\"de8b5fb5-379a-4d1b-bd91-984bfcb983e3\",\"type\":\"BasicTicker\"},{\"attributes\":{},\"id\":\"0fa1e8fc-8e46-4e14-8adf-2ab304411ed3\",\"type\":\"CategoricalTicker\"},{\"attributes\":{},\"id\":\"5a752072-5802-49fc-a4db-21c9f91ca4d6\",\"type\":\"WheelZoomTool\"},{\"attributes\":{\"color_mapper\":{\"id\":\"5da5eadd-515a-42f9-b400-45b698f60633\",\"type\":\"LinearColorMapper\"},\"formatter\":{\"id\":\"2b713d4a-14c8-448a-870f-b08a98272f95\",\"type\":\"BasicTickFormatter\"},\"location\":[1,1],\"plot\":{\"id\":\"72aec420-771d-41d7-9ea0-99e7f72f3f69\",\"subtype\":\"Figure\",\"type\":\"Plot\"},\"ticker\":{\"id\":\"3c1da520-163b-43e6-bc33-8c4a385aa459\",\"type\":\"BasicTicker\"}},\"id\":\"2d304169-94db-4f61-aa48-fb04a8b2c2f8\",\"type\":\"ColorBar\"},{\"attributes\":{\"data_source\":{\"id\":\"e7d49a46-e642-4942-9611-6163dd138dc2\",\"type\":\"ColumnDataSource\"},\"glyph\":{\"id\":\"02161912-8df4-447b-8d43-fbf47e84bd20\",\"type\":\"Rect\"},\"hover_glyph\":null,\"muted_glyph\":null,\"nonselection_glyph\":{\"id\":\"8e1a8f93-c144-4467-9dd9-13f889fa25fd\",\"type\":\"Rect\"},\"selection_glyph\":null,\"view\":{\"id\":\"28e81f4e-d3b0-492c-947a-e85a57edfa5d\",\"type\":\"CDSView\"}},\"id\":\"b013d1aa-4d9a-48ae-b350-8abfe3d95b10\",\"type\":\"GlyphRenderer\"},{\"attributes\":{},\"id\":\"ce3f14db-6bda-48ec-9726-e5988805b99f\",\"type\":\"BasicTickFormatter\"},{\"attributes\":{},\"id\":\"6117c56d-7a34-46ad-a41f-330468d352d1\",\"type\":\"LinearScale\"},{\"attributes\":{\"callback\":null,\"factors\":[\"0\",\"1\",\"2\",\"3\",\"4\",\"5\",\"6\",\"7\",\"8\",\"9\"]},\"id\":\"8ed3e3ad-36bc-49e0-bf30-657f255a6e87\",\"type\":\"FactorRange\"},{\"attributes\":{\"children\":[{\"id\":\"a47a04b5-4ca0-45c6-b31d-808df120965a\",\"type\":\"Slider\"}],\"height\":200},\"id\":\"68983d5e-5690-46ea-abc3-f2d0b498861b\",\"type\":\"WidgetBox\"},{\"attributes\":{},\"id\":\"a3a59ce5-1890-44bf-91be-8ca187f1c1b9\",\"type\":\"CategoricalTickFormatter\"},{\"attributes\":{\"formatter\":{\"id\":\"fa8adb24-7285-4fcf-ae4a-11985ea2cd02\",\"type\":\"CategoricalTickFormatter\"},\"major_label_text_font_size\":{\"value\":\"0pt\"},\"major_tick_line_color\":{\"value\":null},\"plot\":{\"id\":\"797c17e4-2b18-4797-86ef-8e073d8c59aa\",\"subtype\":\"Figure\",\"type\":\"Plot\"},\"ticker\":{\"id\":\"ef572f9c-7820-4087-9e77-e818c53d8b1c\",\"type\":\"CategoricalTicker\"}},\"id\":\"7f60852c-d41c-4e57-a15c-b32ad79651c4\",\"type\":\"CategoricalAxis\"},{\"attributes\":{\"fill_alpha\":{\"value\":0.1},\"fill_color\":{\"value\":\"#1f77b4\"},\"height\":{\"units\":\"data\",\"value\":1},\"line_alpha\":{\"value\":0.1},\"line_color\":{\"value\":\"#1f77b4\"},\"width\":{\"units\":\"data\",\"value\":1},\"x\":{\"field\":\"x\"},\"y\":{\"field\":\"y\"}},\"id\":\"8e1a8f93-c144-4467-9dd9-13f889fa25fd\",\"type\":\"Rect\"},{\"attributes\":{},\"id\":\"3078d83a-5b69-4e74-9327-93fa64330c77\",\"type\":\"CategoricalTickFormatter\"},{\"attributes\":{\"active_drag\":\"auto\",\"active_inspect\":\"auto\",\"active_scroll\":\"auto\",\"active_tap\":\"auto\",\"tools\":[{\"id\":\"8091cd8f-8f04-4861-8e3c-d7b0e8f252ed\",\"type\":\"HoverTool\"}]},\"id\":\"fe1e9d1d-8b28-4faf-ab31-fa257d4546c2\",\"type\":\"Toolbar\"},{\"attributes\":{\"callback\":null},\"id\":\"ad0d86cc-e434-410f-85e8-9df0b8640f6e\",\"type\":\"DataRange1d\"},{\"attributes\":{\"anchor\":\"bottom_left\",\"h\":{\"field\":\"dh\",\"units\":\"data\"},\"url\":{\"field\":\"url\"},\"w\":{\"field\":\"dw\",\"units\":\"data\"},\"x\":{\"value\":0},\"y\":{\"value\":0}},\"id\":\"a77cc7e6-0838-45f6-97e6-88ea2cc898e7\",\"type\":\"ImageURL\"},{\"attributes\":{\"fill_color\":{\"field\":\"color\"},\"height\":{\"units\":\"data\",\"value\":1},\"line_color\":{\"field\":\"color\"},\"width\":{\"units\":\"data\",\"value\":1},\"x\":{\"field\":\"x\"},\"y\":{\"field\":\"y\"}},\"id\":\"02161912-8df4-447b-8d43-fbf47e84bd20\",\"type\":\"Rect\"},{\"attributes\":{},\"id\":\"080b54e2-4d9b-4096-8f7d-0c8320b2d2d6\",\"type\":\"CategoricalScale\"},{\"attributes\":{\"formatter\":{\"id\":\"15912469-3a2f-4b0c-8cb5-22e60ab184fb\",\"type\":\"CategoricalTickFormatter\"},\"major_label_text_font_size\":{\"value\":\"0pt\"},\"major_tick_line_color\":{\"value\":null},\"plot\":{\"id\":\"797c17e4-2b18-4797-86ef-8e073d8c59aa\",\"subtype\":\"Figure\",\"type\":\"Plot\"},\"ticker\":{\"id\":\"b8516520-6123-48a2-9eee-f8b83972f17a\",\"type\":\"CategoricalTicker\"}},\"id\":\"69405d2e-f167-4fd8-99fd-dde9fa61c525\",\"type\":\"CategoricalAxis\"},{\"attributes\":{},\"id\":\"c58f8cf9-9fec-4383-920e-1cc05158b93e\",\"type\":\"ResetTool\"},{\"attributes\":{\"axis_label\":\"Log_10 of L1 regularisation on weights\",\"axis_label_text_font_size\":{\"value\":\"20pt\"},\"formatter\":{\"id\":\"3078d83a-5b69-4e74-9327-93fa64330c77\",\"type\":\"CategoricalTickFormatter\"},\"major_label_text_font_size\":{\"value\":\"12pt\"},\"plot\":{\"id\":\"bd612078-cd64-4d16-be79-b90c84dfe74b\",\"subtype\":\"Figure\",\"type\":\"Plot\"},\"ticker\":{\"id\":\"3b2969c3-d1d1-4195-a40d-5ecfa3e24394\",\"type\":\"CategoricalTicker\"}},\"id\":\"233ef494-eaf3-471e-9c83-7ec936b9f779\",\"type\":\"CategoricalAxis\"},{\"attributes\":{\"source\":{\"id\":\"c221aa11-01fa-4c93-a187-31b54644751e\",\"type\":\"ColumnDataSource\"}},\"id\":\"2044b101-79a5-4afa-a58d-f8b3cef9e939\",\"type\":\"CDSView\"},{\"attributes\":{},\"id\":\"b8516520-6123-48a2-9eee-f8b83972f17a\",\"type\":\"CategoricalTicker\"},{\"attributes\":{},\"id\":\"92d80ae6-aa29-4d19-b938-46ae3d9102c0\",\"type\":\"CategoricalScale\"},{\"attributes\":{\"plot\":{\"id\":\"72aec420-771d-41d7-9ea0-99e7f72f3f69\",\"subtype\":\"Figure\",\"type\":\"Plot\"},\"ticker\":{\"id\":\"de8b5fb5-379a-4d1b-bd91-984bfcb983e3\",\"type\":\"BasicTicker\"}},\"id\":\"28ed937d-2850-4cb2-b312-d772db5d72f5\",\"type\":\"Grid\"},{\"attributes\":{},\"id\":\"da0359ee-56ca-4040-8b04-c44ede156c9a\",\"type\":\"BasicTickFormatter\"},{\"attributes\":{\"dimension\":1,\"plot\":{\"id\":\"bd612078-cd64-4d16-be79-b90c84dfe74b\",\"subtype\":\"Figure\",\"type\":\"Plot\"},\"ticker\":{\"id\":\"0fa1e8fc-8e46-4e14-8adf-2ab304411ed3\",\"type\":\"CategoricalTicker\"}},\"id\":\"faafbb06-7bbf-4913-875b-7289779d09bd\",\"type\":\"Grid\"},{\"attributes\":{\"callback\":null},\"id\":\"228cfab0-7ba8-45ee-a7d5-55dba210355d\",\"type\":\"DataRange1d\"},{\"attributes\":{},\"id\":\"6e3a5c62-c8d5-4496-a684-c8178991b217\",\"type\":\"CategoricalScale\"},{\"attributes\":{\"formatter\":{\"id\":\"ce3f14db-6bda-48ec-9726-e5988805b99f\",\"type\":\"BasicTickFormatter\"},\"plot\":{\"id\":\"72aec420-771d-41d7-9ea0-99e7f72f3f69\",\"subtype\":\"Figure\",\"type\":\"Plot\"},\"ticker\":{\"id\":\"b12968f2-9674-41f3-bf18-c8a2f589be73\",\"type\":\"BasicTicker\"}},\"id\":\"38e00866-438d-4f77-9340-4d31cf531193\",\"type\":\"LinearAxis\"},{\"attributes\":{\"callback\":null,\"column_names\":[\"num_filters\",\"y\",\"log_reg_factor\",\"x\",\"url\",\"z_value\",\"final_val_cost\",\"results_path\",\"index\",\"color\"],\"data\":{\"color\":[\"#4dffaa\",\"#00a4ff\",\"#56ffa0\",\"#0014ff\",\"#7dff7a\",\"#000089\",\"#adff49\",\"#000080\",\"#adff49\",\"#0000e3\",\"#ffa300\",\"#004cff\",\"#ffe600\",\"#26ffd1\",\"#800000\",\"#9b0000\"],\"final_val_cost\":{\"__ndarray__\":\"H4Xr2V2z3z9xPQonl5PeP83MzLQ5yt8/XI/CXWyO3T/sUbiCrA/gP4/C9XSUk9w/FK5HPxFG4D+amZl1KIHcP9ejcLmhReA/MzMzAyoj3T/D9Si4DOjgP/YoXJdI8d0/exSuZ3+n4D+PwvWov1/fP4/C9TDc2+E/w/UopBDG4T8=\",\"dtype\":\"float64\",\"shape\":[16]},\"index\":[1,4,2,12,9,14,7,13,5,15,6,3,10,11,8,0],\"log_reg_factor\":{\"__ndarray__\":\"AAAAAAAA8P8AAAAAAADw/wAAAAAAABzAAAAAAAAAHMAAAAAAAAAawAAAAAAAABrAAAAAAAAAGcAAAAAAAAAZwAAAAAAAABjAAAAAAAAAGMAAAAAAAAAXwAAAAAAAABfAAAAAAAAAFsAAAAAAAAAWwAAAAAAAABTAAAAAAAAAFMA=\",\"dtype\":\"float64\",\"shape\":[16]},\"num_filters\":[400,1600,400,1600,400,1600,400,1600,400,1600,400,1600,400,1600,400,1600],\"results_path\":[\"/home/yossi//Dropbox/visualRFNN/Datasets_new/visual/Dataset_python_olshausen_160x100x50_no_writing/nnResults/num_filters_400_reg_factor_0/python_network.pkl\",\"/home/yossi//Dropbox/visualRFNN/Datasets_new/visual/Dataset_python_olshausen_160x100x50_no_writing/nnResults/num_filters_1600_reg_factor_0/python_network.pkl\",\"/home/yossi//Dropbox/visualRFNN/Datasets_new/visual/Dataset_python_olshausen_160x100x50_no_writing/nnResults/num_filters_400_reg_factor_1e-07_t_filter_length_7/python_network.pkl\",\"/home/yossi//Dropbox/visualRFNN/Datasets_new/visual/Dataset_python_olshausen_160x100x50_no_writing/nnResults/num_filters_1600_reg_factor_1e-07_t_filter_length_7/python_network.pkl\",\"/home/yossi//Dropbox/visualRFNN/Datasets_new/visual/Dataset_python_olshausen_160x100x50_no_writing/nnResults/num_filters_400_reg_factor_3.162e-07_t_filter_length_7/python_network.pkl\",\"/home/yossi//Dropbox/visualRFNN/Datasets_new/visual/Dataset_python_olshausen_160x100x50_no_writing/nnResults/num_filters_1600_reg_factor_3.162e-07_t_filter_length_7/python_network.pkl\",\"/home/yossi//Dropbox/visualRFNN/Datasets_new/visual/Dataset_python_olshausen_160x100x50_no_writing/nnResults/num_filters_400_reg_factor_5.623e-07_t_filter_length_7/python_network.pkl\",\"/home/yossi//Dropbox/visualRFNN/Datasets_new/visual/Dataset_python_olshausen_160x100x50_no_writing/nnResults/num_filters_1600_reg_factor_5.623e-07_t_filter_length_7/python_network.pkl\",\"/home/yossi//Dropbox/visualRFNN/Datasets_new/visual/Dataset_python_olshausen_160x100x50_no_writing/nnResults/num_filters_400_reg_factor_1e-06_t_filter_length_7/python_network.pkl\",\"/home/yossi//Dropbox/visualRFNN/Datasets_new/visual/Dataset_python_olshausen_160x100x50_no_writing/nnResults/num_filters_1600_reg_factor_1e-06_t_filter_length_7/python_network.pkl\",\"/home/yossi//Dropbox/visualRFNN/Datasets_new/visual/Dataset_python_olshausen_160x100x50_no_writing/nnResults/num_filters_400_reg_factor_1.7783e-06_t_filter_length_7/python_network.pkl\",\"/home/yossi//Dropbox/visualRFNN/Datasets_new/visual/Dataset_python_olshausen_160x100x50_no_writing/nnResults/num_filters_1600_reg_factor_1.7783e-06_t_filter_length_7/python_network.pkl\",\"/home/yossi//Dropbox/visualRFNN/Datasets_new/visual/Dataset_python_olshausen_160x100x50_no_writing/nnResults/num_filters_400_reg_factor_3.1623e-06_t_filter_length_7/python_network.pkl\",\"/home/yossi//Dropbox/visualRFNN/Datasets_new/visual/Dataset_python_olshausen_160x100x50_no_writing/nnResults/num_filters_1600_reg_factor_3.1623e-06_t_filter_length_7/python_network.pkl\",\"/home/yossi//Dropbox/visualRFNN/Datasets_new/visual/Dataset_python_olshausen_160x100x50_no_writing/nnResults/num_filters_400_reg_factor_1e-05_t_filter_length_7/python_network.pkl\",\"/home/yossi//Dropbox/visualRFNN/Datasets_new/visual/Dataset_python_olshausen_160x100x50_no_writing/nnResults/num_filters_1600_reg_factor_1e-05_t_filter_length_7/python_network.pkl\"],\"url\":[\"visual_images_with_noise/t_step=7/weight_img_1.jpeg\",\"visual_images_with_noise/t_step=7/weight_img_4.jpeg\",\"visual_images_with_noise/t_step=7/weight_img_2.jpeg\",\"visual_images_with_noise/t_step=7/weight_img_12.jpeg\",\"visual_images_with_noise/t_step=7/weight_img_9.jpeg\",\"visual_images_with_noise/t_step=7/weight_img_14.jpeg\",\"visual_images_with_noise/t_step=7/weight_img_7.jpeg\",\"visual_images_with_noise/t_step=7/weight_img_13.jpeg\",\"visual_images_with_noise/t_step=7/weight_img_5.jpeg\",\"visual_images_with_noise/t_step=7/weight_img_15.jpeg\",\"visual_images_with_noise/t_step=7/weight_img_6.jpeg\",\"visual_images_with_noise/t_step=7/weight_img_3.jpeg\",\"visual_images_with_noise/t_step=7/weight_img_10.jpeg\",\"visual_images_with_noise/t_step=7/weight_img_11.jpeg\",\"visual_images_with_noise/t_step=7/weight_img_8.jpeg\",\"visual_images_with_noise/t_step=7/weight_img_0.jpeg\"],\"x\":[\"-inf\",\"-inf\",\"-7.0\",\"-7.0\",\"-6.5\",\"-6.5\",\"-6.25\",\"-6.25\",\"-6.0\",\"-6.0\",\"-5.75\",\"-5.75\",\"-5.5\",\"-5.5\",\"-5.0\",\"-5.0\"],\"y\":[\"400\",\"1600\",\"400\",\"1600\",\"400\",\"1600\",\"400\",\"1600\",\"400\",\"1600\",\"400\",\"1600\",\"400\",\"1600\",\"400\",\"1600\"],\"z_value\":{\"__ndarray__\":\"H4Xr2V2z3z9xPQonl5PeP83MzLQ5yt8/XI/CXWyO3T/sUbiCrA/gP4/C9XSUk9w/FK5HPxFG4D+amZl1KIHcP9ejcLmhReA/MzMzAyoj3T/D9Si4DOjgP/YoXJdI8d0/exSuZ3+n4D+PwvWov1/fP4/C9TDc2+E/w/UopBDG4T8=\",\"dtype\":\"float64\",\"shape\":[16]}}},\"id\":\"e7d49a46-e642-4942-9611-6163dd138dc2\",\"type\":\"ColumnDataSource\"},{\"attributes\":{\"args\":{\"s2\":{\"id\":\"c221aa11-01fa-4c93-a187-31b54644751e\",\"type\":\"ColumnDataSource\"},\"s3\":{\"id\":\"d940380c-9cf8-43df-b7ef-df2472322093\",\"type\":\"ColumnDataSource\"}},\"code\":\"\\n            //console.log(cb_obj)\\n           // console.log(cb_obj.index)\\n            var attrs = []; \\n            if (cb_obj.event_name == 'tap') {\\n                //console.log('here')\\n               // var ix = attrs['x'] + attrs['y']\\n\\n            }\\n            //check if the slider value has changed. If it has, update the timestep of the image being displayed\\n            var value = cb_obj.value\\n            if (value === parseInt(value, 10)) {\\n                //console.log(value)\\n                //console.log(s2.data)\\n                var old_url = s2.data.url\\n                    if (old_url != []) {\\n                      old_url=old_url[0]\\n                      //console.log(old_url)\\n                      var split_url = old_url.split(\\\"=\\\");\\n                      split_url[1] = split_url[1].replace(split_url[1][0], value);\\n                      new_url = split_url[0]+\\\"=\\\"+split_url[1];\\n                      var d2 = s2.data;\\n                      d2['url'] = [new_url]\\n                      s2.change.emit();\\n    } \\n            }\\n\\n\\n           //console.log(attrs)\\n          //  console.log(cb_data)\\n\\n            \"},\"id\":\"cae64d80-f043-42ea-bbc0-efc782c251fb\",\"type\":\"CustomJS\"},{\"attributes\":{\"align\":\"center\",\"plot\":null,\"text\":\"Final validation loss\",\"text_font_size\":{\"value\":\"16pt\"}},\"id\":\"f53b2136-076d-403c-a094-c6e7f8614002\",\"type\":\"Title\"},{\"attributes\":{\"plot\":null,\"text\":\"Corresponding spatial RFs\",\"text_font_size\":{\"value\":\"20pt\"}},\"id\":\"8c64521a-b4f3-4818-a811-26b31e605f90\",\"type\":\"Title\"},{\"attributes\":{\"below\":[{\"id\":\"d149d2b0-9ea2-411e-931c-6083bbeff05e\",\"type\":\"LinearAxis\"}],\"left\":[{\"id\":\"38e00866-438d-4f77-9340-4d31cf531193\",\"type\":\"LinearAxis\"}],\"min_border\":0,\"outline_line_color\":{\"value\":null},\"plot_height\":611,\"plot_width\":140,\"renderers\":[{\"id\":\"d149d2b0-9ea2-411e-931c-6083bbeff05e\",\"type\":\"LinearAxis\"},{\"id\":\"28ed937d-2850-4cb2-b312-d772db5d72f5\",\"type\":\"Grid\"},{\"id\":\"38e00866-438d-4f77-9340-4d31cf531193\",\"type\":\"LinearAxis\"},{\"id\":\"9ddcdb86-f636-43d9-b2a4-7175bedcd916\",\"type\":\"Grid\"},{\"id\":\"41c760b8-2712-4268-a6d5-232eea9e0a87\",\"type\":\"BoxAnnotation\"},{\"id\":\"2d304169-94db-4f61-aa48-fb04a8b2c2f8\",\"type\":\"ColorBar\"}],\"right\":[{\"id\":\"2d304169-94db-4f61-aa48-fb04a8b2c2f8\",\"type\":\"ColorBar\"}],\"title\":{\"id\":\"f53b2136-076d-403c-a094-c6e7f8614002\",\"type\":\"Title\"},\"title_location\":\"right\",\"toolbar\":{\"id\":\"ebf3e536-48c3-4342-887b-a473445b1a0b\",\"type\":\"Toolbar\"},\"toolbar_location\":null,\"x_range\":{\"id\":\"228cfab0-7ba8-45ee-a7d5-55dba210355d\",\"type\":\"DataRange1d\"},\"x_scale\":{\"id\":\"6117c56d-7a34-46ad-a41f-330468d352d1\",\"type\":\"LinearScale\"},\"y_range\":{\"id\":\"ad0d86cc-e434-410f-85e8-9df0b8640f6e\",\"type\":\"DataRange1d\"},\"y_scale\":{\"id\":\"023440da-f52b-4cc1-9ff2-16252579cbd3\",\"type\":\"LinearScale\"}},\"id\":\"72aec420-771d-41d7-9ea0-99e7f72f3f69\",\"subtype\":\"Figure\",\"type\":\"Plot\"},{\"attributes\":{},\"id\":\"87784064-3ae9-4d42-a9f9-c84dd3fcc1de\",\"type\":\"ResetTool\"},{\"attributes\":{},\"id\":\"023440da-f52b-4cc1-9ff2-16252579cbd3\",\"type\":\"LinearScale\"},{\"attributes\":{\"plot\":null,\"text\":\"Heatmap\",\"text_font_size\":{\"value\":\"20pt\"}},\"id\":\"77f3da26-ccaf-491f-a38d-428fdb2765a2\",\"type\":\"Title\"},{\"attributes\":{\"active_drag\":\"auto\",\"active_inspect\":\"auto\",\"active_scroll\":\"auto\",\"active_tap\":\"auto\",\"tools\":[{\"id\":\"beacbf0f-6954-4679-9f76-6864f2cc89d2\",\"type\":\"ZoomInTool\"},{\"id\":\"30556129-5fd1-4ddc-ae0e-89d07536d652\",\"type\":\"ZoomOutTool\"},{\"id\":\"34c83c43-d28e-43e8-901a-1f4356d76106\",\"type\":\"PanTool\"},{\"id\":\"87784064-3ae9-4d42-a9f9-c84dd3fcc1de\",\"type\":\"ResetTool\"}]},\"id\":\"11eaf3ef-6c13-46d5-bfd4-ae8f54f6395a\",\"type\":\"Toolbar\"},{\"attributes\":{\"data_source\":{\"id\":\"c221aa11-01fa-4c93-a187-31b54644751e\",\"type\":\"ColumnDataSource\"},\"glyph\":{\"id\":\"a77cc7e6-0838-45f6-97e6-88ea2cc898e7\",\"type\":\"ImageURL\"},\"hover_glyph\":null,\"muted_glyph\":null,\"nonselection_glyph\":{\"id\":\"6faeeb54-f717-4a3e-8205-87971f2e6619\",\"type\":\"ImageURL\"},\"selection_glyph\":null,\"view\":{\"id\":\"2044b101-79a5-4afa-a58d-f8b3cef9e939\",\"type\":\"CDSView\"}},\"id\":\"160d210f-d7ca-44fe-a19e-5986b64747bf\",\"type\":\"GlyphRenderer\"},{\"attributes\":{\"children\":[{\"id\":\"bd612078-cd64-4d16-be79-b90c84dfe74b\",\"subtype\":\"Figure\",\"type\":\"Plot\"},{\"id\":\"72aec420-771d-41d7-9ea0-99e7f72f3f69\",\"subtype\":\"Figure\",\"type\":\"Plot\"},{\"id\":\"797c17e4-2b18-4797-86ef-8e073d8c59aa\",\"subtype\":\"Figure\",\"type\":\"Plot\"},{\"id\":\"68983d5e-5690-46ea-abc3-f2d0b498861b\",\"type\":\"WidgetBox\"}]},\"id\":\"7af9e79a-4b87-4728-a3c0-d7071d603363\",\"type\":\"Row\"},{\"attributes\":{},\"id\":\"30556129-5fd1-4ddc-ae0e-89d07536d652\",\"type\":\"ZoomOutTool\"},{\"attributes\":{},\"id\":\"b12968f2-9674-41f3-bf18-c8a2f589be73\",\"type\":\"BasicTicker\"},{\"attributes\":{\"axis_label\":\"Number of hidden units\",\"axis_label_text_font_size\":{\"value\":\"20pt\"},\"formatter\":{\"id\":\"a3a59ce5-1890-44bf-91be-8ca187f1c1b9\",\"type\":\"CategoricalTickFormatter\"},\"major_label_text_font_size\":{\"value\":\"12pt\"},\"plot\":{\"id\":\"bd612078-cd64-4d16-be79-b90c84dfe74b\",\"subtype\":\"Figure\",\"type\":\"Plot\"},\"ticker\":{\"id\":\"0fa1e8fc-8e46-4e14-8adf-2ab304411ed3\",\"type\":\"CategoricalTicker\"}},\"id\":\"631c1ad2-2eed-417b-bb71-78afd7345001\",\"type\":\"CategoricalAxis\"},{\"attributes\":{},\"id\":\"de76f0e6-0024-4bb7-ab03-ea2f481756df\",\"type\":\"PanTool\"},{\"attributes\":{\"dimension\":1,\"plot\":{\"id\":\"797c17e4-2b18-4797-86ef-8e073d8c59aa\",\"subtype\":\"Figure\",\"type\":\"Plot\"},\"ticker\":{\"id\":\"b8516520-6123-48a2-9eee-f8b83972f17a\",\"type\":\"CategoricalTicker\"}},\"id\":\"2d28e5fc-6d19-4b33-b0fd-c7376b9e046d\",\"type\":\"Grid\"},{\"attributes\":{},\"id\":\"34c83c43-d28e-43e8-901a-1f4356d76106\",\"type\":\"PanTool\"},{\"attributes\":{},\"id\":\"3c1da520-163b-43e6-bc33-8c4a385aa459\",\"type\":\"BasicTicker\"},{\"attributes\":{},\"id\":\"3b2969c3-d1d1-4195-a40d-5ecfa3e24394\",\"type\":\"CategoricalTicker\"},{\"attributes\":{},\"id\":\"beacbf0f-6954-4679-9f76-6864f2cc89d2\",\"type\":\"ZoomInTool\"},{\"attributes\":{},\"id\":\"f3f0ebba-13a3-4f88-a2ab-4a70e0168f05\",\"type\":\"HelpTool\"},{\"attributes\":{\"plot\":{\"id\":\"bd612078-cd64-4d16-be79-b90c84dfe74b\",\"subtype\":\"Figure\",\"type\":\"Plot\"},\"ticker\":{\"id\":\"3b2969c3-d1d1-4195-a40d-5ecfa3e24394\",\"type\":\"CategoricalTicker\"}},\"id\":\"8b8400ad-4f51-4378-b1f8-234cc4feabad\",\"type\":\"Grid\"},{\"attributes\":{},\"id\":\"ef572f9c-7820-4087-9e77-e818c53d8b1c\",\"type\":\"CategoricalTicker\"},{\"attributes\":{\"overlay\":{\"id\":\"41c760b8-2712-4268-a6d5-232eea9e0a87\",\"type\":\"BoxAnnotation\"}},\"id\":\"9c75f8e7-fdcb-471f-8180-3487e0061fc8\",\"type\":\"BoxZoomTool\"},{\"attributes\":{\"below\":[{\"id\":\"7f60852c-d41c-4e57-a15c-b32ad79651c4\",\"type\":\"CategoricalAxis\"}],\"left\":[{\"id\":\"69405d2e-f167-4fd8-99fd-dde9fa61c525\",\"type\":\"CategoricalAxis\"}],\"min_border_left\":40,\"renderers\":[{\"id\":\"7f60852c-d41c-4e57-a15c-b32ad79651c4\",\"type\":\"CategoricalAxis\"},{\"id\":\"0dd7b4a9-08fb-4b63-898d-b206af052bc9\",\"type\":\"Grid\"},{\"id\":\"69405d2e-f167-4fd8-99fd-dde9fa61c525\",\"type\":\"CategoricalAxis\"},{\"id\":\"2d28e5fc-6d19-4b33-b0fd-c7376b9e046d\",\"type\":\"Grid\"},{\"id\":\"160d210f-d7ca-44fe-a19e-5986b64747bf\",\"type\":\"GlyphRenderer\"}],\"title\":{\"id\":\"8c64521a-b4f3-4818-a811-26b31e605f90\",\"type\":\"Title\"},\"toolbar\":{\"id\":\"11eaf3ef-6c13-46d5-bfd4-ae8f54f6395a\",\"type\":\"Toolbar\"},\"x_range\":{\"id\":\"8ed3e3ad-36bc-49e0-bf30-657f255a6e87\",\"type\":\"FactorRange\"},\"x_scale\":{\"id\":\"ca695be1-6528-4cc4-b560-0f0f2b75e0f7\",\"type\":\"CategoricalScale\"},\"y_range\":{\"id\":\"2bb3a0a9-9bd4-4e30-a6d2-ad3b7db3e3b3\",\"type\":\"FactorRange\"},\"y_scale\":{\"id\":\"6e3a5c62-c8d5-4496-a684-c8178991b217\",\"type\":\"CategoricalScale\"}},\"id\":\"797c17e4-2b18-4797-86ef-8e073d8c59aa\",\"subtype\":\"Figure\",\"type\":\"Plot\"},{\"attributes\":{\"plot\":{\"id\":\"797c17e4-2b18-4797-86ef-8e073d8c59aa\",\"subtype\":\"Figure\",\"type\":\"Plot\"},\"ticker\":{\"id\":\"ef572f9c-7820-4087-9e77-e818c53d8b1c\",\"type\":\"CategoricalTicker\"}},\"id\":\"0dd7b4a9-08fb-4b63-898d-b206af052bc9\",\"type\":\"Grid\"},{\"attributes\":{\"bar_color\":\"grey\",\"callback\":null,\"callback_policy\":\"continuous\",\"end\":7,\"height\":200,\"js_property_callbacks\":{\"change:value\":[{\"id\":\"cae64d80-f043-42ea-bbc0-efc782c251fb\",\"type\":\"CustomJS\"}]},\"orientation\":\"vertical\",\"start\":1,\"title\":\"Time step\",\"value\":7},\"id\":\"a47a04b5-4ca0-45c6-b31d-808df120965a\",\"type\":\"Slider\"}],\"root_ids\":[\"7af9e79a-4b87-4728-a3c0-d7071d603363\"]},\"title\":\"Bokeh Application\",\"version\":\"0.12.13\"}};\n",
       "  var render_items = [{\"docid\":\"6a509d0f-62f7-4008-a6b0-95f1e4d09712\",\"elementid\":\"f57fef49-8580-4568-a26a-10d98ef8960c\",\"modelid\":\"7af9e79a-4b87-4728-a3c0-d7071d603363\"}];\n",
       "  root.Bokeh.embed.embed_items_notebook(docs_json, render_items);\n",
       "\n",
       "  }\n",
       "  if (root.Bokeh !== undefined) {\n",
       "    embed_document(root);\n",
       "  } else {\n",
       "    var attempts = 0;\n",
       "    var timer = setInterval(function(root) {\n",
       "      if (root.Bokeh !== undefined) {\n",
       "        embed_document(root);\n",
       "        clearInterval(timer);\n",
       "      }\n",
       "      attempts++;\n",
       "      if (attempts > 100) {\n",
       "        console.log(\"Bokeh: ERROR: Unable to run BokehJS code because BokehJS library is missing\")\n",
       "        clearInterval(timer);\n",
       "      }\n",
       "    }, 10, root)\n",
       "  }\n",
       "})(window);"
      ],
      "application/vnd.bokehjs_exec.v0+json": ""
     },
     "metadata": {
      "application/vnd.bokehjs_exec.v0+json": {
       "id": "7af9e79a-4b87-4728-a3c0-d7071d603363"
      }
     },
     "output_type": "display_data"
    }
   ],
   "source": [
    "iplot.plot_linked_heatmap_weights(no_noise_url_pd)#, save_path='/home/yossi/yossi_local/github/temporal_prediction_model/Figures/visual_results_no_noise.html')"
   ]
  },
  {
   "cell_type": "markdown",
   "metadata": {},
   "source": [
    "### Figure 1-Figure supplement 2  | Interactive figure exploring the relationship between the strength of  L1 regularisation on the network weights and the structure of the RFs  the network produces. \n",
    "\n",
    "The left panel shows the performance of the newtwork with the hyperparameter settings specified on the x and y axes. The x axis signifies the strength of L1 reguilarisation placed on the weights of the network during training. The y axis signifies the number of hidden units in the network. Performance of model as a function of number of hidden units andregularization on the weights as measured by a, reconstruction error on validation set at the end of training.\n",
    "\n",
    "Hover over a point in the left panel to show the corresponding spatial receptive fields of the network in the right panel. Using the settings above the right hand panel, zoom, pan and reset the image to explore the shapes of the spatial receptive fields. Change the slider on the upper left to change the time-step of the spatial receptive fields being shown in the right hand panel."
   ]
  },
  {
   "cell_type": "code",
   "execution_count": 9,
   "metadata": {
    "scrolled": true
   },
   "outputs": [],
   "source": [
    "res_folder_path = '/home/yossi//Dropbox/visualRFNN/Datasets_new/visual/Dataset_python_olshausen_160x100x50_no_writing/nnResults_with_noise/'\n",
    "res_pd = rdh.compile_results_pd(res_folder_path)\n",
    "# res_pd.sort_values('final_val_cost')"
   ]
  },
  {
   "cell_type": "code",
   "execution_count": 10,
   "metadata": {},
   "outputs": [],
   "source": [
    "# root_save_dir ='/home/yossi/Dropbox/visualRFNN/interactive_figures/visual/no_writing/'\n",
    "this_save_dir = 'visual_images_with_noise/'\n",
    "root_dir='/home/yossi/yossi_local/github/temporal_prediction_model/Figures/'\n",
    "with_noise_url_pd = iplot.get_urls_for_visual_df_data(res_pd, 'log_reg_factor', 'num_filters', 'final_val_cost', server_address='', root_dir=root_dir, this_save_dir=this_save_dir, verbose=False)"
   ]
  },
  {
   "cell_type": "code",
   "execution_count": 11,
   "metadata": {
    "scrolled": false
   },
   "outputs": [
    {
     "name": "stderr",
     "output_type": "stream",
     "text": [
      "W-1001 (NO_DATA_RENDERERS): Plot has no data renderers: Figure(id='a899f303-b704-4227-a2f9-e08f5967b118', ...)\n"
     ]
    },
    {
     "data": {
      "text/html": [
       "\n",
       "<div class=\"bk-root\">\n",
       "    <div class=\"bk-plotdiv\" id=\"0022da5f-749a-4eb0-a1c9-2c9634c27cf5\"></div>\n",
       "</div>"
      ]
     },
     "metadata": {},
     "output_type": "display_data"
    },
    {
     "data": {
      "application/javascript": [
       "(function(root) {\n",
       "  function embed_document(root) {\n",
       "    \n",
       "  var docs_json = {\"1baaa1db-a1c8-4389-b932-e9cbd92a8989\":{\"roots\":{\"references\":[{\"attributes\":{\"align\":\"center\",\"plot\":null,\"text\":\"Final validation loss\",\"text_font_size\":{\"value\":\"16pt\"}},\"id\":\"b455911b-77f0-4541-b585-73090dc17c11\",\"type\":\"Title\"},{\"attributes\":{\"plot\":{\"id\":\"bd325feb-0a6b-4b4a-8f04-3a5287f66f42\",\"subtype\":\"Figure\",\"type\":\"Plot\"},\"ticker\":{\"id\":\"fa7ca6ec-9e74-43e8-9e58-889e6188f503\",\"type\":\"CategoricalTicker\"}},\"id\":\"6528c5a2-bbcd-4593-aec8-34738893f63e\",\"type\":\"Grid\"},{\"attributes\":{\"fill_color\":{\"field\":\"color\"},\"height\":{\"units\":\"data\",\"value\":1},\"line_color\":{\"field\":\"color\"},\"width\":{\"units\":\"data\",\"value\":1},\"x\":{\"field\":\"x\"},\"y\":{\"field\":\"y\"}},\"id\":\"309db481-a830-4bba-abfd-433376fd6841\",\"type\":\"Rect\"},{\"attributes\":{\"plot\":null,\"text\":\"Corresponding spatial RFs\",\"text_font_size\":{\"value\":\"20pt\"}},\"id\":\"e0a86d2b-1f8c-4d1b-885d-4760acd44f80\",\"type\":\"Title\"},{\"attributes\":{\"color_mapper\":{\"id\":\"a104ec6a-8a19-4541-89ae-b61eacc81ef5\",\"type\":\"LinearColorMapper\"},\"formatter\":{\"id\":\"397b01c5-da81-4089-a29c-34e60b1cdbdb\",\"type\":\"BasicTickFormatter\"},\"location\":[1,1],\"plot\":{\"id\":\"a899f303-b704-4227-a2f9-e08f5967b118\",\"subtype\":\"Figure\",\"type\":\"Plot\"},\"ticker\":{\"id\":\"a16fe244-0da6-4ea5-ba4e-c32d5a9d9b97\",\"type\":\"BasicTicker\"}},\"id\":\"780b5ea7-b271-4df5-bc14-6f412fea5eb7\",\"type\":\"ColorBar\"},{\"attributes\":{\"anchor\":\"bottom_left\",\"h\":{\"field\":\"dh\",\"units\":\"data\"},\"url\":{\"field\":\"url\"},\"w\":{\"field\":\"dw\",\"units\":\"data\"},\"x\":{\"value\":0},\"y\":{\"value\":0}},\"id\":\"5a1e478e-2ece-4660-8f3e-8ffcd473be8d\",\"type\":\"ImageURL\"},{\"attributes\":{},\"id\":\"7b4a3dd3-753d-4fc2-86dc-a90b1ad6ba15\",\"type\":\"CategoricalScale\"},{\"attributes\":{},\"id\":\"f18902a3-0313-42cd-bc30-2d7acc44ac40\",\"type\":\"BasicTicker\"},{\"attributes\":{},\"id\":\"fa7ca6ec-9e74-43e8-9e58-889e6188f503\",\"type\":\"CategoricalTicker\"},{\"attributes\":{},\"id\":\"adfd0275-529d-410d-9121-0b3fe8f5fa09\",\"type\":\"SaveTool\"},{\"attributes\":{},\"id\":\"129ac976-3e3f-4fb8-9b0a-69197b115ce8\",\"type\":\"BasicTickFormatter\"},{\"attributes\":{\"bar_color\":\"grey\",\"callback\":null,\"callback_policy\":\"continuous\",\"end\":7,\"height\":200,\"js_property_callbacks\":{\"change:value\":[{\"id\":\"57c5edb4-356b-4fac-8f41-6ced60a25830\",\"type\":\"CustomJS\"}]},\"orientation\":\"vertical\",\"start\":1,\"title\":\"Time step\",\"value\":7},\"id\":\"e04db62c-8182-42c2-923d-12d6bb9df2f3\",\"type\":\"Slider\"},{\"attributes\":{},\"id\":\"87c638c2-dbb8-4475-8ea7-4ed4bf58236f\",\"type\":\"CategoricalScale\"},{\"attributes\":{\"high\":0.8619401198625565,\"low\":0.7977941930294037,\"palette\":[\"#000080\",\"#000084\",\"#000089\",\"#00008d\",\"#000092\",\"#000096\",\"#00009b\",\"#00009f\",\"#0000a4\",\"#0000a8\",\"#0000ad\",\"#0000b2\",\"#0000b6\",\"#0000bb\",\"#0000bf\",\"#0000c4\",\"#0000c8\",\"#0000cd\",\"#0000d1\",\"#0000d6\",\"#0000da\",\"#0000df\",\"#0000e3\",\"#0000e8\",\"#0000ed\",\"#0000f1\",\"#0000f6\",\"#0000fa\",\"#0000ff\",\"#0000ff\",\"#0000ff\",\"#0000ff\",\"#0000ff\",\"#0004ff\",\"#0008ff\",\"#000cff\",\"#0010ff\",\"#0014ff\",\"#0018ff\",\"#001cff\",\"#0020ff\",\"#0024ff\",\"#0028ff\",\"#002cff\",\"#0030ff\",\"#0034ff\",\"#0038ff\",\"#003cff\",\"#0040ff\",\"#0044ff\",\"#0048ff\",\"#004cff\",\"#0050ff\",\"#0054ff\",\"#0058ff\",\"#005cff\",\"#0060ff\",\"#0064ff\",\"#0068ff\",\"#006cff\",\"#0070ff\",\"#0074ff\",\"#0078ff\",\"#007cff\",\"#0080ff\",\"#0084ff\",\"#0088ff\",\"#008cff\",\"#0090ff\",\"#0094ff\",\"#0098ff\",\"#009cff\",\"#00a0ff\",\"#00a4ff\",\"#00a8ff\",\"#00acff\",\"#00b0ff\",\"#00b4ff\",\"#00b8ff\",\"#00bcff\",\"#00c0ff\",\"#00c4ff\",\"#00c8ff\",\"#00ccff\",\"#00d0ff\",\"#00d4ff\",\"#00d8ff\",\"#00dcfe\",\"#00e0fb\",\"#00e4f8\",\"#02e8f4\",\"#06ecf1\",\"#09f0ee\",\"#0cf4eb\",\"#0ff8e7\",\"#13fce4\",\"#16ffe1\",\"#19ffde\",\"#1cffdb\",\"#1fffd7\",\"#23ffd4\",\"#26ffd1\",\"#29ffce\",\"#2cffca\",\"#30ffc7\",\"#33ffc4\",\"#36ffc1\",\"#39ffbe\",\"#3cffba\",\"#40ffb7\",\"#43ffb4\",\"#46ffb1\",\"#49ffad\",\"#4dffaa\",\"#50ffa7\",\"#53ffa4\",\"#56ffa0\",\"#5aff9d\",\"#5dff9a\",\"#60ff97\",\"#63ff94\",\"#66ff90\",\"#6aff8d\",\"#6dff8a\",\"#70ff87\",\"#73ff83\",\"#77ff80\",\"#7aff7d\",\"#7dff7a\",\"#80ff77\",\"#83ff73\",\"#87ff70\",\"#8aff6d\",\"#8dff6a\",\"#90ff66\",\"#94ff63\",\"#97ff60\",\"#9aff5d\",\"#9dff5a\",\"#a0ff56\",\"#a4ff53\",\"#a7ff50\",\"#aaff4d\",\"#adff49\",\"#b1ff46\",\"#b4ff43\",\"#b7ff40\",\"#baff3c\",\"#beff39\",\"#c1ff36\",\"#c4ff33\",\"#c7ff30\",\"#caff2c\",\"#ceff29\",\"#d1ff26\",\"#d4ff23\",\"#d7ff1f\",\"#dbff1c\",\"#deff19\",\"#e1ff16\",\"#e4ff13\",\"#e7ff0f\",\"#ebff0c\",\"#eeff09\",\"#f1fc06\",\"#f4f802\",\"#f8f500\",\"#fbf100\",\"#feed00\",\"#ffea00\",\"#ffe600\",\"#ffe200\",\"#ffde00\",\"#ffdb00\",\"#ffd700\",\"#ffd300\",\"#ffd000\",\"#ffcc00\",\"#ffc800\",\"#ffc400\",\"#ffc100\",\"#ffbd00\",\"#ffb900\",\"#ffb600\",\"#ffb200\",\"#ffae00\",\"#ffab00\",\"#ffa700\",\"#ffa300\",\"#ff9f00\",\"#ff9c00\",\"#ff9800\",\"#ff9400\",\"#ff9100\",\"#ff8d00\",\"#ff8900\",\"#ff8600\",\"#ff8200\",\"#ff7e00\",\"#ff7a00\",\"#ff7700\",\"#ff7300\",\"#ff6f00\",\"#ff6c00\",\"#ff6800\",\"#ff6400\",\"#ff6000\",\"#ff5d00\",\"#ff5900\",\"#ff5500\",\"#ff5200\",\"#ff4e00\",\"#ff4a00\",\"#ff4700\",\"#ff4300\",\"#ff3f00\",\"#ff3b00\",\"#ff3800\",\"#ff3400\",\"#ff3000\",\"#ff2d00\",\"#ff2900\",\"#ff2500\",\"#ff2200\",\"#ff1e00\",\"#ff1a00\",\"#ff1600\",\"#ff1300\",\"#fa0f00\",\"#f60b00\",\"#f10800\",\"#ed0400\",\"#e80000\",\"#e40000\",\"#df0000\",\"#da0000\",\"#d60000\",\"#d10000\",\"#cd0000\",\"#c80000\",\"#c40000\",\"#bf0000\",\"#bb0000\",\"#b60000\",\"#b20000\",\"#ad0000\",\"#a80000\",\"#a40000\",\"#9f0000\",\"#9b0000\",\"#960000\",\"#920000\",\"#8d0000\",\"#890000\",\"#840000\",\"#800000\"]},\"id\":\"a104ec6a-8a19-4541-89ae-b61eacc81ef5\",\"type\":\"LinearColorMapper\"},{\"attributes\":{},\"id\":\"fa944629-05b1-4601-9cba-f184234373ee\",\"type\":\"CategoricalTickFormatter\"},{\"attributes\":{},\"id\":\"22d9c8a5-b447-4ee0-9805-a2cb1e9277bd\",\"type\":\"ResetTool\"},{\"attributes\":{\"callback\":null,\"column_names\":[\"url\",\"x\",\"y\",\"dh\",\"dw\"],\"data\":{\"dh\":[],\"dw\":[],\"url\":[],\"x\":[],\"y\":[]}},\"id\":\"e63afc57-1b1b-4786-ae06-70f73a952cad\",\"type\":\"ColumnDataSource\"},{\"attributes\":{},\"id\":\"278d4ac1-5ea3-4c74-806b-b9acc3ab9bf7\",\"type\":\"CategoricalScale\"},{\"attributes\":{\"source\":{\"id\":\"e63afc57-1b1b-4786-ae06-70f73a952cad\",\"type\":\"ColumnDataSource\"}},\"id\":\"1bedacdd-0747-49f4-9883-4ba679c26f6d\",\"type\":\"CDSView\"},{\"attributes\":{\"children\":[{\"id\":\"e04db62c-8182-42c2-923d-12d6bb9df2f3\",\"type\":\"Slider\"}],\"height\":200},\"id\":\"76f62deb-f5a3-45e0-bb08-fff80470b72e\",\"type\":\"WidgetBox\"},{\"attributes\":{\"callback\":null,\"factors\":[\"-inf\",\"-7.0\",\"-6.75\",\"-6.5\",\"-6.25\",\"-6.0\",\"-5.75\",\"-5.5\"]},\"id\":\"93a01191-df1e-40f0-a98e-1f6b54a21518\",\"type\":\"FactorRange\"},{\"attributes\":{\"dimension\":1,\"plot\":{\"id\":\"a899f303-b704-4227-a2f9-e08f5967b118\",\"subtype\":\"Figure\",\"type\":\"Plot\"},\"ticker\":{\"id\":\"f18902a3-0313-42cd-bc30-2d7acc44ac40\",\"type\":\"BasicTicker\"}},\"id\":\"b66546cb-753e-49f6-8d6f-ff0aa23c633e\",\"type\":\"Grid\"},{\"attributes\":{},\"id\":\"4513fb5b-cb4c-468e-a33b-2ac5054d4a8f\",\"type\":\"LinearScale\"},{\"attributes\":{\"args\":{\"s2\":{\"id\":\"e63afc57-1b1b-4786-ae06-70f73a952cad\",\"type\":\"ColumnDataSource\"},\"s3\":{\"id\":\"7d41cb0c-2b4e-4da0-b5f6-5844079a3bd3\",\"type\":\"ColumnDataSource\"},\"slider\":{\"id\":\"e04db62c-8182-42c2-923d-12d6bb9df2f3\",\"type\":\"Slider\"}},\"code\":\"\\n    //console.log(cb_data)\\n    var indices = cb_data.index['1d'].indices;\\n    // console.log(indices)\\n    if (indices.length > 0) {\\n        //console.log(indices[0])\\n        //console.log('here!!!')\\n        //var imgWidth = image.width || image.naturalWidth;\\n        //var imgHeight = image.height || image.naturalHeight;\\n        //var img = s3.data.image[indices[0]];\\n        var url = s3.data.url[indices[0]];\\n        //console.log(s3.data.image[0][0])\\n        //console.log(img)\\n\\n        //check if the slider value has changed. If it has, update the timestep of the image being displayed\\n        var value = slider.value\\n        var old_url = url\\n        //console.log(old_url)\\n\\n        if (old_url != []) {\\n            if (value === parseInt(value, 10)) {\\n                //console.log(value)\\n                //console.log(old_url)\\n                var split_url = old_url.split(\\\"=\\\");\\n                split_url[1] = split_url[1].replace(split_url[1][0], value);\\n                new_url = split_url[0]+\\\"=\\\"+split_url[1];\\n                url=new_url\\n            }\\n        }\\n\\n        var d2 = s2.data;\\n        d2['url'] = [url]\\n        d2['x'] = [0]\\n        d2['y'] = [0]\\n        d2['dw'] = [10]\\n        d2['dh'] = [10]\\n        \\n        s2.change.emit();\\n    }\\n    \"},\"id\":\"48cae4ba-4512-4d64-8740-622923871e61\",\"type\":\"CustomJS\"},{\"attributes\":{},\"id\":\"3dc7b5c9-7e3c-4345-83f3-33ddfa10a3e0\",\"type\":\"PanTool\"},{\"attributes\":{},\"id\":\"2ee263da-410c-4c8d-a318-51b46e9c87d1\",\"type\":\"HelpTool\"},{\"attributes\":{\"callback\":null,\"factors\":[\"0\",\"1\",\"2\",\"3\",\"4\",\"5\",\"6\",\"7\",\"8\",\"9\"]},\"id\":\"7afb2a6f-766f-4e19-9c6f-f2c5df7d23b1\",\"type\":\"FactorRange\"},{\"attributes\":{\"active_drag\":\"auto\",\"active_inspect\":\"auto\",\"active_scroll\":\"auto\",\"active_tap\":\"auto\",\"tools\":[{\"id\":\"f0602dc6-7759-40c1-b371-fd7eba0455b0\",\"type\":\"PanTool\"},{\"id\":\"f5922bf9-6c91-42b4-ab14-d4639dbed566\",\"type\":\"WheelZoomTool\"},{\"id\":\"6f526e1f-41f4-4a32-9b28-c2751cbb30aa\",\"type\":\"BoxZoomTool\"},{\"id\":\"adfd0275-529d-410d-9121-0b3fe8f5fa09\",\"type\":\"SaveTool\"},{\"id\":\"d3ecc1ce-b6c7-41f4-958f-0bcb5ea1b303\",\"type\":\"ResetTool\"},{\"id\":\"2ee263da-410c-4c8d-a318-51b46e9c87d1\",\"type\":\"HelpTool\"}]},\"id\":\"7a47ee28-34b5-4895-bd4d-666bb69aa79a\",\"type\":\"Toolbar\"},{\"attributes\":{},\"id\":\"03257820-ac02-4129-af32-618cc2676a48\",\"type\":\"CategoricalScale\"},{\"attributes\":{},\"id\":\"f5c2bed2-3f3e-4660-9152-c05be1609349\",\"type\":\"LinearScale\"},{\"attributes\":{\"dimension\":1,\"plot\":{\"id\":\"011e0e8f-c25b-4917-8871-626a8fd73e1f\",\"subtype\":\"Figure\",\"type\":\"Plot\"},\"ticker\":{\"id\":\"769cf06c-0f87-45b7-8282-96ac080a82e5\",\"type\":\"CategoricalTicker\"}},\"id\":\"e420935c-c50a-4ba7-a127-ca9b24d23671\",\"type\":\"Grid\"},{\"attributes\":{\"formatter\":{\"id\":\"fa944629-05b1-4601-9cba-f184234373ee\",\"type\":\"CategoricalTickFormatter\"},\"major_label_text_font_size\":{\"value\":\"0pt\"},\"major_tick_line_color\":{\"value\":null},\"plot\":{\"id\":\"bd325feb-0a6b-4b4a-8f04-3a5287f66f42\",\"subtype\":\"Figure\",\"type\":\"Plot\"},\"ticker\":{\"id\":\"fa7ca6ec-9e74-43e8-9e58-889e6188f503\",\"type\":\"CategoricalTicker\"}},\"id\":\"ab1a7e2d-748f-45b2-9c5e-eccee664e2f9\",\"type\":\"CategoricalAxis\"},{\"attributes\":{},\"id\":\"f5922bf9-6c91-42b4-ab14-d4639dbed566\",\"type\":\"WheelZoomTool\"},{\"attributes\":{},\"id\":\"397b01c5-da81-4089-a29c-34e60b1cdbdb\",\"type\":\"BasicTickFormatter\"},{\"attributes\":{\"active_drag\":\"auto\",\"active_inspect\":\"auto\",\"active_scroll\":\"auto\",\"active_tap\":\"auto\",\"tools\":[{\"id\":\"b0f05592-b6b1-48a5-a8f2-bcb984a16771\",\"type\":\"ZoomInTool\"},{\"id\":\"edfe4cc9-709c-470b-bdda-61e3e2bdd424\",\"type\":\"ZoomOutTool\"},{\"id\":\"3dc7b5c9-7e3c-4345-83f3-33ddfa10a3e0\",\"type\":\"PanTool\"},{\"id\":\"22d9c8a5-b447-4ee0-9805-a2cb1e9277bd\",\"type\":\"ResetTool\"}]},\"id\":\"8ddc223e-3436-440e-be70-919207b7901e\",\"type\":\"Toolbar\"},{\"attributes\":{\"below\":[{\"id\":\"9192e45f-17ca-49da-b164-3801158034bf\",\"type\":\"CategoricalAxis\"}],\"left\":[{\"id\":\"1b81ef22-bd3d-4d8f-bd9b-8a06b8d90f1a\",\"type\":\"CategoricalAxis\"}],\"renderers\":[{\"id\":\"9192e45f-17ca-49da-b164-3801158034bf\",\"type\":\"CategoricalAxis\"},{\"id\":\"21e583bb-5839-4b18-b247-f79b9a6d6d8d\",\"type\":\"Grid\"},{\"id\":\"1b81ef22-bd3d-4d8f-bd9b-8a06b8d90f1a\",\"type\":\"CategoricalAxis\"},{\"id\":\"e420935c-c50a-4ba7-a127-ca9b24d23671\",\"type\":\"Grid\"},{\"id\":\"91b174ff-772e-43ef-873f-e443d6d93574\",\"type\":\"GlyphRenderer\"}],\"title\":{\"id\":\"d345e263-f4d4-4ea4-9e5d-a5644432e8fb\",\"type\":\"Title\"},\"toolbar\":{\"id\":\"221c8aa8-ea63-4198-b489-c9c48d00d5ba\",\"type\":\"Toolbar\"},\"toolbar_location\":\"above\",\"x_range\":{\"id\":\"93a01191-df1e-40f0-a98e-1f6b54a21518\",\"type\":\"FactorRange\"},\"x_scale\":{\"id\":\"03257820-ac02-4129-af32-618cc2676a48\",\"type\":\"CategoricalScale\"},\"y_range\":{\"id\":\"aed89690-15d5-4e03-a585-4badb5936569\",\"type\":\"FactorRange\"},\"y_scale\":{\"id\":\"7b4a3dd3-753d-4fc2-86dc-a90b1ad6ba15\",\"type\":\"CategoricalScale\"}},\"id\":\"011e0e8f-c25b-4917-8871-626a8fd73e1f\",\"subtype\":\"Figure\",\"type\":\"Plot\"},{\"attributes\":{},\"id\":\"3dbb21e1-5f7a-4a98-a7ad-a7b6bf098613\",\"type\":\"BasicTicker\"},{\"attributes\":{\"axis_label\":\"Number of hidden units\",\"axis_label_text_font_size\":{\"value\":\"20pt\"},\"formatter\":{\"id\":\"42005fe7-51a5-4597-b028-3fa784ebcc03\",\"type\":\"CategoricalTickFormatter\"},\"major_label_text_font_size\":{\"value\":\"12pt\"},\"plot\":{\"id\":\"011e0e8f-c25b-4917-8871-626a8fd73e1f\",\"subtype\":\"Figure\",\"type\":\"Plot\"},\"ticker\":{\"id\":\"769cf06c-0f87-45b7-8282-96ac080a82e5\",\"type\":\"CategoricalTicker\"}},\"id\":\"1b81ef22-bd3d-4d8f-bd9b-8a06b8d90f1a\",\"type\":\"CategoricalAxis\"},{\"attributes\":{\"active_drag\":\"auto\",\"active_inspect\":\"auto\",\"active_scroll\":\"auto\",\"active_tap\":\"auto\",\"tools\":[{\"id\":\"b8d8b10b-ad6b-4bf5-a4bd-6336d373fb97\",\"type\":\"HoverTool\"}]},\"id\":\"221c8aa8-ea63-4198-b489-c9c48d00d5ba\",\"type\":\"Toolbar\"},{\"attributes\":{\"source\":{\"id\":\"d2a5af5a-6b32-4e38-8fb8-ca9e7f0b8cba\",\"type\":\"ColumnDataSource\"}},\"id\":\"736dc5dc-a770-4a1d-82a9-526342e311f2\",\"type\":\"CDSView\"},{\"attributes\":{\"args\":{\"s2\":{\"id\":\"e63afc57-1b1b-4786-ae06-70f73a952cad\",\"type\":\"ColumnDataSource\"},\"s3\":{\"id\":\"7d41cb0c-2b4e-4da0-b5f6-5844079a3bd3\",\"type\":\"ColumnDataSource\"}},\"code\":\"\\n            //console.log(cb_obj)\\n           // console.log(cb_obj.index)\\n            var attrs = []; \\n            if (cb_obj.event_name == 'tap') {\\n                //console.log('here')\\n               // var ix = attrs['x'] + attrs['y']\\n\\n            }\\n            //check if the slider value has changed. If it has, update the timestep of the image being displayed\\n            var value = cb_obj.value\\n            if (value === parseInt(value, 10)) {\\n                //console.log(value)\\n                //console.log(s2.data)\\n                var old_url = s2.data.url\\n                    if (old_url != []) {\\n                      old_url=old_url[0]\\n                      //console.log(old_url)\\n                      var split_url = old_url.split(\\\"=\\\");\\n                      split_url[1] = split_url[1].replace(split_url[1][0], value);\\n                      new_url = split_url[0]+\\\"=\\\"+split_url[1];\\n                      var d2 = s2.data;\\n                      d2['url'] = [new_url]\\n                      s2.change.emit();\\n    } \\n            }\\n\\n\\n           //console.log(attrs)\\n          //  console.log(cb_data)\\n\\n            \"},\"id\":\"57c5edb4-356b-4fac-8f41-6ced60a25830\",\"type\":\"CustomJS\"},{\"attributes\":{},\"id\":\"a16fe244-0da6-4ea5-ba4e-c32d5a9d9b97\",\"type\":\"BasicTicker\"},{\"attributes\":{\"callback\":null},\"id\":\"0cb46c0c-7bad-491f-9825-5a671646024c\",\"type\":\"DataRange1d\"},{\"attributes\":{},\"id\":\"c682f91c-4e0d-40bf-8219-eeb8bfda1d04\",\"type\":\"CategoricalTicker\"},{\"attributes\":{\"data_source\":{\"id\":\"d2a5af5a-6b32-4e38-8fb8-ca9e7f0b8cba\",\"type\":\"ColumnDataSource\"},\"glyph\":{\"id\":\"309db481-a830-4bba-abfd-433376fd6841\",\"type\":\"Rect\"},\"hover_glyph\":null,\"muted_glyph\":null,\"nonselection_glyph\":{\"id\":\"85a1e379-2c8d-48fa-9a6f-7fd0fcb382b5\",\"type\":\"Rect\"},\"selection_glyph\":null,\"view\":{\"id\":\"736dc5dc-a770-4a1d-82a9-526342e311f2\",\"type\":\"CDSView\"}},\"id\":\"91b174ff-772e-43ef-873f-e443d6d93574\",\"type\":\"GlyphRenderer\"},{\"attributes\":{},\"id\":\"42005fe7-51a5-4597-b028-3fa784ebcc03\",\"type\":\"CategoricalTickFormatter\"},{\"attributes\":{\"callback\":{\"id\":\"48cae4ba-4512-4d64-8740-622923871e61\",\"type\":\"CustomJS\"},\"tooltips\":null},\"id\":\"b8d8b10b-ad6b-4bf5-a4bd-6336d373fb97\",\"type\":\"HoverTool\"},{\"attributes\":{},\"id\":\"b0f05592-b6b1-48a5-a8f2-bcb984a16771\",\"type\":\"ZoomInTool\"},{\"attributes\":{\"callback\":null,\"column_names\":[\"num_filters\",\"y\",\"log_reg_factor\",\"x\",\"url\",\"z_value\",\"final_val_cost\",\"results_path\",\"index\",\"color\"],\"data\":{\"color\":[\"#ff5200\",\"#ff8600\",\"#dbff1c\",\"#00e4f8\",\"#deff19\",\"#0060ff\",\"#ffe600\",\"#0000f1\",\"#ff6f00\",\"#000080\",\"#ff2900\",\"#000089\",\"#c80000\",\"#0044ff\",\"#800000\",\"#77ff80\"],\"final_val_cost\":{\"__ndarray__\":\"CtejqIw46z8pXI+ithvrP83MzIzPy+o/16Nw3fA+6j8Urkf5MczqP1K4HqU+/Ok/KVyPGkHm6j9mZmYm37rpP5qZmZEnJ+s/AAAAsIeH6T9SuB6NXU3rP83MzJRljOk/9ihcPz1y6z/hehTmFe7pP6RwPXIDles/hetRyPCK6j8=\",\"dtype\":\"float64\",\"shape\":[16]},\"index\":[3,5,2,12,15,10,9,4,14,7,8,13,0,11,6,1],\"log_reg_factor\":{\"__ndarray__\":\"AAAAAAAA8P8AAAAAAADw/wAAAAAAABzAAAAAAAAAHMAAAAAAAAAbwAAAAAAAABvAAAAAAAAAGsAAAAAAAAAawAAAAAAAABnAAAAAAAAAGcAAAAAAAAAYwAAAAAAAABjAAAAAAAAAF8AAAAAAAAAXwAAAAAAAABbAAAAAAAAAFsA=\",\"dtype\":\"float64\",\"shape\":[16]},\"num_filters\":[400,1600,400,1600,400,1600,400,1600,400,1600,400,1600,400,1600,400,1600],\"results_path\":[\"/home/yossi//Dropbox/visualRFNN/Datasets_new/visual/Dataset_python_olshausen_160x100x50_no_writing/nnResults_with_noise/num_filters_400_reg_factor_0/python_network.pkl\",\"/home/yossi//Dropbox/visualRFNN/Datasets_new/visual/Dataset_python_olshausen_160x100x50_no_writing/nnResults_with_noise/num_filters_1600_reg_factor_0/python_network.pkl\",\"/home/yossi//Dropbox/visualRFNN/Datasets_new/visual/Dataset_python_olshausen_160x100x50_no_writing/nnResults_with_noise/num_filters_400_reg_factor_1e-07_noise_ratio_0.5/python_network.pkl\",\"/home/yossi//Dropbox/visualRFNN/Datasets_new/visual/Dataset_python_olshausen_160x100x50_no_writing/nnResults_with_noise/num_filters_1600_reg_factor_1e-07_noise_ratio_0.5/python_network.pkl\",\"/home/yossi//Dropbox/visualRFNN/Datasets_new/visual/Dataset_python_olshausen_160x100x50_no_writing/nnResults_with_noise/num_filters_400_reg_factor_1.778e-07_noise_ratio_0.5/python_network.pkl\",\"/home/yossi//Dropbox/visualRFNN/Datasets_new/visual/Dataset_python_olshausen_160x100x50_no_writing/nnResults_with_noise/num_filters_1600_reg_factor_1.778e-07_noise_ratio_0.5/python_network.pkl\",\"/home/yossi//Dropbox/visualRFNN/Datasets_new/visual/Dataset_python_olshausen_160x100x50_no_writing/nnResults_with_noise/num_filters_400_reg_factor_3.162e-07_noise_ratio_0.5/python_network.pkl\",\"/home/yossi//Dropbox/visualRFNN/Datasets_new/visual/Dataset_python_olshausen_160x100x50_no_writing/nnResults_with_noise/num_filters_1600_reg_factor_3.162e-07_noise_ratio_0.5/python_network.pkl\",\"/home/yossi//Dropbox/visualRFNN/Datasets_new/visual/Dataset_python_olshausen_160x100x50_no_writing/nnResults_with_noise/num_filters_400_reg_factor_5.623e-07_noise_ratio_0.5/python_network.pkl\",\"/home/yossi//Dropbox/visualRFNN/Datasets_new/visual/Dataset_python_olshausen_160x100x50_no_writing/nnResults_with_noise/num_filters_1600_reg_factor_5.623e-07_noise_ratio_0.5/python_network.pkl\",\"/home/yossi//Dropbox/visualRFNN/Datasets_new/visual/Dataset_python_olshausen_160x100x50_no_writing/nnResults_with_noise/num_filters_400_reg_factor_1e-06_noise_ratio_0.5/python_network.pkl\",\"/home/yossi//Dropbox/visualRFNN/Datasets_new/visual/Dataset_python_olshausen_160x100x50_no_writing/nnResults_with_noise/num_filters_1600_reg_factor_1e-06_noise_ratio_0.5/python_network.pkl\",\"/home/yossi//Dropbox/visualRFNN/Datasets_new/visual/Dataset_python_olshausen_160x100x50_no_writing/nnResults_with_noise/num_filters_400_reg_factor_1.7783e-06_noise_ratio_0.5/python_network.pkl\",\"/home/yossi//Dropbox/visualRFNN/Datasets_new/visual/Dataset_python_olshausen_160x100x50_no_writing/nnResults_with_noise/num_filters_1600_reg_factor_1.7783e-06_noise_ratio_0.5/python_network.pkl\",\"/home/yossi//Dropbox/visualRFNN/Datasets_new/visual/Dataset_python_olshausen_160x100x50_no_writing/nnResults_with_noise/num_filters_400_reg_factor_3.1623e-06_noise_ratio_0.5/python_network.pkl\",\"/home/yossi//Dropbox/visualRFNN/Datasets_new/visual/Dataset_python_olshausen_160x100x50_no_writing/nnResults_with_noise/num_filters_1600_reg_factor_3.1623e-06_noise_ratio_0.5/python_network.pkl\"],\"url\":[\"visual_images_with_noise/t_step=7/weight_img_3.jpeg\",\"visual_images_with_noise/t_step=7/weight_img_5.jpeg\",\"visual_images_with_noise/t_step=7/weight_img_2.jpeg\",\"visual_images_with_noise/t_step=7/weight_img_12.jpeg\",\"visual_images_with_noise/t_step=7/weight_img_15.jpeg\",\"visual_images_with_noise/t_step=7/weight_img_10.jpeg\",\"visual_images_with_noise/t_step=7/weight_img_9.jpeg\",\"visual_images_with_noise/t_step=7/weight_img_4.jpeg\",\"visual_images_with_noise/t_step=7/weight_img_14.jpeg\",\"visual_images_with_noise/t_step=7/weight_img_7.jpeg\",\"visual_images_with_noise/t_step=7/weight_img_8.jpeg\",\"visual_images_with_noise/t_step=7/weight_img_13.jpeg\",\"visual_images_with_noise/t_step=7/weight_img_0.jpeg\",\"visual_images_with_noise/t_step=7/weight_img_11.jpeg\",\"visual_images_with_noise/t_step=7/weight_img_6.jpeg\",\"visual_images_with_noise/t_step=7/weight_img_1.jpeg\"],\"x\":[\"-inf\",\"-inf\",\"-7.0\",\"-7.0\",\"-6.75\",\"-6.75\",\"-6.5\",\"-6.5\",\"-6.25\",\"-6.25\",\"-6.0\",\"-6.0\",\"-5.75\",\"-5.75\",\"-5.5\",\"-5.5\"],\"y\":[\"400\",\"1600\",\"400\",\"1600\",\"400\",\"1600\",\"400\",\"1600\",\"400\",\"1600\",\"400\",\"1600\",\"400\",\"1600\",\"400\",\"1600\"],\"z_value\":{\"__ndarray__\":\"CtejqIw46z8pXI+ithvrP83MzIzPy+o/16Nw3fA+6j8Urkf5MczqP1K4HqU+/Ok/KVyPGkHm6j9mZmYm37rpP5qZmZEnJ+s/AAAAsIeH6T9SuB6NXU3rP83MzJRljOk/9ihcPz1y6z/hehTmFe7pP6RwPXIDles/hetRyPCK6j8=\",\"dtype\":\"float64\",\"shape\":[16]}}},\"id\":\"7d41cb0c-2b4e-4da0-b5f6-5844079a3bd3\",\"type\":\"ColumnDataSource\"},{\"attributes\":{},\"id\":\"edfe4cc9-709c-470b-bdda-61e3e2bdd424\",\"type\":\"ZoomOutTool\"},{\"attributes\":{\"plot\":{\"id\":\"011e0e8f-c25b-4917-8871-626a8fd73e1f\",\"subtype\":\"Figure\",\"type\":\"Plot\"},\"ticker\":{\"id\":\"c682f91c-4e0d-40bf-8219-eeb8bfda1d04\",\"type\":\"CategoricalTicker\"}},\"id\":\"21e583bb-5839-4b18-b247-f79b9a6d6d8d\",\"type\":\"Grid\"},{\"attributes\":{\"below\":[{\"id\":\"ab1a7e2d-748f-45b2-9c5e-eccee664e2f9\",\"type\":\"CategoricalAxis\"}],\"left\":[{\"id\":\"c4a8353e-2ca5-4251-80e0-3e564a31447d\",\"type\":\"CategoricalAxis\"}],\"min_border_left\":40,\"renderers\":[{\"id\":\"ab1a7e2d-748f-45b2-9c5e-eccee664e2f9\",\"type\":\"CategoricalAxis\"},{\"id\":\"6528c5a2-bbcd-4593-aec8-34738893f63e\",\"type\":\"Grid\"},{\"id\":\"c4a8353e-2ca5-4251-80e0-3e564a31447d\",\"type\":\"CategoricalAxis\"},{\"id\":\"00e2c488-4494-4ecb-8f7a-0d29abf4be01\",\"type\":\"Grid\"},{\"id\":\"3f58f365-a515-4057-ae05-f59b3a6ffb66\",\"type\":\"GlyphRenderer\"}],\"title\":{\"id\":\"e0a86d2b-1f8c-4d1b-885d-4760acd44f80\",\"type\":\"Title\"},\"toolbar\":{\"id\":\"8ddc223e-3436-440e-be70-919207b7901e\",\"type\":\"Toolbar\"},\"x_range\":{\"id\":\"7afb2a6f-766f-4e19-9c6f-f2c5df7d23b1\",\"type\":\"FactorRange\"},\"x_scale\":{\"id\":\"278d4ac1-5ea3-4c74-806b-b9acc3ab9bf7\",\"type\":\"CategoricalScale\"},\"y_range\":{\"id\":\"64d80631-72c5-4e9e-a9c0-adb3a56b56eb\",\"type\":\"FactorRange\"},\"y_scale\":{\"id\":\"87c638c2-dbb8-4475-8ea7-4ed4bf58236f\",\"type\":\"CategoricalScale\"}},\"id\":\"bd325feb-0a6b-4b4a-8f04-3a5287f66f42\",\"subtype\":\"Figure\",\"type\":\"Plot\"},{\"attributes\":{\"plot\":{\"id\":\"a899f303-b704-4227-a2f9-e08f5967b118\",\"subtype\":\"Figure\",\"type\":\"Plot\"},\"ticker\":{\"id\":\"3dbb21e1-5f7a-4a98-a7ad-a7b6bf098613\",\"type\":\"BasicTicker\"}},\"id\":\"71b5766b-cbcc-49f6-8619-735dc0726cf3\",\"type\":\"Grid\"},{\"attributes\":{\"bottom_units\":\"screen\",\"fill_alpha\":{\"value\":0.5},\"fill_color\":{\"value\":\"lightgrey\"},\"left_units\":\"screen\",\"level\":\"overlay\",\"line_alpha\":{\"value\":1.0},\"line_color\":{\"value\":\"black\"},\"line_dash\":[4,4],\"line_width\":{\"value\":2},\"plot\":null,\"render_mode\":\"css\",\"right_units\":\"screen\",\"top_units\":\"screen\"},\"id\":\"6a1e150f-e7d1-4a39-9aea-d499526a8540\",\"type\":\"BoxAnnotation\"},{\"attributes\":{\"callback\":null},\"id\":\"107fd218-7eb3-4f6a-81b2-4c08a3e06b00\",\"type\":\"DataRange1d\"},{\"attributes\":{\"callback\":null,\"factors\":[\"1600\",\"400\"]},\"id\":\"aed89690-15d5-4e03-a585-4badb5936569\",\"type\":\"FactorRange\"},{\"attributes\":{},\"id\":\"a88e3c1f-992f-4495-b84e-d91f4f9597c7\",\"type\":\"CategoricalTicker\"},{\"attributes\":{\"data_source\":{\"id\":\"e63afc57-1b1b-4786-ae06-70f73a952cad\",\"type\":\"ColumnDataSource\"},\"glyph\":{\"id\":\"8bf17e79-174b-44a5-8a39-c1c69c7b19bc\",\"type\":\"ImageURL\"},\"hover_glyph\":null,\"muted_glyph\":null,\"nonselection_glyph\":{\"id\":\"5a1e478e-2ece-4660-8f3e-8ffcd473be8d\",\"type\":\"ImageURL\"},\"selection_glyph\":null,\"view\":{\"id\":\"1bedacdd-0747-49f4-9883-4ba679c26f6d\",\"type\":\"CDSView\"}},\"id\":\"3f58f365-a515-4057-ae05-f59b3a6ffb66\",\"type\":\"GlyphRenderer\"},{\"attributes\":{},\"id\":\"f0602dc6-7759-40c1-b371-fd7eba0455b0\",\"type\":\"PanTool\"},{\"attributes\":{\"formatter\":{\"id\":\"129ac976-3e3f-4fb8-9b0a-69197b115ce8\",\"type\":\"BasicTickFormatter\"},\"plot\":{\"id\":\"a899f303-b704-4227-a2f9-e08f5967b118\",\"subtype\":\"Figure\",\"type\":\"Plot\"},\"ticker\":{\"id\":\"3dbb21e1-5f7a-4a98-a7ad-a7b6bf098613\",\"type\":\"BasicTicker\"}},\"id\":\"c75a8a26-b60b-4e04-998a-241870d86309\",\"type\":\"LinearAxis\"},{\"attributes\":{\"dimension\":1,\"plot\":{\"id\":\"bd325feb-0a6b-4b4a-8f04-3a5287f66f42\",\"subtype\":\"Figure\",\"type\":\"Plot\"},\"ticker\":{\"id\":\"a88e3c1f-992f-4495-b84e-d91f4f9597c7\",\"type\":\"CategoricalTicker\"}},\"id\":\"00e2c488-4494-4ecb-8f7a-0d29abf4be01\",\"type\":\"Grid\"},{\"attributes\":{},\"id\":\"4bc6e1c1-34ef-4092-acc2-f49a4b61aa00\",\"type\":\"BasicTickFormatter\"},{\"attributes\":{},\"id\":\"5ffb6113-69cd-40b9-99e6-e6f27c9cf186\",\"type\":\"CategoricalTickFormatter\"},{\"attributes\":{\"callback\":null,\"factors\":[\"0\",\"1\",\"2\",\"3\",\"4\",\"5\",\"6\",\"7\",\"8\",\"9\"]},\"id\":\"64d80631-72c5-4e9e-a9c0-adb3a56b56eb\",\"type\":\"FactorRange\"},{\"attributes\":{\"formatter\":{\"id\":\"fab44145-6450-48f6-9d8d-2c1db93a1a27\",\"type\":\"CategoricalTickFormatter\"},\"major_label_text_font_size\":{\"value\":\"0pt\"},\"major_tick_line_color\":{\"value\":null},\"plot\":{\"id\":\"bd325feb-0a6b-4b4a-8f04-3a5287f66f42\",\"subtype\":\"Figure\",\"type\":\"Plot\"},\"ticker\":{\"id\":\"a88e3c1f-992f-4495-b84e-d91f4f9597c7\",\"type\":\"CategoricalTicker\"}},\"id\":\"c4a8353e-2ca5-4251-80e0-3e564a31447d\",\"type\":\"CategoricalAxis\"},{\"attributes\":{\"formatter\":{\"id\":\"4bc6e1c1-34ef-4092-acc2-f49a4b61aa00\",\"type\":\"BasicTickFormatter\"},\"plot\":{\"id\":\"a899f303-b704-4227-a2f9-e08f5967b118\",\"subtype\":\"Figure\",\"type\":\"Plot\"},\"ticker\":{\"id\":\"f18902a3-0313-42cd-bc30-2d7acc44ac40\",\"type\":\"BasicTicker\"}},\"id\":\"630410ad-10e9-455c-b5ea-cc1ca82e7fea\",\"type\":\"LinearAxis\"},{\"attributes\":{},\"id\":\"fab44145-6450-48f6-9d8d-2c1db93a1a27\",\"type\":\"CategoricalTickFormatter\"},{\"attributes\":{\"below\":[{\"id\":\"c75a8a26-b60b-4e04-998a-241870d86309\",\"type\":\"LinearAxis\"}],\"left\":[{\"id\":\"630410ad-10e9-455c-b5ea-cc1ca82e7fea\",\"type\":\"LinearAxis\"}],\"min_border\":0,\"outline_line_color\":{\"value\":null},\"plot_height\":611,\"plot_width\":140,\"renderers\":[{\"id\":\"c75a8a26-b60b-4e04-998a-241870d86309\",\"type\":\"LinearAxis\"},{\"id\":\"71b5766b-cbcc-49f6-8619-735dc0726cf3\",\"type\":\"Grid\"},{\"id\":\"630410ad-10e9-455c-b5ea-cc1ca82e7fea\",\"type\":\"LinearAxis\"},{\"id\":\"b66546cb-753e-49f6-8d6f-ff0aa23c633e\",\"type\":\"Grid\"},{\"id\":\"6a1e150f-e7d1-4a39-9aea-d499526a8540\",\"type\":\"BoxAnnotation\"},{\"id\":\"780b5ea7-b271-4df5-bc14-6f412fea5eb7\",\"type\":\"ColorBar\"}],\"right\":[{\"id\":\"780b5ea7-b271-4df5-bc14-6f412fea5eb7\",\"type\":\"ColorBar\"}],\"title\":{\"id\":\"b455911b-77f0-4541-b585-73090dc17c11\",\"type\":\"Title\"},\"title_location\":\"right\",\"toolbar\":{\"id\":\"7a47ee28-34b5-4895-bd4d-666bb69aa79a\",\"type\":\"Toolbar\"},\"toolbar_location\":null,\"x_range\":{\"id\":\"0cb46c0c-7bad-491f-9825-5a671646024c\",\"type\":\"DataRange1d\"},\"x_scale\":{\"id\":\"4513fb5b-cb4c-468e-a33b-2ac5054d4a8f\",\"type\":\"LinearScale\"},\"y_range\":{\"id\":\"107fd218-7eb3-4f6a-81b2-4c08a3e06b00\",\"type\":\"DataRange1d\"},\"y_scale\":{\"id\":\"f5c2bed2-3f3e-4660-9152-c05be1609349\",\"type\":\"LinearScale\"}},\"id\":\"a899f303-b704-4227-a2f9-e08f5967b118\",\"subtype\":\"Figure\",\"type\":\"Plot\"},{\"attributes\":{\"callback\":null,\"column_names\":[\"num_filters\",\"y\",\"log_reg_factor\",\"x\",\"url\",\"z_value\",\"final_val_cost\",\"results_path\",\"index\",\"color\"],\"data\":{\"color\":[\"#ff5200\",\"#ff8600\",\"#dbff1c\",\"#00e4f8\",\"#deff19\",\"#0060ff\",\"#ffe600\",\"#0000f1\",\"#ff6f00\",\"#000080\",\"#ff2900\",\"#000089\",\"#c80000\",\"#0044ff\",\"#800000\",\"#77ff80\"],\"final_val_cost\":{\"__ndarray__\":\"CtejqIw46z8pXI+ithvrP83MzIzPy+o/16Nw3fA+6j8Urkf5MczqP1K4HqU+/Ok/KVyPGkHm6j9mZmYm37rpP5qZmZEnJ+s/AAAAsIeH6T9SuB6NXU3rP83MzJRljOk/9ihcPz1y6z/hehTmFe7pP6RwPXIDles/hetRyPCK6j8=\",\"dtype\":\"float64\",\"shape\":[16]},\"index\":[3,5,2,12,15,10,9,4,14,7,8,13,0,11,6,1],\"log_reg_factor\":{\"__ndarray__\":\"AAAAAAAA8P8AAAAAAADw/wAAAAAAABzAAAAAAAAAHMAAAAAAAAAbwAAAAAAAABvAAAAAAAAAGsAAAAAAAAAawAAAAAAAABnAAAAAAAAAGcAAAAAAAAAYwAAAAAAAABjAAAAAAAAAF8AAAAAAAAAXwAAAAAAAABbAAAAAAAAAFsA=\",\"dtype\":\"float64\",\"shape\":[16]},\"num_filters\":[400,1600,400,1600,400,1600,400,1600,400,1600,400,1600,400,1600,400,1600],\"results_path\":[\"/home/yossi//Dropbox/visualRFNN/Datasets_new/visual/Dataset_python_olshausen_160x100x50_no_writing/nnResults_with_noise/num_filters_400_reg_factor_0/python_network.pkl\",\"/home/yossi//Dropbox/visualRFNN/Datasets_new/visual/Dataset_python_olshausen_160x100x50_no_writing/nnResults_with_noise/num_filters_1600_reg_factor_0/python_network.pkl\",\"/home/yossi//Dropbox/visualRFNN/Datasets_new/visual/Dataset_python_olshausen_160x100x50_no_writing/nnResults_with_noise/num_filters_400_reg_factor_1e-07_noise_ratio_0.5/python_network.pkl\",\"/home/yossi//Dropbox/visualRFNN/Datasets_new/visual/Dataset_python_olshausen_160x100x50_no_writing/nnResults_with_noise/num_filters_1600_reg_factor_1e-07_noise_ratio_0.5/python_network.pkl\",\"/home/yossi//Dropbox/visualRFNN/Datasets_new/visual/Dataset_python_olshausen_160x100x50_no_writing/nnResults_with_noise/num_filters_400_reg_factor_1.778e-07_noise_ratio_0.5/python_network.pkl\",\"/home/yossi//Dropbox/visualRFNN/Datasets_new/visual/Dataset_python_olshausen_160x100x50_no_writing/nnResults_with_noise/num_filters_1600_reg_factor_1.778e-07_noise_ratio_0.5/python_network.pkl\",\"/home/yossi//Dropbox/visualRFNN/Datasets_new/visual/Dataset_python_olshausen_160x100x50_no_writing/nnResults_with_noise/num_filters_400_reg_factor_3.162e-07_noise_ratio_0.5/python_network.pkl\",\"/home/yossi//Dropbox/visualRFNN/Datasets_new/visual/Dataset_python_olshausen_160x100x50_no_writing/nnResults_with_noise/num_filters_1600_reg_factor_3.162e-07_noise_ratio_0.5/python_network.pkl\",\"/home/yossi//Dropbox/visualRFNN/Datasets_new/visual/Dataset_python_olshausen_160x100x50_no_writing/nnResults_with_noise/num_filters_400_reg_factor_5.623e-07_noise_ratio_0.5/python_network.pkl\",\"/home/yossi//Dropbox/visualRFNN/Datasets_new/visual/Dataset_python_olshausen_160x100x50_no_writing/nnResults_with_noise/num_filters_1600_reg_factor_5.623e-07_noise_ratio_0.5/python_network.pkl\",\"/home/yossi//Dropbox/visualRFNN/Datasets_new/visual/Dataset_python_olshausen_160x100x50_no_writing/nnResults_with_noise/num_filters_400_reg_factor_1e-06_noise_ratio_0.5/python_network.pkl\",\"/home/yossi//Dropbox/visualRFNN/Datasets_new/visual/Dataset_python_olshausen_160x100x50_no_writing/nnResults_with_noise/num_filters_1600_reg_factor_1e-06_noise_ratio_0.5/python_network.pkl\",\"/home/yossi//Dropbox/visualRFNN/Datasets_new/visual/Dataset_python_olshausen_160x100x50_no_writing/nnResults_with_noise/num_filters_400_reg_factor_1.7783e-06_noise_ratio_0.5/python_network.pkl\",\"/home/yossi//Dropbox/visualRFNN/Datasets_new/visual/Dataset_python_olshausen_160x100x50_no_writing/nnResults_with_noise/num_filters_1600_reg_factor_1.7783e-06_noise_ratio_0.5/python_network.pkl\",\"/home/yossi//Dropbox/visualRFNN/Datasets_new/visual/Dataset_python_olshausen_160x100x50_no_writing/nnResults_with_noise/num_filters_400_reg_factor_3.1623e-06_noise_ratio_0.5/python_network.pkl\",\"/home/yossi//Dropbox/visualRFNN/Datasets_new/visual/Dataset_python_olshausen_160x100x50_no_writing/nnResults_with_noise/num_filters_1600_reg_factor_3.1623e-06_noise_ratio_0.5/python_network.pkl\"],\"url\":[\"visual_images_with_noise/t_step=7/weight_img_3.jpeg\",\"visual_images_with_noise/t_step=7/weight_img_5.jpeg\",\"visual_images_with_noise/t_step=7/weight_img_2.jpeg\",\"visual_images_with_noise/t_step=7/weight_img_12.jpeg\",\"visual_images_with_noise/t_step=7/weight_img_15.jpeg\",\"visual_images_with_noise/t_step=7/weight_img_10.jpeg\",\"visual_images_with_noise/t_step=7/weight_img_9.jpeg\",\"visual_images_with_noise/t_step=7/weight_img_4.jpeg\",\"visual_images_with_noise/t_step=7/weight_img_14.jpeg\",\"visual_images_with_noise/t_step=7/weight_img_7.jpeg\",\"visual_images_with_noise/t_step=7/weight_img_8.jpeg\",\"visual_images_with_noise/t_step=7/weight_img_13.jpeg\",\"visual_images_with_noise/t_step=7/weight_img_0.jpeg\",\"visual_images_with_noise/t_step=7/weight_img_11.jpeg\",\"visual_images_with_noise/t_step=7/weight_img_6.jpeg\",\"visual_images_with_noise/t_step=7/weight_img_1.jpeg\"],\"x\":[\"-inf\",\"-inf\",\"-7.0\",\"-7.0\",\"-6.75\",\"-6.75\",\"-6.5\",\"-6.5\",\"-6.25\",\"-6.25\",\"-6.0\",\"-6.0\",\"-5.75\",\"-5.75\",\"-5.5\",\"-5.5\"],\"y\":[\"400\",\"1600\",\"400\",\"1600\",\"400\",\"1600\",\"400\",\"1600\",\"400\",\"1600\",\"400\",\"1600\",\"400\",\"1600\",\"400\",\"1600\"],\"z_value\":{\"__ndarray__\":\"CtejqIw46z8pXI+ithvrP83MzIzPy+o/16Nw3fA+6j8Urkf5MczqP1K4HqU+/Ok/KVyPGkHm6j9mZmYm37rpP5qZmZEnJ+s/AAAAsIeH6T9SuB6NXU3rP83MzJRljOk/9ihcPz1y6z/hehTmFe7pP6RwPXIDles/hetRyPCK6j8=\",\"dtype\":\"float64\",\"shape\":[16]}}},\"id\":\"d2a5af5a-6b32-4e38-8fb8-ca9e7f0b8cba\",\"type\":\"ColumnDataSource\"},{\"attributes\":{\"axis_label\":\"Log_10 of L1 regularisation on weights\",\"axis_label_text_font_size\":{\"value\":\"20pt\"},\"formatter\":{\"id\":\"5ffb6113-69cd-40b9-99e6-e6f27c9cf186\",\"type\":\"CategoricalTickFormatter\"},\"major_label_text_font_size\":{\"value\":\"12pt\"},\"plot\":{\"id\":\"011e0e8f-c25b-4917-8871-626a8fd73e1f\",\"subtype\":\"Figure\",\"type\":\"Plot\"},\"ticker\":{\"id\":\"c682f91c-4e0d-40bf-8219-eeb8bfda1d04\",\"type\":\"CategoricalTicker\"}},\"id\":\"9192e45f-17ca-49da-b164-3801158034bf\",\"type\":\"CategoricalAxis\"},{\"attributes\":{},\"id\":\"d3ecc1ce-b6c7-41f4-958f-0bcb5ea1b303\",\"type\":\"ResetTool\"},{\"attributes\":{\"plot\":null,\"text\":\"Heatmap\",\"text_font_size\":{\"value\":\"20pt\"}},\"id\":\"d345e263-f4d4-4ea4-9e5d-a5644432e8fb\",\"type\":\"Title\"},{\"attributes\":{\"fill_alpha\":{\"value\":0.1},\"fill_color\":{\"value\":\"#1f77b4\"},\"height\":{\"units\":\"data\",\"value\":1},\"line_alpha\":{\"value\":0.1},\"line_color\":{\"value\":\"#1f77b4\"},\"width\":{\"units\":\"data\",\"value\":1},\"x\":{\"field\":\"x\"},\"y\":{\"field\":\"y\"}},\"id\":\"85a1e379-2c8d-48fa-9a6f-7fd0fcb382b5\",\"type\":\"Rect\"},{\"attributes\":{\"overlay\":{\"id\":\"6a1e150f-e7d1-4a39-9aea-d499526a8540\",\"type\":\"BoxAnnotation\"}},\"id\":\"6f526e1f-41f4-4a32-9b28-c2751cbb30aa\",\"type\":\"BoxZoomTool\"},{\"attributes\":{},\"id\":\"769cf06c-0f87-45b7-8282-96ac080a82e5\",\"type\":\"CategoricalTicker\"},{\"attributes\":{\"anchor\":\"bottom_left\",\"h\":{\"field\":\"dh\",\"units\":\"data\"},\"url\":{\"field\":\"url\"},\"w\":{\"field\":\"dw\",\"units\":\"data\"},\"x\":{\"value\":0},\"y\":{\"value\":0}},\"id\":\"8bf17e79-174b-44a5-8a39-c1c69c7b19bc\",\"type\":\"ImageURL\"},{\"attributes\":{\"children\":[{\"id\":\"011e0e8f-c25b-4917-8871-626a8fd73e1f\",\"subtype\":\"Figure\",\"type\":\"Plot\"},{\"id\":\"a899f303-b704-4227-a2f9-e08f5967b118\",\"subtype\":\"Figure\",\"type\":\"Plot\"},{\"id\":\"bd325feb-0a6b-4b4a-8f04-3a5287f66f42\",\"subtype\":\"Figure\",\"type\":\"Plot\"},{\"id\":\"76f62deb-f5a3-45e0-bb08-fff80470b72e\",\"type\":\"WidgetBox\"}]},\"id\":\"e763b4f6-b3be-4a21-819b-18d76b39a8e5\",\"type\":\"Row\"}],\"root_ids\":[\"e763b4f6-b3be-4a21-819b-18d76b39a8e5\"]},\"title\":\"Bokeh Application\",\"version\":\"0.12.13\"}};\n",
       "  var render_items = [{\"docid\":\"1baaa1db-a1c8-4389-b932-e9cbd92a8989\",\"elementid\":\"0022da5f-749a-4eb0-a1c9-2c9634c27cf5\",\"modelid\":\"e763b4f6-b3be-4a21-819b-18d76b39a8e5\"}];\n",
       "  root.Bokeh.embed.embed_items_notebook(docs_json, render_items);\n",
       "\n",
       "  }\n",
       "  if (root.Bokeh !== undefined) {\n",
       "    embed_document(root);\n",
       "  } else {\n",
       "    var attempts = 0;\n",
       "    var timer = setInterval(function(root) {\n",
       "      if (root.Bokeh !== undefined) {\n",
       "        embed_document(root);\n",
       "        clearInterval(timer);\n",
       "      }\n",
       "      attempts++;\n",
       "      if (attempts > 100) {\n",
       "        console.log(\"Bokeh: ERROR: Unable to run BokehJS code because BokehJS library is missing\")\n",
       "        clearInterval(timer);\n",
       "      }\n",
       "    }, 10, root)\n",
       "  }\n",
       "})(window);"
      ],
      "application/vnd.bokehjs_exec.v0+json": ""
     },
     "metadata": {
      "application/vnd.bokehjs_exec.v0+json": {
       "id": "e763b4f6-b3be-4a21-819b-18d76b39a8e5"
      }
     },
     "output_type": "display_data"
    }
   ],
   "source": [
    "iplot.plot_linked_heatmap_weights(with_noise_url_pd)#, save_path=root_save_dir+this_save_dir+'interactive_plot.html')"
   ]
  },
  {
   "cell_type": "markdown",
   "metadata": {},
   "source": [
    "### Figure 8-Figure supplement 3  | Interactive figure exploring the relationship between the strength of  L1 regularisation on the network weights and the structure of the RFs  the network produces. \n",
    "\n",
    "The left panel shows the performance of the newtwork with the hyperparameter settings specified on the x and y axes. The x axis signifies the strength of L1 reguilarisation placed on the weights of the network during training. The y axis signifies the number of hidden units in the network. Performance of model as a function of number of hidden units andregularization on the weights as measured by a, reconstruction error on validation set at the end of training.\n",
    "\n",
    "Hover over a point in the left panel to show the corresponding spatial receptive fields of the network in the right panel. Using the settings above the right hand panel, zoom, pan and reset the image to explore the shapes of the spatial receptive fields. Change the slider on the upper left to change the time-step of the spatial receptive fields being shown in the right hand panel."
   ]
  }
 ],
 "metadata": {
  "hide_input": false,
  "kernelspec": {
   "display_name": "predictive_python_old_theano",
   "language": "python",
   "name": "predictive_kernel_old"
  },
  "language_info": {
   "codemirror_mode": {
    "name": "ipython",
    "version": 3
   },
   "file_extension": ".py",
   "mimetype": "text/x-python",
   "name": "python",
   "nbconvert_exporter": "python",
   "pygments_lexer": "ipython3",
   "version": "3.5.2"
  }
 },
 "nbformat": 4,
 "nbformat_minor": 1
}
